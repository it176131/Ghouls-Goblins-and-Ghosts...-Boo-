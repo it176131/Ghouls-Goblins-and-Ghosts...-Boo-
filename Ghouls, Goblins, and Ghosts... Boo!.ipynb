{
 "cells": [
  {
   "cell_type": "markdown",
   "metadata": {
    "heading_collapsed": true
   },
   "source": [
    "# Imports"
   ]
  },
  {
   "cell_type": "code",
   "execution_count": 848,
   "metadata": {
    "hidden": true
   },
   "outputs": [],
   "source": [
    "# analysis\n",
    "import pandas as pd\n",
    "import numpy as np\n",
    "from scipy import stats\n",
    "from scipy.sparse import csr_matrix\n",
    "\n",
    "from itertools import combinations\n",
    "\n",
    "# visuals\n",
    "import matplotlib.pyplot as plt\n",
    "import seaborn as sns; sns.set()\n",
    "\n",
    "from pprint import pprint\n",
    "\n",
    "import joblib\n",
    "\n",
    "from sklearn.preprocessing import OneHotEncoder, KBinsDiscretizer, QuantileTransformer\n",
    "\n",
    "from sklearn.cluster import DBSCAN, OPTICS, KMeans, AgglomerativeClustering\n",
    "from sklearn.manifold import TSNE\n",
    "\n",
    "from sklearn.discriminant_analysis import QuadraticDiscriminantAnalysis, LinearDiscriminantAnalysis\n",
    "\n",
    "from sklearn.preprocessing import MinMaxScaler, MaxAbsScaler, PolynomialFeatures\n",
    "from sklearn.decomposition import PCA, TruncatedSVD, FactorAnalysis, FastICA\n",
    "from sklearn.feature_selection import VarianceThreshold, SelectPercentile, chi2, f_classif, mutual_info_classif\n",
    "from sklearn.linear_model import LogisticRegression\n",
    "from sklearn.multiclass import OneVsRestClassifier\n",
    "from sklearn.pipeline import Pipeline\n",
    "from sklearn.compose import ColumnTransformer\n",
    "from sklearn.model_selection import RandomizedSearchCV, train_test_split\n",
    "\n",
    "from sklearn.metrics import classification_report\n",
    "\n",
    "from sklearn.svm import SVC\n",
    "\n",
    "from sklearn.neural_network import MLPClassifier\n",
    "\n",
    "from sklearn.naive_bayes import MultinomialNB\n",
    "\n",
    "from sklearn.naive_bayes import GaussianNB\n",
    "\n",
    "from sklearn.metrics import confusion_matrix\n",
    "\n",
    "%matplotlib inline"
   ]
  },
  {
   "cell_type": "markdown",
   "metadata": {
    "heading_collapsed": true
   },
   "source": [
    "# Data"
   ]
  },
  {
   "cell_type": "code",
   "execution_count": 849,
   "metadata": {
    "hidden": true
   },
   "outputs": [],
   "source": [
    "# read training data\n",
    "train = pd.read_csv(\"train.csv\")"
   ]
  },
  {
   "cell_type": "markdown",
   "metadata": {},
   "source": [
    "# Clean"
   ]
  },
  {
   "cell_type": "code",
   "execution_count": 850,
   "metadata": {
    "scrolled": true
   },
   "outputs": [
    {
     "data": {
      "text/plain": [
       "Ghoul     129\n",
       "Goblin    125\n",
       "Ghost     117\n",
       "Name: type, dtype: int64"
      ]
     },
     "execution_count": 850,
     "metadata": {},
     "output_type": "execute_result"
    }
   ],
   "source": [
    "train.type.value_counts()"
   ]
  },
  {
   "cell_type": "code",
   "execution_count": 851,
   "metadata": {},
   "outputs": [],
   "source": [
    "train.set_index('id', inplace=True)"
   ]
  },
  {
   "cell_type": "code",
   "execution_count": 891,
   "metadata": {},
   "outputs": [
    {
     "name": "stderr",
     "output_type": "stream",
     "text": [
      "/home/ian/anaconda3/lib/python3.7/site-packages/ipykernel_launcher.py:12: SettingWithCopyWarning: \n",
      "A value is trying to be set on a copy of a slice from a DataFrame.\n",
      "Try using .loc[row_indexer,col_indexer] = value instead\n",
      "\n",
      "See the caveats in the documentation: https://pandas.pydata.org/pandas-docs/stable/user_guide/indexing.html#returning-a-view-versus-a-copy\n",
      "  if sys.path[0] == '':\n",
      "/home/ian/anaconda3/lib/python3.7/site-packages/ipykernel_launcher.py:14: SettingWithCopyWarning: \n",
      "A value is trying to be set on a copy of a slice from a DataFrame.\n",
      "Try using .loc[row_indexer,col_indexer] = value instead\n",
      "\n",
      "See the caveats in the documentation: https://pandas.pydata.org/pandas-docs/stable/user_guide/indexing.html#returning-a-view-versus-a-copy\n",
      "  \n"
     ]
    }
   ],
   "source": [
    "X = train.drop(columns='type')\n",
    "y = train.type\n",
    "\n",
    "X_obj = X.select_dtypes(include=['O'])\n",
    "\n",
    "X_num = X.select_dtypes(exclude=['O'])\n",
    "\n",
    "# combo_num_cols = list(combinations(X_num.columns, 3)) + list(combinations(X_num.columns, 2))\n",
    "combo_num_cols2 = list(combinations(X_num.columns, 2))\n",
    "combo_num_cols3 = list(combinations(X_num.columns, 3))\n",
    "\n",
    "X_obj[\"max_column\"] = X_num.idxmax(axis=1).copy()\n",
    "\n",
    "X_obj[\"min_column\"] = X_num.idxmin(axis=1).copy()"
   ]
  },
  {
   "cell_type": "code",
   "execution_count": 892,
   "metadata": {},
   "outputs": [],
   "source": [
    "col_order = X_num.melt(value_vars=[\n",
    "    \"bone_length\",\n",
    "    \"rotting_flesh\",\n",
    "    \"hair_length\",\n",
    "    \"has_soul\",\n",
    "], ignore_index=False)\n",
    "\n",
    "col_order.reset_index(inplace=True)\n",
    "\n",
    "col_order.sort_values([\"id\", \"value\"], inplace=True)\n",
    "\n",
    "col_order[\"col_min_to_max\"] = col_order.groupby(\"id\").value.cumcount()\n",
    "\n",
    "col_order[\"col_min_to_max\"] = col_order.variable.str.cat(col_order.col_min_to_max.astype(str), sep=\"_min_to_max_\")\n",
    "\n",
    "col_order = col_order.pivot_table(index=\"id\", columns=\"col_min_to_max\", values=\"value\", aggfunc=\"count\", fill_value=0)\n",
    "\n",
    "X_num = X_num.join(col_order)"
   ]
  },
  {
   "cell_type": "code",
   "execution_count": 893,
   "metadata": {},
   "outputs": [],
   "source": [
    "for combo in combo_num_cols2:\n",
    "    X_num[f\"{combo}_gte1\"] = (X_num.reindex(columns=combo).sum(axis=1) >= 1).astype(float)"
   ]
  },
  {
   "cell_type": "code",
   "execution_count": 894,
   "metadata": {},
   "outputs": [],
   "source": [
    "for combo in combo_num_cols3:\n",
    "    X_num[f\"{combo}_gte2\"] = (X_num.reindex(columns=combo).sum(axis=1) >= 2).astype(float)"
   ]
  },
  {
   "cell_type": "code",
   "execution_count": 895,
   "metadata": {},
   "outputs": [],
   "source": [
    "ohe = OneHotEncoder(sparse=False)\n",
    "\n",
    "ohe_obj = ohe.fit_transform(X_obj)\n",
    "\n",
    "X_obj = pd.DataFrame(\n",
    "    data=ohe_obj,\n",
    "    index=X_obj.index,\n",
    "    columns=ohe.get_feature_names(X_obj.columns)\n",
    ")\n",
    "\n",
    "X = X_num.join(X_obj)"
   ]
  },
  {
   "cell_type": "markdown",
   "metadata": {},
   "source": [
    "# Goblin Features"
   ]
  },
  {
   "cell_type": "code",
   "execution_count": 897,
   "metadata": {},
   "outputs": [],
   "source": [
    "goblin_v_all = y.map(lambda x: \"Rest\" if x != \"Goblin\" else x)"
   ]
  },
  {
   "cell_type": "code",
   "execution_count": 937,
   "metadata": {},
   "outputs": [
    {
     "name": "stdout",
     "output_type": "stream",
     "text": [
      "Fitting 10 folds for each of 1000 candidates, totalling 10000 fits\n"
     ]
    },
    {
     "name": "stderr",
     "output_type": "stream",
     "text": [
      "[Parallel(n_jobs=-1)]: Using backend LokyBackend with 4 concurrent workers.\n",
      "[Parallel(n_jobs=-1)]: Done 128 tasks      | elapsed:    5.4s\n",
      "[Parallel(n_jobs=-1)]: Done 720 tasks      | elapsed:   24.5s\n",
      "[Parallel(n_jobs=-1)]: Done 1668 tasks      | elapsed:   55.3s\n",
      "[Parallel(n_jobs=-1)]: Done 2528 tasks      | elapsed:  1.5min\n",
      "[Parallel(n_jobs=-1)]: Done 4026 tasks      | elapsed:  2.4min\n",
      "[Parallel(n_jobs=-1)]: Done 5644 tasks      | elapsed:  3.4min\n",
      "[Parallel(n_jobs=-1)]: Done 7928 tasks      | elapsed:  4.6min\n",
      "[Parallel(n_jobs=-1)]: Done 9964 tasks      | elapsed:  6.0min\n",
      "[Parallel(n_jobs=-1)]: Done 10000 out of 10000 | elapsed:  6.0min finished\n"
     ]
    },
    {
     "name": "stdout",
     "output_type": "stream",
     "text": [
      "Best RSCV Score: 0.7519914651493599\n"
     ]
    }
   ],
   "source": [
    "lda_pipe = Pipeline(steps=[\n",
    "    (\"scale\", MinMaxScaler()),\n",
    "    (\"var\", VarianceThreshold()),\n",
    "    (\"select\", SelectPercentile()),\n",
    "    (\"pca\", PCA(n_components=0.999, whiten=True, random_state=0)),\n",
    "    (\"clf\", LinearDiscriminantAnalysis()),\n",
    "])\n",
    "\n",
    "lda_param_dist = {\n",
    "    \"var__threshold\" : stats.uniform(0, 0.1),\n",
    "    \"select__score_func\" : [mutual_info_classif, chi2, f_classif],\n",
    "    \"select__percentile\" : stats.randint(28, 40),\n",
    "}\n",
    "\n",
    "lda_rscv = RandomizedSearchCV(\n",
    "    estimator=lda_pipe,\n",
    "    param_distributions=lda_param_dist,\n",
    "    n_iter=1000,\n",
    "    n_jobs=-1,\n",
    "    cv=10,\n",
    "    verbose=True,\n",
    "    random_state=0\n",
    ")\n",
    "\n",
    "lda_rscv.fit(X, goblin_v_all)\n",
    "\n",
    "print(f\"Best RSCV Score: {lda_rscv.best_score_}\")"
   ]
  },
  {
   "cell_type": "code",
   "execution_count": 938,
   "metadata": {},
   "outputs": [],
   "source": [
    "lda_cv = pd.DataFrame(lda_rscv.cv_results_)\n",
    "\n",
    "lda_cv_params = lda_cv.loc[:, \"param_select__percentile\":\"param_var__threshold\"]\n",
    "\n",
    "lda_cv_params = lda_cv_params.join(lda_cv.mean_test_score)"
   ]
  },
  {
   "cell_type": "code",
   "execution_count": 939,
   "metadata": {},
   "outputs": [
    {
     "data": {
      "image/png": "[encoded data removed]",
      "text/plain": [
       "<Figure size 1152x576 with 1 Axes>"
      ]
     },
     "metadata": {
      "needs_background": "light"
     },
     "output_type": "display_data"
    }
   ],
   "source": [
    "fig = plt.figure(figsize=(16,8))\n",
    "ax = fig.add_subplot(111)\n",
    "sns.scatterplot(data=lda_cv_params, x=\"param_select__percentile\", y=\"mean_test_score\", hue=\"param_select__score_func\", ax=ax)\n",
    "ax.legend_.remove()"
   ]
  },
  {
   "cell_type": "code",
   "execution_count": 941,
   "metadata": {},
   "outputs": [
    {
     "data": {
      "text/plain": [
       "0.7304582210242587"
      ]
     },
     "execution_count": 941,
     "metadata": {},
     "output_type": "execute_result"
    }
   ],
   "source": [
    "lda_rscv.score(X, goblin_v_all)"
   ]
  },
  {
   "cell_type": "markdown",
   "metadata": {
    "heading_collapsed": true
   },
   "source": [
    "# Pipeline"
   ]
  },
  {
   "cell_type": "code",
   "execution_count": 790,
   "metadata": {
    "hidden": true
   },
   "outputs": [],
   "source": [
    "pipe = Pipeline(steps=[\n",
    "    (\"scale\", MaxAbsScaler()),\n",
    "    (\"kbin\", ColumnTransformer(transformers=[\n",
    "        (\"kbin\", KBinsDiscretizer(encode=\"ordinal\"), [0,1,2,3])\n",
    "    ], remainder=\"passthrough\")),\n",
    "    (\"var\", VarianceThreshold()),\n",
    "    (\"select\", SelectPercentile()),\n",
    "    (\"poly\", PolynomialFeatures()),\n",
    "    (\"var2\", VarianceThreshold()),\n",
    "    (\"select2\", SelectPercentile()),\n",
    "])\n",
    "\n",
    "param_distributions = {\n",
    "    \"kbin__kbin__n_bins\" : stats.randint(4, 20),\n",
    "    \"kbin__kbin__strategy\" : [\"uniform\", \"quantile\", \"kmeans\"],\n",
    "    \"var__threshold\" : stats.uniform(0, 0.1),\n",
    "    \"select__score_func\" : [mutual_info_classif, f_classif],\n",
    "    \"select__percentile\" : stats.randint(70, 80),\n",
    "    \"poly__degree\" : stats.randint(1, 3),\n",
    "    \"poly__interaction_only\" : [True, False],\n",
    "    \"poly__include_bias\" : [True, False],\n",
    "    \"var2__threshold\" : stats.uniform(0, 0.01),\n",
    "    \"select2__score_func\" : [mutual_info_classif, f_classif],\n",
    "    \"select2__percentile\" : stats.randint(20, 30),\n",
    "}\n"
   ]
  },
  {
   "cell_type": "code",
   "execution_count": 791,
   "metadata": {
    "hidden": true
   },
   "outputs": [],
   "source": [
    "# X = csr_matrix(X)"
   ]
  },
  {
   "cell_type": "markdown",
   "metadata": {},
   "source": [
    "# Logistic Regression"
   ]
  },
  {
   "cell_type": "code",
   "execution_count": 797,
   "metadata": {},
   "outputs": [
    {
     "name": "stdout",
     "output_type": "stream",
     "text": [
      "Fitting 10 folds for each of 1000 candidates, totalling 10000 fits\n"
     ]
    },
    {
     "name": "stderr",
     "output_type": "stream",
     "text": [
      "[Parallel(n_jobs=-1)]: Using backend LokyBackend with 4 concurrent workers.\n",
      "[Parallel(n_jobs=-1)]: Done  42 tasks      | elapsed:    2.5s\n",
      "[Parallel(n_jobs=-1)]: Done 192 tasks      | elapsed:   42.2s\n",
      "[Parallel(n_jobs=-1)]: Done 442 tasks      | elapsed:  1.7min\n",
      "[Parallel(n_jobs=-1)]: Done 840 tasks      | elapsed:  2.8min\n",
      "[Parallel(n_jobs=-1)]: Done 1298 tasks      | elapsed:  4.6min\n",
      "[Parallel(n_jobs=-1)]: Done 1912 tasks      | elapsed:  6.6min\n",
      "[Parallel(n_jobs=-1)]: Done 2638 tasks      | elapsed:  8.5min\n",
      "[Parallel(n_jobs=-1)]: Done 3404 tasks      | elapsed: 11.0min\n",
      "[Parallel(n_jobs=-1)]: Done 4364 tasks      | elapsed: 13.6min\n",
      "[Parallel(n_jobs=-1)]: Done 5468 tasks      | elapsed: 16.9min\n",
      "[Parallel(n_jobs=-1)]: Done 6590 tasks      | elapsed: 20.2min\n",
      "[Parallel(n_jobs=-1)]: Done 7752 tasks      | elapsed: 23.9min\n",
      "[Parallel(n_jobs=-1)]: Done 9150 tasks      | elapsed: 27.8min\n",
      "[Parallel(n_jobs=-1)]: Done 10000 out of 10000 | elapsed: 30.6min finished\n"
     ]
    },
    {
     "name": "stdout",
     "output_type": "stream",
     "text": [
      "Best RSCV Score: 0.7412280701754386\n"
     ]
    }
   ],
   "source": [
    "lr_pipe = Pipeline(steps=pipe.steps + [\n",
    "    (\"clf\", LogisticRegression(\n",
    "        dual=False,\n",
    "        class_weight=\"balanced\",\n",
    "        random_state=0,\n",
    "        solver=\"liblinear\",\n",
    "        max_iter=1000,\n",
    "        multi_class=\"ovr\",\n",
    "    ))\n",
    "]) \n",
    "\n",
    "lr_param_distributions = {\n",
    "    **param_distributions,\n",
    "    \"clf__penalty\" : [\"l1\", \"l2\"],\n",
    "    \"clf__tol\" : stats.uniform(0, 1e-2),\n",
    "    \"clf__C\" : stats.uniform(0, 5),\n",
    "    \"clf__fit_intercept\" : [True, False],\n",
    "}\n",
    "\n",
    "rscv = RandomizedSearchCV(\n",
    "    estimator=lr_pipe,\n",
    "    param_distributions=lr_param_distributions,\n",
    "    n_iter=1000,\n",
    "    n_jobs=-1,\n",
    "    cv=10,\n",
    "    verbose=True,\n",
    "    random_state=0,\n",
    ")\n",
    "\n",
    "X_train, X_test, y_train, y_test = train_test_split(\n",
    "    X,\n",
    "    y,\n",
    "    test_size=0.3,\n",
    "    stratify=y,\n",
    "    random_state=0\n",
    ")\n",
    "\n",
    "X_train, X_validate, y_train, y_validate = train_test_split(\n",
    "    X_train,\n",
    "    y_train,\n",
    "    test_size=0.3,\n",
    "    stratify=y_train,\n",
    "    random_state=0\n",
    ")\n",
    "\n",
    "rscv.fit(X_train, y_train)\n",
    "\n",
    "print(f\"Best RSCV Score: {rscv.best_score_}\")"
   ]
  },
  {
   "cell_type": "code",
   "execution_count": 798,
   "metadata": {},
   "outputs": [
    {
     "name": "stdout",
     "output_type": "stream",
     "text": [
      "Training Report\n",
      "----------------------------------------------------------------------\n",
      "              precision    recall  f1-score   support\n",
      "\n",
      "       Ghost       0.86      0.95      0.90        57\n",
      "       Ghoul       0.69      0.84      0.76        63\n",
      "      Goblin       0.73      0.49      0.59        61\n",
      "\n",
      "    accuracy                           0.76       181\n",
      "   macro avg       0.76      0.76      0.75       181\n",
      "weighted avg       0.76      0.76      0.75       181\n",
      "\n",
      "\n",
      "\n",
      "Validation Report\n",
      "----------------------------------------------------------------------\n",
      "              precision    recall  f1-score   support\n",
      "\n",
      "       Ghost       0.77      0.92      0.84        25\n",
      "       Ghoul       0.74      0.85      0.79        27\n",
      "      Goblin       0.71      0.46      0.56        26\n",
      "\n",
      "    accuracy                           0.74        78\n",
      "   macro avg       0.74      0.74      0.73        78\n",
      "weighted avg       0.74      0.74      0.73        78\n",
      "\n",
      "\n",
      "\n",
      "Testing Report\n",
      "----------------------------------------------------------------------\n",
      "              precision    recall  f1-score   support\n",
      "\n",
      "       Ghost       0.71      0.86      0.78        35\n",
      "       Ghoul       0.71      0.77      0.74        39\n",
      "      Goblin       0.61      0.45      0.52        38\n",
      "\n",
      "    accuracy                           0.69       112\n",
      "   macro avg       0.68      0.69      0.68       112\n",
      "weighted avg       0.68      0.69      0.68       112\n",
      "\n"
     ]
    }
   ],
   "source": [
    "print(\"Training Report\")\n",
    "print(\"-\"*70)\n",
    "print(classification_report(y_train, rscv.predict(X_train)))\n",
    "print()\n",
    "print()\n",
    "print(\"Validation Report\")\n",
    "print(\"-\"*70)\n",
    "print(classification_report(y_validate, rscv.predict(X_validate)))\n",
    "print()\n",
    "print()\n",
    "print(\"Testing Report\")\n",
    "print(\"-\"*70)\n",
    "print(classification_report(y_test, rscv.predict(X_test)))"
   ]
  },
  {
   "cell_type": "code",
   "execution_count": 799,
   "metadata": {},
   "outputs": [
    {
     "name": "stdout",
     "output_type": "stream",
     "text": [
      "              precision    recall  f1-score   support\n",
      "\n",
      "       Ghost       0.80      0.90      0.85       117\n",
      "       Ghoul       0.72      0.84      0.78       129\n",
      "      Goblin       0.69      0.49      0.57       125\n",
      "\n",
      "    accuracy                           0.74       371\n",
      "   macro avg       0.74      0.74      0.73       371\n",
      "weighted avg       0.74      0.74      0.73       371\n",
      "\n"
     ]
    }
   ],
   "source": [
    "rscv.best_estimator_.fit(X, y)\n",
    "\n",
    "print(classification_report(y_true=y, y_pred=rscv.best_estimator_.predict(X)))"
   ]
  },
  {
   "cell_type": "code",
   "execution_count": 506,
   "metadata": {},
   "outputs": [
    {
     "data": {
      "text/plain": [
       "['logreg.joblib']"
      ]
     },
     "execution_count": 506,
     "metadata": {},
     "output_type": "execute_result"
    }
   ],
   "source": [
    "# joblib.dump(rscv.best_estimator_, \"logreg.joblib\", compress=True)"
   ]
  },
  {
   "cell_type": "markdown",
   "metadata": {
    "heading_collapsed": true
   },
   "source": [
    "# SVM"
   ]
  },
  {
   "cell_type": "code",
   "execution_count": 508,
   "metadata": {
    "hidden": true
   },
   "outputs": [
    {
     "name": "stdout",
     "output_type": "stream",
     "text": [
      "Fitting 10 folds for each of 1000 candidates, totalling 10000 fits\n"
     ]
    },
    {
     "name": "stderr",
     "output_type": "stream",
     "text": [
      "[Parallel(n_jobs=-1)]: Using backend LokyBackend with 4 concurrent workers.\n",
      "[Parallel(n_jobs=-1)]: Done  46 tasks      | elapsed:    4.3s\n",
      "[Parallel(n_jobs=-1)]: Done 362 tasks      | elapsed:   28.1s\n",
      "[Parallel(n_jobs=-1)]: Done 868 tasks      | elapsed:  1.0min\n",
      "[Parallel(n_jobs=-1)]: Done 1524 tasks      | elapsed:  1.9min\n",
      "[Parallel(n_jobs=-1)]: Done 2400 tasks      | elapsed:  2.7min\n",
      "[Parallel(n_jobs=-1)]: Done 3452 tasks      | elapsed:  3.7min\n",
      "[Parallel(n_jobs=-1)]: Done 4570 tasks      | elapsed:  5.1min\n",
      "[Parallel(n_jobs=-1)]: Done 5832 tasks      | elapsed:  6.6min\n",
      "[Parallel(n_jobs=-1)]: Done 7501 tasks      | elapsed:  8.2min\n",
      "[Parallel(n_jobs=-1)]: Done 9400 tasks      | elapsed: 10.2min\n"
     ]
    },
    {
     "name": "stdout",
     "output_type": "stream",
     "text": [
      "Best RSCV Score: 0.7517543859649123\n"
     ]
    },
    {
     "name": "stderr",
     "output_type": "stream",
     "text": [
      "[Parallel(n_jobs=-1)]: Done 10000 out of 10000 | elapsed: 10.8min finished\n"
     ]
    }
   ],
   "source": [
    "svm_pipe = Pipeline(steps=pipe.steps + [\n",
    "    (\"clf\", SVC(\n",
    "        probability=True,\n",
    "        cache_size=200,\n",
    "        class_weight=\"balanced\",\n",
    "        max_iter=-1,\n",
    "        decision_function_shape=\"ovr\",\n",
    "        random_state=0,\n",
    "    )),\n",
    "])\n",
    "\n",
    "svm_param_distributions = {\n",
    "    **param_distributions,\n",
    "    \"clf__C\" : stats.uniform(0, 5),\n",
    "    \"clf__kernel\" : [\"linear\", \"poly\", \"rbf\"],\n",
    "    \"clf__degree\" : stats.randint(3, 10),\n",
    "    \"clf__gamma\" : [\"auto\", \"scale\"],\n",
    "    \"clf__coef0\" : stats.uniform(-1, 2),\n",
    "    \"clf__shrinking\" : [True, False],\n",
    "    \"clf__tol\" : stats.uniform(0, 1e-1),\n",
    "    \"clf__break_ties\" : [True, False],\n",
    "}\n",
    "\n",
    "rscv = RandomizedSearchCV(\n",
    "    estimator=svm_pipe,\n",
    "    param_distributions=svm_param_distributions,\n",
    "    n_iter=1000,\n",
    "    n_jobs=-1,\n",
    "    cv=10,\n",
    "    verbose=True,\n",
    "    random_state=0,\n",
    ")\n",
    "\n",
    "X_train, X_test, y_train, y_test = train_test_split(\n",
    "    X,\n",
    "    y,\n",
    "    test_size=0.3,\n",
    "    stratify=y,\n",
    "    random_state=0\n",
    ")\n",
    "\n",
    "X_train, X_validate, y_train, y_validate = train_test_split(\n",
    "    X_train,\n",
    "    y_train,\n",
    "    test_size=0.3,\n",
    "    stratify=y_train,\n",
    "    random_state=0\n",
    ")\n",
    "\n",
    "rscv.fit(X_train, y_train)\n",
    "\n",
    "print(f\"Best RSCV Score: {rscv.best_score_}\")"
   ]
  },
  {
   "cell_type": "code",
   "execution_count": 509,
   "metadata": {
    "hidden": true
   },
   "outputs": [
    {
     "name": "stdout",
     "output_type": "stream",
     "text": [
      "Training Report\n",
      "----------------------------------------------------------------------\n",
      "              precision    recall  f1-score   support\n",
      "\n",
      "       Ghost       0.85      0.89      0.87        57\n",
      "       Ghoul       0.73      0.83      0.78        63\n",
      "      Goblin       0.72      0.59      0.65        61\n",
      "\n",
      "    accuracy                           0.77       181\n",
      "   macro avg       0.77      0.77      0.77       181\n",
      "weighted avg       0.77      0.77      0.76       181\n",
      "\n",
      "\n",
      "\n",
      "Validation Report\n",
      "----------------------------------------------------------------------\n",
      "              precision    recall  f1-score   support\n",
      "\n",
      "       Ghost       0.79      0.92      0.85        25\n",
      "       Ghoul       0.88      0.85      0.87        27\n",
      "      Goblin       0.74      0.65      0.69        26\n",
      "\n",
      "    accuracy                           0.81        78\n",
      "   macro avg       0.81      0.81      0.80        78\n",
      "weighted avg       0.81      0.81      0.80        78\n",
      "\n",
      "\n",
      "\n",
      "Testing Report\n",
      "----------------------------------------------------------------------\n",
      "              precision    recall  f1-score   support\n",
      "\n",
      "       Ghost       0.76      0.80      0.78        35\n",
      "       Ghoul       0.80      0.72      0.76        39\n",
      "      Goblin       0.60      0.63      0.62        38\n",
      "\n",
      "    accuracy                           0.71       112\n",
      "   macro avg       0.72      0.72      0.72       112\n",
      "weighted avg       0.72      0.71      0.72       112\n",
      "\n"
     ]
    }
   ],
   "source": [
    "print(\"Training Report\")\n",
    "print(\"-\"*70)\n",
    "print(classification_report(y_train, rscv.predict(X_train)))\n",
    "print()\n",
    "print()\n",
    "print(\"Validation Report\")\n",
    "print(\"-\"*70)\n",
    "print(classification_report(y_validate, rscv.predict(X_validate)))\n",
    "print()\n",
    "print()\n",
    "print(\"Testing Report\")\n",
    "print(\"-\"*70)\n",
    "print(classification_report(y_test, rscv.predict(X_test)))"
   ]
  },
  {
   "cell_type": "markdown",
   "metadata": {
    "hidden": true
   },
   "source": [
    "Getting coefficients"
   ]
  },
  {
   "cell_type": "code",
   "execution_count": 134,
   "metadata": {
    "hidden": true
   },
   "outputs": [],
   "source": [
    "scale = rscv.best_estimator_.named_steps.scale\n",
    "\n",
    "var = rscv.best_estimator_.named_steps.var\n",
    "\n",
    "poly = rscv.best_estimator_.named_steps.poly\n",
    "\n",
    "var2 = rscv.best_estimator_.named_steps.var2\n",
    "\n",
    "select = rscv.best_estimator_.named_steps.select\n",
    "\n",
    "clf = rscv.best_estimator_.named_steps.clf"
   ]
  },
  {
   "cell_type": "code",
   "execution_count": 135,
   "metadata": {
    "hidden": true
   },
   "outputs": [
    {
     "data": {
      "text/html": [
       "<div>\n",
       "<style scoped>\n",
       "    .dataframe tbody tr th:only-of-type {\n",
       "        vertical-align: middle;\n",
       "    }\n",
       "\n",
       "    .dataframe tbody tr th {\n",
       "        vertical-align: top;\n",
       "    }\n",
       "\n",
       "    .dataframe thead th {\n",
       "        text-align: right;\n",
       "    }\n",
       "</style>\n",
       "<table border=\"1\" class=\"dataframe\">\n",
       "  <thead>\n",
       "    <tr style=\"text-align: right;\">\n",
       "      <th></th>\n",
       "      <th>bone_length</th>\n",
       "      <th>rotting_flesh</th>\n",
       "      <th>hair_length</th>\n",
       "      <th>has_soul</th>\n",
       "      <th>bone_length hair_length</th>\n",
       "      <th>bone_length has_soul</th>\n",
       "      <th>rotting_flesh hair_length</th>\n",
       "      <th>hair_length has_soul</th>\n",
       "    </tr>\n",
       "  </thead>\n",
       "  <tbody>\n",
       "    <tr>\n",
       "      <th>Ghost</th>\n",
       "      <td>-2.022525</td>\n",
       "      <td>3.522754</td>\n",
       "      <td>-3.320910</td>\n",
       "      <td>-3.982051</td>\n",
       "      <td>-1.967386</td>\n",
       "      <td>-2.016802</td>\n",
       "      <td>-0.264424</td>\n",
       "      <td>-3.189473</td>\n",
       "    </tr>\n",
       "    <tr>\n",
       "      <th>Ghoul</th>\n",
       "      <td>-2.366212</td>\n",
       "      <td>4.853213</td>\n",
       "      <td>-3.628252</td>\n",
       "      <td>-2.426493</td>\n",
       "      <td>-1.607686</td>\n",
       "      <td>-3.054494</td>\n",
       "      <td>-0.652998</td>\n",
       "      <td>-2.409580</td>\n",
       "    </tr>\n",
       "    <tr>\n",
       "      <th>Goblin</th>\n",
       "      <td>1.394166</td>\n",
       "      <td>0.238541</td>\n",
       "      <td>2.573046</td>\n",
       "      <td>2.723686</td>\n",
       "      <td>1.619309</td>\n",
       "      <td>1.838296</td>\n",
       "      <td>2.043326</td>\n",
       "      <td>0.918932</td>\n",
       "    </tr>\n",
       "  </tbody>\n",
       "</table>\n",
       "</div>"
      ],
      "text/plain": [
       "        bone_length  rotting_flesh  hair_length  has_soul  \\\n",
       "Ghost     -2.022525       3.522754    -3.320910 -3.982051   \n",
       "Ghoul     -2.366212       4.853213    -3.628252 -2.426493   \n",
       "Goblin     1.394166       0.238541     2.573046  2.723686   \n",
       "\n",
       "        bone_length hair_length  bone_length has_soul  \\\n",
       "Ghost                 -1.967386             -2.016802   \n",
       "Ghoul                 -1.607686             -3.054494   \n",
       "Goblin                 1.619309              1.838296   \n",
       "\n",
       "        rotting_flesh hair_length  hair_length has_soul  \n",
       "Ghost                   -0.264424             -3.189473  \n",
       "Ghoul                   -0.652998             -2.409580  \n",
       "Goblin                   2.043326              0.918932  "
      ]
     },
     "execution_count": 135,
     "metadata": {},
     "output_type": "execute_result"
    }
   ],
   "source": [
    "X_ = pd.DataFrame(   \n",
    "    scale.transform(X),\n",
    "    index=X.index,\n",
    "    columns=X.columns,\n",
    ")\n",
    "\n",
    "X_ = pd.DataFrame(\n",
    "    var.transform(X_),\n",
    "    index=X_.index,\n",
    "    columns=X_.columns[var.get_support()]\n",
    ")\n",
    "\n",
    "X_ = pd.DataFrame(\n",
    "    poly.transform(X_),\n",
    "    index=X_.index,\n",
    "    columns=poly.get_feature_names(X_.columns)\n",
    ")\n",
    "\n",
    "X_ = pd.DataFrame(\n",
    "    var2.transform(X_),\n",
    "    index=X_.index,\n",
    "    columns=X_.columns[var2.get_support()]\n",
    ")\n",
    "\n",
    "X_ = pd.DataFrame(\n",
    "    select.transform(X_),\n",
    "    index=X_.index,\n",
    "    columns=X_.columns[select.get_support()]\n",
    ")\n",
    "\n",
    "clf.fit(X_, y)\n",
    "\n",
    "coefficients = pd.DataFrame(\n",
    "    clf.coef_,\n",
    "    index=clf.classes_,\n",
    "    columns=X_.columns\n",
    ")\n",
    "\n",
    "coef_mask = coefficients.sum().mask(lambda x: x == 0)\n",
    "\n",
    "coef_mask.dropna(inplace=True)\n",
    "\n",
    "coefficients = coefficients.reindex(columns=coef_mask.index)\n",
    "\n",
    "coefficients"
   ]
  },
  {
   "cell_type": "code",
   "execution_count": 510,
   "metadata": {
    "hidden": true
   },
   "outputs": [
    {
     "name": "stdout",
     "output_type": "stream",
     "text": [
      "              precision    recall  f1-score   support\n",
      "\n",
      "       Ghost       0.85      0.89      0.87       117\n",
      "       Ghoul       0.78      0.79      0.79       129\n",
      "      Goblin       0.69      0.66      0.67       125\n",
      "\n",
      "    accuracy                           0.78       371\n",
      "   macro avg       0.78      0.78      0.78       371\n",
      "weighted avg       0.77      0.78      0.77       371\n",
      "\n"
     ]
    }
   ],
   "source": [
    "rscv.best_estimator_.fit(X, y)\n",
    "\n",
    "print(classification_report(y_true=y, y_pred=rscv.best_estimator_.predict(X)))"
   ]
  },
  {
   "cell_type": "code",
   "execution_count": 511,
   "metadata": {
    "hidden": true
   },
   "outputs": [
    {
     "data": {
      "text/plain": [
       "['svm.joblib']"
      ]
     },
     "execution_count": 511,
     "metadata": {},
     "output_type": "execute_result"
    }
   ],
   "source": [
    "joblib.dump(rscv.best_estimator_, \"svm.joblib\", compress=True)"
   ]
  },
  {
   "cell_type": "markdown",
   "metadata": {
    "heading_collapsed": true
   },
   "source": [
    "# Neural Network"
   ]
  },
  {
   "cell_type": "code",
   "execution_count": 521,
   "metadata": {
    "hidden": true
   },
   "outputs": [
    {
     "name": "stdout",
     "output_type": "stream",
     "text": [
      "Fitting 10 folds for each of 1000 candidates, totalling 10000 fits\n"
     ]
    },
    {
     "name": "stderr",
     "output_type": "stream",
     "text": [
      "[Parallel(n_jobs=-1)]: Using backend LokyBackend with 4 concurrent workers.\n",
      "[Parallel(n_jobs=-1)]: Done  42 tasks      | elapsed:   32.3s\n",
      "[Parallel(n_jobs=-1)]: Done 192 tasks      | elapsed:  2.1min\n",
      "[Parallel(n_jobs=-1)]: Done 442 tasks      | elapsed:  5.0min\n",
      "[Parallel(n_jobs=-1)]: Done 792 tasks      | elapsed:  8.2min\n",
      "[Parallel(n_jobs=-1)]: Done 1242 tasks      | elapsed: 11.1min\n",
      "[Parallel(n_jobs=-1)]: Done 1792 tasks      | elapsed: 17.1min\n",
      "[Parallel(n_jobs=-1)]: Done 2442 tasks      | elapsed: 24.4min\n",
      "[Parallel(n_jobs=-1)]: Done 3192 tasks      | elapsed: 35.7min\n"
     ]
    },
    {
     "ename": "KeyboardInterrupt",
     "evalue": "",
     "output_type": "error",
     "traceback": [
      "\u001b[0;31m---------------------------------------------------------------------------\u001b[0m",
      "\u001b[0;31mKeyboardInterrupt\u001b[0m                         Traceback (most recent call last)",
      "\u001b[0;32m<ipython-input-521-9db2a0b2b974>\u001b[0m in \u001b[0;36m<module>\u001b[0;34m\u001b[0m\n\u001b[1;32m     55\u001b[0m )\n\u001b[1;32m     56\u001b[0m \u001b[0;34m\u001b[0m\u001b[0m\n\u001b[0;32m---> 57\u001b[0;31m \u001b[0mrscv\u001b[0m\u001b[0;34m.\u001b[0m\u001b[0mfit\u001b[0m\u001b[0;34m(\u001b[0m\u001b[0mX_train\u001b[0m\u001b[0;34m,\u001b[0m \u001b[0my_train\u001b[0m\u001b[0;34m)\u001b[0m\u001b[0;34m\u001b[0m\u001b[0;34m\u001b[0m\u001b[0m\n\u001b[0m\u001b[1;32m     58\u001b[0m \u001b[0;34m\u001b[0m\u001b[0m\n\u001b[1;32m     59\u001b[0m \u001b[0mprint\u001b[0m\u001b[0;34m(\u001b[0m\u001b[0;34mf\"Best RSCV Score: {rscv.best_score_}\"\u001b[0m\u001b[0;34m)\u001b[0m\u001b[0;34m\u001b[0m\u001b[0;34m\u001b[0m\u001b[0m\n",
      "\u001b[0;32m~/anaconda3/lib/python3.7/site-packages/sklearn/utils/validation.py\u001b[0m in \u001b[0;36minner_f\u001b[0;34m(*args, **kwargs)\u001b[0m\n\u001b[1;32m     70\u001b[0m                           FutureWarning)\n\u001b[1;32m     71\u001b[0m         \u001b[0mkwargs\u001b[0m\u001b[0;34m.\u001b[0m\u001b[0mupdate\u001b[0m\u001b[0;34m(\u001b[0m\u001b[0;34m{\u001b[0m\u001b[0mk\u001b[0m\u001b[0;34m:\u001b[0m \u001b[0marg\u001b[0m \u001b[0;32mfor\u001b[0m \u001b[0mk\u001b[0m\u001b[0;34m,\u001b[0m \u001b[0marg\u001b[0m \u001b[0;32min\u001b[0m \u001b[0mzip\u001b[0m\u001b[0;34m(\u001b[0m\u001b[0msig\u001b[0m\u001b[0;34m.\u001b[0m\u001b[0mparameters\u001b[0m\u001b[0;34m,\u001b[0m \u001b[0margs\u001b[0m\u001b[0;34m)\u001b[0m\u001b[0;34m}\u001b[0m\u001b[0;34m)\u001b[0m\u001b[0;34m\u001b[0m\u001b[0;34m\u001b[0m\u001b[0m\n\u001b[0;32m---> 72\u001b[0;31m         \u001b[0;32mreturn\u001b[0m \u001b[0mf\u001b[0m\u001b[0;34m(\u001b[0m\u001b[0;34m**\u001b[0m\u001b[0mkwargs\u001b[0m\u001b[0;34m)\u001b[0m\u001b[0;34m\u001b[0m\u001b[0;34m\u001b[0m\u001b[0m\n\u001b[0m\u001b[1;32m     73\u001b[0m     \u001b[0;32mreturn\u001b[0m \u001b[0minner_f\u001b[0m\u001b[0;34m\u001b[0m\u001b[0;34m\u001b[0m\u001b[0m\n\u001b[1;32m     74\u001b[0m \u001b[0;34m\u001b[0m\u001b[0m\n",
      "\u001b[0;32m~/anaconda3/lib/python3.7/site-packages/sklearn/model_selection/_search.py\u001b[0m in \u001b[0;36mfit\u001b[0;34m(self, X, y, groups, **fit_params)\u001b[0m\n\u001b[1;32m    734\u001b[0m                 \u001b[0;32mreturn\u001b[0m \u001b[0mresults\u001b[0m\u001b[0;34m\u001b[0m\u001b[0;34m\u001b[0m\u001b[0m\n\u001b[1;32m    735\u001b[0m \u001b[0;34m\u001b[0m\u001b[0m\n\u001b[0;32m--> 736\u001b[0;31m             \u001b[0mself\u001b[0m\u001b[0;34m.\u001b[0m\u001b[0m_run_search\u001b[0m\u001b[0;34m(\u001b[0m\u001b[0mevaluate_candidates\u001b[0m\u001b[0;34m)\u001b[0m\u001b[0;34m\u001b[0m\u001b[0;34m\u001b[0m\u001b[0m\n\u001b[0m\u001b[1;32m    737\u001b[0m \u001b[0;34m\u001b[0m\u001b[0m\n\u001b[1;32m    738\u001b[0m         \u001b[0;31m# For multi-metric evaluation, store the best_index_, best_params_ and\u001b[0m\u001b[0;34m\u001b[0m\u001b[0;34m\u001b[0m\u001b[0;34m\u001b[0m\u001b[0m\n",
      "\u001b[0;32m~/anaconda3/lib/python3.7/site-packages/sklearn/model_selection/_search.py\u001b[0m in \u001b[0;36m_run_search\u001b[0;34m(self, evaluate_candidates)\u001b[0m\n\u001b[1;32m   1529\u001b[0m         evaluate_candidates(ParameterSampler(\n\u001b[1;32m   1530\u001b[0m             \u001b[0mself\u001b[0m\u001b[0;34m.\u001b[0m\u001b[0mparam_distributions\u001b[0m\u001b[0;34m,\u001b[0m \u001b[0mself\u001b[0m\u001b[0;34m.\u001b[0m\u001b[0mn_iter\u001b[0m\u001b[0;34m,\u001b[0m\u001b[0;34m\u001b[0m\u001b[0;34m\u001b[0m\u001b[0m\n\u001b[0;32m-> 1531\u001b[0;31m             random_state=self.random_state))\n\u001b[0m",
      "\u001b[0;32m~/anaconda3/lib/python3.7/site-packages/sklearn/model_selection/_search.py\u001b[0m in \u001b[0;36mevaluate_candidates\u001b[0;34m(candidate_params)\u001b[0m\n\u001b[1;32m    713\u001b[0m                                \u001b[0;32mfor\u001b[0m \u001b[0mparameters\u001b[0m\u001b[0;34m,\u001b[0m \u001b[0;34m(\u001b[0m\u001b[0mtrain\u001b[0m\u001b[0;34m,\u001b[0m \u001b[0mtest\u001b[0m\u001b[0;34m)\u001b[0m\u001b[0;34m\u001b[0m\u001b[0;34m\u001b[0m\u001b[0m\n\u001b[1;32m    714\u001b[0m                                in product(candidate_params,\n\u001b[0;32m--> 715\u001b[0;31m                                           cv.split(X, y, groups)))\n\u001b[0m\u001b[1;32m    716\u001b[0m \u001b[0;34m\u001b[0m\u001b[0m\n\u001b[1;32m    717\u001b[0m                 \u001b[0;32mif\u001b[0m \u001b[0mlen\u001b[0m\u001b[0;34m(\u001b[0m\u001b[0mout\u001b[0m\u001b[0;34m)\u001b[0m \u001b[0;34m<\u001b[0m \u001b[0;36m1\u001b[0m\u001b[0;34m:\u001b[0m\u001b[0;34m\u001b[0m\u001b[0;34m\u001b[0m\u001b[0m\n",
      "\u001b[0;32m~/anaconda3/lib/python3.7/site-packages/joblib/parallel.py\u001b[0m in \u001b[0;36m__call__\u001b[0;34m(self, iterable)\u001b[0m\n\u001b[1;32m   1059\u001b[0m \u001b[0;34m\u001b[0m\u001b[0m\n\u001b[1;32m   1060\u001b[0m             \u001b[0;32mwith\u001b[0m \u001b[0mself\u001b[0m\u001b[0;34m.\u001b[0m\u001b[0m_backend\u001b[0m\u001b[0;34m.\u001b[0m\u001b[0mretrieval_context\u001b[0m\u001b[0;34m(\u001b[0m\u001b[0;34m)\u001b[0m\u001b[0;34m:\u001b[0m\u001b[0;34m\u001b[0m\u001b[0;34m\u001b[0m\u001b[0m\n\u001b[0;32m-> 1061\u001b[0;31m                 \u001b[0mself\u001b[0m\u001b[0;34m.\u001b[0m\u001b[0mretrieve\u001b[0m\u001b[0;34m(\u001b[0m\u001b[0;34m)\u001b[0m\u001b[0;34m\u001b[0m\u001b[0;34m\u001b[0m\u001b[0m\n\u001b[0m\u001b[1;32m   1062\u001b[0m             \u001b[0;31m# Make sure that we get a last message telling us we are done\u001b[0m\u001b[0;34m\u001b[0m\u001b[0;34m\u001b[0m\u001b[0;34m\u001b[0m\u001b[0m\n\u001b[1;32m   1063\u001b[0m             \u001b[0melapsed_time\u001b[0m \u001b[0;34m=\u001b[0m \u001b[0mtime\u001b[0m\u001b[0;34m.\u001b[0m\u001b[0mtime\u001b[0m\u001b[0;34m(\u001b[0m\u001b[0;34m)\u001b[0m \u001b[0;34m-\u001b[0m \u001b[0mself\u001b[0m\u001b[0;34m.\u001b[0m\u001b[0m_start_time\u001b[0m\u001b[0;34m\u001b[0m\u001b[0;34m\u001b[0m\u001b[0m\n",
      "\u001b[0;32m~/anaconda3/lib/python3.7/site-packages/joblib/parallel.py\u001b[0m in \u001b[0;36mretrieve\u001b[0;34m(self)\u001b[0m\n\u001b[1;32m    938\u001b[0m             \u001b[0;32mtry\u001b[0m\u001b[0;34m:\u001b[0m\u001b[0;34m\u001b[0m\u001b[0;34m\u001b[0m\u001b[0m\n\u001b[1;32m    939\u001b[0m                 \u001b[0;32mif\u001b[0m \u001b[0mgetattr\u001b[0m\u001b[0;34m(\u001b[0m\u001b[0mself\u001b[0m\u001b[0;34m.\u001b[0m\u001b[0m_backend\u001b[0m\u001b[0;34m,\u001b[0m \u001b[0;34m'supports_timeout'\u001b[0m\u001b[0;34m,\u001b[0m \u001b[0;32mFalse\u001b[0m\u001b[0;34m)\u001b[0m\u001b[0;34m:\u001b[0m\u001b[0;34m\u001b[0m\u001b[0;34m\u001b[0m\u001b[0m\n\u001b[0;32m--> 940\u001b[0;31m                     \u001b[0mself\u001b[0m\u001b[0;34m.\u001b[0m\u001b[0m_output\u001b[0m\u001b[0;34m.\u001b[0m\u001b[0mextend\u001b[0m\u001b[0;34m(\u001b[0m\u001b[0mjob\u001b[0m\u001b[0;34m.\u001b[0m\u001b[0mget\u001b[0m\u001b[0;34m(\u001b[0m\u001b[0mtimeout\u001b[0m\u001b[0;34m=\u001b[0m\u001b[0mself\u001b[0m\u001b[0;34m.\u001b[0m\u001b[0mtimeout\u001b[0m\u001b[0;34m)\u001b[0m\u001b[0;34m)\u001b[0m\u001b[0;34m\u001b[0m\u001b[0;34m\u001b[0m\u001b[0m\n\u001b[0m\u001b[1;32m    941\u001b[0m                 \u001b[0;32melse\u001b[0m\u001b[0;34m:\u001b[0m\u001b[0;34m\u001b[0m\u001b[0;34m\u001b[0m\u001b[0m\n\u001b[1;32m    942\u001b[0m                     \u001b[0mself\u001b[0m\u001b[0;34m.\u001b[0m\u001b[0m_output\u001b[0m\u001b[0;34m.\u001b[0m\u001b[0mextend\u001b[0m\u001b[0;34m(\u001b[0m\u001b[0mjob\u001b[0m\u001b[0;34m.\u001b[0m\u001b[0mget\u001b[0m\u001b[0;34m(\u001b[0m\u001b[0;34m)\u001b[0m\u001b[0;34m)\u001b[0m\u001b[0;34m\u001b[0m\u001b[0;34m\u001b[0m\u001b[0m\n",
      "\u001b[0;32m~/anaconda3/lib/python3.7/site-packages/joblib/_parallel_backends.py\u001b[0m in \u001b[0;36mwrap_future_result\u001b[0;34m(future, timeout)\u001b[0m\n\u001b[1;32m    540\u001b[0m         AsyncResults.get from multiprocessing.\"\"\"\n\u001b[1;32m    541\u001b[0m         \u001b[0;32mtry\u001b[0m\u001b[0;34m:\u001b[0m\u001b[0;34m\u001b[0m\u001b[0;34m\u001b[0m\u001b[0m\n\u001b[0;32m--> 542\u001b[0;31m             \u001b[0;32mreturn\u001b[0m \u001b[0mfuture\u001b[0m\u001b[0;34m.\u001b[0m\u001b[0mresult\u001b[0m\u001b[0;34m(\u001b[0m\u001b[0mtimeout\u001b[0m\u001b[0;34m=\u001b[0m\u001b[0mtimeout\u001b[0m\u001b[0;34m)\u001b[0m\u001b[0;34m\u001b[0m\u001b[0;34m\u001b[0m\u001b[0m\n\u001b[0m\u001b[1;32m    543\u001b[0m         \u001b[0;32mexcept\u001b[0m \u001b[0mCfTimeoutError\u001b[0m \u001b[0;32mas\u001b[0m \u001b[0me\u001b[0m\u001b[0;34m:\u001b[0m\u001b[0;34m\u001b[0m\u001b[0;34m\u001b[0m\u001b[0m\n\u001b[1;32m    544\u001b[0m             \u001b[0;32mraise\u001b[0m \u001b[0mTimeoutError\u001b[0m \u001b[0;32mfrom\u001b[0m \u001b[0me\u001b[0m\u001b[0;34m\u001b[0m\u001b[0;34m\u001b[0m\u001b[0m\n",
      "\u001b[0;32m~/anaconda3/lib/python3.7/concurrent/futures/_base.py\u001b[0m in \u001b[0;36mresult\u001b[0;34m(self, timeout)\u001b[0m\n\u001b[1;32m    428\u001b[0m                 \u001b[0;32mreturn\u001b[0m \u001b[0mself\u001b[0m\u001b[0;34m.\u001b[0m\u001b[0m__get_result\u001b[0m\u001b[0;34m(\u001b[0m\u001b[0;34m)\u001b[0m\u001b[0;34m\u001b[0m\u001b[0;34m\u001b[0m\u001b[0m\n\u001b[1;32m    429\u001b[0m \u001b[0;34m\u001b[0m\u001b[0m\n\u001b[0;32m--> 430\u001b[0;31m             \u001b[0mself\u001b[0m\u001b[0;34m.\u001b[0m\u001b[0m_condition\u001b[0m\u001b[0;34m.\u001b[0m\u001b[0mwait\u001b[0m\u001b[0;34m(\u001b[0m\u001b[0mtimeout\u001b[0m\u001b[0;34m)\u001b[0m\u001b[0;34m\u001b[0m\u001b[0;34m\u001b[0m\u001b[0m\n\u001b[0m\u001b[1;32m    431\u001b[0m \u001b[0;34m\u001b[0m\u001b[0m\n\u001b[1;32m    432\u001b[0m             \u001b[0;32mif\u001b[0m \u001b[0mself\u001b[0m\u001b[0;34m.\u001b[0m\u001b[0m_state\u001b[0m \u001b[0;32min\u001b[0m \u001b[0;34m[\u001b[0m\u001b[0mCANCELLED\u001b[0m\u001b[0;34m,\u001b[0m \u001b[0mCANCELLED_AND_NOTIFIED\u001b[0m\u001b[0;34m]\u001b[0m\u001b[0;34m:\u001b[0m\u001b[0;34m\u001b[0m\u001b[0;34m\u001b[0m\u001b[0m\n",
      "\u001b[0;32m~/anaconda3/lib/python3.7/threading.py\u001b[0m in \u001b[0;36mwait\u001b[0;34m(self, timeout)\u001b[0m\n\u001b[1;32m    294\u001b[0m         \u001b[0;32mtry\u001b[0m\u001b[0;34m:\u001b[0m    \u001b[0;31m# restore state no matter what (e.g., KeyboardInterrupt)\u001b[0m\u001b[0;34m\u001b[0m\u001b[0;34m\u001b[0m\u001b[0m\n\u001b[1;32m    295\u001b[0m             \u001b[0;32mif\u001b[0m \u001b[0mtimeout\u001b[0m \u001b[0;32mis\u001b[0m \u001b[0;32mNone\u001b[0m\u001b[0;34m:\u001b[0m\u001b[0;34m\u001b[0m\u001b[0;34m\u001b[0m\u001b[0m\n\u001b[0;32m--> 296\u001b[0;31m                 \u001b[0mwaiter\u001b[0m\u001b[0;34m.\u001b[0m\u001b[0macquire\u001b[0m\u001b[0;34m(\u001b[0m\u001b[0;34m)\u001b[0m\u001b[0;34m\u001b[0m\u001b[0;34m\u001b[0m\u001b[0m\n\u001b[0m\u001b[1;32m    297\u001b[0m                 \u001b[0mgotit\u001b[0m \u001b[0;34m=\u001b[0m \u001b[0;32mTrue\u001b[0m\u001b[0;34m\u001b[0m\u001b[0;34m\u001b[0m\u001b[0m\n\u001b[1;32m    298\u001b[0m             \u001b[0;32melse\u001b[0m\u001b[0;34m:\u001b[0m\u001b[0;34m\u001b[0m\u001b[0;34m\u001b[0m\u001b[0m\n",
      "\u001b[0;31mKeyboardInterrupt\u001b[0m: "
     ]
    }
   ],
   "source": [
    "nn_pipe = Pipeline(steps=pipe.steps + [\n",
    "    (\"clf\", MLPClassifier(\n",
    "        hidden_layer_sizes=(100,),\n",
    "        batch_size=\"auto\",\n",
    "        max_iter=10000,\n",
    "        shuffle=True,\n",
    "        random_state=0,\n",
    "    )),\n",
    "])\n",
    "\n",
    "nn_param_distributions = {\n",
    "    **param_distributions,\n",
    "    \"clf__activation\" : [\"identity\", \"logistic\", \"tanh\", \"relu\"],\n",
    "    \"clf__solver\" : [\"lbfgs\", \"sgd\", \"adam\"],\n",
    "    \"clf__alpha\" : stats.uniform(1e-8, 1e-1),\n",
    "    \"clf__learning_rate\" : [\"constant\", \"invscaling\", \"adaptive\"],\n",
    "    \"clf__learning_rate_init\" : stats.uniform(1e-3, 1e0),\n",
    "    \"clf__power_t\" : stats.uniform(0.1, 0.9),\n",
    "    \"clf__tol\" : stats.uniform(1e-6, 1e-4),\n",
    "    \"clf__warm_start\" : [True, False],\n",
    "    \"clf__momentum\" : stats.uniform(0, 1),\n",
    "    \"clf__nesterovs_momentum\" : [True, False],\n",
    "    \"clf__validation_fraction\" : stats.uniform(0, 0.3),\n",
    "    \"clf__beta_1\" : stats.uniform(0, 1),\n",
    "    \"clf__beta_2\" : stats.uniform(0, 1),\n",
    "    \"clf__epsilon\" : stats.uniform(1e-10, 1e-6),\n",
    "    \"clf__n_iter_no_change\" : stats.randint(5, 20),\n",
    "    \"clf__max_fun\" : stats.randint(10000, 20000),\n",
    "}\n",
    "\n",
    "rscv = RandomizedSearchCV(\n",
    "    estimator=nn_pipe,\n",
    "    param_distributions=nn_param_distributions,\n",
    "    n_iter=1000,\n",
    "    n_jobs=-1,\n",
    "    cv=10,\n",
    "    verbose=True,\n",
    "    random_state=0,\n",
    ")\n",
    "\n",
    "X_train, X_test, y_train, y_test = train_test_split(\n",
    "    X,\n",
    "    y,\n",
    "    test_size=0.3,\n",
    "    stratify=y,\n",
    "    random_state=0\n",
    ")\n",
    "\n",
    "X_train, X_validate, y_train, y_validate = train_test_split(\n",
    "    X_train,\n",
    "    y_train,\n",
    "    test_size=0.3,\n",
    "    stratify=y_train,\n",
    "    random_state=0\n",
    ")\n",
    "\n",
    "rscv.fit(X_train, y_train)\n",
    "\n",
    "print(f\"Best RSCV Score: {rscv.best_score_}\")"
   ]
  },
  {
   "cell_type": "code",
   "execution_count": 517,
   "metadata": {
    "hidden": true
   },
   "outputs": [
    {
     "name": "stdout",
     "output_type": "stream",
     "text": [
      "Training Report\n",
      "----------------------------------------------------------------------\n",
      "              precision    recall  f1-score   support\n",
      "\n",
      "       Ghost       0.88      0.93      0.91        57\n",
      "       Ghoul       0.75      0.81      0.78        63\n",
      "      Goblin       0.72      0.62      0.67        61\n",
      "\n",
      "    accuracy                           0.78       181\n",
      "   macro avg       0.78      0.79      0.78       181\n",
      "weighted avg       0.78      0.78      0.78       181\n",
      "\n",
      "\n",
      "\n",
      "Validation Report\n",
      "----------------------------------------------------------------------\n",
      "              precision    recall  f1-score   support\n",
      "\n",
      "       Ghost       0.77      0.96      0.86        25\n",
      "       Ghoul       0.79      0.85      0.82        27\n",
      "      Goblin       0.72      0.50      0.59        26\n",
      "\n",
      "    accuracy                           0.77        78\n",
      "   macro avg       0.76      0.77      0.76        78\n",
      "weighted avg       0.76      0.77      0.76        78\n",
      "\n",
      "\n",
      "\n",
      "Testing Report\n",
      "----------------------------------------------------------------------\n",
      "              precision    recall  f1-score   support\n",
      "\n",
      "       Ghost       0.75      0.86      0.80        35\n",
      "       Ghoul       0.73      0.69      0.71        39\n",
      "      Goblin       0.57      0.53      0.55        38\n",
      "\n",
      "    accuracy                           0.69       112\n",
      "   macro avg       0.68      0.69      0.69       112\n",
      "weighted avg       0.68      0.69      0.68       112\n",
      "\n"
     ]
    }
   ],
   "source": [
    "print(\"Training Report\")\n",
    "print(\"-\"*70)\n",
    "print(classification_report(y_train, rscv.predict(X_train)))\n",
    "print()\n",
    "print()\n",
    "print(\"Validation Report\")\n",
    "print(\"-\"*70)\n",
    "print(classification_report(y_validate, rscv.predict(X_validate)))\n",
    "print()\n",
    "print()\n",
    "print(\"Testing Report\")\n",
    "print(\"-\"*70)\n",
    "print(classification_report(y_test, rscv.predict(X_test)))"
   ]
  },
  {
   "cell_type": "code",
   "execution_count": 518,
   "metadata": {
    "hidden": true
   },
   "outputs": [
    {
     "name": "stdout",
     "output_type": "stream",
     "text": [
      "              precision    recall  f1-score   support\n",
      "\n",
      "       Ghost       0.84      0.88      0.86       117\n",
      "       Ghoul       0.77      0.81      0.79       129\n",
      "      Goblin       0.68      0.62      0.64       125\n",
      "\n",
      "    accuracy                           0.77       371\n",
      "   macro avg       0.76      0.77      0.76       371\n",
      "weighted avg       0.76      0.77      0.76       371\n",
      "\n"
     ]
    }
   ],
   "source": [
    "rscv.best_estimator_.fit(X, y)\n",
    "\n",
    "print(classification_report(y_true=y, y_pred=rscv.best_estimator_.predict(X)))"
   ]
  },
  {
   "cell_type": "code",
   "execution_count": 519,
   "metadata": {
    "hidden": true
   },
   "outputs": [
    {
     "data": {
      "text/plain": [
       "['neuralnet.joblib']"
      ]
     },
     "execution_count": 519,
     "metadata": {},
     "output_type": "execute_result"
    }
   ],
   "source": [
    "joblib.dump(rscv.best_estimator_, \"neuralnet.joblib\", compress=True)"
   ]
  },
  {
   "cell_type": "markdown",
   "metadata": {
    "heading_collapsed": true
   },
   "source": [
    "# Multinomial Naive Bayes"
   ]
  },
  {
   "cell_type": "code",
   "execution_count": 531,
   "metadata": {
    "hidden": true
   },
   "outputs": [
    {
     "name": "stdout",
     "output_type": "stream",
     "text": [
      "Fitting 10 folds for each of 1000 candidates, totalling 10000 fits\n"
     ]
    },
    {
     "name": "stderr",
     "output_type": "stream",
     "text": [
      "[Parallel(n_jobs=-1)]: Using backend LokyBackend with 4 concurrent workers.\n",
      "[Parallel(n_jobs=-1)]: Done  56 tasks      | elapsed:    2.9s\n",
      "[Parallel(n_jobs=-1)]: Done 402 tasks      | elapsed:   27.3s\n",
      "[Parallel(n_jobs=-1)]: Done 952 tasks      | elapsed:  1.0min\n",
      "[Parallel(n_jobs=-1)]: Done 1620 tasks      | elapsed:  1.8min\n",
      "[Parallel(n_jobs=-1)]: Done 2634 tasks      | elapsed:  2.8min\n",
      "[Parallel(n_jobs=-1)]: Done 3838 tasks      | elapsed:  3.9min\n",
      "[Parallel(n_jobs=-1)]: Done 5476 tasks      | elapsed:  5.3min\n",
      "[Parallel(n_jobs=-1)]: Done 7158 tasks      | elapsed:  6.9min\n",
      "[Parallel(n_jobs=-1)]: Done 9006 tasks      | elapsed:  8.6min\n"
     ]
    },
    {
     "name": "stdout",
     "output_type": "stream",
     "text": [
      "Best RSCV Score: 0.6190058479532163\n"
     ]
    },
    {
     "name": "stderr",
     "output_type": "stream",
     "text": [
      "[Parallel(n_jobs=-1)]: Done 10000 out of 10000 | elapsed:  9.7min finished\n"
     ]
    }
   ],
   "source": [
    "mnb_pipe = Pipeline(steps=pipe.steps + [\n",
    "    (\"clf\", MultinomialNB()),\n",
    "])\n",
    "\n",
    "mnb_param_distributions = {\n",
    "    **param_distributions,\n",
    "    \"clf__alpha\" : stats.uniform(0, 1),\n",
    "    \"clf__fit_prior\" : [True, False],\n",
    "}\n",
    "\n",
    "rscv = RandomizedSearchCV(\n",
    "    estimator=mnb_pipe,\n",
    "    param_distributions=mnb_param_distributions,\n",
    "    n_iter=1000,\n",
    "    n_jobs=-1,\n",
    "    cv=10,\n",
    "    verbose=True,\n",
    "    random_state=0,\n",
    ")\n",
    "\n",
    "X_train, X_test, y_train, y_test = train_test_split(\n",
    "    X,\n",
    "    y,\n",
    "    test_size=0.3,\n",
    "    stratify=y,\n",
    "    random_state=0\n",
    ")\n",
    "\n",
    "X_train, X_validate, y_train, y_validate = train_test_split(\n",
    "    X_train,\n",
    "    y_train,\n",
    "    test_size=0.3,\n",
    "    stratify=y_train,\n",
    "    random_state=0\n",
    ")\n",
    "\n",
    "rscv.fit(X_train, y_train)\n",
    "\n",
    "print(f\"Best RSCV Score: {rscv.best_score_}\")"
   ]
  },
  {
   "cell_type": "code",
   "execution_count": 532,
   "metadata": {
    "hidden": true
   },
   "outputs": [
    {
     "name": "stdout",
     "output_type": "stream",
     "text": [
      "Training Report\n",
      "----------------------------------------------------------------------\n",
      "              precision    recall  f1-score   support\n",
      "\n",
      "       Ghost       0.78      0.81      0.79        57\n",
      "       Ghoul       0.48      0.94      0.64        63\n",
      "      Goblin       0.00      0.00      0.00        61\n",
      "\n",
      "    accuracy                           0.58       181\n",
      "   macro avg       0.42      0.58      0.48       181\n",
      "weighted avg       0.41      0.58      0.47       181\n",
      "\n",
      "\n",
      "\n",
      "Validation Report\n",
      "----------------------------------------------------------------------\n",
      "              precision    recall  f1-score   support\n",
      "\n",
      "       Ghost       0.69      0.80      0.74        25\n",
      "       Ghoul       0.53      0.96      0.68        27\n",
      "      Goblin       0.00      0.00      0.00        26\n",
      "\n",
      "    accuracy                           0.59        78\n",
      "   macro avg       0.41      0.59      0.47        78\n",
      "weighted avg       0.40      0.59      0.47        78\n",
      "\n",
      "\n",
      "\n",
      "Testing Report\n",
      "----------------------------------------------------------------------\n",
      "              precision    recall  f1-score   support\n",
      "\n",
      "       Ghost       0.76      0.71      0.74        35\n",
      "       Ghoul       0.46      0.92      0.61        39\n",
      "      Goblin       0.00      0.00      0.00        38\n",
      "\n",
      "    accuracy                           0.54       112\n",
      "   macro avg       0.40      0.55      0.45       112\n",
      "weighted avg       0.40      0.54      0.44       112\n",
      "\n"
     ]
    },
    {
     "name": "stderr",
     "output_type": "stream",
     "text": [
      "/home/ian/anaconda3/lib/python3.7/site-packages/sklearn/metrics/_classification.py:1221: UndefinedMetricWarning: Precision and F-score are ill-defined and being set to 0.0 in labels with no predicted samples. Use `zero_division` parameter to control this behavior.\n",
      "  _warn_prf(average, modifier, msg_start, len(result))\n"
     ]
    }
   ],
   "source": [
    "print(\"Training Report\")\n",
    "print(\"-\"*70)\n",
    "print(classification_report(y_train, rscv.predict(X_train)))\n",
    "print()\n",
    "print()\n",
    "print(\"Validation Report\")\n",
    "print(\"-\"*70)\n",
    "print(classification_report(y_validate, rscv.predict(X_validate)))\n",
    "print()\n",
    "print()\n",
    "print(\"Testing Report\")\n",
    "print(\"-\"*70)\n",
    "print(classification_report(y_test, rscv.predict(X_test)))"
   ]
  },
  {
   "cell_type": "code",
   "execution_count": 533,
   "metadata": {
    "hidden": true
   },
   "outputs": [
    {
     "name": "stdout",
     "output_type": "stream",
     "text": [
      "              precision    recall  f1-score   support\n",
      "\n",
      "       Ghost       0.75      0.78      0.76       117\n",
      "       Ghoul       0.48      0.94      0.64       129\n",
      "      Goblin       0.00      0.00      0.00       125\n",
      "\n",
      "    accuracy                           0.57       371\n",
      "   macro avg       0.41      0.57      0.47       371\n",
      "weighted avg       0.41      0.57      0.46       371\n",
      "\n"
     ]
    },
    {
     "name": "stderr",
     "output_type": "stream",
     "text": [
      "/home/ian/anaconda3/lib/python3.7/site-packages/sklearn/metrics/_classification.py:1221: UndefinedMetricWarning: Precision and F-score are ill-defined and being set to 0.0 in labels with no predicted samples. Use `zero_division` parameter to control this behavior.\n",
      "  _warn_prf(average, modifier, msg_start, len(result))\n"
     ]
    }
   ],
   "source": [
    "rscv.best_estimator_.fit(X, y)\n",
    "\n",
    "print(classification_report(y_true=y, y_pred=rscv.best_estimator_.predict(X)))"
   ]
  },
  {
   "cell_type": "code",
   "execution_count": 166,
   "metadata": {
    "hidden": true
   },
   "outputs": [
    {
     "data": {
      "text/plain": [
       "['multinomialnb.joblib']"
      ]
     },
     "execution_count": 166,
     "metadata": {},
     "output_type": "execute_result"
    }
   ],
   "source": [
    "joblib.dump(rscv.best_estimator_, \"multinomialnb.joblib\", compress=True)"
   ]
  },
  {
   "cell_type": "markdown",
   "metadata": {
    "heading_collapsed": true
   },
   "source": [
    "# GaussianNB"
   ]
  },
  {
   "cell_type": "code",
   "execution_count": 534,
   "metadata": {
    "hidden": true
   },
   "outputs": [
    {
     "name": "stdout",
     "output_type": "stream",
     "text": [
      "Fitting 10 folds for each of 1000 candidates, totalling 10000 fits\n"
     ]
    },
    {
     "name": "stderr",
     "output_type": "stream",
     "text": [
      "[Parallel(n_jobs=-1)]: Using backend LokyBackend with 4 concurrent workers.\n",
      "[Parallel(n_jobs=-1)]: Done  68 tasks      | elapsed:    4.5s\n",
      "[Parallel(n_jobs=-1)]: Done 348 tasks      | elapsed:   22.0s\n",
      "[Parallel(n_jobs=-1)]: Done 888 tasks      | elapsed:  1.0min\n",
      "[Parallel(n_jobs=-1)]: Done 1564 tasks      | elapsed:  1.9min\n",
      "[Parallel(n_jobs=-1)]: Done 2696 tasks      | elapsed:  3.1min\n",
      "[Parallel(n_jobs=-1)]: Done 3940 tasks      | elapsed:  4.5min\n",
      "[Parallel(n_jobs=-1)]: Done 5784 tasks      | elapsed:  5.9min\n",
      "[Parallel(n_jobs=-1)]: Done 7601 tasks      | elapsed:  7.7min\n",
      "[Parallel(n_jobs=-1)]: Done 9656 tasks      | elapsed:  9.7min\n",
      "[Parallel(n_jobs=-1)]: Done 10000 out of 10000 | elapsed: 10.1min finished\n"
     ]
    },
    {
     "ename": "TypeError",
     "evalue": "A sparse matrix was passed, but dense data is required. Use X.toarray() to convert to a dense numpy array.",
     "output_type": "error",
     "traceback": [
      "\u001b[0;31m---------------------------------------------------------------------------\u001b[0m",
      "\u001b[0;31mTypeError\u001b[0m                                 Traceback (most recent call last)",
      "\u001b[0;32m<ipython-input-534-a9b10bd163e7>\u001b[0m in \u001b[0;36m<module>\u001b[0;34m\u001b[0m\n\u001b[1;32m     34\u001b[0m )\n\u001b[1;32m     35\u001b[0m \u001b[0;34m\u001b[0m\u001b[0m\n\u001b[0;32m---> 36\u001b[0;31m \u001b[0mrscv\u001b[0m\u001b[0;34m.\u001b[0m\u001b[0mfit\u001b[0m\u001b[0;34m(\u001b[0m\u001b[0mX_train\u001b[0m\u001b[0;34m,\u001b[0m \u001b[0my_train\u001b[0m\u001b[0;34m)\u001b[0m\u001b[0;34m\u001b[0m\u001b[0;34m\u001b[0m\u001b[0m\n\u001b[0m\u001b[1;32m     37\u001b[0m \u001b[0;34m\u001b[0m\u001b[0m\n\u001b[1;32m     38\u001b[0m \u001b[0mprint\u001b[0m\u001b[0;34m(\u001b[0m\u001b[0;34mf\"Best RSCV Score: {rscv.best_score_}\"\u001b[0m\u001b[0;34m)\u001b[0m\u001b[0;34m\u001b[0m\u001b[0;34m\u001b[0m\u001b[0m\n",
      "\u001b[0;32m~/anaconda3/lib/python3.7/site-packages/sklearn/utils/validation.py\u001b[0m in \u001b[0;36minner_f\u001b[0;34m(*args, **kwargs)\u001b[0m\n\u001b[1;32m     70\u001b[0m                           FutureWarning)\n\u001b[1;32m     71\u001b[0m         \u001b[0mkwargs\u001b[0m\u001b[0;34m.\u001b[0m\u001b[0mupdate\u001b[0m\u001b[0;34m(\u001b[0m\u001b[0;34m{\u001b[0m\u001b[0mk\u001b[0m\u001b[0;34m:\u001b[0m \u001b[0marg\u001b[0m \u001b[0;32mfor\u001b[0m \u001b[0mk\u001b[0m\u001b[0;34m,\u001b[0m \u001b[0marg\u001b[0m \u001b[0;32min\u001b[0m \u001b[0mzip\u001b[0m\u001b[0;34m(\u001b[0m\u001b[0msig\u001b[0m\u001b[0;34m.\u001b[0m\u001b[0mparameters\u001b[0m\u001b[0;34m,\u001b[0m \u001b[0margs\u001b[0m\u001b[0;34m)\u001b[0m\u001b[0;34m}\u001b[0m\u001b[0;34m)\u001b[0m\u001b[0;34m\u001b[0m\u001b[0;34m\u001b[0m\u001b[0m\n\u001b[0;32m---> 72\u001b[0;31m         \u001b[0;32mreturn\u001b[0m \u001b[0mf\u001b[0m\u001b[0;34m(\u001b[0m\u001b[0;34m**\u001b[0m\u001b[0mkwargs\u001b[0m\u001b[0;34m)\u001b[0m\u001b[0;34m\u001b[0m\u001b[0;34m\u001b[0m\u001b[0m\n\u001b[0m\u001b[1;32m     73\u001b[0m     \u001b[0;32mreturn\u001b[0m \u001b[0minner_f\u001b[0m\u001b[0;34m\u001b[0m\u001b[0;34m\u001b[0m\u001b[0m\n\u001b[1;32m     74\u001b[0m \u001b[0;34m\u001b[0m\u001b[0m\n",
      "\u001b[0;32m~/anaconda3/lib/python3.7/site-packages/sklearn/model_selection/_search.py\u001b[0m in \u001b[0;36mfit\u001b[0;34m(self, X, y, groups, **fit_params)\u001b[0m\n\u001b[1;32m    763\u001b[0m             \u001b[0mrefit_start_time\u001b[0m \u001b[0;34m=\u001b[0m \u001b[0mtime\u001b[0m\u001b[0;34m.\u001b[0m\u001b[0mtime\u001b[0m\u001b[0;34m(\u001b[0m\u001b[0;34m)\u001b[0m\u001b[0;34m\u001b[0m\u001b[0;34m\u001b[0m\u001b[0m\n\u001b[1;32m    764\u001b[0m             \u001b[0;32mif\u001b[0m \u001b[0my\u001b[0m \u001b[0;32mis\u001b[0m \u001b[0;32mnot\u001b[0m \u001b[0;32mNone\u001b[0m\u001b[0;34m:\u001b[0m\u001b[0;34m\u001b[0m\u001b[0;34m\u001b[0m\u001b[0m\n\u001b[0;32m--> 765\u001b[0;31m                 \u001b[0mself\u001b[0m\u001b[0;34m.\u001b[0m\u001b[0mbest_estimator_\u001b[0m\u001b[0;34m.\u001b[0m\u001b[0mfit\u001b[0m\u001b[0;34m(\u001b[0m\u001b[0mX\u001b[0m\u001b[0;34m,\u001b[0m \u001b[0my\u001b[0m\u001b[0;34m,\u001b[0m \u001b[0;34m**\u001b[0m\u001b[0mfit_params\u001b[0m\u001b[0;34m)\u001b[0m\u001b[0;34m\u001b[0m\u001b[0;34m\u001b[0m\u001b[0m\n\u001b[0m\u001b[1;32m    766\u001b[0m             \u001b[0;32melse\u001b[0m\u001b[0;34m:\u001b[0m\u001b[0;34m\u001b[0m\u001b[0;34m\u001b[0m\u001b[0m\n\u001b[1;32m    767\u001b[0m                 \u001b[0mself\u001b[0m\u001b[0;34m.\u001b[0m\u001b[0mbest_estimator_\u001b[0m\u001b[0;34m.\u001b[0m\u001b[0mfit\u001b[0m\u001b[0;34m(\u001b[0m\u001b[0mX\u001b[0m\u001b[0;34m,\u001b[0m \u001b[0;34m**\u001b[0m\u001b[0mfit_params\u001b[0m\u001b[0;34m)\u001b[0m\u001b[0;34m\u001b[0m\u001b[0;34m\u001b[0m\u001b[0m\n",
      "\u001b[0;32m~/anaconda3/lib/python3.7/site-packages/sklearn/pipeline.py\u001b[0m in \u001b[0;36mfit\u001b[0;34m(self, X, y, **fit_params)\u001b[0m\n\u001b[1;32m    333\u001b[0m             \u001b[0;32mif\u001b[0m \u001b[0mself\u001b[0m\u001b[0;34m.\u001b[0m\u001b[0m_final_estimator\u001b[0m \u001b[0;34m!=\u001b[0m \u001b[0;34m'passthrough'\u001b[0m\u001b[0;34m:\u001b[0m\u001b[0;34m\u001b[0m\u001b[0;34m\u001b[0m\u001b[0m\n\u001b[1;32m    334\u001b[0m                 \u001b[0mfit_params_last_step\u001b[0m \u001b[0;34m=\u001b[0m \u001b[0mfit_params_steps\u001b[0m\u001b[0;34m[\u001b[0m\u001b[0mself\u001b[0m\u001b[0;34m.\u001b[0m\u001b[0msteps\u001b[0m\u001b[0;34m[\u001b[0m\u001b[0;34m-\u001b[0m\u001b[0;36m1\u001b[0m\u001b[0;34m]\u001b[0m\u001b[0;34m[\u001b[0m\u001b[0;36m0\u001b[0m\u001b[0;34m]\u001b[0m\u001b[0;34m]\u001b[0m\u001b[0;34m\u001b[0m\u001b[0;34m\u001b[0m\u001b[0m\n\u001b[0;32m--> 335\u001b[0;31m                 \u001b[0mself\u001b[0m\u001b[0;34m.\u001b[0m\u001b[0m_final_estimator\u001b[0m\u001b[0;34m.\u001b[0m\u001b[0mfit\u001b[0m\u001b[0;34m(\u001b[0m\u001b[0mXt\u001b[0m\u001b[0;34m,\u001b[0m \u001b[0my\u001b[0m\u001b[0;34m,\u001b[0m \u001b[0;34m**\u001b[0m\u001b[0mfit_params_last_step\u001b[0m\u001b[0;34m)\u001b[0m\u001b[0;34m\u001b[0m\u001b[0;34m\u001b[0m\u001b[0m\n\u001b[0m\u001b[1;32m    336\u001b[0m \u001b[0;34m\u001b[0m\u001b[0m\n\u001b[1;32m    337\u001b[0m         \u001b[0;32mreturn\u001b[0m \u001b[0mself\u001b[0m\u001b[0;34m\u001b[0m\u001b[0;34m\u001b[0m\u001b[0m\n",
      "\u001b[0;32m~/anaconda3/lib/python3.7/site-packages/sklearn/naive_bayes.py\u001b[0m in \u001b[0;36mfit\u001b[0;34m(self, X, y, sample_weight)\u001b[0m\n\u001b[1;32m    208\u001b[0m         \u001b[0mself\u001b[0m \u001b[0;34m:\u001b[0m \u001b[0mobject\u001b[0m\u001b[0;34m\u001b[0m\u001b[0;34m\u001b[0m\u001b[0m\n\u001b[1;32m    209\u001b[0m         \"\"\"\n\u001b[0;32m--> 210\u001b[0;31m         \u001b[0mX\u001b[0m\u001b[0;34m,\u001b[0m \u001b[0my\u001b[0m \u001b[0;34m=\u001b[0m \u001b[0mself\u001b[0m\u001b[0;34m.\u001b[0m\u001b[0m_validate_data\u001b[0m\u001b[0;34m(\u001b[0m\u001b[0mX\u001b[0m\u001b[0;34m,\u001b[0m \u001b[0my\u001b[0m\u001b[0;34m)\u001b[0m\u001b[0;34m\u001b[0m\u001b[0;34m\u001b[0m\u001b[0m\n\u001b[0m\u001b[1;32m    211\u001b[0m         \u001b[0my\u001b[0m \u001b[0;34m=\u001b[0m \u001b[0mcolumn_or_1d\u001b[0m\u001b[0;34m(\u001b[0m\u001b[0my\u001b[0m\u001b[0;34m,\u001b[0m \u001b[0mwarn\u001b[0m\u001b[0;34m=\u001b[0m\u001b[0;32mTrue\u001b[0m\u001b[0;34m)\u001b[0m\u001b[0;34m\u001b[0m\u001b[0;34m\u001b[0m\u001b[0m\n\u001b[1;32m    212\u001b[0m         return self._partial_fit(X, y, np.unique(y), _refit=True,\n",
      "\u001b[0;32m~/anaconda3/lib/python3.7/site-packages/sklearn/base.py\u001b[0m in \u001b[0;36m_validate_data\u001b[0;34m(self, X, y, reset, validate_separately, **check_params)\u001b[0m\n\u001b[1;32m    430\u001b[0m                 \u001b[0my\u001b[0m \u001b[0;34m=\u001b[0m \u001b[0mcheck_array\u001b[0m\u001b[0;34m(\u001b[0m\u001b[0my\u001b[0m\u001b[0;34m,\u001b[0m \u001b[0;34m**\u001b[0m\u001b[0mcheck_y_params\u001b[0m\u001b[0;34m)\u001b[0m\u001b[0;34m\u001b[0m\u001b[0;34m\u001b[0m\u001b[0m\n\u001b[1;32m    431\u001b[0m             \u001b[0;32melse\u001b[0m\u001b[0;34m:\u001b[0m\u001b[0;34m\u001b[0m\u001b[0;34m\u001b[0m\u001b[0m\n\u001b[0;32m--> 432\u001b[0;31m                 \u001b[0mX\u001b[0m\u001b[0;34m,\u001b[0m \u001b[0my\u001b[0m \u001b[0;34m=\u001b[0m \u001b[0mcheck_X_y\u001b[0m\u001b[0;34m(\u001b[0m\u001b[0mX\u001b[0m\u001b[0;34m,\u001b[0m \u001b[0my\u001b[0m\u001b[0;34m,\u001b[0m \u001b[0;34m**\u001b[0m\u001b[0mcheck_params\u001b[0m\u001b[0;34m)\u001b[0m\u001b[0;34m\u001b[0m\u001b[0;34m\u001b[0m\u001b[0m\n\u001b[0m\u001b[1;32m    433\u001b[0m             \u001b[0mout\u001b[0m \u001b[0;34m=\u001b[0m \u001b[0mX\u001b[0m\u001b[0;34m,\u001b[0m \u001b[0my\u001b[0m\u001b[0;34m\u001b[0m\u001b[0;34m\u001b[0m\u001b[0m\n\u001b[1;32m    434\u001b[0m \u001b[0;34m\u001b[0m\u001b[0m\n",
      "\u001b[0;32m~/anaconda3/lib/python3.7/site-packages/sklearn/utils/validation.py\u001b[0m in \u001b[0;36minner_f\u001b[0;34m(*args, **kwargs)\u001b[0m\n\u001b[1;32m     70\u001b[0m                           FutureWarning)\n\u001b[1;32m     71\u001b[0m         \u001b[0mkwargs\u001b[0m\u001b[0;34m.\u001b[0m\u001b[0mupdate\u001b[0m\u001b[0;34m(\u001b[0m\u001b[0;34m{\u001b[0m\u001b[0mk\u001b[0m\u001b[0;34m:\u001b[0m \u001b[0marg\u001b[0m \u001b[0;32mfor\u001b[0m \u001b[0mk\u001b[0m\u001b[0;34m,\u001b[0m \u001b[0marg\u001b[0m \u001b[0;32min\u001b[0m \u001b[0mzip\u001b[0m\u001b[0;34m(\u001b[0m\u001b[0msig\u001b[0m\u001b[0;34m.\u001b[0m\u001b[0mparameters\u001b[0m\u001b[0;34m,\u001b[0m \u001b[0margs\u001b[0m\u001b[0;34m)\u001b[0m\u001b[0;34m}\u001b[0m\u001b[0;34m)\u001b[0m\u001b[0;34m\u001b[0m\u001b[0;34m\u001b[0m\u001b[0m\n\u001b[0;32m---> 72\u001b[0;31m         \u001b[0;32mreturn\u001b[0m \u001b[0mf\u001b[0m\u001b[0;34m(\u001b[0m\u001b[0;34m**\u001b[0m\u001b[0mkwargs\u001b[0m\u001b[0;34m)\u001b[0m\u001b[0;34m\u001b[0m\u001b[0;34m\u001b[0m\u001b[0m\n\u001b[0m\u001b[1;32m     73\u001b[0m     \u001b[0;32mreturn\u001b[0m \u001b[0minner_f\u001b[0m\u001b[0;34m\u001b[0m\u001b[0;34m\u001b[0m\u001b[0m\n\u001b[1;32m     74\u001b[0m \u001b[0;34m\u001b[0m\u001b[0m\n",
      "\u001b[0;32m~/anaconda3/lib/python3.7/site-packages/sklearn/utils/validation.py\u001b[0m in \u001b[0;36mcheck_X_y\u001b[0;34m(X, y, accept_sparse, accept_large_sparse, dtype, order, copy, force_all_finite, ensure_2d, allow_nd, multi_output, ensure_min_samples, ensure_min_features, y_numeric, estimator)\u001b[0m\n\u001b[1;32m    800\u001b[0m                     \u001b[0mensure_min_samples\u001b[0m\u001b[0;34m=\u001b[0m\u001b[0mensure_min_samples\u001b[0m\u001b[0;34m,\u001b[0m\u001b[0;34m\u001b[0m\u001b[0;34m\u001b[0m\u001b[0m\n\u001b[1;32m    801\u001b[0m                     \u001b[0mensure_min_features\u001b[0m\u001b[0;34m=\u001b[0m\u001b[0mensure_min_features\u001b[0m\u001b[0;34m,\u001b[0m\u001b[0;34m\u001b[0m\u001b[0;34m\u001b[0m\u001b[0m\n\u001b[0;32m--> 802\u001b[0;31m                     estimator=estimator)\n\u001b[0m\u001b[1;32m    803\u001b[0m     \u001b[0;32mif\u001b[0m \u001b[0mmulti_output\u001b[0m\u001b[0;34m:\u001b[0m\u001b[0;34m\u001b[0m\u001b[0;34m\u001b[0m\u001b[0m\n\u001b[1;32m    804\u001b[0m         y = check_array(y, accept_sparse='csr', force_all_finite=True,\n",
      "\u001b[0;32m~/anaconda3/lib/python3.7/site-packages/sklearn/utils/validation.py\u001b[0m in \u001b[0;36minner_f\u001b[0;34m(*args, **kwargs)\u001b[0m\n\u001b[1;32m     70\u001b[0m                           FutureWarning)\n\u001b[1;32m     71\u001b[0m         \u001b[0mkwargs\u001b[0m\u001b[0;34m.\u001b[0m\u001b[0mupdate\u001b[0m\u001b[0;34m(\u001b[0m\u001b[0;34m{\u001b[0m\u001b[0mk\u001b[0m\u001b[0;34m:\u001b[0m \u001b[0marg\u001b[0m \u001b[0;32mfor\u001b[0m \u001b[0mk\u001b[0m\u001b[0;34m,\u001b[0m \u001b[0marg\u001b[0m \u001b[0;32min\u001b[0m \u001b[0mzip\u001b[0m\u001b[0;34m(\u001b[0m\u001b[0msig\u001b[0m\u001b[0;34m.\u001b[0m\u001b[0mparameters\u001b[0m\u001b[0;34m,\u001b[0m \u001b[0margs\u001b[0m\u001b[0;34m)\u001b[0m\u001b[0;34m}\u001b[0m\u001b[0;34m)\u001b[0m\u001b[0;34m\u001b[0m\u001b[0;34m\u001b[0m\u001b[0m\n\u001b[0;32m---> 72\u001b[0;31m         \u001b[0;32mreturn\u001b[0m \u001b[0mf\u001b[0m\u001b[0;34m(\u001b[0m\u001b[0;34m**\u001b[0m\u001b[0mkwargs\u001b[0m\u001b[0;34m)\u001b[0m\u001b[0;34m\u001b[0m\u001b[0;34m\u001b[0m\u001b[0m\n\u001b[0m\u001b[1;32m     73\u001b[0m     \u001b[0;32mreturn\u001b[0m \u001b[0minner_f\u001b[0m\u001b[0;34m\u001b[0m\u001b[0;34m\u001b[0m\u001b[0m\n\u001b[1;32m     74\u001b[0m \u001b[0;34m\u001b[0m\u001b[0m\n",
      "\u001b[0;32m~/anaconda3/lib/python3.7/site-packages/sklearn/utils/validation.py\u001b[0m in \u001b[0;36mcheck_array\u001b[0;34m(array, accept_sparse, accept_large_sparse, dtype, order, copy, force_all_finite, ensure_2d, allow_nd, ensure_min_samples, ensure_min_features, estimator)\u001b[0m\n\u001b[1;32m    576\u001b[0m                                       \u001b[0mdtype\u001b[0m\u001b[0;34m=\u001b[0m\u001b[0mdtype\u001b[0m\u001b[0;34m,\u001b[0m \u001b[0mcopy\u001b[0m\u001b[0;34m=\u001b[0m\u001b[0mcopy\u001b[0m\u001b[0;34m,\u001b[0m\u001b[0;34m\u001b[0m\u001b[0;34m\u001b[0m\u001b[0m\n\u001b[1;32m    577\u001b[0m                                       \u001b[0mforce_all_finite\u001b[0m\u001b[0;34m=\u001b[0m\u001b[0mforce_all_finite\u001b[0m\u001b[0;34m,\u001b[0m\u001b[0;34m\u001b[0m\u001b[0;34m\u001b[0m\u001b[0m\n\u001b[0;32m--> 578\u001b[0;31m                                       accept_large_sparse=accept_large_sparse)\n\u001b[0m\u001b[1;32m    579\u001b[0m     \u001b[0;32melse\u001b[0m\u001b[0;34m:\u001b[0m\u001b[0;34m\u001b[0m\u001b[0;34m\u001b[0m\u001b[0m\n\u001b[1;32m    580\u001b[0m         \u001b[0;31m# If np.array(..) gives ComplexWarning, then we convert the warning\u001b[0m\u001b[0;34m\u001b[0m\u001b[0;34m\u001b[0m\u001b[0;34m\u001b[0m\u001b[0m\n",
      "\u001b[0;32m~/anaconda3/lib/python3.7/site-packages/sklearn/utils/validation.py\u001b[0m in \u001b[0;36m_ensure_sparse_format\u001b[0;34m(spmatrix, accept_sparse, dtype, copy, force_all_finite, accept_large_sparse)\u001b[0m\n\u001b[1;32m    351\u001b[0m \u001b[0;34m\u001b[0m\u001b[0m\n\u001b[1;32m    352\u001b[0m     \u001b[0;32mif\u001b[0m \u001b[0maccept_sparse\u001b[0m \u001b[0;32mis\u001b[0m \u001b[0;32mFalse\u001b[0m\u001b[0;34m:\u001b[0m\u001b[0;34m\u001b[0m\u001b[0;34m\u001b[0m\u001b[0m\n\u001b[0;32m--> 353\u001b[0;31m         raise TypeError('A sparse matrix was passed, but dense '\n\u001b[0m\u001b[1;32m    354\u001b[0m                         \u001b[0;34m'data is required. Use X.toarray() to '\u001b[0m\u001b[0;34m\u001b[0m\u001b[0;34m\u001b[0m\u001b[0m\n\u001b[1;32m    355\u001b[0m                         'convert to a dense numpy array.')\n",
      "\u001b[0;31mTypeError\u001b[0m: A sparse matrix was passed, but dense data is required. Use X.toarray() to convert to a dense numpy array."
     ]
    }
   ],
   "source": [
    "gnb_pipe = Pipeline(steps=pipe.steps + [\n",
    "    (\"clf\", GaussianNB()),\n",
    "])\n",
    "\n",
    "gnb_param_distributions = {\n",
    "    **param_distributions,\n",
    "    \"clf__var_smoothing\" : stats.uniform(1e-11, 1e-6),\n",
    "}\n",
    "\n",
    "rscv = RandomizedSearchCV(\n",
    "    estimator=gnb_pipe,\n",
    "    param_distributions=gnb_param_distributions,\n",
    "    n_iter=1000,\n",
    "    n_jobs=-1,\n",
    "    cv=10,\n",
    "    verbose=True,\n",
    "    random_state=0,\n",
    ")\n",
    "\n",
    "X_train, X_test, y_train, y_test = train_test_split(\n",
    "    X,\n",
    "    y,\n",
    "    test_size=0.3,\n",
    "    stratify=y,\n",
    "    random_state=0\n",
    ")\n",
    "\n",
    "X_train, X_validate, y_train, y_validate = train_test_split(\n",
    "    X_train,\n",
    "    y_train,\n",
    "    test_size=0.3,\n",
    "    stratify=y_train,\n",
    "    random_state=0\n",
    ")\n",
    "\n",
    "rscv.fit(X_train, y_train)\n",
    "\n",
    "print(f\"Best RSCV Score: {rscv.best_score_}\")"
   ]
  },
  {
   "cell_type": "code",
   "execution_count": 168,
   "metadata": {
    "hidden": true
   },
   "outputs": [
    {
     "name": "stdout",
     "output_type": "stream",
     "text": [
      "Training Report\n",
      "----------------------------------------------------------------------\n",
      "              precision    recall  f1-score   support\n",
      "\n",
      "       Ghost       0.89      0.84      0.86        57\n",
      "       Ghoul       0.78      0.71      0.74        63\n",
      "      Goblin       0.61      0.69      0.65        61\n",
      "\n",
      "    accuracy                           0.75       181\n",
      "   macro avg       0.76      0.75      0.75       181\n",
      "weighted avg       0.76      0.75      0.75       181\n",
      "\n",
      "\n",
      "\n",
      "Validation Report\n",
      "----------------------------------------------------------------------\n",
      "              precision    recall  f1-score   support\n",
      "\n",
      "       Ghost       0.73      0.88      0.80        25\n",
      "       Ghoul       0.77      0.74      0.75        27\n",
      "      Goblin       0.59      0.50      0.54        26\n",
      "\n",
      "    accuracy                           0.71        78\n",
      "   macro avg       0.70      0.71      0.70        78\n",
      "weighted avg       0.70      0.71      0.70        78\n",
      "\n",
      "\n",
      "\n",
      "Testing Report\n",
      "----------------------------------------------------------------------\n",
      "              precision    recall  f1-score   support\n",
      "\n",
      "       Ghost       0.78      0.80      0.79        35\n",
      "       Ghoul       0.77      0.69      0.73        39\n",
      "      Goblin       0.54      0.58      0.56        38\n",
      "\n",
      "    accuracy                           0.69       112\n",
      "   macro avg       0.70      0.69      0.69       112\n",
      "weighted avg       0.69      0.69      0.69       112\n",
      "\n"
     ]
    }
   ],
   "source": [
    "print(\"Training Report\")\n",
    "print(\"-\"*70)\n",
    "print(classification_report(y_train, rscv.predict(X_train)))\n",
    "print()\n",
    "print()\n",
    "print(\"Validation Report\")\n",
    "print(\"-\"*70)\n",
    "print(classification_report(y_validate, rscv.predict(X_validate)))\n",
    "print()\n",
    "print()\n",
    "print(\"Testing Report\")\n",
    "print(\"-\"*70)\n",
    "print(classification_report(y_test, rscv.predict(X_test)))"
   ]
  },
  {
   "cell_type": "code",
   "execution_count": 169,
   "metadata": {
    "hidden": true
   },
   "outputs": [
    {
     "data": {
      "text/plain": [
       "['gaussiannb.joblib']"
      ]
     },
     "execution_count": 169,
     "metadata": {},
     "output_type": "execute_result"
    }
   ],
   "source": [
    "joblib.dump(rscv.best_estimator_, \"gaussiannb.joblib\", compress=True)"
   ]
  },
  {
   "cell_type": "markdown",
   "metadata": {},
   "source": [
    "# Confusion Matrix"
   ]
  },
  {
   "cell_type": "markdown",
   "metadata": {},
   "source": [
    "## Logistic Regression"
   ]
  },
  {
   "cell_type": "code",
   "execution_count": 7,
   "metadata": {},
   "outputs": [
    {
     "data": {
      "text/html": [
       "<div>\n",
       "<style scoped>\n",
       "    .dataframe tbody tr th:only-of-type {\n",
       "        vertical-align: middle;\n",
       "    }\n",
       "\n",
       "    .dataframe tbody tr th {\n",
       "        vertical-align: top;\n",
       "    }\n",
       "\n",
       "    .dataframe thead tr th {\n",
       "        text-align: left;\n",
       "    }\n",
       "</style>\n",
       "<table border=\"1\" class=\"dataframe\">\n",
       "  <thead>\n",
       "    <tr>\n",
       "      <th></th>\n",
       "      <th></th>\n",
       "      <th colspan=\"3\" halign=\"left\">Predicted</th>\n",
       "    </tr>\n",
       "    <tr>\n",
       "      <th></th>\n",
       "      <th></th>\n",
       "      <th>Ghost</th>\n",
       "      <th>Ghoul</th>\n",
       "      <th>Goblin</th>\n",
       "    </tr>\n",
       "  </thead>\n",
       "  <tbody>\n",
       "    <tr>\n",
       "      <th rowspan=\"3\" valign=\"top\">Actual</th>\n",
       "      <th>Ghost</th>\n",
       "      <td>109</td>\n",
       "      <td>0</td>\n",
       "      <td>8</td>\n",
       "    </tr>\n",
       "    <tr>\n",
       "      <th>Ghoul</th>\n",
       "      <td>3</td>\n",
       "      <td>109</td>\n",
       "      <td>17</td>\n",
       "    </tr>\n",
       "    <tr>\n",
       "      <th>Goblin</th>\n",
       "      <td>21</td>\n",
       "      <td>39</td>\n",
       "      <td>65</td>\n",
       "    </tr>\n",
       "  </tbody>\n",
       "</table>\n",
       "</div>"
      ],
      "text/plain": [
       "              Predicted             \n",
       "                  Ghost Ghoul Goblin\n",
       "Actual Ghost        109     0      8\n",
       "       Ghoul          3   109     17\n",
       "       Goblin        21    39     65"
      ]
     },
     "execution_count": 7,
     "metadata": {},
     "output_type": "execute_result"
    }
   ],
   "source": [
    "logreg = joblib.load(\"logreg.joblib\")\n",
    "\n",
    "logreg_predict = logreg.predict(X)\n",
    "\n",
    "logreg_predict = pd.Series(logreg_predict, index=X.index)\n",
    "\n",
    "logreg_confusion_matrix = pd.DataFrame(\n",
    "    confusion_matrix(y_true=y, y_pred=logreg_predict),\n",
    "    index=pd.MultiIndex.from_product([[\"Actual\"], y.sort_values().unique()]),\n",
    "    columns=pd.MultiIndex.from_product([[\"Predicted\"], y.sort_values().unique()]),\n",
    ")\n",
    "\n",
    "logreg_confusion_matrix"
   ]
  },
  {
   "cell_type": "code",
   "execution_count": 15,
   "metadata": {},
   "outputs": [],
   "source": [
    "logreg_XyP = pd.concat([X, y, logreg_predict], axis=1)\n",
    "\n",
    "logreg_XyP.rename(columns={\n",
    "    0 : \"predicted\"\n",
    "}, inplace=True)"
   ]
  },
  {
   "cell_type": "code",
   "execution_count": 17,
   "metadata": {},
   "outputs": [
    {
     "data": {
      "text/plain": [
       "<AxesSubplot:xlabel='type', ylabel='hair_length'>"
      ]
     },
     "execution_count": 17,
     "metadata": {},
     "output_type": "execute_result"
    },
    {
     "data": {
      "image/png": "[encoded data removed]",
      "text/plain": [
       "<Figure size 1152x576 with 1 Axes>"
      ]
     },
     "metadata": {
      "needs_background": "light"
     },
     "output_type": "display_data"
    }
   ],
   "source": [
    "fig = plt.figure(figsize=(16,8))\n",
    "\n",
    "ax = fig.add_subplot(111)\n",
    "\n",
    "sns.boxplot(\n",
    "    data=logreg_XyP,\n",
    "    x=\"type\",\n",
    "    y=\"hair_length\",\n",
    "    hue=\"predicted\",\n",
    "    ax=ax\n",
    ")"
   ]
  },
  {
   "cell_type": "code",
   "execution_count": 18,
   "metadata": {},
   "outputs": [
    {
     "data": {
      "text/plain": [
       "<AxesSubplot:xlabel='type', ylabel='has_soul'>"
      ]
     },
     "execution_count": 18,
     "metadata": {},
     "output_type": "execute_result"
    },
    {
     "data": {
      "image/png": "[encoded data removed]",
      "text/plain": [
       "<Figure size 1152x576 with 1 Axes>"
      ]
     },
     "metadata": {
      "needs_background": "light"
     },
     "output_type": "display_data"
    }
   ],
   "source": [
    "fig = plt.figure(figsize=(16,8))\n",
    "\n",
    "ax = fig.add_subplot(111)\n",
    "\n",
    "sns.boxplot(\n",
    "    data=logreg_XyP,\n",
    "    x=\"type\",\n",
    "    y=\"has_soul\",\n",
    "    hue=\"predicted\",\n",
    "    ax=ax\n",
    ")"
   ]
  },
  {
   "cell_type": "code",
   "execution_count": 90,
   "metadata": {},
   "outputs": [],
   "source": [
    "logreg_XyP['averages'] = np.mean([\n",
    "    logreg_XyP.bone_length,\n",
    "    logreg_XyP.rotting_flesh,\n",
    "    logreg_XyP.hair_length,\n",
    "    logreg_XyP.has_soul,\n",
    "], axis=0)\n",
    "\n",
    "logreg_XyP['medians'] = np.median([\n",
    "    logreg_XyP.bone_length,\n",
    "    logreg_XyP.rotting_flesh,\n",
    "    logreg_XyP.hair_length,\n",
    "    logreg_XyP.has_soul,\n",
    "], axis=0)"
   ]
  },
  {
   "cell_type": "code",
   "execution_count": 94,
   "metadata": {},
   "outputs": [
    {
     "data": {
      "text/plain": [
       "<AxesSubplot:xlabel='type', ylabel='medians'>"
      ]
     },
     "execution_count": 94,
     "metadata": {},
     "output_type": "execute_result"
    },
    {
     "data": {
      "image/png": "[encoded data removed]",
      "text/plain": [
       "<Figure size 1152x576 with 1 Axes>"
      ]
     },
     "metadata": {
      "needs_background": "light"
     },
     "output_type": "display_data"
    }
   ],
   "source": [
    "fig = plt.figure(figsize=(16,8))\n",
    "\n",
    "ax = fig.add_subplot(111)\n",
    "\n",
    "sns.boxplot(\n",
    "    data=logreg_XyP,\n",
    "    x=\"type\",\n",
    "    y=\"medians\",\n",
    "    hue=\"predicted\",\n",
    "    ax=ax\n",
    ")"
   ]
  }
 ],
 "metadata": {
  "kernelspec": {
   "display_name": "Python 3",
   "language": "python",
   "name": "python3"
  },
  "language_info": {
   "codemirror_mode": {
    "name": "ipython",
    "version": 3
   },
   "file_extension": ".py",
   "mimetype": "text/x-python",
   "name": "python",
   "nbconvert_exporter": "python",
   "pygments_lexer": "ipython3",
   "version": "3.7.6"
  }
 },
 "nbformat": 4,
 "nbformat_minor": 2
}
