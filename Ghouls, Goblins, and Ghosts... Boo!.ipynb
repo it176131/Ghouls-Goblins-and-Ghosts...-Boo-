{
 "cells": [
  {
   "cell_type": "markdown",
   "metadata": {
    "heading_collapsed": true
   },
   "source": [
    "# Imports"
   ]
  },
  {
   "cell_type": "markdown",
   "metadata": {
    "heading_collapsed": true,
    "hidden": true
   },
   "source": [
    "## Standards"
   ]
  },
  {
   "cell_type": "code",
   "execution_count": null,
   "metadata": {
    "hidden": true
   },
   "outputs": [],
   "source": [
    "# analysis\n",
    "import pandas as pd\n",
    "import numpy as np\n",
    "from scipy import stats\n",
    "\n",
    "# visuals\n",
    "import matplotlib.pyplot as plt\n",
    "import seaborn as sns; sns.set()\n",
    "\n",
    "# network\n",
    "import networkx as nx\n",
    "import community\n",
    "\n",
    "from itertools import combinations\n",
    "\n",
    "%matplotlib inline"
   ]
  },
  {
   "cell_type": "markdown",
   "metadata": {
    "heading_collapsed": true,
    "hidden": true
   },
   "source": [
    "## Machine Learning"
   ]
  },
  {
   "cell_type": "markdown",
   "metadata": {
    "heading_collapsed": true,
    "hidden": true
   },
   "source": [
    "### Preprocessing"
   ]
  },
  {
   "cell_type": "code",
   "execution_count": null,
   "metadata": {
    "hidden": true
   },
   "outputs": [],
   "source": [
    "# base\n",
    "from sklearn.base import TransformerMixin, BaseEstimator\n",
    "\n",
    "# pipeline\n",
    "from sklearn.pipeline import Pipeline, FeatureUnion\n",
    "\n",
    "# compose\n",
    "from sklearn.compose import ColumnTransformer\n",
    "\n",
    "# preprocessing\n",
    "from sklearn.preprocessing import MinMaxScaler, RobustScaler, PolynomialFeatures, OneHotEncoder\n",
    "\n",
    "# feature selection\n",
    "from sklearn.feature_selection import VarianceThreshold, SelectPercentile, mutual_info_classif, f_classif, RFE, RFECV\n",
    "\n",
    "# decomposition\n",
    "from sklearn.decomposition import PCA, TruncatedSVD, SparsePCA\n",
    "\n",
    "# manifold\n",
    "from sklearn.manifold import Isomap, TSNE, MDS, SpectralEmbedding"
   ]
  },
  {
   "cell_type": "markdown",
   "metadata": {
    "heading_collapsed": true,
    "hidden": true
   },
   "source": [
    "### Modeling"
   ]
  },
  {
   "cell_type": "code",
   "execution_count": null,
   "metadata": {
    "hidden": true
   },
   "outputs": [],
   "source": [
    "# cluster\n",
    "from sklearn.cluster import OPTICS, AffinityPropagation, AgglomerativeClustering, DBSCAN, KMeans, MeanShift\n",
    "\n",
    "# ensemble\n",
    "from sklearn.ensemble import AdaBoostClassifier, GradientBoostingClassifier, ExtraTreesClassifier, RandomForestClassifier\n",
    "\n",
    "# logistic regression\n",
    "from sklearn.linear_model import LogisticRegression, SGDClassifier\n",
    "\n",
    "# naive bayes\n",
    "from sklearn.naive_bayes import MultinomialNB\n",
    "\n",
    "# process classifier\n",
    "from sklearn.gaussian_process import GaussianProcessClassifier\n",
    "\n",
    "# neighbors\n",
    "from sklearn.neighbors import KNeighborsClassifier\n",
    "\n",
    "# neural networks\n",
    "from sklearn.neural_network import MLPClassifier\n",
    "\n",
    "# support vector machines\n",
    "from sklearn.svm import LinearSVC, SVC\n",
    "\n",
    "# multiclass\n",
    "from sklearn.multiclass import OneVsRestClassifier\n",
    "\n",
    "# train test split, tuning, and score validation\n",
    "from sklearn.model_selection import train_test_split, cross_val_score, GridSearchCV, RandomizedSearchCV\n",
    "\n",
    "# classification report\n",
    "from sklearn.metrics import classification_report"
   ]
  },
  {
   "cell_type": "markdown",
   "metadata": {
    "heading_collapsed": true
   },
   "source": [
    "# Classifiers"
   ]
  },
  {
   "cell_type": "code",
   "execution_count": null,
   "metadata": {
    "hidden": true
   },
   "outputs": [],
   "source": [
    "classifiers = {\n",
    "    'AdaBoostClassifier' : AdaBoostClassifier(random_state=0),\n",
    "    'GradientBoostingClassifier' : GradientBoostingClassifier(random_state=0),\n",
    "    'ExtraTreesClassifier' : ExtraTreesClassifier(n_estimators=100, random_state=0),\n",
    "    'RandomForestClassifier' : RandomForestClassifier(n_estimators=100, random_state=0),\n",
    "    'LogisticRegression' : LogisticRegression(solver='lbfgs', multi_class='auto', random_state=0, max_iter=500),\n",
    "    'MultinomialNB' : MultinomialNB(),\n",
    "    'GaussianProcessClassifier' : GaussianProcessClassifier(random_state=0),\n",
    "    'KNeighborsClassifier' : KNeighborsClassifier(),\n",
    "    'MLPClassifier' : MLPClassifier(random_state=0, max_iter=1500),\n",
    "    'LinearSVC' : LinearSVC(random_state=0, max_iter=2000),\n",
    "    'SVC' : SVC(gamma='scale', random_state=0),\n",
    "    'SGDClassifier' : SGDClassifier(random_state=0),\n",
    "}"
   ]
  },
  {
   "cell_type": "markdown",
   "metadata": {
    "heading_collapsed": true
   },
   "source": [
    "# Ensembles"
   ]
  },
  {
   "cell_type": "code",
   "execution_count": null,
   "metadata": {
    "hidden": true
   },
   "outputs": [],
   "source": [
    "ensembles = {\n",
    "    'AdaBoostClassifier' : AdaBoostClassifier(random_state=0),\n",
    "    'GradientBoostingClassifier' : GradientBoostingClassifier(random_state=0),\n",
    "    'ExtraTreesClassifier' : ExtraTreesClassifier(n_estimators=100, random_state=0),\n",
    "    'RandomForestClassifier' : RandomForestClassifier(n_estimators=100, random_state=0),\n",
    "}"
   ]
  },
  {
   "cell_type": "markdown",
   "metadata": {
    "heading_collapsed": true
   },
   "source": [
    "# Data"
   ]
  },
  {
   "cell_type": "code",
   "execution_count": null,
   "metadata": {
    "hidden": true
   },
   "outputs": [],
   "source": [
    "# read training data\n",
    "train = pd.read_csv(\"train.csv\")"
   ]
  },
  {
   "cell_type": "code",
   "execution_count": null,
   "metadata": {
    "hidden": true
   },
   "outputs": [],
   "source": [
    "train.info()"
   ]
  },
  {
   "cell_type": "code",
   "execution_count": null,
   "metadata": {
    "hidden": true
   },
   "outputs": [],
   "source": [
    "train.describe()"
   ]
  },
  {
   "cell_type": "code",
   "execution_count": null,
   "metadata": {
    "hidden": true
   },
   "outputs": [],
   "source": [
    "train.head()"
   ]
  },
  {
   "cell_type": "markdown",
   "metadata": {
    "heading_collapsed": true
   },
   "source": [
    "# Color"
   ]
  },
  {
   "cell_type": "code",
   "execution_count": null,
   "metadata": {
    "hidden": true
   },
   "outputs": [],
   "source": [
    "# get dummy color features\n",
    "train = train.join(pd.get_dummies(train.color))"
   ]
  },
  {
   "cell_type": "code",
   "execution_count": null,
   "metadata": {
    "hidden": true
   },
   "outputs": [],
   "source": [
    "# # create empty list to hold combinations of colors\n",
    "# c = []\n",
    "\n",
    "# # create combinations of color features (min 2, max nunique colors - 1)\n",
    "# for i in range(2, train.color.nunique()):\n",
    "#     els = [list(x) for x in combinations(train.color.unique(), i)]\n",
    "#     c.extend(els)\n",
    "\n",
    "# # sum the combinations and add new column to train\n",
    "# for i in c:\n",
    "#     train['_'.join(i)] = train[i].sum(axis=1)"
   ]
  },
  {
   "cell_type": "markdown",
   "metadata": {
    "heading_collapsed": true
   },
   "source": [
    "# EDA"
   ]
  },
  {
   "cell_type": "markdown",
   "metadata": {
    "heading_collapsed": true,
    "hidden": true
   },
   "source": [
    "## `train_test_split`"
   ]
  },
  {
   "cell_type": "code",
   "execution_count": null,
   "metadata": {
    "hidden": true
   },
   "outputs": [],
   "source": [
    "X = train.drop(columns=[\n",
    "    'id',\n",
    "    'color',\n",
    "    'type',\n",
    "])\n",
    "\n",
    "y = train.type\n",
    "\n",
    "X_train, X_test, y_train, y_test = train_test_split(X, y, test_size=0.3, random_state=0)"
   ]
  },
  {
   "cell_type": "markdown",
   "metadata": {
    "heading_collapsed": true,
    "hidden": true
   },
   "source": [
    "## Pipe"
   ]
  },
  {
   "cell_type": "markdown",
   "metadata": {
    "heading_collapsed": true,
    "hidden": true
   },
   "source": [
    "### Cleaner"
   ]
  },
  {
   "cell_type": "code",
   "execution_count": null,
   "metadata": {
    "hidden": true
   },
   "outputs": [],
   "source": [
    "pipe_cleaner = Pipeline([\n",
    "    ('poly', PolynomialFeatures()),\n",
    "    ('scaler', RobustScaler()),\n",
    "    ('vt', VarianceThreshold()),\n",
    "])\n",
    "\n",
    "cleaner_params = {\n",
    "    'cleaner__poly__degree' : stats.distributions.randint(2, 4+1),\n",
    "    'cleaner__poly__include_bias' : [True, False],\n",
    "    'cleaner__poly__interaction_only' : [True, False],\n",
    "#     'cleaner__scaler__with_centering' : [True, False],\n",
    "#     'cleaner__scaler__with_scaling' : [True, False],\n",
    "#     'cleaner__scaler__quantile_range' : [(25.0, 75.0), (0.0, 100.0), (10.0, 90.0)],\n",
    "    'cleaner__vt__threshold' : stats.distributions.uniform(0.0, 2e-2),\n",
    "}"
   ]
  },
  {
   "cell_type": "markdown",
   "metadata": {
    "heading_collapsed": true,
    "hidden": true
   },
   "source": [
    "### Decomposition"
   ]
  },
  {
   "cell_type": "code",
   "execution_count": null,
   "metadata": {
    "hidden": true
   },
   "outputs": [],
   "source": [
    "pipe_decomp = Pipeline([\n",
    "    ('union', FeatureUnion([\n",
    "        ('pca', PCA(random_state=0)),\n",
    "        ('svd', TruncatedSVD(random_state=0))\n",
    "    ], n_jobs=-1))\n",
    "])\n",
    "\n",
    "decomp_params = {\n",
    "    'decomp__union__pca__n_components' : stats.distributions.uniform(0.5, 0.5),\n",
    "    'decomp__union__pca__whiten' : [True, False],\n",
    "#     'decomp__union__pca__svd_solver' : ['auto', 'full', 'arpack', 'randomized'],\n",
    "    'decomp__union__pca__tol' : stats.distributions.uniform(0.0, 0.5),\n",
    "    'decomp__union__svd__n_components' : stats.distributions.randint(2, 50),\n",
    "    'decomp__union__svd__algorithm' : ['randomized', 'arpack'],\n",
    "    'decomp__union__svd__n_iter' : stats.distributions.randint(5, 15),\n",
    "    'decomp__union__svd__tol' : stats.distributions.uniform(0.0, 0.5),\n",
    "}"
   ]
  },
  {
   "cell_type": "markdown",
   "metadata": {
    "heading_collapsed": true,
    "hidden": true
   },
   "source": [
    "### Unsupervised Clustering"
   ]
  },
  {
   "cell_type": "code",
   "execution_count": null,
   "metadata": {
    "hidden": true
   },
   "outputs": [],
   "source": [
    "class ModelTransformer(TransformerMixin, BaseEstimator):\n",
    "    \n",
    "    def __init__(self, model):\n",
    "        self.model = model\n",
    "    \n",
    "    def fit(self, *args, **kwargs):\n",
    "        self.model.fit(*args, **kwargs)\n",
    "        return self\n",
    "    \n",
    "    def transform(self, X, **transform_params):\n",
    "        return pd.DataFrame(self.model.fit_predict(X))\n",
    "\n",
    "pipe_cluster = Pipeline([\n",
    "    ('union', FeatureUnion([\n",
    "        ('optics', ModelTransformer(OPTICS(n_jobs=-1))),\n",
    "        ('dbscan', ModelTransformer(DBSCAN(n_jobs=-1))),\n",
    "        ('kmeans', ModelTransformer(KMeans(random_state=0, n_jobs=-1))),\n",
    "        ('meanshift', ModelTransformer(MeanShift(n_jobs=-1))),\n",
    "        ('agglom', ModelTransformer(AgglomerativeClustering())),\n",
    "        ('affinity', ModelTransformer(AffinityPropagation()))\n",
    "    ], n_jobs=-1)),\n",
    "    ('ohe', OneHotEncoder())\n",
    "])\n",
    "\n",
    "cluster_params = {\n",
    "    'cluster__union__optics__model__min_samples' : stats.distributions.randint(2, 11),\n",
    "    'cluster__union__optics__model__max_eps' : stats.distributions.uniform(1e-3, 3),\n",
    "    'cluster__union__optics__model__p' : stats.distributions.randint(1,3),\n",
    "    'cluster__union__optics__model__cluster_method' : ['xi', 'dbscan'],\n",
    "    'cluster__union__optics__model__eps' : stats.distributions.uniform(1e-3, 3),\n",
    "    'cluster__union__optics__model__xi' : stats.distributions.uniform(0, 1),\n",
    "    'cluster__union__optics__model__predecessor_correction' : [True, False],\n",
    "    'cluster__union__optics__model__min_cluster_size' : [None] + list(range(2, 11)),\n",
    "    'cluster__union__optics__model__algorithm' : ['auto', 'ball_tree', 'kd_tree', 'brute'],\n",
    "    'cluster__union__optics__model__leaf_size' : stats.distributions.randint(20, 41),\n",
    "    'cluster__union__dbscan__model__eps' : stats.distributions.uniform(1e-3, 3),\n",
    "    'cluster__union__dbscan__model__min_samples' : stats.distributions.randint(2, 11),\n",
    "    'cluster__union__dbscan__model__algorithm' : ['auto', 'ball_tree', 'kd_tree', 'brute'],\n",
    "    'cluster__union__dbscan__model__leaf_size' : stats.distributions.randint(20, 41),\n",
    "    'cluster__union__dbscan__model__p' : [None] + list(np.random.uniform(1e-3, 5, size=20)),\n",
    "    'cluster__union__kmeans__model__n_clusters' : stats.distributions.randint(2, 12),\n",
    "    'cluster__union__kmeans__model__n_init' : stats.distributions.randint(10, 101),\n",
    "    'cluster__union__kmeans__model__max_iter' : stats.distributions.randint(300, 501),\n",
    "    'cluster__union__kmeans__model__tol' : stats.distributions.uniform(1e-6, 1e-1),\n",
    "    'cluster__union__kmeans__model__algorithm' : ['auto', 'full', 'elkan'],\n",
    "    'cluster__union__meanshift__model__bandwidth' : [None] + list(np.random.uniform(1e-3, 5, size=20)),\n",
    "    'cluster__union__meanshift__model__cluster_all' : [True, False],\n",
    "    'cluster__union__meanshift__model__max_iter' : stats.distributions.randint(300, 501),\n",
    "    'cluster__union__agglom__model__affinity' : ['euclidean', 'l1', 'l2', 'manhattan', 'cosine'],\n",
    "    'cluster__union__agglom__model__compute_full_tree' : ['auto', True, False],\n",
    "    'cluster__union__agglom__model__linkage' : ['ward', 'complete', 'average', 'single'],\n",
    "    'cluster__union__affinity__model__damping' : stats.distributions.uniform(0.5, 0.5),\n",
    "    'cluster__union__affinity__model__max_iter' : stats.distributions.randint(200, 401),\n",
    "    'cluster__union__affinity__model__convergence_iter' : stats.distributions.randint(10, 31),\n",
    "    'cluster__ohe__sparse' : [False],\n",
    "}"
   ]
  },
  {
   "cell_type": "markdown",
   "metadata": {
    "heading_collapsed": true,
    "hidden": true
   },
   "source": [
    "### Classifier Swapping"
   ]
  },
  {
   "cell_type": "code",
   "execution_count": null,
   "metadata": {
    "hidden": true
   },
   "outputs": [],
   "source": [
    "class ClfSwap(BaseEstimator):\n",
    "    \n",
    "    def __init__(self, estimator = SGDClassifier()):\n",
    "        \"\"\"\n",
    "        A Custom BaseEstimator that can switch between classifiers.\n",
    "        :param estimator: sklearn object - The classifier\n",
    "        \"\"\" \n",
    "        \n",
    "        self.estimator = estimator\n",
    "\n",
    "    def fit(self, X, y=None, **kwargs):\n",
    "        self.estimator.fit(X, y)\n",
    "        return self\n",
    "\n",
    "\n",
    "    def predict(self, X, y=None):\n",
    "        return self.estimator.predict(X)\n",
    "\n",
    "\n",
    "    def predict_proba(self, X):\n",
    "        return self.estimator.predict_proba(X)\n",
    "\n",
    "\n",
    "    def score(self, X, y):\n",
    "        return self.estimator.score(X, y)"
   ]
  },
  {
   "cell_type": "code",
   "execution_count": null,
   "metadata": {
    "hidden": true
   },
   "outputs": [],
   "source": [
    "pre_params = {**cleaner_params, **decomp_params, **cluster_params}\n",
    "\n",
    "pipe_clf = Pipeline([\n",
    "    ('cleaner', pipe_cleaner),\n",
    "    ('decomp', pipe_decomp),\n",
    "    ('cluster', pipe_cluster),\n",
    "    ('clf', OneVsRestClassifier(ClfSwap(), n_jobs=-1)),\n",
    "])\n",
    "\n",
    "clf_params = [\n",
    "    {\n",
    "        'clf__estimator__estimator' : [AdaBoostClassifier(random_state=0)],\n",
    "        **pre_params,\n",
    "        'clf__estimator__estimator__n_estimators' : stats.distributions.randint(50, 200),\n",
    "        'clf__estimator__estimator__learning_rate' : stats.distributions.uniform(0.5, 1),\n",
    "        'clf__estimator__estimator__algorithm' : ['SAMME', 'SAMME.R'],\n",
    "    },\n",
    "    {\n",
    "        'clf__estimator__estimator' : [GradientBoostingClassifier(random_state=0)],\n",
    "        **pre_params,\n",
    "        'clf__estimator__estimator__loss' : ['deviance', 'exponential'],\n",
    "        'clf__estimator__estimator__learning_rate' : stats.distributions.uniform(0.5, 1),\n",
    "        'clf__estimator__estimator__n_estimators' : stats.distributions.randint(100, 400),\n",
    "        'clf__estimator__estimator__subsample' : stats.distributions.uniform(0.5, 0.5),\n",
    "        'clf__estimator__estimator__criterion' : ['friedman_mse', 'mse', 'mae'],\n",
    "        'clf__estimator__estimator__min_samples_split' : stats.distributions.randint(2, 4),\n",
    "        'clf__estimator__estimator__min_samples_leaf' : stats.distributions.randint(1, 4),\n",
    "        'clf__estimator__estimator__max_depth' : stats.distributions.randint(1,10),\n",
    "        'clf__estimator__estimator__max_features' : ['sqrt', 'log2', None]\n",
    "    },\n",
    "    {\n",
    "        'clf__estimator__estimator' : [ExtraTreesClassifier(random_state=0)],\n",
    "        **pre_params\n",
    "    },\n",
    "    {\n",
    "        'clf__estimator__estimator' : [RandomForestClassifier(random_state=0)],\n",
    "        **pre_params\n",
    "    },\n",
    "    {\n",
    "        'clf__estimator__estimator' : [LogisticRegression(random_state=0)],\n",
    "        **pre_params\n",
    "    },\n",
    "    {\n",
    "        'clf__estimator__estimator' : [MultinomialNB()],\n",
    "        **pre_params\n",
    "    },\n",
    "    {\n",
    "        'clf__estimator__estimator' : [GaussianProcessClassifier(random_state=0)],\n",
    "        **pre_params\n",
    "    },\n",
    "    {\n",
    "        'clf__estimator__estimator' : [KNeighborsClassifier()],\n",
    "        **pre_params\n",
    "    },\n",
    "    {\n",
    "        'clf__estimator__estimator' : [MLPClassifier(random_state=0)],\n",
    "        **pre_params\n",
    "    },\n",
    "    {\n",
    "        'clf__estimator__estimator' : [LinearSVC(random_state=0)],\n",
    "        **pre_params\n",
    "    },\n",
    "    {\n",
    "        'clf__estimator__estimator' : [SVC(random_state=0)],\n",
    "        **pre_params\n",
    "    },\n",
    "    {\n",
    "        'clf__estimator__estimator' : [SGDClassifier(random_state=0)],\n",
    "        **pre_params\n",
    "    },\n",
    "]"
   ]
  },
  {
   "cell_type": "markdown",
   "metadata": {
    "heading_collapsed": true,
    "hidden": true
   },
   "source": [
    "### RandomSearchCV"
   ]
  },
  {
   "cell_type": "code",
   "execution_count": null,
   "metadata": {
    "hidden": true
   },
   "outputs": [],
   "source": [
    "rcv = RandomizedSearchCV(\n",
    "    estimator=pipe_clf,\n",
    "    param_distributions=clf_params,\n",
    "    n_iter=10,\n",
    "    n_jobs=-1,\n",
    "    cv=10,\n",
    "    random_state=0,\n",
    "    verbose=5,\n",
    ")"
   ]
  },
  {
   "cell_type": "code",
   "execution_count": null,
   "metadata": {
    "hidden": true
   },
   "outputs": [],
   "source": [
    "rcv.fit(X_train, y_train)"
   ]
  },
  {
   "cell_type": "code",
   "execution_count": null,
   "metadata": {
    "hidden": true
   },
   "outputs": [],
   "source": [
    "rcv.best_score_"
   ]
  },
  {
   "cell_type": "code",
   "execution_count": null,
   "metadata": {
    "hidden": true,
    "scrolled": true
   },
   "outputs": [],
   "source": [
    "# pipe = Pipeline([\n",
    "#     ('cleaner', pipe_cleaner),\n",
    "#     ('decomp', pipe_decomp),\n",
    "#     ('cluster', pipe_cluster),\n",
    "#     ('clf', pipe_clf),\n",
    "# ], verbose=True)"
   ]
  },
  {
   "cell_type": "code",
   "execution_count": null,
   "metadata": {
    "hidden": true
   },
   "outputs": [],
   "source": [
    "# pipe.set_params(**params)\n",
    "\n",
    "# _ = pipe.fit_transform(X)"
   ]
  },
  {
   "cell_type": "code",
   "execution_count": null,
   "metadata": {
    "hidden": true
   },
   "outputs": [],
   "source": [
    "# fig, ax = plt.subplots(figsize=(16,8))\n",
    "\n",
    "# sns.scatterplot(\n",
    "#     data=pd.DataFrame(_).join(train.type),\n",
    "#     x=0,\n",
    "#     y=1,\n",
    "#     hue='type',\n",
    "#     ax=ax,\n",
    "#     s=100\n",
    "# );"
   ]
  },
  {
   "cell_type": "code",
   "execution_count": null,
   "metadata": {
    "hidden": true
   },
   "outputs": [],
   "source": [
    "fig, ax = plt.subplots(figsize=(16,8))\n",
    "\n",
    "sns.scatterplot(\n",
    "    data=pd.DataFrame(_).join(train.type),\n",
    "    x=0,\n",
    "    y=1,\n",
    "    hue='type',\n",
    "    ax=ax,\n",
    "    s=100\n",
    ");"
   ]
  },
  {
   "cell_type": "markdown",
   "metadata": {
    "heading_collapsed": true,
    "hidden": true
   },
   "source": [
    "## `bone_length`"
   ]
  },
  {
   "cell_type": "code",
   "execution_count": null,
   "metadata": {
    "hidden": true
   },
   "outputs": [],
   "source": [
    "fig, ax = plt.subplots(figsize=(16,8))\n",
    "\n",
    "sns.boxenplot(\n",
    "    data=train,\n",
    "    x='type',\n",
    "    y='bone_length',\n",
    "    saturation=0.2\n",
    ")\n",
    "\n",
    "sns.swarmplot(\n",
    "    data=train,\n",
    "    x='type',\n",
    "    y='bone_length',\n",
    ");"
   ]
  },
  {
   "cell_type": "code",
   "execution_count": null,
   "metadata": {
    "hidden": true
   },
   "outputs": [],
   "source": [
    "fig, ax = plt.subplots(figsize=(16,8))\n",
    "\n",
    "for ggg in train.type.unique():\n",
    "\n",
    "    sns.kdeplot(\n",
    "        data=train.loc[train.type == ggg, 'bone_length'],\n",
    "        cumulative=True,\n",
    "        cut=0,\n",
    "        label=ggg,\n",
    "        ax=ax,\n",
    "    )"
   ]
  },
  {
   "cell_type": "code",
   "execution_count": null,
   "metadata": {
    "hidden": true
   },
   "outputs": [],
   "source": [
    "lower_bone_length = train.groupby([\n",
    "    'type',\n",
    "]).bone_length.min().sort_values()\n",
    "\n",
    "lower_bone_length"
   ]
  },
  {
   "cell_type": "code",
   "execution_count": null,
   "metadata": {
    "hidden": true
   },
   "outputs": [],
   "source": [
    "train['bone_length_lower'] = train.bone_length < lower_bone_length.iloc[1]"
   ]
  },
  {
   "cell_type": "code",
   "execution_count": null,
   "metadata": {
    "hidden": true
   },
   "outputs": [],
   "source": [
    "upper_bone_length = train.groupby([\n",
    "    'type',\n",
    "]).bone_length.max().sort_values()\n",
    "\n",
    "upper_bone_length"
   ]
  },
  {
   "cell_type": "code",
   "execution_count": null,
   "metadata": {
    "hidden": true
   },
   "outputs": [],
   "source": [
    "train['bone_length_upper'] = train.bone_length > upper_bone_length.iloc[1]"
   ]
  },
  {
   "cell_type": "markdown",
   "metadata": {
    "heading_collapsed": true,
    "hidden": true
   },
   "source": [
    "## `rotting_flesh`"
   ]
  },
  {
   "cell_type": "code",
   "execution_count": null,
   "metadata": {
    "hidden": true
   },
   "outputs": [],
   "source": [
    "fig, ax = plt.subplots(figsize=(16,8))\n",
    "\n",
    "sns.boxenplot(\n",
    "    data=train,\n",
    "    x='type',\n",
    "    y='rotting_flesh',\n",
    "    saturation=0.2\n",
    ")\n",
    "\n",
    "sns.swarmplot(\n",
    "    data=train,\n",
    "    x='type',\n",
    "    y='rotting_flesh',\n",
    ");"
   ]
  },
  {
   "cell_type": "code",
   "execution_count": null,
   "metadata": {
    "hidden": true
   },
   "outputs": [],
   "source": [
    "fig, ax = plt.subplots(figsize=(16,8))\n",
    "\n",
    "for ggg in train.type.unique():\n",
    "\n",
    "    sns.kdeplot(\n",
    "        data=train.loc[train.type == ggg, 'rotting_flesh'],\n",
    "        cumulative=True,\n",
    "        cut=0,\n",
    "        label=ggg,\n",
    "        ax=ax,\n",
    "    )"
   ]
  },
  {
   "cell_type": "code",
   "execution_count": null,
   "metadata": {
    "hidden": true
   },
   "outputs": [],
   "source": [
    "lower_rotting_flesh = train.groupby([\n",
    "    'type',\n",
    "]).rotting_flesh.min().sort_values()\n",
    "\n",
    "lower_rotting_flesh"
   ]
  },
  {
   "cell_type": "code",
   "execution_count": null,
   "metadata": {
    "hidden": true
   },
   "outputs": [],
   "source": [
    "train['rotting_flesh_lower'] = train.rotting_flesh < lower_rotting_flesh.iloc[1]"
   ]
  },
  {
   "cell_type": "code",
   "execution_count": null,
   "metadata": {
    "hidden": true
   },
   "outputs": [],
   "source": [
    "upper_rotting_flesh = train.groupby([\n",
    "    'type',\n",
    "]).rotting_flesh.max().sort_values()\n",
    "\n",
    "upper_rotting_flesh"
   ]
  },
  {
   "cell_type": "code",
   "execution_count": null,
   "metadata": {
    "hidden": true
   },
   "outputs": [],
   "source": [
    "train['rotting_flesh_upper'] = train.rotting_flesh > upper_rotting_flesh.iloc[1]"
   ]
  },
  {
   "cell_type": "markdown",
   "metadata": {
    "heading_collapsed": true,
    "hidden": true
   },
   "source": [
    "## `hair_length`"
   ]
  },
  {
   "cell_type": "code",
   "execution_count": null,
   "metadata": {
    "hidden": true
   },
   "outputs": [],
   "source": [
    "fig, ax = plt.subplots(figsize=(16,8))\n",
    "\n",
    "sns.boxenplot(\n",
    "    data=train,\n",
    "    x='type',\n",
    "    y='hair_length',\n",
    "    saturation=0.2\n",
    ")\n",
    "\n",
    "sns.swarmplot(\n",
    "    data=train,\n",
    "    x='type',\n",
    "    y='hair_length',\n",
    ");"
   ]
  },
  {
   "cell_type": "code",
   "execution_count": null,
   "metadata": {
    "hidden": true
   },
   "outputs": [],
   "source": [
    "fig, ax = plt.subplots(figsize=(16,8))\n",
    "\n",
    "for ggg in train.type.unique():\n",
    "\n",
    "    sns.kdeplot(\n",
    "        data=train.loc[train.type == ggg, 'hair_length'],\n",
    "        cumulative=True,\n",
    "        cut=0,\n",
    "        label=ggg,\n",
    "        ax=ax,\n",
    "    )"
   ]
  },
  {
   "cell_type": "code",
   "execution_count": null,
   "metadata": {
    "hidden": true
   },
   "outputs": [],
   "source": [
    "lower_hair_length = train.groupby([\n",
    "    'type',\n",
    "]).hair_length.min().sort_values()\n",
    "\n",
    "lower_hair_length"
   ]
  },
  {
   "cell_type": "code",
   "execution_count": null,
   "metadata": {
    "hidden": true
   },
   "outputs": [],
   "source": [
    "train['hair_length_lower'] = train.hair_length < lower_hair_length.iloc[1]"
   ]
  },
  {
   "cell_type": "code",
   "execution_count": null,
   "metadata": {
    "hidden": true
   },
   "outputs": [],
   "source": [
    "upper_hair_length = train.groupby([\n",
    "    'type',\n",
    "]).hair_length.max().sort_values()\n",
    "\n",
    "upper_hair_length"
   ]
  },
  {
   "cell_type": "code",
   "execution_count": null,
   "metadata": {
    "hidden": true
   },
   "outputs": [],
   "source": [
    "train['hair_length_upper'] = train.hair_length > upper_hair_length.iloc[1]"
   ]
  },
  {
   "cell_type": "markdown",
   "metadata": {
    "heading_collapsed": true,
    "hidden": true
   },
   "source": [
    "## `has_soul`"
   ]
  },
  {
   "cell_type": "code",
   "execution_count": null,
   "metadata": {
    "hidden": true
   },
   "outputs": [],
   "source": [
    "fig, ax = plt.subplots(figsize=(16,8))\n",
    "\n",
    "sns.boxenplot(\n",
    "    data=train,\n",
    "    x='type',\n",
    "    y='has_soul',\n",
    "    saturation=0.2\n",
    ")\n",
    "\n",
    "sns.swarmplot(\n",
    "    data=train,\n",
    "    x='type',\n",
    "    y='has_soul',\n",
    ");"
   ]
  },
  {
   "cell_type": "code",
   "execution_count": null,
   "metadata": {
    "hidden": true
   },
   "outputs": [],
   "source": [
    "fig, ax = plt.subplots(figsize=(16,8))\n",
    "\n",
    "for ggg in train.type.unique():\n",
    "\n",
    "    sns.kdeplot(\n",
    "        data=train.loc[train.type == ggg, 'has_soul'],\n",
    "        cumulative=True,\n",
    "        cut=0,\n",
    "        label=ggg,\n",
    "        ax=ax,\n",
    "    )"
   ]
  },
  {
   "cell_type": "code",
   "execution_count": null,
   "metadata": {
    "hidden": true
   },
   "outputs": [],
   "source": [
    "lower_has_soul = train.groupby([\n",
    "    'type',\n",
    "]).has_soul.min().sort_values()\n",
    "\n",
    "lower_has_soul"
   ]
  },
  {
   "cell_type": "code",
   "execution_count": null,
   "metadata": {
    "hidden": true
   },
   "outputs": [],
   "source": [
    "train['has_soul_lower'] = train.has_soul < lower_has_soul.iloc[1]"
   ]
  },
  {
   "cell_type": "code",
   "execution_count": null,
   "metadata": {
    "hidden": true
   },
   "outputs": [],
   "source": [
    "upper_has_soul = train.groupby([\n",
    "    'type',\n",
    "]).has_soul.max().sort_values()\n",
    "\n",
    "upper_has_soul"
   ]
  },
  {
   "cell_type": "code",
   "execution_count": null,
   "metadata": {
    "hidden": true
   },
   "outputs": [],
   "source": [
    "train['has_soul_upper'] = train.has_soul > upper_has_soul.iloc[1]"
   ]
  },
  {
   "cell_type": "markdown",
   "metadata": {
    "heading_collapsed": true,
    "hidden": true
   },
   "source": [
    "## Color Counts"
   ]
  },
  {
   "cell_type": "code",
   "execution_count": null,
   "metadata": {
    "hidden": true
   },
   "outputs": [],
   "source": [
    "fig, ax = plt.subplots(figsize=(16,8))\n",
    "\n",
    "sns.heatmap(\n",
    "    data=train.groupby([\n",
    "        'type',\n",
    "        'color',\n",
    "    ]).id.nunique().unstack().apply(lambda x : x / x.sum(), axis=1).round(4)*100,\n",
    "    ax=ax,\n",
    "    annot=True,\n",
    "    annot_kws={\n",
    "        'fontsize' : 12,\n",
    "    },\n",
    "    cmap='Reds',\n",
    "    fmt='g',\n",
    ");"
   ]
  },
  {
   "cell_type": "markdown",
   "metadata": {
    "heading_collapsed": true,
    "hidden": true
   },
   "source": [
    "### `bone_length`"
   ]
  },
  {
   "cell_type": "code",
   "execution_count": null,
   "metadata": {
    "hidden": true
   },
   "outputs": [],
   "source": [
    "fig, ax = plt.subplots(figsize=(16,8))\n",
    "\n",
    "sns.boxenplot(\n",
    "    data=train,\n",
    "    x='color',\n",
    "    y='bone_length',\n",
    "    hue='type',\n",
    "    ax=ax,\n",
    "    saturation=0.2,\n",
    ")\n",
    "\n",
    "sns.swarmplot(\n",
    "    data=train,\n",
    "    x='color',\n",
    "    y='bone_length',\n",
    "    hue='type',\n",
    "    ax=ax,\n",
    "    dodge=True,\n",
    ");"
   ]
  },
  {
   "cell_type": "code",
   "execution_count": null,
   "metadata": {
    "hidden": true
   },
   "outputs": [],
   "source": [
    "lower_color_bone_length = train.groupby([\n",
    "    'color',\n",
    "    'type',\n",
    "]).bone_length.min()\n",
    "\n",
    "lower_color_bone_length"
   ]
  },
  {
   "cell_type": "code",
   "execution_count": null,
   "metadata": {
    "hidden": true
   },
   "outputs": [],
   "source": [
    "for color in lower_color_bone_length.index.levels[0]:\n",
    "    lcbl = lower_color_bone_length.loc[color].sort_values().iloc[1]\n",
    "    train[f'{color}_bone_length_lower'] = (train.color == color) & (train.bone_length < lcbl)"
   ]
  },
  {
   "cell_type": "code",
   "execution_count": null,
   "metadata": {
    "hidden": true
   },
   "outputs": [],
   "source": [
    "upper_color_bone_length = train.groupby([\n",
    "    'color',\n",
    "    'type',\n",
    "]).bone_length.max()\n",
    "\n",
    "upper_color_bone_length"
   ]
  },
  {
   "cell_type": "code",
   "execution_count": null,
   "metadata": {
    "hidden": true
   },
   "outputs": [],
   "source": [
    "for color in upper_color_bone_length.index.levels[0]:\n",
    "    ucbl = upper_color_bone_length.loc[color].sort_values().iloc[1]\n",
    "    train[f'{color}_bone_length_upper'] = (train.color == color) & (train.bone_length > ucbl)"
   ]
  },
  {
   "cell_type": "markdown",
   "metadata": {
    "heading_collapsed": true,
    "hidden": true
   },
   "source": [
    "### `rotting_flesh`"
   ]
  },
  {
   "cell_type": "code",
   "execution_count": null,
   "metadata": {
    "hidden": true
   },
   "outputs": [],
   "source": [
    "fig, ax = plt.subplots(figsize=(16,8))\n",
    "\n",
    "sns.boxenplot(\n",
    "    data=train,\n",
    "    x='color',\n",
    "    y='rotting_flesh',\n",
    "    hue='type',\n",
    "    ax=ax,\n",
    "    saturation=0.2,\n",
    ")\n",
    "\n",
    "sns.swarmplot(\n",
    "    data=train,\n",
    "    x='color',\n",
    "    y='rotting_flesh',\n",
    "    hue='type',\n",
    "    ax=ax,\n",
    "    dodge=True,\n",
    ");"
   ]
  },
  {
   "cell_type": "code",
   "execution_count": null,
   "metadata": {
    "hidden": true
   },
   "outputs": [],
   "source": [
    "lower_color_rotting_flesh = train.groupby([\n",
    "    'color',\n",
    "    'type',\n",
    "]).rotting_flesh.min()\n",
    "\n",
    "lower_color_rotting_flesh"
   ]
  },
  {
   "cell_type": "code",
   "execution_count": null,
   "metadata": {
    "hidden": true
   },
   "outputs": [],
   "source": [
    "for color in lower_color_rotting_flesh.index.levels[0]:\n",
    "    lcbl = lower_color_rotting_flesh.loc[color].sort_values().iloc[1]\n",
    "    train[f'{color}_rotting_flesh_lower'] = (train.color == color) & (train.rotting_flesh < lcbl)"
   ]
  },
  {
   "cell_type": "code",
   "execution_count": null,
   "metadata": {
    "hidden": true
   },
   "outputs": [],
   "source": [
    "upper_color_rotting_flesh = train.groupby([\n",
    "    'color',\n",
    "    'type',\n",
    "]).rotting_flesh.max()\n",
    "\n",
    "upper_color_rotting_flesh"
   ]
  },
  {
   "cell_type": "code",
   "execution_count": null,
   "metadata": {
    "hidden": true
   },
   "outputs": [],
   "source": [
    "for color in upper_color_rotting_flesh.index.levels[0]:\n",
    "    ucbl = upper_color_rotting_flesh.loc[color].sort_values().iloc[1]\n",
    "    train[f'{color}_rotting_flesh_upper'] = (train.color == color) & (train.rotting_flesh > ucbl)"
   ]
  },
  {
   "cell_type": "markdown",
   "metadata": {
    "heading_collapsed": true,
    "hidden": true
   },
   "source": [
    "### `hair_length`"
   ]
  },
  {
   "cell_type": "code",
   "execution_count": null,
   "metadata": {
    "hidden": true
   },
   "outputs": [],
   "source": [
    "fig, ax = plt.subplots(figsize=(16,8))\n",
    "\n",
    "sns.boxenplot(\n",
    "    data=train,\n",
    "    x='color',\n",
    "    y='hair_length',\n",
    "    hue='type',\n",
    "    ax=ax,\n",
    "    saturation=0.2,\n",
    ")\n",
    "\n",
    "sns.swarmplot(\n",
    "    data=train,\n",
    "    x='color',\n",
    "    y='hair_length',\n",
    "    hue='type',\n",
    "    ax=ax,\n",
    "    dodge=True,\n",
    ");"
   ]
  },
  {
   "cell_type": "code",
   "execution_count": null,
   "metadata": {
    "hidden": true
   },
   "outputs": [],
   "source": [
    "lower_color_hair_length = train.groupby([\n",
    "    'color',\n",
    "    'type',\n",
    "]).hair_length.min()\n",
    "\n",
    "lower_color_hair_length"
   ]
  },
  {
   "cell_type": "code",
   "execution_count": null,
   "metadata": {
    "hidden": true
   },
   "outputs": [],
   "source": [
    "for color in lower_color_hair_length.index.levels[0]:\n",
    "    lcbl = lower_color_hair_length.loc[color].sort_values().iloc[1]\n",
    "    train[f'{color}_hair_length_lower'] = (train.color == color) & (train.hair_length < lcbl)"
   ]
  },
  {
   "cell_type": "code",
   "execution_count": null,
   "metadata": {
    "hidden": true
   },
   "outputs": [],
   "source": [
    "upper_color_hair_length = train.groupby([\n",
    "    'color',\n",
    "    'type',\n",
    "]).hair_length.max()\n",
    "\n",
    "upper_color_hair_length"
   ]
  },
  {
   "cell_type": "code",
   "execution_count": null,
   "metadata": {
    "hidden": true
   },
   "outputs": [],
   "source": [
    "for color in upper_color_hair_length.index.levels[0]:\n",
    "    ucbl = upper_color_hair_length.loc[color].sort_values().iloc[1]\n",
    "    train[f'{color}_hair_length_upper'] = (train.color == color) & (train.hair_length > ucbl)"
   ]
  },
  {
   "cell_type": "markdown",
   "metadata": {
    "heading_collapsed": true,
    "hidden": true
   },
   "source": [
    "### `has_soul`"
   ]
  },
  {
   "cell_type": "code",
   "execution_count": null,
   "metadata": {
    "hidden": true
   },
   "outputs": [],
   "source": [
    "fig, ax = plt.subplots(figsize=(16,8))\n",
    "\n",
    "sns.boxenplot(\n",
    "    data=train,\n",
    "    x='color',\n",
    "    y='has_soul',\n",
    "    hue='type',\n",
    "    ax=ax,\n",
    "    saturation=0.2,\n",
    ")\n",
    "\n",
    "sns.swarmplot(\n",
    "    data=train,\n",
    "    x='color',\n",
    "    y='has_soul',\n",
    "    hue='type',\n",
    "    ax=ax,\n",
    "    dodge=True,\n",
    ");"
   ]
  },
  {
   "cell_type": "code",
   "execution_count": null,
   "metadata": {
    "hidden": true
   },
   "outputs": [],
   "source": [
    "lower_color_has_soul = train.groupby([\n",
    "    'color',\n",
    "    'type',\n",
    "]).has_soul.min()\n",
    "\n",
    "lower_color_has_soul"
   ]
  },
  {
   "cell_type": "code",
   "execution_count": null,
   "metadata": {
    "hidden": true
   },
   "outputs": [],
   "source": [
    "for color in lower_color_has_soul.index.levels[0]:\n",
    "    lcbl = lower_color_has_soul.loc[color].sort_values().iloc[1]\n",
    "    train[f'{color}_has_soul_lower'] = (train.color == color) & (train.has_soul < lcbl)"
   ]
  },
  {
   "cell_type": "code",
   "execution_count": null,
   "metadata": {
    "hidden": true
   },
   "outputs": [],
   "source": [
    "upper_color_has_soul = train.groupby([\n",
    "    'color',\n",
    "    'type',\n",
    "]).has_soul.max()\n",
    "\n",
    "upper_color_has_soul"
   ]
  },
  {
   "cell_type": "code",
   "execution_count": null,
   "metadata": {
    "hidden": true
   },
   "outputs": [],
   "source": [
    "for color in upper_color_has_soul.index.levels[0]:\n",
    "    ucbl = upper_color_has_soul.loc[color].sort_values().iloc[1]\n",
    "    train[f'{color}_has_soul_upper'] = (train.color == color) & (train.has_soul > ucbl)"
   ]
  },
  {
   "cell_type": "markdown",
   "metadata": {
    "heading_collapsed": true,
    "hidden": true
   },
   "source": [
    "## Continuous Interactions"
   ]
  },
  {
   "cell_type": "markdown",
   "metadata": {
    "heading_collapsed": true,
    "hidden": true
   },
   "source": [
    "### 2-way"
   ]
  },
  {
   "cell_type": "code",
   "execution_count": null,
   "metadata": {
    "hidden": true
   },
   "outputs": [],
   "source": [
    "train['bone_length_rotting_flesh'] = train.bone_length * train.rotting_flesh\n",
    "\n",
    "train['bone_length_hair_length'] = train.bone_length * train.hair_length\n",
    "\n",
    "train['bone_length_has_soul'] = train.bone_length * train.has_soul\n",
    "\n",
    "train['rotting_flesh_hair_length'] = train.rotting_flesh * train.hair_length\n",
    "\n",
    "train['rotting_flesh_has_soul'] = train.rotting_flesh * train.has_soul\n",
    "\n",
    "train['hair_length_has_soul'] = train.hair_length * train.has_soul"
   ]
  },
  {
   "cell_type": "markdown",
   "metadata": {
    "heading_collapsed": true,
    "hidden": true
   },
   "source": [
    "#### `bone_length_rotting_flesh`"
   ]
  },
  {
   "cell_type": "code",
   "execution_count": null,
   "metadata": {
    "hidden": true
   },
   "outputs": [],
   "source": [
    "fig, ax = plt.subplots(figsize=(16,8))\n",
    "\n",
    "sns.boxenplot(\n",
    "    data=train,\n",
    "    x='type',\n",
    "    y='bone_length_rotting_flesh',\n",
    "    saturation=0.2\n",
    ")\n",
    "\n",
    "sns.swarmplot(\n",
    "    data=train,\n",
    "    x='type',\n",
    "    y='bone_length_rotting_flesh',\n",
    ");"
   ]
  },
  {
   "cell_type": "code",
   "execution_count": null,
   "metadata": {
    "hidden": true
   },
   "outputs": [],
   "source": [
    "fig, ax = plt.subplots(figsize=(16,8))\n",
    "\n",
    "for ggg in train.type.unique():\n",
    "\n",
    "    sns.kdeplot(\n",
    "        data=train.loc[train.type == ggg, 'bone_length_rotting_flesh'],\n",
    "        cumulative=True,\n",
    "        cut=0,\n",
    "        label=ggg,\n",
    "        ax=ax,\n",
    "    )"
   ]
  },
  {
   "cell_type": "code",
   "execution_count": null,
   "metadata": {
    "hidden": true
   },
   "outputs": [],
   "source": [
    "lower_bone_length_rotting_flesh = train.groupby([\n",
    "    'type',\n",
    "]).bone_length_rotting_flesh.min().sort_values()\n",
    "\n",
    "lower_bone_length_rotting_flesh"
   ]
  },
  {
   "cell_type": "code",
   "execution_count": null,
   "metadata": {
    "hidden": true
   },
   "outputs": [],
   "source": [
    "train['bone_length_rotting_flesh_lower'] = train.bone_length_rotting_flesh < lower_bone_length_rotting_flesh.iloc[1]"
   ]
  },
  {
   "cell_type": "code",
   "execution_count": null,
   "metadata": {
    "hidden": true
   },
   "outputs": [],
   "source": [
    "upper_bone_length_rotting_flesh = train.groupby([\n",
    "    'type',\n",
    "]).bone_length_rotting_flesh.max().sort_values()\n",
    "\n",
    "upper_bone_length_rotting_flesh"
   ]
  },
  {
   "cell_type": "code",
   "execution_count": null,
   "metadata": {
    "hidden": true
   },
   "outputs": [],
   "source": [
    "train['bone_length_rotting_flesh_upper'] = train.bone_length_rotting_flesh > upper_bone_length_rotting_flesh.iloc[1]"
   ]
  },
  {
   "cell_type": "markdown",
   "metadata": {
    "heading_collapsed": true,
    "hidden": true
   },
   "source": [
    "#### `bone_length_hair_length`"
   ]
  },
  {
   "cell_type": "code",
   "execution_count": null,
   "metadata": {
    "hidden": true
   },
   "outputs": [],
   "source": [
    "fig, ax = plt.subplots(figsize=(16,8))\n",
    "\n",
    "sns.boxenplot(\n",
    "    data=train,\n",
    "    x='type',\n",
    "    y='bone_length_hair_length',\n",
    "    saturation=0.2\n",
    ")\n",
    "\n",
    "sns.swarmplot(\n",
    "    data=train,\n",
    "    x='type',\n",
    "    y='bone_length_hair_length',\n",
    ");"
   ]
  },
  {
   "cell_type": "code",
   "execution_count": null,
   "metadata": {
    "hidden": true
   },
   "outputs": [],
   "source": [
    "fig, ax = plt.subplots(figsize=(16,8))\n",
    "\n",
    "for ggg in train.type.unique():\n",
    "\n",
    "    sns.kdeplot(\n",
    "        data=train.loc[train.type == ggg, 'bone_length_hair_length'],\n",
    "        cumulative=True,\n",
    "        cut=0,\n",
    "        label=ggg,\n",
    "        ax=ax,\n",
    "    )"
   ]
  },
  {
   "cell_type": "code",
   "execution_count": null,
   "metadata": {
    "hidden": true
   },
   "outputs": [],
   "source": [
    "lower_bone_length_hair_length = train.groupby([\n",
    "    'type',\n",
    "]).bone_length_hair_length.min().sort_values()\n",
    "\n",
    "lower_bone_length_hair_length"
   ]
  },
  {
   "cell_type": "code",
   "execution_count": null,
   "metadata": {
    "hidden": true
   },
   "outputs": [],
   "source": [
    "train['bone_length_hair_length_lower'] = train.bone_length_hair_length < lower_bone_length_hair_length.iloc[1]"
   ]
  },
  {
   "cell_type": "code",
   "execution_count": null,
   "metadata": {
    "hidden": true
   },
   "outputs": [],
   "source": [
    "upper_bone_length_hair_length = train.groupby([\n",
    "    'type',\n",
    "]).bone_length_hair_length.max().sort_values()\n",
    "\n",
    "upper_bone_length_hair_length"
   ]
  },
  {
   "cell_type": "code",
   "execution_count": null,
   "metadata": {
    "hidden": true
   },
   "outputs": [],
   "source": [
    "train['bone_length_hair_length_upper'] = train.bone_length_hair_length > upper_bone_length_hair_length.iloc[1]"
   ]
  },
  {
   "cell_type": "markdown",
   "metadata": {
    "heading_collapsed": true,
    "hidden": true
   },
   "source": [
    "#### `bone_length_has_soul`"
   ]
  },
  {
   "cell_type": "code",
   "execution_count": null,
   "metadata": {
    "hidden": true
   },
   "outputs": [],
   "source": [
    "fig, ax = plt.subplots(figsize=(16,8))\n",
    "\n",
    "sns.boxenplot(\n",
    "    data=train,\n",
    "    x='type',\n",
    "    y='bone_length_has_soul',\n",
    "    saturation=0.2\n",
    ")\n",
    "\n",
    "sns.swarmplot(\n",
    "    data=train,\n",
    "    x='type',\n",
    "    y='bone_length_has_soul',\n",
    ");"
   ]
  },
  {
   "cell_type": "code",
   "execution_count": null,
   "metadata": {
    "hidden": true
   },
   "outputs": [],
   "source": [
    "fig, ax = plt.subplots(figsize=(16,8))\n",
    "\n",
    "for ggg in train.type.unique():\n",
    "\n",
    "    sns.kdeplot(\n",
    "        data=train.loc[train.type == ggg, 'bone_length_has_soul'],\n",
    "        cumulative=True,\n",
    "        cut=0,\n",
    "        label=ggg,\n",
    "        ax=ax,\n",
    "    )"
   ]
  },
  {
   "cell_type": "code",
   "execution_count": null,
   "metadata": {
    "hidden": true
   },
   "outputs": [],
   "source": [
    "lower_bone_length_has_soul = train.groupby([\n",
    "    'type',\n",
    "]).bone_length_has_soul.min().sort_values()\n",
    "\n",
    "lower_bone_length_has_soul"
   ]
  },
  {
   "cell_type": "code",
   "execution_count": null,
   "metadata": {
    "hidden": true
   },
   "outputs": [],
   "source": [
    "train['bone_length_has_soul_lower'] = train.bone_length_has_soul < lower_bone_length_has_soul.iloc[1]"
   ]
  },
  {
   "cell_type": "code",
   "execution_count": null,
   "metadata": {
    "hidden": true
   },
   "outputs": [],
   "source": [
    "upper_bone_length_has_soul = train.groupby([\n",
    "    'type',\n",
    "]).bone_length_has_soul.max().sort_values()\n",
    "\n",
    "upper_bone_length_has_soul"
   ]
  },
  {
   "cell_type": "code",
   "execution_count": null,
   "metadata": {
    "hidden": true
   },
   "outputs": [],
   "source": [
    "train['bone_length_has_soul_upper'] = train.bone_length_has_soul > upper_bone_length_has_soul.iloc[1]"
   ]
  },
  {
   "cell_type": "markdown",
   "metadata": {
    "heading_collapsed": true,
    "hidden": true
   },
   "source": [
    "#### `rotting_flesh_hair_length`"
   ]
  },
  {
   "cell_type": "code",
   "execution_count": null,
   "metadata": {
    "hidden": true
   },
   "outputs": [],
   "source": [
    "fig, ax = plt.subplots(figsize=(16,8))\n",
    "\n",
    "sns.boxenplot(\n",
    "    data=train,\n",
    "    x='type',\n",
    "    y='rotting_flesh_hair_length',\n",
    "    saturation=0.2\n",
    ")\n",
    "\n",
    "sns.swarmplot(\n",
    "    data=train,\n",
    "    x='type',\n",
    "    y='rotting_flesh_hair_length',\n",
    ");"
   ]
  },
  {
   "cell_type": "code",
   "execution_count": null,
   "metadata": {
    "hidden": true
   },
   "outputs": [],
   "source": [
    "fig, ax = plt.subplots(figsize=(16,8))\n",
    "\n",
    "for ggg in train.type.unique():\n",
    "\n",
    "    sns.kdeplot(\n",
    "        data=train.loc[train.type == ggg, 'rotting_flesh_hair_length'],\n",
    "        cumulative=True,\n",
    "        cut=0,\n",
    "        label=ggg,\n",
    "        ax=ax,\n",
    "    )"
   ]
  },
  {
   "cell_type": "code",
   "execution_count": null,
   "metadata": {
    "hidden": true
   },
   "outputs": [],
   "source": [
    "lower_rotting_flesh_hair_length = train.groupby([\n",
    "    'type',\n",
    "]).rotting_flesh_hair_length.min().sort_values()\n",
    "\n",
    "lower_rotting_flesh_hair_length"
   ]
  },
  {
   "cell_type": "code",
   "execution_count": null,
   "metadata": {
    "hidden": true
   },
   "outputs": [],
   "source": [
    "train['rotting_flesh_hair_length_lower'] = train.rotting_flesh_hair_length < lower_rotting_flesh_hair_length.iloc[1]"
   ]
  },
  {
   "cell_type": "code",
   "execution_count": null,
   "metadata": {
    "hidden": true
   },
   "outputs": [],
   "source": [
    "upper_rotting_flesh_hair_length = train.groupby([\n",
    "    'type',\n",
    "]).rotting_flesh_hair_length.max().sort_values()\n",
    "\n",
    "upper_rotting_flesh_hair_length"
   ]
  },
  {
   "cell_type": "code",
   "execution_count": null,
   "metadata": {
    "hidden": true
   },
   "outputs": [],
   "source": [
    "train['rotting_flesh_hair_length_upper'] = train.rotting_flesh_hair_length > upper_rotting_flesh_hair_length.iloc[1]"
   ]
  },
  {
   "cell_type": "markdown",
   "metadata": {
    "heading_collapsed": true,
    "hidden": true
   },
   "source": [
    "#### `rotting_flesh_has_soul`"
   ]
  },
  {
   "cell_type": "code",
   "execution_count": null,
   "metadata": {
    "hidden": true
   },
   "outputs": [],
   "source": [
    "fig, ax = plt.subplots(figsize=(16,8))\n",
    "\n",
    "sns.boxenplot(\n",
    "    data=train,\n",
    "    x='type',\n",
    "    y='rotting_flesh_has_soul',\n",
    "    saturation=0.2\n",
    ")\n",
    "\n",
    "sns.swarmplot(\n",
    "    data=train,\n",
    "    x='type',\n",
    "    y='rotting_flesh_has_soul',\n",
    ");"
   ]
  },
  {
   "cell_type": "code",
   "execution_count": null,
   "metadata": {
    "hidden": true
   },
   "outputs": [],
   "source": [
    "fig, ax = plt.subplots(figsize=(16,8))\n",
    "\n",
    "for ggg in train.type.unique():\n",
    "\n",
    "    sns.kdeplot(\n",
    "        data=train.loc[train.type == ggg, 'rotting_flesh_has_soul'],\n",
    "        cumulative=True,\n",
    "        cut=0,\n",
    "        label=ggg,\n",
    "        ax=ax,\n",
    "    )"
   ]
  },
  {
   "cell_type": "code",
   "execution_count": null,
   "metadata": {
    "hidden": true
   },
   "outputs": [],
   "source": [
    "lower_rotting_flesh_has_soul = train.groupby([\n",
    "    'type',\n",
    "]).rotting_flesh_has_soul.min().sort_values()\n",
    "\n",
    "lower_rotting_flesh_has_soul"
   ]
  },
  {
   "cell_type": "code",
   "execution_count": null,
   "metadata": {
    "hidden": true
   },
   "outputs": [],
   "source": [
    "train['rotting_flesh_has_soul_lower'] = train.rotting_flesh_has_soul < lower_rotting_flesh_has_soul.iloc[1]"
   ]
  },
  {
   "cell_type": "code",
   "execution_count": null,
   "metadata": {
    "hidden": true
   },
   "outputs": [],
   "source": [
    "upper_rotting_flesh_has_soul = train.groupby([\n",
    "    'type',\n",
    "]).rotting_flesh_has_soul.max().sort_values()\n",
    "\n",
    "upper_rotting_flesh_has_soul"
   ]
  },
  {
   "cell_type": "code",
   "execution_count": null,
   "metadata": {
    "hidden": true
   },
   "outputs": [],
   "source": [
    "train['rotting_flesh_has_soul_upper'] = train.rotting_flesh_has_soul > upper_rotting_flesh_has_soul.iloc[1]"
   ]
  },
  {
   "cell_type": "markdown",
   "metadata": {
    "heading_collapsed": true,
    "hidden": true
   },
   "source": [
    "#### `hair_length_has_soul`"
   ]
  },
  {
   "cell_type": "code",
   "execution_count": null,
   "metadata": {
    "hidden": true
   },
   "outputs": [],
   "source": [
    "fig, ax = plt.subplots(figsize=(16,8))\n",
    "\n",
    "sns.boxenplot(\n",
    "    data=train,\n",
    "    x='type',\n",
    "    y='hair_length_has_soul',\n",
    "    saturation=0.2\n",
    ")\n",
    "\n",
    "sns.swarmplot(\n",
    "    data=train,\n",
    "    x='type',\n",
    "    y='hair_length_has_soul',\n",
    ");"
   ]
  },
  {
   "cell_type": "code",
   "execution_count": null,
   "metadata": {
    "hidden": true
   },
   "outputs": [],
   "source": [
    "fig, ax = plt.subplots(figsize=(16,8))\n",
    "\n",
    "for ggg in train.type.unique():\n",
    "\n",
    "    sns.kdeplot(\n",
    "        data=train.loc[train.type == ggg, 'hair_length_has_soul'],\n",
    "        cumulative=True,\n",
    "        cut=0,\n",
    "        label=ggg,\n",
    "        ax=ax,\n",
    "    )"
   ]
  },
  {
   "cell_type": "code",
   "execution_count": null,
   "metadata": {
    "hidden": true
   },
   "outputs": [],
   "source": [
    "lower_hair_length_has_soul = train.groupby([\n",
    "    'type',\n",
    "]).hair_length_has_soul.min().sort_values()\n",
    "\n",
    "lower_hair_length_has_soul"
   ]
  },
  {
   "cell_type": "code",
   "execution_count": null,
   "metadata": {
    "hidden": true
   },
   "outputs": [],
   "source": [
    "train['hair_length_has_soul_lower'] = train.hair_length_has_soul < lower_hair_length_has_soul.iloc[1]"
   ]
  },
  {
   "cell_type": "code",
   "execution_count": null,
   "metadata": {
    "hidden": true
   },
   "outputs": [],
   "source": [
    "upper_hair_length_has_soul = train.groupby([\n",
    "    'type',\n",
    "]).hair_length_has_soul.max().sort_values()\n",
    "\n",
    "upper_hair_length_has_soul"
   ]
  },
  {
   "cell_type": "code",
   "execution_count": null,
   "metadata": {
    "hidden": true
   },
   "outputs": [],
   "source": [
    "train['hair_length_has_soul_upper'] = train.hair_length_has_soul > upper_hair_length_has_soul.iloc[1]"
   ]
  },
  {
   "cell_type": "markdown",
   "metadata": {
    "heading_collapsed": true,
    "hidden": true
   },
   "source": [
    "### 3-way"
   ]
  },
  {
   "cell_type": "code",
   "execution_count": null,
   "metadata": {
    "hidden": true
   },
   "outputs": [],
   "source": [
    "train['bone_length_rotting_flesh_hair_length'] = train.bone_length_rotting_flesh * train.hair_length\n",
    "\n",
    "train['bone_length_rotting_flesh_has_soul'] = train.bone_length_rotting_flesh * train.has_soul\n",
    "\n",
    "train['bone_length_hair_length_has_soul'] = train.bone_length_hair_length * train.has_soul\n",
    "\n",
    "train['rotting_flesh_hair_length_has_soul'] = train.rotting_flesh_hair_length * train.has_soul"
   ]
  },
  {
   "cell_type": "markdown",
   "metadata": {
    "heading_collapsed": true,
    "hidden": true
   },
   "source": [
    "#### `bone_length_rotting_flesh_hair_length`"
   ]
  },
  {
   "cell_type": "code",
   "execution_count": null,
   "metadata": {
    "hidden": true
   },
   "outputs": [],
   "source": [
    "fig, ax = plt.subplots(figsize=(16,8))\n",
    "\n",
    "sns.boxenplot(\n",
    "    data=train,\n",
    "    x='type',\n",
    "    y='bone_length_rotting_flesh_hair_length',\n",
    "    saturation=0.2\n",
    ")\n",
    "\n",
    "sns.swarmplot(\n",
    "    data=train,\n",
    "    x='type',\n",
    "    y='bone_length_rotting_flesh_hair_length',\n",
    ");"
   ]
  },
  {
   "cell_type": "code",
   "execution_count": null,
   "metadata": {
    "hidden": true
   },
   "outputs": [],
   "source": [
    "fig, ax = plt.subplots(figsize=(16,8))\n",
    "\n",
    "for ggg in train.type.unique():\n",
    "\n",
    "    sns.kdeplot(\n",
    "        data=train.loc[train.type == ggg, 'bone_length_rotting_flesh_hair_length'],\n",
    "        cumulative=True,\n",
    "        cut=0,\n",
    "        label=ggg,\n",
    "        ax=ax,\n",
    "    )"
   ]
  },
  {
   "cell_type": "code",
   "execution_count": null,
   "metadata": {
    "hidden": true
   },
   "outputs": [],
   "source": [
    "lower_bone_length_rotting_flesh_hair_length = train.groupby([\n",
    "    'type',\n",
    "]).bone_length_rotting_flesh_hair_length.min().sort_values()\n",
    "\n",
    "lower_bone_length_rotting_flesh_hair_length"
   ]
  },
  {
   "cell_type": "code",
   "execution_count": null,
   "metadata": {
    "hidden": true
   },
   "outputs": [],
   "source": [
    "train['bone_length_rotting_flesh_hair_length_lower'] = train.bone_length_rotting_flesh_hair_length < lower_bone_length_rotting_flesh_hair_length.iloc[1]"
   ]
  },
  {
   "cell_type": "code",
   "execution_count": null,
   "metadata": {
    "hidden": true
   },
   "outputs": [],
   "source": [
    "upper_bone_length_rotting_flesh_hair_length = train.groupby([\n",
    "    'type',\n",
    "]).bone_length_rotting_flesh_hair_length.max().sort_values()\n",
    "\n",
    "upper_bone_length_rotting_flesh_hair_length"
   ]
  },
  {
   "cell_type": "code",
   "execution_count": null,
   "metadata": {
    "hidden": true
   },
   "outputs": [],
   "source": [
    "train['bone_length_rotting_flesh_hair_length_upper'] = train.bone_length_rotting_flesh_hair_length > upper_bone_length_rotting_flesh_hair_length.iloc[1]"
   ]
  },
  {
   "cell_type": "markdown",
   "metadata": {
    "heading_collapsed": true,
    "hidden": true
   },
   "source": [
    "#### `bone_length_rotting_flesh_has_soul`"
   ]
  },
  {
   "cell_type": "code",
   "execution_count": null,
   "metadata": {
    "hidden": true
   },
   "outputs": [],
   "source": [
    "fig, ax = plt.subplots(figsize=(16,8))\n",
    "\n",
    "sns.boxenplot(\n",
    "    data=train,\n",
    "    x='type',\n",
    "    y='bone_length_rotting_flesh_has_soul',\n",
    "    saturation=0.2\n",
    ")\n",
    "\n",
    "sns.swarmplot(\n",
    "    data=train,\n",
    "    x='type',\n",
    "    y='bone_length_rotting_flesh_has_soul',\n",
    ");"
   ]
  },
  {
   "cell_type": "code",
   "execution_count": null,
   "metadata": {
    "hidden": true
   },
   "outputs": [],
   "source": [
    "fig, ax = plt.subplots(figsize=(16,8))\n",
    "\n",
    "for ggg in train.type.unique():\n",
    "\n",
    "    sns.kdeplot(\n",
    "        data=train.loc[train.type == ggg, 'bone_length_rotting_flesh_has_soul'],\n",
    "        cumulative=True,\n",
    "        cut=0,\n",
    "        label=ggg,\n",
    "        ax=ax,\n",
    "    )"
   ]
  },
  {
   "cell_type": "code",
   "execution_count": null,
   "metadata": {
    "hidden": true
   },
   "outputs": [],
   "source": [
    "lower_bone_length_rotting_flesh_has_soul = train.groupby([\n",
    "    'type',\n",
    "]).bone_length_rotting_flesh_has_soul.min().sort_values()\n",
    "\n",
    "lower_bone_length_rotting_flesh_has_soul"
   ]
  },
  {
   "cell_type": "code",
   "execution_count": null,
   "metadata": {
    "hidden": true
   },
   "outputs": [],
   "source": [
    "train['bone_length_rotting_flesh_has_soul_lower'] = train.bone_length_rotting_flesh_has_soul < lower_bone_length_rotting_flesh_has_soul.iloc[1]"
   ]
  },
  {
   "cell_type": "code",
   "execution_count": null,
   "metadata": {
    "hidden": true
   },
   "outputs": [],
   "source": [
    "upper_bone_length_rotting_flesh_has_soul = train.groupby([\n",
    "    'type',\n",
    "]).bone_length_rotting_flesh_has_soul.max().sort_values()\n",
    "\n",
    "upper_bone_length_rotting_flesh_has_soul"
   ]
  },
  {
   "cell_type": "code",
   "execution_count": null,
   "metadata": {
    "hidden": true
   },
   "outputs": [],
   "source": [
    "train['bone_length_rotting_flesh_has_soul_upper'] = train.bone_length_rotting_flesh_has_soul > upper_bone_length_rotting_flesh_has_soul.iloc[1]"
   ]
  },
  {
   "cell_type": "markdown",
   "metadata": {
    "heading_collapsed": true,
    "hidden": true
   },
   "source": [
    "#### `bone_length_hair_length_has_soul`"
   ]
  },
  {
   "cell_type": "code",
   "execution_count": null,
   "metadata": {
    "hidden": true,
    "scrolled": false
   },
   "outputs": [],
   "source": [
    "fig, ax = plt.subplots(figsize=(16,8))\n",
    "\n",
    "sns.boxenplot(\n",
    "    data=train,\n",
    "    x='type',\n",
    "    y='bone_length_hair_length_has_soul',\n",
    "    saturation=0.2\n",
    ")\n",
    "\n",
    "sns.swarmplot(\n",
    "    data=train,\n",
    "    x='type',\n",
    "    y='bone_length_hair_length_has_soul',\n",
    ");"
   ]
  },
  {
   "cell_type": "code",
   "execution_count": null,
   "metadata": {
    "hidden": true
   },
   "outputs": [],
   "source": [
    "fig, ax = plt.subplots(figsize=(16,8))\n",
    "\n",
    "for ggg in train.type.unique():\n",
    "\n",
    "    sns.kdeplot(\n",
    "        data=train.loc[train.type == ggg, 'bone_length_hair_length_has_soul'],\n",
    "        cumulative=True,\n",
    "        cut=0,\n",
    "        label=ggg,\n",
    "        ax=ax,\n",
    "    )"
   ]
  },
  {
   "cell_type": "code",
   "execution_count": null,
   "metadata": {
    "hidden": true
   },
   "outputs": [],
   "source": [
    "lower_bone_length_hair_length_has_soul = train.groupby([\n",
    "    'type',\n",
    "]).bone_length_hair_length_has_soul.min().sort_values()\n",
    "\n",
    "lower_bone_length_hair_length_has_soul"
   ]
  },
  {
   "cell_type": "code",
   "execution_count": null,
   "metadata": {
    "hidden": true
   },
   "outputs": [],
   "source": [
    "train['bone_length_hair_length_has_soul_lower'] = train.bone_length_hair_length_has_soul < lower_bone_length_hair_length_has_soul.iloc[1]"
   ]
  },
  {
   "cell_type": "code",
   "execution_count": null,
   "metadata": {
    "hidden": true
   },
   "outputs": [],
   "source": [
    "upper_bone_length_hair_length_has_soul = train.groupby([\n",
    "    'type',\n",
    "]).bone_length_hair_length_has_soul.max().sort_values()\n",
    "\n",
    "upper_bone_length_hair_length_has_soul"
   ]
  },
  {
   "cell_type": "code",
   "execution_count": null,
   "metadata": {
    "hidden": true
   },
   "outputs": [],
   "source": [
    "train['bone_length_hair_length_has_soul_upper'] = train.bone_length_hair_length_has_soul > upper_bone_length_hair_length_has_soul.iloc[1]"
   ]
  },
  {
   "cell_type": "markdown",
   "metadata": {
    "heading_collapsed": true,
    "hidden": true
   },
   "source": [
    "#### `rotting_flesh_hair_length_has_soul`"
   ]
  },
  {
   "cell_type": "code",
   "execution_count": null,
   "metadata": {
    "hidden": true,
    "scrolled": false
   },
   "outputs": [],
   "source": [
    "fig, ax = plt.subplots(figsize=(16,8))\n",
    "\n",
    "sns.boxenplot(\n",
    "    data=train,\n",
    "    x='type',\n",
    "    y='rotting_flesh_hair_length_has_soul',\n",
    "    saturation=0.2\n",
    ")\n",
    "\n",
    "sns.swarmplot(\n",
    "    data=train,\n",
    "    x='type',\n",
    "    y='rotting_flesh_hair_length_has_soul',\n",
    ");"
   ]
  },
  {
   "cell_type": "code",
   "execution_count": null,
   "metadata": {
    "hidden": true
   },
   "outputs": [],
   "source": [
    "fig, ax = plt.subplots(figsize=(16,8))\n",
    "\n",
    "for ggg in train.type.unique():\n",
    "\n",
    "    sns.kdeplot(\n",
    "        data=train.loc[train.type == ggg, 'rotting_flesh_hair_length_has_soul'],\n",
    "        cumulative=True,\n",
    "        cut=0,\n",
    "        label=ggg,\n",
    "        ax=ax,\n",
    "    )"
   ]
  },
  {
   "cell_type": "code",
   "execution_count": null,
   "metadata": {
    "hidden": true
   },
   "outputs": [],
   "source": [
    "lower_rotting_flesh_hair_length_has_soul = train.groupby([\n",
    "    'type',\n",
    "]).rotting_flesh_hair_length_has_soul.min().sort_values()\n",
    "\n",
    "lower_rotting_flesh_hair_length_has_soul"
   ]
  },
  {
   "cell_type": "code",
   "execution_count": null,
   "metadata": {
    "hidden": true
   },
   "outputs": [],
   "source": [
    "train['rotting_flesh_hair_length_has_soul_lower'] = train.rotting_flesh_hair_length_has_soul < lower_rotting_flesh_hair_length_has_soul.iloc[1]"
   ]
  },
  {
   "cell_type": "code",
   "execution_count": null,
   "metadata": {
    "hidden": true
   },
   "outputs": [],
   "source": [
    "upper_rotting_flesh_hair_length_has_soul = train.groupby([\n",
    "    'type',\n",
    "]).rotting_flesh_hair_length_has_soul.max().sort_values()\n",
    "\n",
    "upper_rotting_flesh_hair_length_has_soul"
   ]
  },
  {
   "cell_type": "code",
   "execution_count": null,
   "metadata": {
    "hidden": true
   },
   "outputs": [],
   "source": [
    "train['rotting_flesh_hair_length_has_soul_upper'] = train.rotting_flesh_hair_length_has_soul > upper_rotting_flesh_hair_length_has_soul.iloc[1]"
   ]
  },
  {
   "cell_type": "markdown",
   "metadata": {
    "heading_collapsed": true,
    "hidden": true
   },
   "source": [
    "### 4-way"
   ]
  },
  {
   "cell_type": "code",
   "execution_count": null,
   "metadata": {
    "hidden": true
   },
   "outputs": [],
   "source": [
    "train['bone_length_rotting_flesh_hair_length_has_soul'] = train.bone_length_rotting_flesh_hair_length * train.has_soul"
   ]
  },
  {
   "cell_type": "markdown",
   "metadata": {
    "heading_collapsed": true,
    "hidden": true
   },
   "source": [
    "#### `bone_length_rotting_flesh_hair_length_has_soul`"
   ]
  },
  {
   "cell_type": "code",
   "execution_count": null,
   "metadata": {
    "hidden": true,
    "scrolled": false
   },
   "outputs": [],
   "source": [
    "fig, ax = plt.subplots(figsize=(16,8))\n",
    "\n",
    "sns.boxenplot(\n",
    "    data=train,\n",
    "    x='type',\n",
    "    y='bone_length_rotting_flesh_hair_length_has_soul',\n",
    "    saturation=0.2\n",
    ")\n",
    "\n",
    "sns.swarmplot(\n",
    "    data=train,\n",
    "    x='type',\n",
    "    y='bone_length_rotting_flesh_hair_length_has_soul',\n",
    ");"
   ]
  },
  {
   "cell_type": "code",
   "execution_count": null,
   "metadata": {
    "hidden": true
   },
   "outputs": [],
   "source": [
    "fig, ax = plt.subplots(figsize=(16,8))\n",
    "\n",
    "for ggg in train.type.unique():\n",
    "\n",
    "    sns.kdeplot(\n",
    "        data=train.loc[train.type == ggg, 'bone_length_rotting_flesh_hair_length_has_soul'],\n",
    "        cumulative=True,\n",
    "        cut=0,\n",
    "        label=ggg,\n",
    "        ax=ax,\n",
    "    )"
   ]
  },
  {
   "cell_type": "code",
   "execution_count": null,
   "metadata": {
    "hidden": true
   },
   "outputs": [],
   "source": [
    "lower_bone_length_rotting_flesh_hair_length_has_soul = train.groupby([\n",
    "    'type',\n",
    "]).bone_length_rotting_flesh_hair_length_has_soul.min().sort_values()\n",
    "\n",
    "lower_bone_length_rotting_flesh_hair_length_has_soul"
   ]
  },
  {
   "cell_type": "code",
   "execution_count": null,
   "metadata": {
    "hidden": true
   },
   "outputs": [],
   "source": [
    "train['bone_length_rotting_flesh_hair_length_has_soul_lower'] = train.bone_length_rotting_flesh_hair_length_has_soul < lower_bone_length_rotting_flesh_hair_length_has_soul.iloc[1]"
   ]
  },
  {
   "cell_type": "code",
   "execution_count": null,
   "metadata": {
    "hidden": true
   },
   "outputs": [],
   "source": [
    "upper_bone_length_rotting_flesh_hair_length_has_soul = train.groupby([\n",
    "    'type',\n",
    "]).bone_length_rotting_flesh_hair_length_has_soul.max().sort_values()\n",
    "\n",
    "upper_bone_length_rotting_flesh_hair_length_has_soul"
   ]
  },
  {
   "cell_type": "code",
   "execution_count": null,
   "metadata": {
    "hidden": true
   },
   "outputs": [],
   "source": [
    "train['bone_length_rotting_flesh_hair_length_has_soul_upper'] = train.bone_length_rotting_flesh_hair_length_has_soul > upper_bone_length_rotting_flesh_hair_length_has_soul.iloc[1]"
   ]
  },
  {
   "cell_type": "code",
   "execution_count": null,
   "metadata": {
    "hidden": true
   },
   "outputs": [],
   "source": [
    "train.head()"
   ]
  },
  {
   "cell_type": "markdown",
   "metadata": {
    "heading_collapsed": true,
    "hidden": true
   },
   "source": [
    "## Continuous Interactions + Color"
   ]
  },
  {
   "cell_type": "markdown",
   "metadata": {
    "heading_collapsed": true,
    "hidden": true
   },
   "source": [
    "### 2-way"
   ]
  },
  {
   "cell_type": "markdown",
   "metadata": {
    "heading_collapsed": true,
    "hidden": true
   },
   "source": [
    "#### `bone_length_rotting_flesh`"
   ]
  },
  {
   "cell_type": "code",
   "execution_count": null,
   "metadata": {
    "hidden": true
   },
   "outputs": [],
   "source": [
    "fig, ax = plt.subplots(figsize=(16,8))\n",
    "\n",
    "sns.boxenplot(\n",
    "    data=train,\n",
    "    x='color',\n",
    "    y='bone_length_rotting_flesh',\n",
    "    hue='type',\n",
    "    ax=ax,\n",
    "    saturation=0.2,\n",
    ")\n",
    "\n",
    "sns.swarmplot(\n",
    "    data=train,\n",
    "    x='color',\n",
    "    y='bone_length_rotting_flesh',\n",
    "    hue='type',\n",
    "    ax=ax,\n",
    "    dodge=True,\n",
    ");"
   ]
  },
  {
   "cell_type": "code",
   "execution_count": null,
   "metadata": {
    "hidden": true
   },
   "outputs": [],
   "source": [
    "lower_color_bone_length_rotting_flesh = train.groupby([\n",
    "    'color',\n",
    "    'type',\n",
    "]).bone_length_rotting_flesh.min()\n",
    "\n",
    "lower_color_bone_length_rotting_flesh"
   ]
  },
  {
   "cell_type": "code",
   "execution_count": null,
   "metadata": {
    "hidden": true
   },
   "outputs": [],
   "source": [
    "for color in lower_color_bone_length_rotting_flesh.index.levels[0]:\n",
    "    lcbl = lower_color_bone_length_rotting_flesh.loc[color].sort_values().iloc[1]\n",
    "    train[f'{color}_bone_length_rotting_flesh_lower'] = (train.color == color) & (train.bone_length_rotting_flesh < lcbl)"
   ]
  },
  {
   "cell_type": "code",
   "execution_count": null,
   "metadata": {
    "hidden": true
   },
   "outputs": [],
   "source": [
    "upper_color_bone_length_rotting_flesh = train.groupby([\n",
    "    'color',\n",
    "    'type',\n",
    "]).bone_length_rotting_flesh.max()\n",
    "\n",
    "upper_color_bone_length_rotting_flesh"
   ]
  },
  {
   "cell_type": "code",
   "execution_count": null,
   "metadata": {
    "hidden": true
   },
   "outputs": [],
   "source": [
    "for color in upper_color_bone_length_rotting_flesh.index.levels[0]:\n",
    "    ucbl = upper_color_bone_length_rotting_flesh.loc[color].sort_values().iloc[1]\n",
    "    train[f'{color}_bone_length_rotting_flesh_upper'] = (train.color == color) & (train.bone_length_rotting_flesh > ucbl)"
   ]
  },
  {
   "cell_type": "markdown",
   "metadata": {
    "heading_collapsed": true,
    "hidden": true
   },
   "source": [
    "#### `bone_length_hair_length`"
   ]
  },
  {
   "cell_type": "code",
   "execution_count": null,
   "metadata": {
    "hidden": true
   },
   "outputs": [],
   "source": [
    "fig, ax = plt.subplots(figsize=(16,8))\n",
    "\n",
    "sns.boxenplot(\n",
    "    data=train,\n",
    "    x='color',\n",
    "    y='bone_length_hair_length',\n",
    "    hue='type',\n",
    "    ax=ax,\n",
    "    saturation=0.2,\n",
    ")\n",
    "\n",
    "sns.swarmplot(\n",
    "    data=train,\n",
    "    x='color',\n",
    "    y='bone_length_hair_length',\n",
    "    hue='type',\n",
    "    ax=ax,\n",
    "    dodge=True,\n",
    ");"
   ]
  },
  {
   "cell_type": "code",
   "execution_count": null,
   "metadata": {
    "hidden": true
   },
   "outputs": [],
   "source": [
    "lower_color_bone_length_hair_length = train.groupby([\n",
    "    'color',\n",
    "    'type',\n",
    "]).bone_length_hair_length.min()\n",
    "\n",
    "lower_color_bone_length_hair_length"
   ]
  },
  {
   "cell_type": "code",
   "execution_count": null,
   "metadata": {
    "hidden": true
   },
   "outputs": [],
   "source": [
    "for color in lower_color_bone_length_hair_length.index.levels[0]:\n",
    "    lcbl = lower_color_bone_length_hair_length.loc[color].sort_values().iloc[1]\n",
    "    train[f'{color}_bone_length_hair_length_lower'] = (train.color == color) & (train.bone_length_hair_length < lcbl)"
   ]
  },
  {
   "cell_type": "code",
   "execution_count": null,
   "metadata": {
    "hidden": true
   },
   "outputs": [],
   "source": [
    "upper_color_bone_length_hair_length = train.groupby([\n",
    "    'color',\n",
    "    'type',\n",
    "]).bone_length_hair_length.max()\n",
    "\n",
    "upper_color_bone_length_hair_length"
   ]
  },
  {
   "cell_type": "code",
   "execution_count": null,
   "metadata": {
    "hidden": true
   },
   "outputs": [],
   "source": [
    "for color in upper_color_bone_length_hair_length.index.levels[0]:\n",
    "    ucbl = upper_color_bone_length_hair_length.loc[color].sort_values().iloc[1]\n",
    "    train[f'{color}_bone_length_hair_length_upper'] = (train.color == color) & (train.bone_length_hair_length > ucbl)"
   ]
  },
  {
   "cell_type": "markdown",
   "metadata": {
    "heading_collapsed": true,
    "hidden": true
   },
   "source": [
    "#### `bone_length_has_soul`"
   ]
  },
  {
   "cell_type": "code",
   "execution_count": null,
   "metadata": {
    "hidden": true
   },
   "outputs": [],
   "source": [
    "fig, ax = plt.subplots(figsize=(16,8))\n",
    "\n",
    "sns.boxenplot(\n",
    "    data=train,\n",
    "    x='color',\n",
    "    y='bone_length_has_soul',\n",
    "    hue='type',\n",
    "    ax=ax,\n",
    "    saturation=0.2,\n",
    ")\n",
    "\n",
    "sns.swarmplot(\n",
    "    data=train,\n",
    "    x='color',\n",
    "    y='bone_length_has_soul',\n",
    "    hue='type',\n",
    "    ax=ax,\n",
    "    dodge=True,\n",
    ");"
   ]
  },
  {
   "cell_type": "code",
   "execution_count": null,
   "metadata": {
    "hidden": true
   },
   "outputs": [],
   "source": [
    "lower_color_bone_length_has_soul = train.groupby([\n",
    "    'color',\n",
    "    'type',\n",
    "]).bone_length_has_soul.min()\n",
    "\n",
    "lower_color_bone_length_has_soul"
   ]
  },
  {
   "cell_type": "code",
   "execution_count": null,
   "metadata": {
    "hidden": true
   },
   "outputs": [],
   "source": [
    "for color in lower_color_bone_length_has_soul.index.levels[0]:\n",
    "    lcbl = lower_color_bone_length_has_soul.loc[color].sort_values().iloc[1]\n",
    "    train[f'{color}_bone_length_has_soul_lower'] = (train.color == color) & (train.bone_length_has_soul < lcbl)"
   ]
  },
  {
   "cell_type": "code",
   "execution_count": null,
   "metadata": {
    "hidden": true
   },
   "outputs": [],
   "source": [
    "upper_color_bone_length_has_soul = train.groupby([\n",
    "    'color',\n",
    "    'type',\n",
    "]).bone_length_has_soul.max()\n",
    "\n",
    "upper_color_bone_length_has_soul"
   ]
  },
  {
   "cell_type": "code",
   "execution_count": null,
   "metadata": {
    "hidden": true
   },
   "outputs": [],
   "source": [
    "for color in upper_color_bone_length_has_soul.index.levels[0]:\n",
    "    ucbl = upper_color_bone_length_has_soul.loc[color].sort_values().iloc[1]\n",
    "    train[f'{color}_bone_length_has_soul_upper'] = (train.color == color) & (train.bone_length_has_soul > ucbl)"
   ]
  },
  {
   "cell_type": "markdown",
   "metadata": {
    "heading_collapsed": true,
    "hidden": true
   },
   "source": [
    "#### `rotting_flesh_hair_length`"
   ]
  },
  {
   "cell_type": "code",
   "execution_count": null,
   "metadata": {
    "hidden": true
   },
   "outputs": [],
   "source": [
    "fig, ax = plt.subplots(figsize=(16,8))\n",
    "\n",
    "sns.boxenplot(\n",
    "    data=train,\n",
    "    x='color',\n",
    "    y='rotting_flesh_hair_length',\n",
    "    hue='type',\n",
    "    ax=ax,\n",
    "    saturation=0.2,\n",
    ")\n",
    "\n",
    "sns.swarmplot(\n",
    "    data=train,\n",
    "    x='color',\n",
    "    y='rotting_flesh_hair_length',\n",
    "    hue='type',\n",
    "    ax=ax,\n",
    "    dodge=True,\n",
    ");"
   ]
  },
  {
   "cell_type": "code",
   "execution_count": null,
   "metadata": {
    "hidden": true
   },
   "outputs": [],
   "source": [
    "lower_color_rotting_flesh_hair_length = train.groupby([\n",
    "    'color',\n",
    "    'type',\n",
    "]).rotting_flesh_hair_length.min()\n",
    "\n",
    "lower_color_rotting_flesh_hair_length"
   ]
  },
  {
   "cell_type": "code",
   "execution_count": null,
   "metadata": {
    "hidden": true
   },
   "outputs": [],
   "source": [
    "for color in lower_color_rotting_flesh_hair_length.index.levels[0]:\n",
    "    lcbl = lower_color_rotting_flesh_hair_length.loc[color].sort_values().iloc[1]\n",
    "    train[f'{color}_rotting_flesh_hair_length_lower'] = (train.color == color) & (train.rotting_flesh_hair_length < lcbl)"
   ]
  },
  {
   "cell_type": "code",
   "execution_count": null,
   "metadata": {
    "hidden": true
   },
   "outputs": [],
   "source": [
    "upper_color_rotting_flesh_hair_length = train.groupby([\n",
    "    'color',\n",
    "    'type',\n",
    "]).rotting_flesh_hair_length.max()\n",
    "\n",
    "upper_color_rotting_flesh_hair_length"
   ]
  },
  {
   "cell_type": "code",
   "execution_count": null,
   "metadata": {
    "hidden": true
   },
   "outputs": [],
   "source": [
    "for color in upper_color_rotting_flesh_hair_length.index.levels[0]:\n",
    "    ucbl = upper_color_rotting_flesh_hair_length.loc[color].sort_values().iloc[1]\n",
    "    train[f'{color}_rotting_flesh_hair_length_upper'] = (train.color == color) & (train.rotting_flesh_hair_length > ucbl)"
   ]
  },
  {
   "cell_type": "markdown",
   "metadata": {
    "heading_collapsed": true,
    "hidden": true
   },
   "source": [
    "#### `rotting_flesh_has_soul`"
   ]
  },
  {
   "cell_type": "code",
   "execution_count": null,
   "metadata": {
    "hidden": true
   },
   "outputs": [],
   "source": [
    "fig, ax = plt.subplots(figsize=(16,8))\n",
    "\n",
    "sns.boxenplot(\n",
    "    data=train,\n",
    "    x='color',\n",
    "    y='rotting_flesh_has_soul',\n",
    "    hue='type',\n",
    "    ax=ax,\n",
    "    saturation=0.2,\n",
    ")\n",
    "\n",
    "sns.swarmplot(\n",
    "    data=train,\n",
    "    x='color',\n",
    "    y='rotting_flesh_has_soul',\n",
    "    hue='type',\n",
    "    ax=ax,\n",
    "    dodge=True,\n",
    ");"
   ]
  },
  {
   "cell_type": "code",
   "execution_count": null,
   "metadata": {
    "hidden": true
   },
   "outputs": [],
   "source": [
    "lower_color_rotting_flesh_has_soul = train.groupby([\n",
    "    'color',\n",
    "    'type',\n",
    "]).rotting_flesh_has_soul.min()\n",
    "\n",
    "lower_color_rotting_flesh_has_soul"
   ]
  },
  {
   "cell_type": "code",
   "execution_count": null,
   "metadata": {
    "hidden": true
   },
   "outputs": [],
   "source": [
    "for color in lower_color_rotting_flesh_has_soul.index.levels[0]:\n",
    "    lcbl = lower_color_rotting_flesh_has_soul.loc[color].sort_values().iloc[1]\n",
    "    train[f'{color}_rotting_flesh_has_soul_lower'] = (train.color == color) & (train.rotting_flesh_has_soul < lcbl)"
   ]
  },
  {
   "cell_type": "code",
   "execution_count": null,
   "metadata": {
    "hidden": true
   },
   "outputs": [],
   "source": [
    "upper_color_rotting_flesh_has_soul = train.groupby([\n",
    "    'color',\n",
    "    'type',\n",
    "]).rotting_flesh_has_soul.max()\n",
    "\n",
    "upper_color_rotting_flesh_has_soul"
   ]
  },
  {
   "cell_type": "code",
   "execution_count": null,
   "metadata": {
    "hidden": true
   },
   "outputs": [],
   "source": [
    "for color in upper_color_rotting_flesh_has_soul.index.levels[0]:\n",
    "    ucbl = upper_color_rotting_flesh_has_soul.loc[color].sort_values().iloc[1]\n",
    "    train[f'{color}_rotting_flesh_has_soul_upper'] = (train.color == color) & (train.rotting_flesh_has_soul > ucbl)"
   ]
  },
  {
   "cell_type": "markdown",
   "metadata": {
    "heading_collapsed": true,
    "hidden": true
   },
   "source": [
    "#### `hair_length_has_soul`"
   ]
  },
  {
   "cell_type": "code",
   "execution_count": null,
   "metadata": {
    "hidden": true
   },
   "outputs": [],
   "source": [
    "fig, ax = plt.subplots(figsize=(16,8))\n",
    "\n",
    "sns.boxenplot(\n",
    "    data=train,\n",
    "    x='color',\n",
    "    y='hair_length_has_soul',\n",
    "    hue='type',\n",
    "    ax=ax,\n",
    "    saturation=0.2,\n",
    ")\n",
    "\n",
    "sns.swarmplot(\n",
    "    data=train,\n",
    "    x='color',\n",
    "    y='hair_length_has_soul',\n",
    "    hue='type',\n",
    "    ax=ax,\n",
    "    dodge=True,\n",
    ");"
   ]
  },
  {
   "cell_type": "code",
   "execution_count": null,
   "metadata": {
    "hidden": true
   },
   "outputs": [],
   "source": [
    "lower_color_hair_length_has_soul = train.groupby([\n",
    "    'color',\n",
    "    'type',\n",
    "]).hair_length_has_soul.min()\n",
    "\n",
    "lower_color_hair_length_has_soul"
   ]
  },
  {
   "cell_type": "code",
   "execution_count": null,
   "metadata": {
    "hidden": true
   },
   "outputs": [],
   "source": [
    "for color in lower_color_hair_length_has_soul.index.levels[0]:\n",
    "    lcbl = lower_color_hair_length_has_soul.loc[color].sort_values().iloc[1]\n",
    "    train[f'{color}_hair_length_has_soul_lower'] = (train.color == color) & (train.hair_length_has_soul < lcbl)"
   ]
  },
  {
   "cell_type": "code",
   "execution_count": null,
   "metadata": {
    "hidden": true
   },
   "outputs": [],
   "source": [
    "upper_color_hair_length_has_soul = train.groupby([\n",
    "    'color',\n",
    "    'type',\n",
    "]).hair_length_has_soul.max()\n",
    "\n",
    "upper_color_hair_length_has_soul"
   ]
  },
  {
   "cell_type": "code",
   "execution_count": null,
   "metadata": {
    "hidden": true
   },
   "outputs": [],
   "source": [
    "for color in upper_color_hair_length_has_soul.index.levels[0]:\n",
    "    ucbl = upper_color_hair_length_has_soul.loc[color].sort_values().iloc[1]\n",
    "    train[f'{color}_hair_length_has_soul_upper'] = (train.color == color) & (train.hair_length_has_soul > ucbl)"
   ]
  },
  {
   "cell_type": "markdown",
   "metadata": {
    "heading_collapsed": true,
    "hidden": true
   },
   "source": [
    "### 3-way"
   ]
  },
  {
   "cell_type": "markdown",
   "metadata": {
    "heading_collapsed": true,
    "hidden": true
   },
   "source": [
    "#### `bone_length_rotting_flesh_hair_length`"
   ]
  },
  {
   "cell_type": "code",
   "execution_count": null,
   "metadata": {
    "hidden": true
   },
   "outputs": [],
   "source": [
    "fig, ax = plt.subplots(figsize=(16,8))\n",
    "\n",
    "sns.boxenplot(\n",
    "    data=train,\n",
    "    x='color',\n",
    "    y='bone_length_rotting_flesh_hair_length',\n",
    "    hue='type',\n",
    "    ax=ax,\n",
    "    saturation=0.2,\n",
    ")\n",
    "\n",
    "sns.swarmplot(\n",
    "    data=train,\n",
    "    x='color',\n",
    "    y='bone_length_rotting_flesh_hair_length',\n",
    "    hue='type',\n",
    "    ax=ax,\n",
    "    dodge=True,\n",
    ");"
   ]
  },
  {
   "cell_type": "code",
   "execution_count": null,
   "metadata": {
    "hidden": true
   },
   "outputs": [],
   "source": [
    "lower_color_bone_length_rotting_flesh_hair_length = train.groupby([\n",
    "    'color',\n",
    "    'type',\n",
    "]).bone_length_rotting_flesh_hair_length.min()\n",
    "\n",
    "lower_color_bone_length_rotting_flesh_hair_length"
   ]
  },
  {
   "cell_type": "code",
   "execution_count": null,
   "metadata": {
    "hidden": true
   },
   "outputs": [],
   "source": [
    "for color in lower_color_bone_length_rotting_flesh_hair_length.index.levels[0]:\n",
    "    lcbl = lower_color_bone_length_rotting_flesh_hair_length.loc[color].sort_values().iloc[1]\n",
    "    train[f'{color}_bone_length_rotting_flesh_hair_length_lower'] = (train.color == color) & (train.bone_length_rotting_flesh_hair_length < lcbl)"
   ]
  },
  {
   "cell_type": "code",
   "execution_count": null,
   "metadata": {
    "hidden": true
   },
   "outputs": [],
   "source": [
    "upper_color_bone_length_rotting_flesh_hair_length = train.groupby([\n",
    "    'color',\n",
    "    'type',\n",
    "]).bone_length_rotting_flesh_hair_length.max()\n",
    "\n",
    "upper_color_bone_length_rotting_flesh_hair_length"
   ]
  },
  {
   "cell_type": "code",
   "execution_count": null,
   "metadata": {
    "hidden": true
   },
   "outputs": [],
   "source": [
    "for color in upper_color_bone_length_rotting_flesh_hair_length.index.levels[0]:\n",
    "    ucbl = upper_color_bone_length_rotting_flesh_hair_length.loc[color].sort_values().iloc[1]\n",
    "    train[f'{color}_bone_length_rotting_flesh_hair_length_upper'] = (train.color == color) & (train.bone_length_rotting_flesh_hair_length > ucbl)"
   ]
  },
  {
   "cell_type": "markdown",
   "metadata": {
    "heading_collapsed": true,
    "hidden": true
   },
   "source": [
    "#### `bone_length_rotting_flesh_has_soul`"
   ]
  },
  {
   "cell_type": "code",
   "execution_count": null,
   "metadata": {
    "hidden": true
   },
   "outputs": [],
   "source": [
    "fig, ax = plt.subplots(figsize=(16,8))\n",
    "\n",
    "sns.boxenplot(\n",
    "    data=train,\n",
    "    x='color',\n",
    "    y='bone_length_rotting_flesh_has_soul',\n",
    "    hue='type',\n",
    "    ax=ax,\n",
    "    saturation=0.2,\n",
    ")\n",
    "\n",
    "sns.swarmplot(\n",
    "    data=train,\n",
    "    x='color',\n",
    "    y='bone_length_rotting_flesh_has_soul',\n",
    "    hue='type',\n",
    "    ax=ax,\n",
    "    dodge=True,\n",
    ");"
   ]
  },
  {
   "cell_type": "code",
   "execution_count": null,
   "metadata": {
    "hidden": true
   },
   "outputs": [],
   "source": [
    "lower_color_bone_length_rotting_flesh_has_soul = train.groupby([\n",
    "    'color',\n",
    "    'type',\n",
    "]).bone_length_rotting_flesh_has_soul.min()\n",
    "\n",
    "lower_color_bone_length_rotting_flesh_has_soul"
   ]
  },
  {
   "cell_type": "code",
   "execution_count": null,
   "metadata": {
    "hidden": true
   },
   "outputs": [],
   "source": [
    "for color in lower_color_bone_length_rotting_flesh_has_soul.index.levels[0]:\n",
    "    lcbl = lower_color_bone_length_rotting_flesh_has_soul.loc[color].sort_values().iloc[1]\n",
    "    train[f'{color}_bone_length_rotting_flesh_has_soul_lower'] = (train.color == color) & (train.bone_length_rotting_flesh_has_soul < lcbl)"
   ]
  },
  {
   "cell_type": "code",
   "execution_count": null,
   "metadata": {
    "hidden": true
   },
   "outputs": [],
   "source": [
    "upper_color_bone_length_rotting_flesh_has_soul = train.groupby([\n",
    "    'color',\n",
    "    'type',\n",
    "]).bone_length_rotting_flesh_has_soul.max()\n",
    "\n",
    "upper_color_bone_length_rotting_flesh_has_soul"
   ]
  },
  {
   "cell_type": "code",
   "execution_count": null,
   "metadata": {
    "hidden": true
   },
   "outputs": [],
   "source": [
    "for color in upper_color_bone_length_rotting_flesh_has_soul.index.levels[0]:\n",
    "    ucbl = upper_color_bone_length_rotting_flesh_has_soul.loc[color].sort_values().iloc[1]\n",
    "    train[f'{color}_bone_length_rotting_flesh_has_soul_upper'] = (train.color == color) & (train.bone_length_rotting_flesh_has_soul > ucbl)"
   ]
  },
  {
   "cell_type": "markdown",
   "metadata": {
    "heading_collapsed": true,
    "hidden": true
   },
   "source": [
    "#### `bone_length_hair_length_has_soul`"
   ]
  },
  {
   "cell_type": "code",
   "execution_count": null,
   "metadata": {
    "hidden": true
   },
   "outputs": [],
   "source": [
    "fig, ax = plt.subplots(figsize=(16,8))\n",
    "\n",
    "sns.boxenplot(\n",
    "    data=train,\n",
    "    x='color',\n",
    "    y='bone_length_hair_length_has_soul',\n",
    "    hue='type',\n",
    "    ax=ax,\n",
    "    saturation=0.2,\n",
    ")\n",
    "\n",
    "sns.swarmplot(\n",
    "    data=train,\n",
    "    x='color',\n",
    "    y='bone_length_hair_length_has_soul',\n",
    "    hue='type',\n",
    "    ax=ax,\n",
    "    dodge=True,\n",
    ");"
   ]
  },
  {
   "cell_type": "code",
   "execution_count": null,
   "metadata": {
    "hidden": true
   },
   "outputs": [],
   "source": [
    "lower_color_bone_length_hair_length_has_soul = train.groupby([\n",
    "    'color',\n",
    "    'type',\n",
    "]).bone_length_hair_length_has_soul.min()\n",
    "\n",
    "lower_color_bone_length_hair_length_has_soul"
   ]
  },
  {
   "cell_type": "code",
   "execution_count": null,
   "metadata": {
    "hidden": true
   },
   "outputs": [],
   "source": [
    "for color in lower_color_bone_length_hair_length_has_soul.index.levels[0]:\n",
    "    lcbl = lower_color_bone_length_hair_length_has_soul.loc[color].sort_values().iloc[1]\n",
    "    train[f'{color}_bone_length_hair_length_has_soul_lower'] = (train.color == color) & (train.bone_length_hair_length_has_soul < lcbl)"
   ]
  },
  {
   "cell_type": "code",
   "execution_count": null,
   "metadata": {
    "hidden": true
   },
   "outputs": [],
   "source": [
    "upper_color_bone_length_hair_length_has_soul = train.groupby([\n",
    "    'color',\n",
    "    'type',\n",
    "]).bone_length_hair_length_has_soul.max()\n",
    "\n",
    "upper_color_bone_length_hair_length_has_soul"
   ]
  },
  {
   "cell_type": "code",
   "execution_count": null,
   "metadata": {
    "hidden": true
   },
   "outputs": [],
   "source": [
    "for color in upper_color_bone_length_hair_length_has_soul.index.levels[0]:\n",
    "    ucbl = upper_color_bone_length_hair_length_has_soul.loc[color].sort_values().iloc[1]\n",
    "    train[f'{color}_bone_length_hair_length_has_soul_upper'] = (train.color == color) & (train.bone_length_hair_length_has_soul > ucbl)"
   ]
  },
  {
   "cell_type": "markdown",
   "metadata": {
    "heading_collapsed": true,
    "hidden": true
   },
   "source": [
    "#### `rotting_flesh_hair_length_has_soul`"
   ]
  },
  {
   "cell_type": "code",
   "execution_count": null,
   "metadata": {
    "hidden": true
   },
   "outputs": [],
   "source": [
    "fig, ax = plt.subplots(figsize=(16,8))\n",
    "\n",
    "sns.boxenplot(\n",
    "    data=train,\n",
    "    x='color',\n",
    "    y='rotting_flesh_hair_length_has_soul',\n",
    "    hue='type',\n",
    "    ax=ax,\n",
    "    saturation=0.2,\n",
    ")\n",
    "\n",
    "sns.swarmplot(\n",
    "    data=train,\n",
    "    x='color',\n",
    "    y='rotting_flesh_hair_length_has_soul',\n",
    "    hue='type',\n",
    "    ax=ax,\n",
    "    dodge=True,\n",
    ");"
   ]
  },
  {
   "cell_type": "code",
   "execution_count": null,
   "metadata": {
    "hidden": true
   },
   "outputs": [],
   "source": [
    "lower_color_rotting_flesh_hair_length_has_soul = train.groupby([\n",
    "    'color',\n",
    "    'type',\n",
    "]).rotting_flesh_hair_length_has_soul.min()\n",
    "\n",
    "lower_color_rotting_flesh_hair_length_has_soul"
   ]
  },
  {
   "cell_type": "code",
   "execution_count": null,
   "metadata": {
    "hidden": true
   },
   "outputs": [],
   "source": [
    "for color in lower_color_rotting_flesh_hair_length_has_soul.index.levels[0]:\n",
    "    lcbl = lower_color_rotting_flesh_hair_length_has_soul.loc[color].sort_values().iloc[1]\n",
    "    train[f'{color}_rotting_flesh_hair_length_has_soul_lower'] = (train.color == color) & (train.rotting_flesh_hair_length_has_soul < lcbl)"
   ]
  },
  {
   "cell_type": "code",
   "execution_count": null,
   "metadata": {
    "hidden": true
   },
   "outputs": [],
   "source": [
    "upper_color_rotting_flesh_hair_length_has_soul = train.groupby([\n",
    "    'color',\n",
    "    'type',\n",
    "]).rotting_flesh_hair_length_has_soul.max()\n",
    "\n",
    "upper_color_rotting_flesh_hair_length_has_soul"
   ]
  },
  {
   "cell_type": "code",
   "execution_count": null,
   "metadata": {
    "hidden": true
   },
   "outputs": [],
   "source": [
    "for color in upper_color_rotting_flesh_hair_length_has_soul.index.levels[0]:\n",
    "    ucbl = upper_color_rotting_flesh_hair_length_has_soul.loc[color].sort_values().iloc[1]\n",
    "    train[f'{color}_rotting_flesh_hair_length_has_soul_upper'] = (train.color == color) & (train.rotting_flesh_hair_length_has_soul > ucbl)"
   ]
  },
  {
   "cell_type": "markdown",
   "metadata": {
    "heading_collapsed": true,
    "hidden": true
   },
   "source": [
    "### 4-way"
   ]
  },
  {
   "cell_type": "markdown",
   "metadata": {
    "heading_collapsed": true,
    "hidden": true
   },
   "source": [
    "#### `bone_length_rotting_flesh_hair_length_has_soul`"
   ]
  },
  {
   "cell_type": "code",
   "execution_count": null,
   "metadata": {
    "hidden": true
   },
   "outputs": [],
   "source": [
    "fig, ax = plt.subplots(figsize=(16,8))\n",
    "\n",
    "sns.boxenplot(\n",
    "    data=train,\n",
    "    x='color',\n",
    "    y='bone_length_rotting_flesh_hair_length_has_soul',\n",
    "    hue='type',\n",
    "    ax=ax,\n",
    "    saturation=0.2,\n",
    ")\n",
    "\n",
    "sns.swarmplot(\n",
    "    data=train,\n",
    "    x='color',\n",
    "    y='bone_length_rotting_flesh_hair_length_has_soul',\n",
    "    hue='type',\n",
    "    ax=ax,\n",
    "    dodge=True,\n",
    ");"
   ]
  },
  {
   "cell_type": "code",
   "execution_count": null,
   "metadata": {
    "hidden": true
   },
   "outputs": [],
   "source": [
    "lower_color_bone_length_rotting_flesh_hair_length_has_soul = train.groupby([\n",
    "    'color',\n",
    "    'type',\n",
    "]).bone_length_rotting_flesh_hair_length_has_soul.min()\n",
    "\n",
    "lower_color_bone_length_rotting_flesh_hair_length_has_soul"
   ]
  },
  {
   "cell_type": "code",
   "execution_count": null,
   "metadata": {
    "hidden": true
   },
   "outputs": [],
   "source": [
    "for color in lower_color_bone_length_rotting_flesh_hair_length_has_soul.index.levels[0]:\n",
    "    lcbl = lower_color_bone_length_rotting_flesh_hair_length_has_soul.loc[color].sort_values().iloc[1]\n",
    "    train[f'{color}_bone_length_rotting_flesh_hair_length_has_soul_lower'] = (train.color == color) & (train.bone_length_rotting_flesh_hair_length_has_soul < lcbl)"
   ]
  },
  {
   "cell_type": "code",
   "execution_count": null,
   "metadata": {
    "hidden": true
   },
   "outputs": [],
   "source": [
    "upper_color_bone_length_rotting_flesh_hair_length_has_soul = train.groupby([\n",
    "    'color',\n",
    "    'type',\n",
    "]).bone_length_rotting_flesh_hair_length_has_soul.max()\n",
    "\n",
    "upper_color_bone_length_rotting_flesh_hair_length_has_soul"
   ]
  },
  {
   "cell_type": "code",
   "execution_count": null,
   "metadata": {
    "hidden": true
   },
   "outputs": [],
   "source": [
    "for color in upper_color_bone_length_rotting_flesh_hair_length_has_soul.index.levels[0]:\n",
    "    ucbl = upper_color_bone_length_rotting_flesh_hair_length_has_soul.loc[color].sort_values().iloc[1]\n",
    "    train[f'{color}_bone_length_rotting_flesh_hair_length_has_soul_upper'] = (train.color == color) & (train.bone_length_rotting_flesh_hair_length_has_soul > ucbl)"
   ]
  },
  {
   "cell_type": "markdown",
   "metadata": {
    "heading_collapsed": true,
    "hidden": true
   },
   "source": [
    "## Heatmaps for Booleans?"
   ]
  },
  {
   "cell_type": "code",
   "execution_count": null,
   "metadata": {
    "hidden": true
   },
   "outputs": [],
   "source": [
    "train.head()"
   ]
  },
  {
   "cell_type": "markdown",
   "metadata": {
    "heading_collapsed": true
   },
   "source": [
    "# Deviations From Normality"
   ]
  },
  {
   "cell_type": "code",
   "execution_count": null,
   "metadata": {
    "hidden": true
   },
   "outputs": [],
   "source": [
    "# flag bone_length within/outside +/-1 std of mean\n",
    "train['bone_length_std1'] = train.bone_length.apply(\n",
    "    lambda x : -1 if x < (train.bone_length.mean() - train.bone_length.std())\n",
    "    else 1 if x > (train.bone_length.mean() + train.bone_length.std())\n",
    "    else 0,\n",
    ")\n",
    "\n",
    "# flag rotting_flesh within/outside +/-1 std of mean\n",
    "train['rotting_flesh_std1'] = train.rotting_flesh.apply(\n",
    "    lambda x : -1 if x < (train.rotting_flesh.mean() - train.rotting_flesh.std())\n",
    "    else 1 if x > (train.rotting_flesh.mean() + train.rotting_flesh.std())\n",
    "    else 0,\n",
    ")\n",
    "\n",
    "# flag hair_length within/outside +/-1 std of mean\n",
    "train['hair_length_std1'] = train.hair_length.apply(\n",
    "    lambda x : -1 if x < (train.hair_length.mean() - train.hair_length.std())\n",
    "    else 1 if x > (train.hair_length.mean() + train.hair_length.std())\n",
    "    else 0,\n",
    ")\n",
    "\n",
    "# flag has_soul within/outside +/-1 std of mean\n",
    "train['has_soul_std1'] = train.has_soul.apply(\n",
    "    lambda x : -1 if x < (train.has_soul.mean() - train.has_soul.std())\n",
    "    else 1 if x > (train.has_soul.mean() + train.has_soul.std())\n",
    "    else 0,\n",
    ")"
   ]
  },
  {
   "cell_type": "markdown",
   "metadata": {
    "heading_collapsed": true
   },
   "source": [
    "# Polynomials"
   ]
  },
  {
   "cell_type": "code",
   "execution_count": null,
   "metadata": {
    "hidden": true
   },
   "outputs": [],
   "source": [
    "# define poly\n",
    "poly = PolynomialFeatures(degree=3, interaction_only=False, include_bias=False)\n",
    "\n",
    "# fit_transform train data\n",
    "poly_numeric = poly.fit_transform(train.drop(columns=[\n",
    "    'id',\n",
    "    'type',\n",
    "    'color',\n",
    "]))\n",
    "\n",
    "# redefine train with new poly features\n",
    "train = train.loc[:, [\n",
    "    'id',\n",
    "    'type',\n",
    "    'color',\n",
    "]].join(pd.DataFrame(\n",
    "    data=poly_numeric,\n",
    "    columns=poly.get_feature_names(train.drop(columns=[\n",
    "        'id',\n",
    "        'type',\n",
    "        'color',\n",
    "    ]).columns.tolist())\n",
    "))"
   ]
  },
  {
   "cell_type": "markdown",
   "metadata": {
    "heading_collapsed": true
   },
   "source": [
    "# Scaling"
   ]
  },
  {
   "cell_type": "code",
   "execution_count": null,
   "metadata": {
    "hidden": true
   },
   "outputs": [],
   "source": [
    "# select X features\n",
    "X = train.drop(columns=[\n",
    "    'id',\n",
    "    'color',\n",
    "    'type',\n",
    "])\n",
    "\n",
    "# select y for training\n",
    "y = train.type\n",
    "\n",
    "# define scaler\n",
    "scaler = MinMaxScaler()\n",
    "rscaler = RobustScaler()\n",
    "\n",
    "# scale X\n",
    "X_ = pd.DataFrame(\n",
    "    data=scaler.fit_transform(X),\n",
    "    index=X.index,\n",
    "    columns=X.columns\n",
    ")\n",
    "\n",
    "X_r = pd.DataFrame(\n",
    "    data=rscaler.fit_transform(X),\n",
    "    index=X.index,\n",
    "    columns=X.columns\n",
    ")"
   ]
  },
  {
   "cell_type": "markdown",
   "metadata": {
    "heading_collapsed": true
   },
   "source": [
    "# Variance Threshold"
   ]
  },
  {
   "cell_type": "code",
   "execution_count": null,
   "metadata": {
    "hidden": true
   },
   "outputs": [],
   "source": [
    "# redefine variance threshold (in case it wasn't previously)\n",
    "vt = VarianceThreshold(threshold=0.0)\n",
    "\n",
    "# redefine X_ based on vt\n",
    "X_ = pd.DataFrame(\n",
    "    data=vt.fit_transform(X_),\n",
    "    index=X_.index,\n",
    "    columns=X_.columns[vt.get_support()]\n",
    ")\n",
    "\n",
    "# redefine X_r based on vt\n",
    "X_r = pd.DataFrame(\n",
    "    data=vt.fit_transform(X_r),\n",
    "    index=X_r.index,\n",
    "    columns=X_r.columns[vt.get_support()]\n",
    ")"
   ]
  },
  {
   "cell_type": "markdown",
   "metadata": {
    "heading_collapsed": true
   },
   "source": [
    "# Percentile Selection\n",
    "##### Using [Mutual Information](https://scikit-learn.org/stable/modules/generated/sklearn.feature_selection.mutual_info_classif.html)"
   ]
  },
  {
   "cell_type": "code",
   "execution_count": null,
   "metadata": {
    "hidden": true
   },
   "outputs": [],
   "source": [
    "# define selector\n",
    "selector = SelectPercentile(\n",
    "    score_func=mutual_info_classif,\n",
    "    percentile=10\n",
    ")\n",
    "\n",
    "# keep top 10 percent of features\n",
    "X_ = pd.DataFrame(\n",
    "    data=selector.fit_transform(X_, y),\n",
    "    index=X_.index,\n",
    "    columns=X_.columns[selector.get_support()]\n",
    ")\n",
    "\n",
    "# keep top 10 percent of features\n",
    "X_r = pd.DataFrame(\n",
    "    data=selector.fit_transform(X_r, y),\n",
    "    index=X_r.index,\n",
    "    columns=X_r.columns[selector.get_support()]\n",
    ")"
   ]
  },
  {
   "cell_type": "markdown",
   "metadata": {
    "heading_collapsed": true
   },
   "source": [
    "# Feature Importance"
   ]
  },
  {
   "cell_type": "code",
   "execution_count": null,
   "metadata": {
    "hidden": true
   },
   "outputs": [],
   "source": [
    "fi = {}\n",
    "\n",
    "for k,v in ensembles.items():\n",
    "    fi[k] = v.fit(X_, y).feature_importances_\n",
    "\n",
    "fi = pd.DataFrame.from_dict(fi, orient='index', columns=X_.columns)\n",
    "\n",
    "fi.sort_values(fi.columns.tolist(), ascending=False, inplace=True)\n",
    "fi.sort_values(fi.index.tolist(), axis=1, ascending=False, inplace=True)\n",
    "\n",
    "fi.style.highlight_max(axis=1)"
   ]
  },
  {
   "cell_type": "code",
   "execution_count": null,
   "metadata": {
    "hidden": true
   },
   "outputs": [],
   "source": [
    "fi = {}\n",
    "\n",
    "for k,v in ensembles.items():\n",
    "    fi[k] = v.fit(X_r, y).feature_importances_\n",
    "\n",
    "fi = pd.DataFrame.from_dict(fi, orient='index', columns=X_r.columns)\n",
    "\n",
    "fi.sort_values(fi.columns.tolist(), ascending=False, inplace=True)\n",
    "fi.sort_values(fi.index.tolist(), axis=1, ascending=False, inplace=True)\n",
    "\n",
    "fi.style.highlight_max(axis=1)"
   ]
  },
  {
   "cell_type": "markdown",
   "metadata": {
    "heading_collapsed": true
   },
   "source": [
    "# Top n per FI"
   ]
  },
  {
   "cell_type": "code",
   "execution_count": null,
   "metadata": {
    "hidden": true
   },
   "outputs": [],
   "source": [
    "# top features per fi-algorithm\n",
    "n = 1\n",
    "\n",
    "sns.pairplot(\n",
    "    data=X.join(y),\n",
    "    hue='type',\n",
    "    vars=list(set(fi.iloc[0].sort_values(ascending=False).head(n).index.tolist() +\\\n",
    "                  fi.iloc[1].sort_values(ascending=False).head(n).index.tolist() +\\\n",
    "                  fi.iloc[2].sort_values(ascending=False).head(n).index.tolist() +\\\n",
    "                  fi.iloc[3].sort_values(ascending=False).head(n).index.tolist()))\n",
    ");"
   ]
  },
  {
   "cell_type": "markdown",
   "metadata": {
    "hidden": true
   },
   "source": [
    "The most important feature from all three ensemble algorithms is `hair_length`."
   ]
  },
  {
   "cell_type": "markdown",
   "metadata": {
    "heading_collapsed": true
   },
   "source": [
    "# Model"
   ]
  },
  {
   "cell_type": "code",
   "execution_count": null,
   "metadata": {
    "hidden": true
   },
   "outputs": [],
   "source": [
    "train_x, test_x, train_y, test_y = train_test_split(X_r, y, test_size=0.1, random_state=0)"
   ]
  },
  {
   "cell_type": "code",
   "execution_count": null,
   "metadata": {
    "hidden": true,
    "scrolled": false
   },
   "outputs": [],
   "source": [
    "results = {}\n",
    "\n",
    "for k,v in classifiers.items():\n",
    "    \n",
    "    print(k)\n",
    "    \n",
    "    cv = cross_validate(\n",
    "        estimator=v,\n",
    "        X=train_x,\n",
    "        y=train_y,\n",
    "        cv=10\n",
    "    )\n",
    "    \n",
    "    cv = cv['test_score']\n",
    "    \n",
    "    results[k] = cv"
   ]
  },
  {
   "cell_type": "code",
   "execution_count": null,
   "metadata": {
    "hidden": true
   },
   "outputs": [],
   "source": [
    "# selector 10\n",
    "pd.DataFrame.from_dict(results, orient='columns').describe()"
   ]
  },
  {
   "cell_type": "markdown",
   "metadata": {
    "heading_collapsed": true
   },
   "source": [
    "# GridSearchCV"
   ]
  },
  {
   "cell_type": "markdown",
   "metadata": {
    "heading_collapsed": true,
    "hidden": true
   },
   "source": [
    "## AdaBoostClassifier"
   ]
  },
  {
   "cell_type": "code",
   "execution_count": null,
   "metadata": {
    "hidden": true
   },
   "outputs": [],
   "source": [
    "AdaBoostClassifier_g = GridSearchCV(\n",
    "    estimator=AdaBoostClassifier(),\n",
    "    param_grid={\n",
    "        'n_estimators' : np.arange(50, 250, 5),\n",
    "        'learning_rate' : np.arange(1e-2, 1e1, 1e-1),\n",
    "        'algorithm' : ['SAMME', 'SAMME.R'],\n",
    "        'random_state' : [0]\n",
    "    },\n",
    "    cv=10\n",
    ")\n",
    "\n",
    "AdaBoostClassifier_g.fit(train_x, train_y)\n",
    "\n",
    "print(f\"AdaBoostClassifier_g.best_score_: {AdaBoostClassifier_g.best_score_}\")"
   ]
  },
  {
   "cell_type": "code",
   "execution_count": null,
   "metadata": {
    "hidden": true
   },
   "outputs": [],
   "source": [
    "scores = cross_val_score(\n",
    "    estimator=AdaBoostClassifier_g.best_estimator_,\n",
    "    X=train_x,\n",
    "    y=train_y,\n",
    "    cv=10\n",
    ")\n",
    "\n",
    "print(pd.Series(scores).describe())\n",
    "\n",
    "pd.Series(scores).plot.kde();"
   ]
  },
  {
   "cell_type": "markdown",
   "metadata": {
    "heading_collapsed": true,
    "hidden": true
   },
   "source": [
    "## ExtraTreesClassifier"
   ]
  },
  {
   "cell_type": "code",
   "execution_count": null,
   "metadata": {
    "hidden": true
   },
   "outputs": [],
   "source": [
    "ExtraTreesClassifier_g = GridSearchCV(\n",
    "    estimator=ExtraTreesClassifier(),\n",
    "    param_grid={\n",
    "        'n_estimators' : np.arange(50, 250, 5),\n",
    "        'learning_rate' : np.arange(1e-2, 1e1, 1e-1),\n",
    "        'algorithm' : ['SAMME', 'SAMME.R'],\n",
    "        'random_state' : [0]\n",
    "    },\n",
    "    cv=10\n",
    ")\n",
    "\n",
    "AdaBoostClassifier_g.fit(train_x, train_y)\n",
    "\n",
    "print(f\"AdaBoostClassifier_g.best_score_: {AdaBoostClassifier_g.best_score_}\")"
   ]
  },
  {
   "cell_type": "markdown",
   "metadata": {
    "heading_collapsed": true,
    "hidden": true
   },
   "source": [
    "## LogisticRegression"
   ]
  },
  {
   "cell_type": "code",
   "execution_count": null,
   "metadata": {
    "hidden": true
   },
   "outputs": [],
   "source": [
    "LogisticRegression_g = GridSearchCV(\n",
    "    estimator=LogisticRegression(),\n",
    "    param_grid={\n",
    "        'random_state' : [0],\n",
    "        'penalty' : ['l1', 'l2'],\n",
    "        'C' : np.arange(1e-2, 1e1, 1e-1),\n",
    "        'fit_intercept' : [True],\n",
    "        'max_iter' : [200],\n",
    "        'solver' : ['liblinear'],\n",
    "        'multi_class' : ['auto'],\n",
    "    },\n",
    "    cv=10,\n",
    ")\n",
    "\n",
    "LogisticRegression_g.fit(train_x, train_y)\n",
    "\n",
    "print(f\"LogisticRegression_g.best_score_: {LogisticRegression_g.best_score_}\")"
   ]
  },
  {
   "cell_type": "code",
   "execution_count": null,
   "metadata": {
    "hidden": true
   },
   "outputs": [],
   "source": [
    "scores = cross_val_score(\n",
    "    estimator=LogisticRegression_g.best_estimator_,\n",
    "    X=train_x,\n",
    "    y=train_y,\n",
    "    cv=10\n",
    ")\n",
    "\n",
    "print(pd.Series(scores).describe())\n",
    "\n",
    "pd.Series(scores).plot.kde();"
   ]
  },
  {
   "cell_type": "code",
   "execution_count": null,
   "metadata": {
    "hidden": true
   },
   "outputs": [],
   "source": [
    "pd.DataFrame(classification_report(\n",
    "    y_true=test_y,\n",
    "    y_pred=LogisticRegression_g.best_estimator_.predict(test_x),\n",
    "    output_dict=True\n",
    "))"
   ]
  }
 ],
 "metadata": {
  "kernelspec": {
   "display_name": "Python 3",
   "language": "python",
   "name": "python3"
  },
  "language_info": {
   "codemirror_mode": {
    "name": "ipython",
    "version": 3
   },
   "file_extension": ".py",
   "mimetype": "text/x-python",
   "name": "python",
   "nbconvert_exporter": "python",
   "pygments_lexer": "ipython3",
   "version": "3.7.6"
  }
 },
 "nbformat": 4,
 "nbformat_minor": 2
}
