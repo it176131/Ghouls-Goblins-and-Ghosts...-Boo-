{
 "cells": [
  {
   "cell_type": "markdown",
   "metadata": {
    "heading_collapsed": true
   },
   "source": [
    "# Imports"
   ]
  },
  {
   "cell_type": "markdown",
   "metadata": {
    "heading_collapsed": true,
    "hidden": true
   },
   "source": [
    "## Standards"
   ]
  },
  {
   "cell_type": "code",
   "execution_count": 26,
   "metadata": {
    "hidden": true
   },
   "outputs": [],
   "source": [
    "# analysis\n",
    "import pandas as pd\n",
    "import numpy as np\n",
    "from scipy import stats\n",
    "\n",
    "# visuals\n",
    "import matplotlib.pyplot as plt\n",
    "import seaborn as sns; sns.set()\n",
    "\n",
    "from pprint import pprint\n",
    "\n",
    "%matplotlib inline"
   ]
  },
  {
   "cell_type": "markdown",
   "metadata": {
    "heading_collapsed": true,
    "hidden": true
   },
   "source": [
    "## Machine Learning"
   ]
  },
  {
   "cell_type": "markdown",
   "metadata": {
    "heading_collapsed": true,
    "hidden": true
   },
   "source": [
    "### Preprocessing"
   ]
  },
  {
   "cell_type": "code",
   "execution_count": 171,
   "metadata": {
    "hidden": true
   },
   "outputs": [],
   "source": [
    "# base\n",
    "from sklearn.base import TransformerMixin, BaseEstimator\n",
    "\n",
    "# pipeline\n",
    "from sklearn.pipeline import Pipeline, FeatureUnion\n",
    "\n",
    "# compose\n",
    "from sklearn.compose import ColumnTransformer\n",
    "\n",
    "# preprocessing\n",
    "from sklearn.preprocessing import (\n",
    "    MinMaxScaler,\n",
    "    RobustScaler,\n",
    "    StandardScaler,\n",
    "    QuantileTransformer,\n",
    "    PolynomialFeatures,\n",
    "    OneHotEncoder,\n",
    ")\n",
    "\n",
    "# feature selection\n",
    "from sklearn.feature_selection import (\n",
    "    VarianceThreshold,\n",
    "    SelectPercentile,\n",
    "    mutual_info_classif,\n",
    "    f_classif,\n",
    "    chi2\n",
    ")\n",
    "\n",
    "# decomposition\n",
    "from sklearn.decomposition import PCA, TruncatedSVD, SparsePCA\n",
    "\n",
    "# manifold\n",
    "from sklearn.manifold import Isomap, TSNE, MDS, SpectralEmbedding"
   ]
  },
  {
   "cell_type": "markdown",
   "metadata": {
    "heading_collapsed": true,
    "hidden": true
   },
   "source": [
    "### Modeling"
   ]
  },
  {
   "cell_type": "code",
   "execution_count": 3,
   "metadata": {
    "hidden": true
   },
   "outputs": [],
   "source": [
    "# cluster\n",
    "from sklearn.cluster import OPTICS, AffinityPropagation, AgglomerativeClustering, DBSCAN, KMeans, MeanShift\n",
    "\n",
    "# ensemble\n",
    "from sklearn.ensemble import (\n",
    "    AdaBoostClassifier,\n",
    "    GradientBoostingClassifier,\n",
    "    ExtraTreesClassifier,\n",
    "    RandomForestClassifier,\n",
    ")\n",
    "\n",
    "# logistic regression\n",
    "from sklearn.linear_model import LogisticRegression, SGDClassifier\n",
    "\n",
    "# naive bayes\n",
    "from sklearn.naive_bayes import MultinomialNB\n",
    "\n",
    "# process classifier\n",
    "from sklearn.gaussian_process import GaussianProcessClassifier\n",
    "\n",
    "# neighbors\n",
    "from sklearn.neighbors import KNeighborsClassifier\n",
    "\n",
    "# neural networks\n",
    "from sklearn.neural_network import MLPClassifier\n",
    "\n",
    "# support vector machines\n",
    "from sklearn.svm import LinearSVC, SVC\n",
    "\n",
    "# multiclass\n",
    "from sklearn.multiclass import OneVsRestClassifier\n",
    "\n",
    "# train test split, tuning, and score validation\n",
    "from sklearn.model_selection import train_test_split, RandomizedSearchCV\n",
    "\n",
    "# classification report\n",
    "from sklearn.metrics import classification_report, confusion_matrix"
   ]
  },
  {
   "cell_type": "markdown",
   "metadata": {
    "heading_collapsed": true
   },
   "source": [
    "# Data"
   ]
  },
  {
   "cell_type": "code",
   "execution_count": 4,
   "metadata": {
    "hidden": true
   },
   "outputs": [],
   "source": [
    "# read training data\n",
    "train = pd.read_csv(\"train.csv\")"
   ]
  },
  {
   "cell_type": "code",
   "execution_count": 5,
   "metadata": {
    "hidden": true,
    "scrolled": true
   },
   "outputs": [
    {
     "name": "stdout",
     "output_type": "stream",
     "text": [
      "<class 'pandas.core.frame.DataFrame'>\n",
      "RangeIndex: 371 entries, 0 to 370\n",
      "Data columns (total 7 columns):\n",
      " #   Column         Non-Null Count  Dtype  \n",
      "---  ------         --------------  -----  \n",
      " 0   id             371 non-null    int64  \n",
      " 1   bone_length    371 non-null    float64\n",
      " 2   rotting_flesh  371 non-null    float64\n",
      " 3   hair_length    371 non-null    float64\n",
      " 4   has_soul       371 non-null    float64\n",
      " 5   color          371 non-null    object \n",
      " 6   type           371 non-null    object \n",
      "dtypes: float64(4), int64(1), object(2)\n",
      "memory usage: 20.4+ KB\n"
     ]
    }
   ],
   "source": [
    "train.info()"
   ]
  },
  {
   "cell_type": "code",
   "execution_count": 6,
   "metadata": {
    "hidden": true
   },
   "outputs": [
    {
     "data": {
      "text/html": [
       "<div>\n",
       "<style scoped>\n",
       "    .dataframe tbody tr th:only-of-type {\n",
       "        vertical-align: middle;\n",
       "    }\n",
       "\n",
       "    .dataframe tbody tr th {\n",
       "        vertical-align: top;\n",
       "    }\n",
       "\n",
       "    .dataframe thead th {\n",
       "        text-align: right;\n",
       "    }\n",
       "</style>\n",
       "<table border=\"1\" class=\"dataframe\">\n",
       "  <thead>\n",
       "    <tr style=\"text-align: right;\">\n",
       "      <th></th>\n",
       "      <th>id</th>\n",
       "      <th>bone_length</th>\n",
       "      <th>rotting_flesh</th>\n",
       "      <th>hair_length</th>\n",
       "      <th>has_soul</th>\n",
       "    </tr>\n",
       "  </thead>\n",
       "  <tbody>\n",
       "    <tr>\n",
       "      <th>count</th>\n",
       "      <td>371.000000</td>\n",
       "      <td>371.000000</td>\n",
       "      <td>371.000000</td>\n",
       "      <td>371.000000</td>\n",
       "      <td>371.000000</td>\n",
       "    </tr>\n",
       "    <tr>\n",
       "      <th>mean</th>\n",
       "      <td>443.676550</td>\n",
       "      <td>0.434160</td>\n",
       "      <td>0.506848</td>\n",
       "      <td>0.529114</td>\n",
       "      <td>0.471392</td>\n",
       "    </tr>\n",
       "    <tr>\n",
       "      <th>std</th>\n",
       "      <td>263.222489</td>\n",
       "      <td>0.132833</td>\n",
       "      <td>0.146358</td>\n",
       "      <td>0.169902</td>\n",
       "      <td>0.176129</td>\n",
       "    </tr>\n",
       "    <tr>\n",
       "      <th>min</th>\n",
       "      <td>0.000000</td>\n",
       "      <td>0.061032</td>\n",
       "      <td>0.095687</td>\n",
       "      <td>0.134600</td>\n",
       "      <td>0.009402</td>\n",
       "    </tr>\n",
       "    <tr>\n",
       "      <th>25%</th>\n",
       "      <td>205.500000</td>\n",
       "      <td>0.340006</td>\n",
       "      <td>0.414812</td>\n",
       "      <td>0.407428</td>\n",
       "      <td>0.348002</td>\n",
       "    </tr>\n",
       "    <tr>\n",
       "      <th>50%</th>\n",
       "      <td>458.000000</td>\n",
       "      <td>0.434891</td>\n",
       "      <td>0.501552</td>\n",
       "      <td>0.538642</td>\n",
       "      <td>0.466372</td>\n",
       "    </tr>\n",
       "    <tr>\n",
       "      <th>75%</th>\n",
       "      <td>678.500000</td>\n",
       "      <td>0.517223</td>\n",
       "      <td>0.603977</td>\n",
       "      <td>0.647244</td>\n",
       "      <td>0.600610</td>\n",
       "    </tr>\n",
       "    <tr>\n",
       "      <th>max</th>\n",
       "      <td>897.000000</td>\n",
       "      <td>0.817001</td>\n",
       "      <td>0.932466</td>\n",
       "      <td>1.000000</td>\n",
       "      <td>0.935721</td>\n",
       "    </tr>\n",
       "  </tbody>\n",
       "</table>\n",
       "</div>"
      ],
      "text/plain": [
       "               id  bone_length  rotting_flesh  hair_length    has_soul\n",
       "count  371.000000   371.000000     371.000000   371.000000  371.000000\n",
       "mean   443.676550     0.434160       0.506848     0.529114    0.471392\n",
       "std    263.222489     0.132833       0.146358     0.169902    0.176129\n",
       "min      0.000000     0.061032       0.095687     0.134600    0.009402\n",
       "25%    205.500000     0.340006       0.414812     0.407428    0.348002\n",
       "50%    458.000000     0.434891       0.501552     0.538642    0.466372\n",
       "75%    678.500000     0.517223       0.603977     0.647244    0.600610\n",
       "max    897.000000     0.817001       0.932466     1.000000    0.935721"
      ]
     },
     "execution_count": 6,
     "metadata": {},
     "output_type": "execute_result"
    }
   ],
   "source": [
    "train.describe()"
   ]
  },
  {
   "cell_type": "code",
   "execution_count": 7,
   "metadata": {
    "hidden": true
   },
   "outputs": [
    {
     "data": {
      "text/html": [
       "<div>\n",
       "<style scoped>\n",
       "    .dataframe tbody tr th:only-of-type {\n",
       "        vertical-align: middle;\n",
       "    }\n",
       "\n",
       "    .dataframe tbody tr th {\n",
       "        vertical-align: top;\n",
       "    }\n",
       "\n",
       "    .dataframe thead th {\n",
       "        text-align: right;\n",
       "    }\n",
       "</style>\n",
       "<table border=\"1\" class=\"dataframe\">\n",
       "  <thead>\n",
       "    <tr style=\"text-align: right;\">\n",
       "      <th></th>\n",
       "      <th>id</th>\n",
       "      <th>bone_length</th>\n",
       "      <th>rotting_flesh</th>\n",
       "      <th>hair_length</th>\n",
       "      <th>has_soul</th>\n",
       "      <th>color</th>\n",
       "      <th>type</th>\n",
       "    </tr>\n",
       "  </thead>\n",
       "  <tbody>\n",
       "    <tr>\n",
       "      <th>0</th>\n",
       "      <td>0</td>\n",
       "      <td>0.354512</td>\n",
       "      <td>0.350839</td>\n",
       "      <td>0.465761</td>\n",
       "      <td>0.781142</td>\n",
       "      <td>clear</td>\n",
       "      <td>Ghoul</td>\n",
       "    </tr>\n",
       "    <tr>\n",
       "      <th>1</th>\n",
       "      <td>1</td>\n",
       "      <td>0.575560</td>\n",
       "      <td>0.425868</td>\n",
       "      <td>0.531401</td>\n",
       "      <td>0.439899</td>\n",
       "      <td>green</td>\n",
       "      <td>Goblin</td>\n",
       "    </tr>\n",
       "    <tr>\n",
       "      <th>2</th>\n",
       "      <td>2</td>\n",
       "      <td>0.467875</td>\n",
       "      <td>0.354330</td>\n",
       "      <td>0.811616</td>\n",
       "      <td>0.791225</td>\n",
       "      <td>black</td>\n",
       "      <td>Ghoul</td>\n",
       "    </tr>\n",
       "    <tr>\n",
       "      <th>3</th>\n",
       "      <td>4</td>\n",
       "      <td>0.776652</td>\n",
       "      <td>0.508723</td>\n",
       "      <td>0.636766</td>\n",
       "      <td>0.884464</td>\n",
       "      <td>black</td>\n",
       "      <td>Ghoul</td>\n",
       "    </tr>\n",
       "    <tr>\n",
       "      <th>4</th>\n",
       "      <td>5</td>\n",
       "      <td>0.566117</td>\n",
       "      <td>0.875862</td>\n",
       "      <td>0.418594</td>\n",
       "      <td>0.636438</td>\n",
       "      <td>green</td>\n",
       "      <td>Ghost</td>\n",
       "    </tr>\n",
       "  </tbody>\n",
       "</table>\n",
       "</div>"
      ],
      "text/plain": [
       "   id  bone_length  rotting_flesh  hair_length  has_soul  color    type\n",
       "0   0     0.354512       0.350839     0.465761  0.781142  clear   Ghoul\n",
       "1   1     0.575560       0.425868     0.531401  0.439899  green  Goblin\n",
       "2   2     0.467875       0.354330     0.811616  0.791225  black   Ghoul\n",
       "3   4     0.776652       0.508723     0.636766  0.884464  black   Ghoul\n",
       "4   5     0.566117       0.875862     0.418594  0.636438  green   Ghost"
      ]
     },
     "execution_count": 7,
     "metadata": {},
     "output_type": "execute_result"
    }
   ],
   "source": [
    "train.head()"
   ]
  },
  {
   "cell_type": "markdown",
   "metadata": {},
   "source": [
    "# Goal\n",
    "Predict `type` of creature."
   ]
  },
  {
   "cell_type": "code",
   "execution_count": 8,
   "metadata": {},
   "outputs": [
    {
     "data": {
      "text/plain": [
       "Ghoul     129\n",
       "Goblin    125\n",
       "Ghost     117\n",
       "Name: type, dtype: int64"
      ]
     },
     "execution_count": 8,
     "metadata": {},
     "output_type": "execute_result"
    }
   ],
   "source": [
    "train.type.value_counts()"
   ]
  },
  {
   "cell_type": "code",
   "execution_count": 9,
   "metadata": {},
   "outputs": [],
   "source": [
    "train.set_index('id', inplace=True)\n",
    "\n",
    "X = train.drop(columns='type')\n",
    "y = train.type\n",
    "\n",
    "X_obj = X.select_dtypes(include=['O'])\n",
    "\n",
    "X_num = X.select_dtypes(exclude=['O'])\n",
    "\n",
    "from sklearn.preprocessing import OneHotEncoder\n",
    "\n",
    "ohe = OneHotEncoder(sparse=False)\n",
    "\n",
    "ohe_obj = ohe.fit_transform(X_obj)\n",
    "\n",
    "X_obj = pd.DataFrame(\n",
    "    data=ohe_obj,\n",
    "    index=X_obj.index,\n",
    "    columns=ohe.get_feature_names(X_obj.columns)\n",
    ")\n",
    "\n",
    "X = X_num.join(X_obj)"
   ]
  },
  {
   "cell_type": "code",
   "execution_count": 10,
   "metadata": {},
   "outputs": [],
   "source": [
    "X_train, X_test, y_train, y_test = train_test_split(X, y, test_size=0.3, stratify=y, random_state=0)\n",
    "\n",
    "X_train, X_validate, y_train, y_validate = train_test_split(X_train, y_train, test_size=0.3, stratify=y_train, random_state=0)"
   ]
  },
  {
   "cell_type": "code",
   "execution_count": 172,
   "metadata": {},
   "outputs": [],
   "source": [
    "pipe = Pipeline(steps=[\n",
    "    ('poly', PolynomialFeatures()),\n",
    "    ('scale', MinMaxScaler()),\n",
    "    ('var', VarianceThreshold()),\n",
    "    ('select', SelectPercentile()),\n",
    "    ('clf', GradientBoostingClassifier(random_state=0))\n",
    "])"
   ]
  },
  {
   "cell_type": "code",
   "execution_count": 178,
   "metadata": {},
   "outputs": [],
   "source": [
    "params_pre = {\n",
    "    'poly__degree' : stats.randint(2, 6),\n",
    "    'poly__interaction_only' : [True, False],\n",
    "    'poly__include_bias' : [True, False],\n",
    "    'scale' : [\n",
    "        MinMaxScaler(),\n",
    "        QuantileTransformer(output_distribution='uniform', ignore_implicit_zeros=False, random_state=0),\n",
    "        QuantileTransformer(output_distribution='normal', ignore_implicit_zeros=False, random_state=0),\n",
    "        QuantileTransformer(output_distribution='uniform', ignore_implicit_zeros=True, random_state=0),\n",
    "        QuantileTransformer(output_distribution='normal', ignore_implicit_zeros=True, random_state=0),\n",
    "    ],\n",
    "    'var__threshold' : stats.uniform(0, 0.04),\n",
    "    'select__score_func' : [f_classif, chi2, mutual_info_classif],\n",
    "    'select__percentile' : stats.randint(10, 100),\n",
    "}\n",
    "\n",
    "params = [\n",
    "#     {\n",
    "#         **params_pre,\n",
    "#         'clf' : [GradientBoostingClassifier(loss = \"deviance\", random_state=0)],\n",
    "#         'clf__learning_rate' : stats.uniform(0.1, 1),\n",
    "#         'clf__n_estimators' : stats.randint(100, 1000),\n",
    "#         'clf__subsample' : stats.uniform(0, 1),\n",
    "#         'clf__criterion' : ['friedman_mse', 'mse', 'mae',],\n",
    "#         'clf__min_samples_split' : stats.uniform(0, 0.5),\n",
    "#         'clf__min_samples_leaf' : stats.uniform(0, 0.5),\n",
    "#         'clf__min_weight_fraction_leaf' : stats.uniform(0, 0.5),\n",
    "#         'clf__max_depth' : stats.randint(3, 50),\n",
    "#         'clf__min_impurity_decrease' : stats.uniform(0, 0.5),\n",
    "#         'clf__max_features' : ['sqrt', 'log2', None],\n",
    "#         'clf__warm_start' : [True, False],\n",
    "#         'clf__validation_fraction' : stats.uniform(0.1, 0.2),\n",
    "#         'clf__n_iter_no_change' : stats.randint(0, 10),\n",
    "#         'clf__tol' : stats.uniform(1e-4, 1e-1),\n",
    "#         'clf__ccp_alpha' : stats.uniform(0, 1)\n",
    "#     },\n",
    "#     {\n",
    "#         **params_pre,\n",
    "#         'clf' : [AdaBoostClassifier(random_state=0)],\n",
    "#         'clf__n_estimators' : stats.randint(50, 1000),\n",
    "#         'clf__learning_rate' : stats.uniform(0.5, 1.5),\n",
    "#         'clf__algorithm' : ['SAMME', 'SAMME.R'],\n",
    "#     },\n",
    "    {\n",
    "        **params_pre,\n",
    "        'clf' : [OneVsRestClassifier(AdaBoostClassifier(random_state=0), n_jobs=-1)],\n",
    "        'clf__estimator__n_estimators' : stats.randint(50, 1000),\n",
    "        'clf__estimator__learning_rate' : stats.uniform(0.5, 1.5),\n",
    "        'clf__estimator__algorithm' : ['SAMME', 'SAMME.R'],\n",
    "    }\n",
    "]\n",
    "\n",
    "ada_rscv = RandomizedSearchCV(\n",
    "    estimator=pipe,\n",
    "    param_distributions=params,\n",
    "    n_iter=10,\n",
    "    n_jobs=-1,\n",
    "    cv=10,\n",
    "    verbose=True,\n",
    "    random_state=0,\n",
    ")"
   ]
  },
  {
   "cell_type": "code",
   "execution_count": 179,
   "metadata": {
    "scrolled": true
   },
   "outputs": [
    {
     "name": "stdout",
     "output_type": "stream",
     "text": [
      "Fitting 10 folds for each of 10 candidates, totalling 100 fits\n"
     ]
    },
    {
     "name": "stderr",
     "output_type": "stream",
     "text": [
      "[Parallel(n_jobs=-1)]: Using backend LokyBackend with 4 concurrent workers.\n",
      "[Parallel(n_jobs=-1)]: Done  42 tasks      | elapsed:  2.3min\n",
      "[Parallel(n_jobs=-1)]: Done 100 out of 100 | elapsed:  5.0min finished\n"
     ]
    },
    {
     "name": "stdout",
     "output_type": "stream",
     "text": [
      "Best Params\n",
      "-----------------------------------------------------------------------------\n",
      "\n",
      "{'clf': OneVsRestClassifier(estimator=AdaBoostClassifier(algorithm='SAMME',\n",
      "                                                 learning_rate=0.6306939495523111,\n",
      "                                                 n_estimators=165,\n",
      "                                                 random_state=0),\n",
      "                    n_jobs=-1),\n",
      " 'clf__estimator__algorithm': 'SAMME',\n",
      " 'clf__estimator__learning_rate': 0.6306939495523111,\n",
      " 'clf__estimator__n_estimators': 165,\n",
      " 'poly__degree': 2,\n",
      " 'poly__include_bias': False,\n",
      " 'poly__interaction_only': False,\n",
      " 'scale': MinMaxScaler(),\n",
      " 'select__percentile': 92,\n",
      " 'select__score_func': <function f_classif at 0x7f6a2e62ddd0>,\n",
      " 'var__threshold': 0.03203643007918577}\n",
      "\n",
      "-----------------------------------------------------------------------------\n",
      "\n",
      "Best Training Score: 0.684795321637427\n",
      "\n",
      "-----------------------------------------------------------------------------\n",
      "\n",
      "Training Score: 0.9281767955801105\n",
      "\n",
      "              precision    recall  f1-score   support\n",
      "\n",
      "       Ghost       1.00      1.00      1.00        57\n",
      "       Ghoul       0.88      0.92      0.90        63\n",
      "      Goblin       0.91      0.87      0.89        61\n",
      "\n",
      "    accuracy                           0.93       181\n",
      "   macro avg       0.93      0.93      0.93       181\n",
      "weighted avg       0.93      0.93      0.93       181\n",
      "\n",
      "\n",
      "-----------------------------------------------------------------------------\n",
      "\n",
      "Validation Score: 0.717948717948718\n",
      "\n",
      "              precision    recall  f1-score   support\n",
      "\n",
      "       Ghost       0.71      0.96      0.81        25\n",
      "       Ghoul       0.83      0.70      0.76        27\n",
      "      Goblin       0.62      0.50      0.55        26\n",
      "\n",
      "    accuracy                           0.72        78\n",
      "   macro avg       0.72      0.72      0.71        78\n",
      "weighted avg       0.72      0.72      0.71        78\n",
      "\n",
      "\n",
      "-----------------------------------------------------------------------------\n",
      "\n",
      "Test Score: 0.6875\n",
      "\n",
      "              precision    recall  f1-score   support\n",
      "\n",
      "       Ghost       0.72      0.83      0.77        35\n",
      "       Ghoul       0.74      0.74      0.74        39\n",
      "      Goblin       0.58      0.50      0.54        38\n",
      "\n",
      "    accuracy                           0.69       112\n",
      "   macro avg       0.68      0.69      0.68       112\n",
      "weighted avg       0.68      0.69      0.68       112\n",
      "\n",
      "\n"
     ]
    }
   ],
   "source": [
    "ada_rscv.fit(X_train, y_train)\n",
    "print(f\"Best Params\")\n",
    "print('-'*77)\n",
    "print()\n",
    "pprint(ada_rscv.best_params_)\n",
    "print()\n",
    "print('-'*77)\n",
    "print()\n",
    "print(f\"Best Training Score: {ada_rscv.best_score_}\")\n",
    "print()\n",
    "print('-'*77)\n",
    "print()\n",
    "print(f\"Training Score: {ada_rscv.score(X_train, y_train)}\")\n",
    "print()\n",
    "print(classification_report(y_train, ada_rscv.predict(X_train)))\n",
    "print()\n",
    "print('-'*77)\n",
    "print()\n",
    "print(f\"Validation Score: {ada_rscv.score(X_validate, y_validate)}\")\n",
    "print()\n",
    "print(classification_report(y_validate, ada_rscv.predict(X_validate)))\n",
    "print()\n",
    "print('-'*77)\n",
    "print()\n",
    "print(f\"Test Score: {ada_rscv.score(X_test, y_test)}\")\n",
    "print()\n",
    "print(classification_report(y_test, ada_rscv.predict(X_test)))\n",
    "print()"
   ]
  },
  {
   "cell_type": "code",
   "execution_count": 183,
   "metadata": {},
   "outputs": [],
   "source": [
    "ada_cv_results = pd.DataFrame(ada_rscv.cv_results_)\n",
    "\n",
    "param_cols = ada_cv_results.columns[ada_cv_results.columns.str.contains('param')]\n",
    "\n",
    "split_cols = ada_cv_results.columns[ada_cv_results.columns.str.contains('split')]\n",
    "\n",
    "time_cols = ada_cv_results.columns[ada_cv_results.columns.str.contains('time')]\n",
    "\n",
    "test_cols = ada_cv_results.columns[\n",
    "    (ada_cv_results.columns.str.contains('test')) & (ada_cv_results.columns.isin(split_cols) == False)\n",
    "]\n",
    "\n",
    "param_cols = param_cols.drop([\n",
    "    'params',\n",
    "    'param_clf',\n",
    "])\n",
    "\n",
    "ada_cv_results = ada_cv_results.reindex(columns=param_cols.append(test_cols))"
   ]
  },
  {
   "cell_type": "code",
   "execution_count": 184,
   "metadata": {},
   "outputs": [],
   "source": [
    "def cfloat(series):\n",
    "    try:\n",
    "        return series.astype(float)\n",
    "    except Exception:\n",
    "        return series"
   ]
  },
  {
   "cell_type": "code",
   "execution_count": 185,
   "metadata": {},
   "outputs": [],
   "source": [
    "ada_cv_results = ada_cv_results.apply(lambda x : cfloat(x))"
   ]
  },
  {
   "cell_type": "code",
   "execution_count": 186,
   "metadata": {},
   "outputs": [
    {
     "data": {
      "text/plain": [
       "param_clf__estimator__n_estimators    -0.337562\n",
       "param_var__threshold                  -0.331210\n",
       "param_clf__estimator__learning_rate   -0.291050\n",
       "param_poly__include_bias              -0.054524\n",
       "param_poly__interaction_only           0.067628\n",
       "param_select__percentile               0.179881\n",
       "param_poly__degree                     0.413885\n",
       "Name: mean_test_score, dtype: float64"
      ]
     },
     "execution_count": 186,
     "metadata": {},
     "output_type": "execute_result"
    }
   ],
   "source": [
    "ada_cv_results.corr().mean_test_score.iloc[:-3].sort_values()"
   ]
  },
  {
   "cell_type": "code",
   "execution_count": 187,
   "metadata": {},
   "outputs": [
    {
     "data": {
      "text/plain": [
       "param_clf__estimator__algorithm    2.0\n",
       "param_poly__include_bias           2.0\n",
       "param_poly__interaction_only       2.0\n",
       "dtype: float64"
      ]
     },
     "execution_count": 187,
     "metadata": {},
     "output_type": "execute_result"
    }
   ],
   "source": [
    "ada_cv_results.nunique().where(lambda x : x == 2).dropna()"
   ]
  },
  {
   "cell_type": "code",
   "execution_count": 188,
   "metadata": {},
   "outputs": [
    {
     "data": {
      "text/plain": [
       "<matplotlib.axes._subplots.AxesSubplot at 0x7f6a1cbbcd10>"
      ]
     },
     "execution_count": 188,
     "metadata": {},
     "output_type": "execute_result"
    },
    {
     "data": {
      "image/png": "[encoded data removed]",
      "text/plain": [
       "<Figure size 1152x576 with 1 Axes>"
      ]
     },
     "metadata": {
      "needs_background": "light"
     },
     "output_type": "display_data"
    }
   ],
   "source": [
    "fig, ax = plt.subplots(figsize=(16,8))\n",
    "\n",
    "sns.scatterplot(\n",
    "    data=ada_cv_results,\n",
    "    x='param_poly__degree',\n",
    "    y='mean_test_score',\n",
    "    hue='param_scale',\n",
    "    ax=ax\n",
    ")"
   ]
  },
  {
   "cell_type": "markdown",
   "metadata": {
    "heading_collapsed": true
   },
   "source": [
    "# Test"
   ]
  },
  {
   "cell_type": "code",
   "execution_count": 232,
   "metadata": {
    "hidden": true
   },
   "outputs": [],
   "source": [
    "from sklearn.preprocessing import RobustScaler\n",
    "\n",
    "from sklearn.feature_selection import SelectPercentile, chi2, f_classif, mutual_info_classif\n",
    "\n",
    "from functools import partial"
   ]
  },
  {
   "cell_type": "code",
   "execution_count": 235,
   "metadata": {
    "hidden": true
   },
   "outputs": [],
   "source": [
    "class SelectPercentileMI(SelectPercentile):\n",
    "    def __init__(self, percentile=10, n_neighbors=3):\n",
    "        self.n_neighbors=n_neighbors\n",
    "        super().__init__(percentile=percentile,\n",
    "                         score_func=partial(mutual_info_classif, n_neighbors=3))"
   ]
  },
  {
   "cell_type": "code",
   "execution_count": 246,
   "metadata": {
    "hidden": true
   },
   "outputs": [],
   "source": [
    "pipe = Pipeline(steps=[\n",
    "    ('scale', RobustScaler()),\n",
    "    ('var0', VarianceThreshold()),\n",
    "    ('poly', PolynomialFeatures()),\n",
    "    ('var1', VarianceThreshold()),\n",
    "    ('select', 'passthrough')\n",
    "])\n",
    "\n",
    "params0 = {\n",
    "    'scale__with_centering' : [True, False],\n",
    "    'scale__with_scaling' : [True, False],\n",
    "    'var0__threshold' : stats.uniform(0,0.5),\n",
    "    'poly__degree' : stats.randint(2, 5),\n",
    "    'poly__interaction_only' : [True, False],\n",
    "    'poly__include_bias' : [True, False],\n",
    "    'var1__threshold' : stats.uniform(0, 0.5),\n",
    "}\n",
    "\n",
    "params = [\n",
    "    {\n",
    "        **params0,\n",
    "        'select' : [SelectPercentile()],\n",
    "        'select__score_func' : [chi2, f_classif],\n",
    "        'select__percentile' : stats.randint(1,100),\n",
    "    },\n",
    "    {\n",
    "        **params0,\n",
    "        'select' : [SelectPercentileMI()],\n",
    "        'select__percentile' : stats.randint(1,100),\n",
    "        'select__n_neighbors' : stats.randint(2,50),\n",
    "    },\n",
    "]"
   ]
  },
  {
   "cell_type": "code",
   "execution_count": null,
   "metadata": {
    "hidden": true
   },
   "outputs": [],
   "source": [
    "from sklearn.ensemble import "
   ]
  },
  {
   "cell_type": "markdown",
   "metadata": {
    "heading_collapsed": true
   },
   "source": [
    "# Stuff"
   ]
  },
  {
   "cell_type": "code",
   "execution_count": 109,
   "metadata": {
    "hidden": true
   },
   "outputs": [],
   "source": [
    "train['bl_q'] = np.where(\n",
    "    train.bone_length < train.bone_length.quantile(0.25),\n",
    "    0,\n",
    "    np.where(\n",
    "        train.bone_length > train.bone_length.quantile(0.75),\n",
    "        2, 1\n",
    "    )\n",
    ")"
   ]
  },
  {
   "cell_type": "code",
   "execution_count": 110,
   "metadata": {
    "hidden": true
   },
   "outputs": [],
   "source": [
    "train['rf_q'] = np.where(\n",
    "    train.rotting_flesh < train.rotting_flesh.quantile(0.25),\n",
    "    0,\n",
    "    np.where(\n",
    "        train.rotting_flesh > train.rotting_flesh.quantile(0.75),\n",
    "        2, 1\n",
    "    )\n",
    ")"
   ]
  },
  {
   "cell_type": "code",
   "execution_count": 111,
   "metadata": {
    "hidden": true
   },
   "outputs": [],
   "source": [
    "train['hl_q'] = np.where(\n",
    "    train.hair_length < train.hair_length.quantile(0.25),\n",
    "    0,\n",
    "    np.where(\n",
    "        train.hair_length > train.hair_length.quantile(0.75),\n",
    "        2, 1\n",
    "    )\n",
    ")"
   ]
  },
  {
   "cell_type": "code",
   "execution_count": 112,
   "metadata": {
    "hidden": true
   },
   "outputs": [],
   "source": [
    "train['hs_q'] = np.where(\n",
    "    train.has_soul < train.has_soul.quantile(0.25),\n",
    "    0,\n",
    "    np.where(\n",
    "        train.has_soul > train.has_soul.quantile(0.75),\n",
    "        2, 1\n",
    "    )\n",
    ")"
   ]
  },
  {
   "cell_type": "code",
   "execution_count": 144,
   "metadata": {
    "hidden": true
   },
   "outputs": [
    {
     "data": {
      "image/png": "[encoded data removed]",
      "text/plain": [
       "<Figure size 1152x576 with 1 Axes>"
      ]
     },
     "metadata": {
      "needs_background": "light"
     },
     "output_type": "display_data"
    }
   ],
   "source": [
    "fig, ax = plt.subplots(figsize=(16,8))\n",
    "\n",
    "sns.boxplot(\n",
    "    data=train,\n",
    "    x='type',\n",
    "    y='bone_length',\n",
    "    ax=ax,\n",
    "    order=train.type.sort_values().unique()\n",
    ")\n",
    "\n",
    "ax.axhline(train.bone_length.quantile(0.25), c='k', ls='--')\n",
    "ax.axhline(train.bone_length.quantile(0.50), c='k', ls='--')\n",
    "ax.axhline(train.bone_length.quantile(0.75), c='k', ls='--');"
   ]
  },
  {
   "cell_type": "code",
   "execution_count": 143,
   "metadata": {
    "hidden": true
   },
   "outputs": [
    {
     "data": {
      "image/png": "[encoded data removed]",
      "text/plain": [
       "<Figure size 1152x576 with 1 Axes>"
      ]
     },
     "metadata": {
      "needs_background": "light"
     },
     "output_type": "display_data"
    }
   ],
   "source": [
    "fig, ax = plt.subplots(figsize=(16,8))\n",
    "\n",
    "sns.boxplot(\n",
    "    data=train,\n",
    "    x='type',\n",
    "    y='rotting_flesh',\n",
    "    ax=ax,\n",
    "    order=train.type.sort_values().unique()\n",
    ")\n",
    "\n",
    "ax.axhline(train.rotting_flesh.quantile(0.25), c='k', ls='--')\n",
    "ax.axhline(train.rotting_flesh.quantile(0.50), c='k', ls='--')\n",
    "ax.axhline(train.rotting_flesh.quantile(0.75), c='k', ls='--');"
   ]
  },
  {
   "cell_type": "code",
   "execution_count": 138,
   "metadata": {
    "hidden": true
   },
   "outputs": [
    {
     "data": {
      "text/html": [
       "<div>\n",
       "<style scoped>\n",
       "    .dataframe tbody tr th:only-of-type {\n",
       "        vertical-align: middle;\n",
       "    }\n",
       "\n",
       "    .dataframe tbody tr th {\n",
       "        vertical-align: top;\n",
       "    }\n",
       "\n",
       "    .dataframe thead th {\n",
       "        text-align: right;\n",
       "    }\n",
       "</style>\n",
       "<table border=\"1\" class=\"dataframe\">\n",
       "  <thead>\n",
       "    <tr style=\"text-align: right;\">\n",
       "      <th>hl_q</th>\n",
       "      <th>0</th>\n",
       "      <th>1</th>\n",
       "      <th>2</th>\n",
       "    </tr>\n",
       "    <tr>\n",
       "      <th>type</th>\n",
       "      <th></th>\n",
       "      <th></th>\n",
       "      <th></th>\n",
       "    </tr>\n",
       "  </thead>\n",
       "  <tbody>\n",
       "    <tr>\n",
       "      <th>Ghost</th>\n",
       "      <td>0.598291</td>\n",
       "      <td>0.401709</td>\n",
       "      <td>NaN</td>\n",
       "    </tr>\n",
       "    <tr>\n",
       "      <th>Ghoul</th>\n",
       "      <td>0.031008</td>\n",
       "      <td>0.418605</td>\n",
       "      <td>0.550388</td>\n",
       "    </tr>\n",
       "    <tr>\n",
       "      <th>Goblin</th>\n",
       "      <td>0.152000</td>\n",
       "      <td>0.672000</td>\n",
       "      <td>0.176000</td>\n",
       "    </tr>\n",
       "  </tbody>\n",
       "</table>\n",
       "</div>"
      ],
      "text/plain": [
       "hl_q           0         1         2\n",
       "type                                \n",
       "Ghost   0.598291  0.401709       NaN\n",
       "Ghoul   0.031008  0.418605  0.550388\n",
       "Goblin  0.152000  0.672000  0.176000"
      ]
     },
     "execution_count": 138,
     "metadata": {},
     "output_type": "execute_result"
    }
   ],
   "source": [
    "train.groupby([\n",
    "    'type',\n",
    "    'hl_q',\n",
    "]).id.nunique().unstack().apply(lambda x : x/x.sum(), axis=1)"
   ]
  },
  {
   "cell_type": "code",
   "execution_count": 141,
   "metadata": {
    "hidden": true
   },
   "outputs": [
    {
     "data": {
      "image/png": "[encoded data removed]",
      "text/plain": [
       "<Figure size 1152x576 with 1 Axes>"
      ]
     },
     "metadata": {
      "needs_background": "light"
     },
     "output_type": "display_data"
    }
   ],
   "source": [
    "fig, ax = plt.subplots(figsize=(16,8))\n",
    "\n",
    "sns.boxplot(\n",
    "    data=train,\n",
    "    x='type',\n",
    "    y='hair_length',\n",
    "    ax=ax,\n",
    "    order=train.type.sort_values().unique()\n",
    ")\n",
    "\n",
    "ax.axhline(train.hair_length.quantile(0.25), c='k', ls='--')\n",
    "ax.axhline(train.hair_length.quantile(0.50), c='k', ls='--')\n",
    "ax.axhline(train.hair_length.quantile(0.75), c='k', ls='--');"
   ]
  },
  {
   "cell_type": "code",
   "execution_count": 139,
   "metadata": {
    "hidden": true
   },
   "outputs": [
    {
     "data": {
      "text/html": [
       "<div>\n",
       "<style scoped>\n",
       "    .dataframe tbody tr th:only-of-type {\n",
       "        vertical-align: middle;\n",
       "    }\n",
       "\n",
       "    .dataframe tbody tr th {\n",
       "        vertical-align: top;\n",
       "    }\n",
       "\n",
       "    .dataframe thead th {\n",
       "        text-align: right;\n",
       "    }\n",
       "</style>\n",
       "<table border=\"1\" class=\"dataframe\">\n",
       "  <thead>\n",
       "    <tr style=\"text-align: right;\">\n",
       "      <th>hs_q</th>\n",
       "      <th>0</th>\n",
       "      <th>1</th>\n",
       "      <th>2</th>\n",
       "    </tr>\n",
       "    <tr>\n",
       "      <th>type</th>\n",
       "      <th></th>\n",
       "      <th></th>\n",
       "      <th></th>\n",
       "    </tr>\n",
       "  </thead>\n",
       "  <tbody>\n",
       "    <tr>\n",
       "      <th>Ghost</th>\n",
       "      <td>0.589744</td>\n",
       "      <td>0.384615</td>\n",
       "      <td>0.025641</td>\n",
       "    </tr>\n",
       "    <tr>\n",
       "      <th>Ghoul</th>\n",
       "      <td>0.023256</td>\n",
       "      <td>0.480620</td>\n",
       "      <td>0.496124</td>\n",
       "    </tr>\n",
       "    <tr>\n",
       "      <th>Goblin</th>\n",
       "      <td>0.168000</td>\n",
       "      <td>0.624000</td>\n",
       "      <td>0.208000</td>\n",
       "    </tr>\n",
       "  </tbody>\n",
       "</table>\n",
       "</div>"
      ],
      "text/plain": [
       "hs_q           0         1         2\n",
       "type                                \n",
       "Ghost   0.589744  0.384615  0.025641\n",
       "Ghoul   0.023256  0.480620  0.496124\n",
       "Goblin  0.168000  0.624000  0.208000"
      ]
     },
     "execution_count": 139,
     "metadata": {},
     "output_type": "execute_result"
    }
   ],
   "source": [
    "train.groupby([\n",
    "    'type',\n",
    "    'hs_q',\n",
    "]).id.nunique().unstack().apply(lambda x : x/x.sum(), axis=1)"
   ]
  },
  {
   "cell_type": "code",
   "execution_count": 140,
   "metadata": {
    "hidden": true
   },
   "outputs": [
    {
     "data": {
      "image/png": "[encoded data removed]",
      "text/plain": [
       "<Figure size 1152x576 with 1 Axes>"
      ]
     },
     "metadata": {
      "needs_background": "light"
     },
     "output_type": "display_data"
    }
   ],
   "source": [
    "fig, ax = plt.subplots(figsize=(16,8))\n",
    "\n",
    "sns.boxplot(\n",
    "    data=train,\n",
    "    x='type',\n",
    "    y='has_soul',\n",
    "    ax=ax,\n",
    "    order=train.type.sort_values().unique()\n",
    ")\n",
    "\n",
    "ax.axhline(train.has_soul.quantile(0.25), c='k', ls='--')\n",
    "ax.axhline(train.has_soul.quantile(0.50), c='k', ls='--')\n",
    "ax.axhline(train.has_soul.quantile(0.75), c='k', ls='--');"
   ]
  },
  {
   "cell_type": "code",
   "execution_count": 78,
   "metadata": {
    "hidden": true
   },
   "outputs": [],
   "source": [
    "t = train.reindex(columns=[\n",
    "    'bone_length',\n",
    "    'rotting_flesh',\n",
    "    'hair_length',\n",
    "    'has_soul',\n",
    "    'type',\n",
    "])"
   ]
  },
  {
   "cell_type": "code",
   "execution_count": 79,
   "metadata": {
    "hidden": true
   },
   "outputs": [],
   "source": [
    "# t = t.melt(id_vars='type')"
   ]
  },
  {
   "cell_type": "code",
   "execution_count": 76,
   "metadata": {
    "hidden": true
   },
   "outputs": [],
   "source": [
    "t['_neg_prod'] = pd.DataFrame(\n",
    "    data=MinMaxScaler((-1,1)).fit_transform(t.drop(columns=['type'])),\n",
    "    columns=t.drop(columns=['type']).columns\n",
    ").prod(axis=1)"
   ]
  },
  {
   "cell_type": "code",
   "execution_count": 80,
   "metadata": {
    "hidden": true
   },
   "outputs": [],
   "source": [
    "t['_prod'] = t.drop(columns=[\n",
    "    'type'\n",
    "]).prod(axis=1)"
   ]
  },
  {
   "cell_type": "code",
   "execution_count": 83,
   "metadata": {
    "hidden": true
   },
   "outputs": [
    {
     "data": {
      "text/plain": [
       "type\n",
       "Ghost     AxesSubplot(0.125,0.125;0.775x0.755)\n",
       "Ghoul     AxesSubplot(0.125,0.125;0.775x0.755)\n",
       "Goblin    AxesSubplot(0.125,0.125;0.775x0.755)\n",
       "Name: _prod, dtype: object"
      ]
     },
     "execution_count": 83,
     "metadata": {},
     "output_type": "execute_result"
    },
    {
     "data": {
      "image/png": "[encoded data removed]",
      "text/plain": [
       "<Figure size 432x288 with 1 Axes>"
      ]
     },
     "metadata": {
      "needs_background": "light"
     },
     "output_type": "display_data"
    }
   ],
   "source": [
    "t.groupby(['type'])._prod.plot.kde(legend=True)"
   ]
  },
  {
   "cell_type": "code",
   "execution_count": 18,
   "metadata": {
    "hidden": true
   },
   "outputs": [],
   "source": [
    "ghoul = t.loc[\n",
    "    t.type == 'Ghoul'\n",
    "].copy()"
   ]
  },
  {
   "cell_type": "code",
   "execution_count": 50,
   "metadata": {
    "hidden": true
   },
   "outputs": [
    {
     "name": "stderr",
     "output_type": "stream",
     "text": [
      "/home/ian/anaconda3/lib/python3.7/site-packages/seaborn/axisgrid.py:728: UserWarning: Using the boxplot function without specifying `order` is likely to produce an incorrect plot.\n",
      "  warnings.warn(warning)\n"
     ]
    },
    {
     "data": {
      "text/plain": [
       "<seaborn.axisgrid.FacetGrid at 0x7ffa8c305d10>"
      ]
     },
     "execution_count": 50,
     "metadata": {},
     "output_type": "execute_result"
    },
    {
     "data": {
      "image/png": "[encoded data removed]",
      "text/plain": [
       "<Figure size 648x216 with 3 Axes>"
      ]
     },
     "metadata": {
      "needs_background": "light"
     },
     "output_type": "display_data"
    }
   ],
   "source": [
    "g = sns.FacetGrid(\n",
    "    data=t,\n",
    "    col='type',\n",
    "s)\n",
    "\n",
    "g.map(sns.boxplot, 'variable', 'value')"
   ]
  },
  {
   "cell_type": "code",
   "execution_count": 35,
   "metadata": {
    "hidden": true
   },
   "outputs": [
    {
     "data": {
      "text/plain": [
       "(0, 1.1)"
      ]
     },
     "execution_count": 35,
     "metadata": {},
     "output_type": "execute_result"
    },
    {
     "data": {
      "image/png": "[encoded data removed]",
      "text/plain": [
       "<Figure size 432x288 with 1 Axes>"
      ]
     },
     "metadata": {
      "needs_background": "light"
     },
     "output_type": "display_data"
    }
   ],
   "source": [
    "sns.boxplot(\n",
    "    data=ghoul.drop(columns='type').melt(),\n",
    "    x='variable',\n",
    "    y='value'\n",
    ")\n",
    "\n",
    "plt.ylim(0, 1.1)"
   ]
  },
  {
   "cell_type": "code",
   "execution_count": 19,
   "metadata": {
    "hidden": true
   },
   "outputs": [],
   "source": [
    "ghost = t.loc[\n",
    "    t.type == 'Ghost'\n",
    "].copy()"
   ]
  },
  {
   "cell_type": "code",
   "execution_count": 36,
   "metadata": {
    "hidden": true
   },
   "outputs": [
    {
     "data": {
      "text/plain": [
       "(0, 1.1)"
      ]
     },
     "execution_count": 36,
     "metadata": {},
     "output_type": "execute_result"
    },
    {
     "data": {
      "image/png": "[encoded data removed]",
      "text/plain": [
       "<Figure size 432x288 with 1 Axes>"
      ]
     },
     "metadata": {
      "needs_background": "light"
     },
     "output_type": "display_data"
    }
   ],
   "source": [
    "sns.boxplot(\n",
    "    data=ghost.drop(columns='type').melt(),\n",
    "    x='variable',\n",
    "    y='value'\n",
    ")\n",
    "\n",
    "plt.ylim(0, 1.1)"
   ]
  },
  {
   "cell_type": "code",
   "execution_count": 20,
   "metadata": {
    "hidden": true
   },
   "outputs": [],
   "source": [
    "goblin = t.loc[\n",
    "    t.type == 'Goblin'\n",
    "].copy()"
   ]
  },
  {
   "cell_type": "code",
   "execution_count": 37,
   "metadata": {
    "hidden": true
   },
   "outputs": [
    {
     "data": {
      "text/plain": [
       "(0, 1.1)"
      ]
     },
     "execution_count": 37,
     "metadata": {},
     "output_type": "execute_result"
    },
    {
     "data": {
      "image/png": "[encoded data removed]",
      "text/plain": [
       "<Figure size 432x288 with 1 Axes>"
      ]
     },
     "metadata": {
      "needs_background": "light"
     },
     "output_type": "display_data"
    }
   ],
   "source": [
    "sns.boxplot(\n",
    "    data=goblin.drop(columns='type').melt(),\n",
    "    x='variable',\n",
    "    y='value'\n",
    ")\n",
    "\n",
    "plt.ylim(0, 1.1)"
   ]
  },
  {
   "cell_type": "code",
   "execution_count": 335,
   "metadata": {
    "hidden": true
   },
   "outputs": [
    {
     "data": {
      "text/plain": [
       "type\n",
       "Ghost     0.340442\n",
       "Ghoul     0.515397\n",
       "Goblin    0.430797\n",
       "Name: bone_length, dtype: float64"
      ]
     },
     "execution_count": 335,
     "metadata": {},
     "output_type": "execute_result"
    }
   ],
   "source": [
    "train.groupby('type').bone_length.median()"
   ]
  },
  {
   "cell_type": "code",
   "execution_count": 336,
   "metadata": {
    "hidden": true
   },
   "outputs": [
    {
     "data": {
      "text/plain": [
       "type\n",
       "Ghost     0.347466\n",
       "Ghoul     0.517159\n",
       "Goblin    0.429650\n",
       "Name: bone_length, dtype: float64"
      ]
     },
     "execution_count": 336,
     "metadata": {},
     "output_type": "execute_result"
    }
   ],
   "source": [
    "train.groupby('type').bone_length.mean()"
   ]
  },
  {
   "cell_type": "code",
   "execution_count": 334,
   "metadata": {
    "hidden": true
   },
   "outputs": [
    {
     "data": {
      "text/plain": [
       "<matplotlib.axes._subplots.AxesSubplot at 0x7f11c8298310>"
      ]
     },
     "execution_count": 334,
     "metadata": {},
     "output_type": "execute_result"
    },
    {
     "data": {
      "image/png": "[encoded data removed]",
      "text/plain": [
       "<Figure size 1152x576 with 1 Axes>"
      ]
     },
     "metadata": {
      "needs_background": "light"
     },
     "output_type": "display_data"
    }
   ],
   "source": [
    "fig, ax = plt.subplots(figsize=(16,8))\n",
    "\n",
    "sns.boxplot(\n",
    "    data=train,\n",
    "    y='bone_length',\n",
    "    x='type',\n",
    "    ax=ax,\n",
    ")"
   ]
  },
  {
   "cell_type": "code",
   "execution_count": 338,
   "metadata": {
    "hidden": true
   },
   "outputs": [
    {
     "data": {
      "text/plain": [
       "<matplotlib.axes._subplots.AxesSubplot at 0x7f11c810d150>"
      ]
     },
     "execution_count": 338,
     "metadata": {},
     "output_type": "execute_result"
    },
    {
     "data": {
      "image/png": "[encoded data removed]",
      "text/plain": [
       "<Figure size 1152x576 with 1 Axes>"
      ]
     },
     "metadata": {
      "needs_background": "light"
     },
     "output_type": "display_data"
    }
   ],
   "source": [
    "fig, ax = plt.subplots(figsize=(16,8))\n",
    "\n",
    "sns.boxplot(\n",
    "    data=train,\n",
    "    y='rotting_flesh',\n",
    "    x='type',\n",
    "    ax=ax,\n",
    ")"
   ]
  },
  {
   "cell_type": "code",
   "execution_count": 342,
   "metadata": {
    "hidden": true
   },
   "outputs": [],
   "source": [
    "train['feature_sum'] = train.reindex(columns=[\n",
    "    'bone_length',\n",
    "    'rotting_flesh',\n",
    "    'hair_length',\n",
    "    'has_soul',\n",
    "]).sum(axis=1)"
   ]
  },
  {
   "cell_type": "code",
   "execution_count": 344,
   "metadata": {
    "hidden": true
   },
   "outputs": [
    {
     "data": {
      "text/plain": [
       "<matplotlib.axes._subplots.AxesSubplot at 0x7f11e1d5c250>"
      ]
     },
     "execution_count": 344,
     "metadata": {},
     "output_type": "execute_result"
    },
    {
     "data": {
      "image/png": "[encoded data removed]",
      "text/plain": [
       "<Figure size 1152x576 with 1 Axes>"
      ]
     },
     "metadata": {
      "needs_background": "light"
     },
     "output_type": "display_data"
    }
   ],
   "source": [
    "fig, ax = plt.subplots(figsize=(16,8))\n",
    "\n",
    "sns.boxplot(\n",
    "    data=train,\n",
    "    y='feature_sum',\n",
    "    x='type',\n",
    "    ax=ax,\n",
    ")"
   ]
  },
  {
   "cell_type": "code",
   "execution_count": 337,
   "metadata": {
    "hidden": true
   },
   "outputs": [
    {
     "data": {
      "text/plain": [
       "Index(['id', 'bone_length', 'rotting_flesh', 'hair_length', 'has_soul',\n",
       "       'color', 'type'],\n",
       "      dtype='object')"
      ]
     },
     "execution_count": 337,
     "metadata": {},
     "output_type": "execute_result"
    }
   ],
   "source": [
    "train.columns"
   ]
  },
  {
   "cell_type": "code",
   "execution_count": 339,
   "metadata": {
    "hidden": true
   },
   "outputs": [
    {
     "data": {
      "text/plain": [
       "<matplotlib.axes._subplots.AxesSubplot at 0x7f11d06e5510>"
      ]
     },
     "execution_count": 339,
     "metadata": {},
     "output_type": "execute_result"
    },
    {
     "data": {
      "image/png": "[encoded data removed]",
      "text/plain": [
       "<Figure size 1152x576 with 1 Axes>"
      ]
     },
     "metadata": {
      "needs_background": "light"
     },
     "output_type": "display_data"
    }
   ],
   "source": [
    "fig, ax = plt.subplots(figsize=(16,8))\n",
    "\n",
    "sns.boxplot(\n",
    "    data=train,\n",
    "    y='hair_length',\n",
    "    x='type',\n",
    "    ax=ax,\n",
    ")"
   ]
  },
  {
   "cell_type": "code",
   "execution_count": 324,
   "metadata": {
    "hidden": true
   },
   "outputs": [
    {
     "data": {
      "image/png": "[encoded data removed]",
      "text/plain": [
       "<Figure size 432x288 with 1 Axes>"
      ]
     },
     "metadata": {
      "needs_background": "light"
     },
     "output_type": "display_data"
    }
   ],
   "source": [
    "train.groupby([\n",
    "    'type',\n",
    "]).bone_length.plot.kde(legend=True)\n",
    "\n",
    "for i in train.groupby('type').bone_length.mean():\n",
    "    plt.axvline(i, c='k', ls='--');"
   ]
  },
  {
   "cell_type": "code",
   "execution_count": 329,
   "metadata": {
    "hidden": true
   },
   "outputs": [
    {
     "data": {
      "text/plain": [
       "Index(['id', 'bone_length', 'rotting_flesh', 'hair_length', 'has_soul',\n",
       "       'color', 'type'],\n",
       "      dtype='object')"
      ]
     },
     "execution_count": 329,
     "metadata": {},
     "output_type": "execute_result"
    }
   ],
   "source": [
    "train.columns"
   ]
  },
  {
   "cell_type": "code",
   "execution_count": 330,
   "metadata": {
    "hidden": true
   },
   "outputs": [
    {
     "data": {
      "image/png": "[encoded data removed]",
      "text/plain": [
       "<Figure size 432x288 with 1 Axes>"
      ]
     },
     "metadata": {
      "needs_background": "light"
     },
     "output_type": "display_data"
    }
   ],
   "source": [
    "train.groupby([\n",
    "    'type',\n",
    "]).rotting_flesh.plot.kde(legend=True)\n",
    "\n",
    "for i in train.groupby('type').rotting_flesh.mean():\n",
    "    plt.axvline(i, c='k', ls='--');"
   ]
  },
  {
   "cell_type": "code",
   "execution_count": 327,
   "metadata": {
    "hidden": true
   },
   "outputs": [
    {
     "data": {
      "text/plain": [
       "NormaltestResult(statistic=1.438324568785459, pvalue=0.4871601867628075)"
      ]
     },
     "execution_count": 327,
     "metadata": {},
     "output_type": "execute_result"
    }
   ],
   "source": [
    "stats.normaltest(train.loc[\n",
    "    train.type == 'Ghost',\n",
    "    'bone_length'\n",
    "])"
   ]
  },
  {
   "cell_type": "code",
   "execution_count": 316,
   "metadata": {
    "hidden": true
   },
   "outputs": [
    {
     "data": {
      "text/html": [
       "<div>\n",
       "<style scoped>\n",
       "    .dataframe tbody tr th:only-of-type {\n",
       "        vertical-align: middle;\n",
       "    }\n",
       "\n",
       "    .dataframe tbody tr th {\n",
       "        vertical-align: top;\n",
       "    }\n",
       "\n",
       "    .dataframe thead th {\n",
       "        text-align: right;\n",
       "    }\n",
       "</style>\n",
       "<table border=\"1\" class=\"dataframe\">\n",
       "  <thead>\n",
       "    <tr style=\"text-align: right;\">\n",
       "      <th></th>\n",
       "      <th>bone_length</th>\n",
       "      <th>rotting_flesh</th>\n",
       "      <th>hair_length</th>\n",
       "      <th>has_soul</th>\n",
       "    </tr>\n",
       "  </thead>\n",
       "  <tbody>\n",
       "    <tr>\n",
       "      <th>bone_length</th>\n",
       "      <td>1.000000</td>\n",
       "      <td>-0.041716</td>\n",
       "      <td>0.353881</td>\n",
       "      <td>0.381675</td>\n",
       "    </tr>\n",
       "    <tr>\n",
       "      <th>rotting_flesh</th>\n",
       "      <td>-0.041716</td>\n",
       "      <td>1.000000</td>\n",
       "      <td>-0.220353</td>\n",
       "      <td>-0.132051</td>\n",
       "    </tr>\n",
       "    <tr>\n",
       "      <th>hair_length</th>\n",
       "      <td>0.353881</td>\n",
       "      <td>-0.220353</td>\n",
       "      <td>1.000000</td>\n",
       "      <td>0.474835</td>\n",
       "    </tr>\n",
       "    <tr>\n",
       "      <th>has_soul</th>\n",
       "      <td>0.381675</td>\n",
       "      <td>-0.132051</td>\n",
       "      <td>0.474835</td>\n",
       "      <td>1.000000</td>\n",
       "    </tr>\n",
       "  </tbody>\n",
       "</table>\n",
       "</div>"
      ],
      "text/plain": [
       "               bone_length  rotting_flesh  hair_length  has_soul\n",
       "bone_length       1.000000      -0.041716     0.353881  0.381675\n",
       "rotting_flesh    -0.041716       1.000000    -0.220353 -0.132051\n",
       "hair_length       0.353881      -0.220353     1.000000  0.474835\n",
       "has_soul          0.381675      -0.132051     0.474835  1.000000"
      ]
     },
     "execution_count": 316,
     "metadata": {},
     "output_type": "execute_result"
    }
   ],
   "source": [
    "train.drop(columns=[\n",
    "    'id'\n",
    "]).select_dtypes(exclude=['O']).corr()"
   ]
  },
  {
   "cell_type": "code",
   "execution_count": 320,
   "metadata": {
    "hidden": true
   },
   "outputs": [
    {
     "data": {
      "text/plain": [
       "<matplotlib.axes._subplots.AxesSubplot at 0x7f11c82c3510>"
      ]
     },
     "execution_count": 320,
     "metadata": {},
     "output_type": "execute_result"
    },
    {
     "data": {
      "image/png": "[encoded data removed]",
      "text/plain": [
       "<Figure size 1152x576 with 2 Axes>"
      ]
     },
     "metadata": {
      "needs_background": "light"
     },
     "output_type": "display_data"
    }
   ],
   "source": [
    "fig, ax = plt.subplots(figsize=(16,8))\n",
    "\n",
    "sns.heatmap(\n",
    "    data=train.drop(columns=[\n",
    "        'id'\n",
    "    ]).select_dtypes(exclude=['O']).corr(),\n",
    "    cmap='Reds',\n",
    "    ax=ax,\n",
    ")"
   ]
  },
  {
   "cell_type": "code",
   "execution_count": 245,
   "metadata": {
    "hidden": true
   },
   "outputs": [],
   "source": [
    "ohe_color = OneHotEncoder(drop='first', sparse=False)"
   ]
  },
  {
   "cell_type": "code",
   "execution_count": 246,
   "metadata": {
    "hidden": true
   },
   "outputs": [],
   "source": [
    "train = train.join(pd.DataFrame(\n",
    "    data=ohe_color.fit_transform(train.color.values.reshape(-1,1)),\n",
    "    columns=ohe_color.get_feature_names()\n",
    "))"
   ]
  },
  {
   "cell_type": "code",
   "execution_count": 248,
   "metadata": {
    "hidden": true
   },
   "outputs": [],
   "source": [
    "# # get dummy color features\n",
    "# train = train.join(pd.get_dummies(train.color))"
   ]
  },
  {
   "cell_type": "code",
   "execution_count": 249,
   "metadata": {
    "hidden": true
   },
   "outputs": [],
   "source": [
    "# # create empty list to hold combinations of colors\n",
    "# c = []\n",
    "\n",
    "# # create combinations of color features (min 2, max nunique colors - 1)\n",
    "# for i in range(2, train.color.nunique()):\n",
    "#     els = [list(x) for x in combinations(train.color.unique(), i)]\n",
    "#     c.extend(els)\n",
    "\n",
    "# # sum the combinations and add new column to train\n",
    "# for i in c:\n",
    "#     train['_'.join(i)] = train[i].sum(axis=1)"
   ]
  },
  {
   "cell_type": "markdown",
   "metadata": {
    "heading_collapsed": true
   },
   "source": [
    "# EDA"
   ]
  },
  {
   "cell_type": "markdown",
   "metadata": {
    "heading_collapsed": true,
    "hidden": true
   },
   "source": [
    "## `train_test_split`"
   ]
  },
  {
   "cell_type": "code",
   "execution_count": 294,
   "metadata": {
    "hidden": true
   },
   "outputs": [],
   "source": [
    "X = train.drop(columns=[\n",
    "    'id',\n",
    "    'color',\n",
    "    'type',\n",
    "])\n",
    "\n",
    "y = train.type\n",
    "\n",
    "X_train, X_test, y_train, y_test = train_test_split(X, y, test_size=0.3, random_state=0)"
   ]
  },
  {
   "cell_type": "code",
   "execution_count": 303,
   "metadata": {
    "hidden": true
   },
   "outputs": [
    {
     "data": {
      "image/png": "[encoded data removed]",
      "text/plain": [
       "<Figure size 1152x576 with 1 Axes>"
      ]
     },
     "metadata": {
      "needs_background": "light"
     },
     "output_type": "display_data"
    }
   ],
   "source": [
    "fig, ax = plt.subplots(figsize=(16,8))\n",
    "\n",
    "train.groupby([\n",
    "    'type',\n",
    "]).bone_length.plot.kde(ax=ax);\n",
    "\n",
    "for i in train.groupby([\n",
    "    'type',\n",
    "]).bone_length.mean().values:\n",
    "    ax.axvline(i, c='k', ls='--')"
   ]
  },
  {
   "cell_type": "code",
   "execution_count": 297,
   "metadata": {
    "hidden": true
   },
   "outputs": [
    {
     "data": {
      "text/plain": [
       "<matplotlib.axes._subplots.AxesSubplot at 0x7f11c8696650>"
      ]
     },
     "execution_count": 297,
     "metadata": {},
     "output_type": "execute_result"
    },
    {
     "data": {
      "image/png": "[encoded data removed]",
      "text/plain": [
       "<Figure size 1152x576 with 1 Axes>"
      ]
     },
     "metadata": {
      "needs_background": "light"
     },
     "output_type": "display_data"
    }
   ],
   "source": [
    "fig, ax = plt.subplots(figsize=(16,8))\n",
    "\n",
    "sns.kdeplot(\n",
    "    data=train,\n",
    "    x='bone_length',\n",
    "    y='rotting_flesh',\n",
    "    hue='type',\n",
    "    ax=ax\n",
    ")"
   ]
  },
  {
   "cell_type": "code",
   "execution_count": 288,
   "metadata": {
    "hidden": true
   },
   "outputs": [],
   "source": [
    "# X_tsne = TSNE(random_state=0).fit_transform(StandardScaler().fit_transform(X))\n",
    "X_tsne = TSNE(random_state=0).fit_transform(StandardScaler(with_mean=False).fit_transform(X))\n",
    "# X_tsne = TSNE(random_state=0).fit_transform(MinMaxScaler().fit_transform(X))\n",
    "# X_tsne = TSNE(random_state=0).fit_transform(MinMaxScaler(feature_range=(-1,1)).fit_transform(X))\n",
    "# X_tsne = TSNE(random_state=0).fit_transform(RobustScaler().fit_transform(X))\n",
    "# X_tsne = TSNE(random_state=0).fit_transform(RobustScaler(with_centering=False).fit_transform(X))"
   ]
  },
  {
   "cell_type": "code",
   "execution_count": 289,
   "metadata": {
    "hidden": true
   },
   "outputs": [
    {
     "data": {
      "image/png": "[encoded data removed]",
      "text/plain": [
       "<Figure size 1152x576 with 1 Axes>"
      ]
     },
     "metadata": {
      "needs_background": "light"
     },
     "output_type": "display_data"
    }
   ],
   "source": [
    "sse = {}\n",
    "\n",
    "for k in range(1, 10):\n",
    "    sse[k] = KMeans(n_clusters=k, random_state=0).fit(RobustScaler().fit_transform(X)).inertia_\n",
    "\n",
    "fig, ax = plt.subplots(figsize=(16,8))\n",
    "\n",
    "ax.plot(list(sse.keys()), list(sse.values()))\n",
    "\n",
    "# ax.axvline(6, c='r')\n",
    "\n",
    "ax.set_xlim(1);"
   ]
  },
  {
   "cell_type": "code",
   "execution_count": 290,
   "metadata": {
    "hidden": true
   },
   "outputs": [],
   "source": [
    "ohe = OneHotEncoder(drop='first', sparse=False)\n",
    "\n",
    "X = X.join(pd.DataFrame(\n",
    "#     data=ohe.fit_transform(KMeans(n_clusters=3, random_state=0).fit_predict(X).reshape(-1,1)),\n",
    "    data=KMeans(n_clusters=2, random_state=0).fit_predict(X),\n",
    "#     columns=['km_ohe0', 'km_ohe1',]\n",
    "    columns=['km']\n",
    "))"
   ]
  },
  {
   "cell_type": "code",
   "execution_count": 291,
   "metadata": {
    "hidden": true
   },
   "outputs": [],
   "source": [
    "# X_tsne = TSNE(random_state=0).fit_transform(StandardScaler().fit_transform(X))\n",
    "X_tsne = TSNE(random_state=0).fit_transform(StandardScaler(with_mean=False).fit_transform(X))\n",
    "# X_tsne = TSNE(random_state=0).fit_transform(MinMaxScaler().fit_transform(X))\n",
    "# X_tsne = TSNE(random_state=0).fit_transform(MinMaxScaler(feature_range=(-1,1)).fit_transform(X))\n",
    "# X_tsne = TSNE(random_state=0).fit_transform(RobustScaler().fit_transform(X))\n",
    "# X_tsne = TSNE(random_state=0).fit_transform(RobustScaler(with_centering=False).fit_transform(X))"
   ]
  },
  {
   "cell_type": "code",
   "execution_count": 292,
   "metadata": {
    "hidden": true
   },
   "outputs": [
    {
     "data": {
      "text/html": [
       "<style  type=\"text/css\" >\n",
       "    #T_d4b2b83e_66e3_11ea_802f_b519486460bcrow0_col0 {\n",
       "            background-color:  #b8c6e0;\n",
       "            color:  #000000;\n",
       "        }    #T_d4b2b83e_66e3_11ea_802f_b519486460bcrow0_col1 {\n",
       "            background-color:  #4e9ac6;\n",
       "            color:  #000000;\n",
       "        }    #T_d4b2b83e_66e3_11ea_802f_b519486460bcrow0_col2 {\n",
       "            background-color:  #1b7eb7;\n",
       "            color:  #000000;\n",
       "        }    #T_d4b2b83e_66e3_11ea_802f_b519486460bcrow1_col0 {\n",
       "            background-color:  #023858;\n",
       "            color:  #f1f1f1;\n",
       "        }    #T_d4b2b83e_66e3_11ea_802f_b519486460bcrow1_col1 {\n",
       "            background-color:  #91b5d6;\n",
       "            color:  #000000;\n",
       "        }    #T_d4b2b83e_66e3_11ea_802f_b519486460bcrow1_col2 {\n",
       "            background-color:  #fff7fb;\n",
       "            color:  #000000;\n",
       "        }    #T_d4b2b83e_66e3_11ea_802f_b519486460bcrow2_col0 {\n",
       "            background-color:  #d9d8ea;\n",
       "            color:  #000000;\n",
       "        }    #T_d4b2b83e_66e3_11ea_802f_b519486460bcrow2_col1 {\n",
       "            background-color:  #eee9f3;\n",
       "            color:  #000000;\n",
       "        }    #T_d4b2b83e_66e3_11ea_802f_b519486460bcrow2_col2 {\n",
       "            background-color:  #034a74;\n",
       "            color:  #f1f1f1;\n",
       "        }    #T_d4b2b83e_66e3_11ea_802f_b519486460bcrow3_col0 {\n",
       "            background-color:  #fff7fb;\n",
       "            color:  #000000;\n",
       "        }    #T_d4b2b83e_66e3_11ea_802f_b519486460bcrow3_col1 {\n",
       "            background-color:  #0d75b3;\n",
       "            color:  #f1f1f1;\n",
       "        }    #T_d4b2b83e_66e3_11ea_802f_b519486460bcrow3_col2 {\n",
       "            background-color:  #023858;\n",
       "            color:  #f1f1f1;\n",
       "        }    #T_d4b2b83e_66e3_11ea_802f_b519486460bcrow4_col0 {\n",
       "            background-color:  #a1bbda;\n",
       "            color:  #000000;\n",
       "        }    #T_d4b2b83e_66e3_11ea_802f_b519486460bcrow4_col1 {\n",
       "            background-color:  #fff7fb;\n",
       "            color:  #000000;\n",
       "        }    #T_d4b2b83e_66e3_11ea_802f_b519486460bcrow4_col2 {\n",
       "            background-color:  #056dab;\n",
       "            color:  #f1f1f1;\n",
       "        }    #T_d4b2b83e_66e3_11ea_802f_b519486460bcrow5_col0 {\n",
       "            background-color:  #d4d4e8;\n",
       "            color:  #000000;\n",
       "        }    #T_d4b2b83e_66e3_11ea_802f_b519486460bcrow5_col1 {\n",
       "            background-color:  #023858;\n",
       "            color:  #f1f1f1;\n",
       "        }    #T_d4b2b83e_66e3_11ea_802f_b519486460bcrow5_col2 {\n",
       "            background-color:  #2182b9;\n",
       "            color:  #000000;\n",
       "        }</style><table id=\"T_d4b2b83e_66e3_11ea_802f_b519486460bc\" ><thead>    <tr>        <th class=\"index_name level0\" >type</th>        <th class=\"col_heading level0 col0\" >Ghost</th>        <th class=\"col_heading level0 col1\" >Ghoul</th>        <th class=\"col_heading level0 col2\" >Goblin</th>    </tr>    <tr>        <th class=\"index_name level0\" >color</th>        <th class=\"blank\" ></th>        <th class=\"blank\" ></th>        <th class=\"blank\" ></th>    </tr></thead><tbody>\n",
       "                <tr>\n",
       "                        <th id=\"T_d4b2b83e_66e3_11ea_802f_b519486460bclevel0_row0\" class=\"row_heading level0 row0\" >black</th>\n",
       "                        <td id=\"T_d4b2b83e_66e3_11ea_802f_b519486460bcrow0_col0\" class=\"data row0 col0\" >0.341463</td>\n",
       "                        <td id=\"T_d4b2b83e_66e3_11ea_802f_b519486460bcrow0_col1\" class=\"data row0 col1\" >0.341463</td>\n",
       "                        <td id=\"T_d4b2b83e_66e3_11ea_802f_b519486460bcrow0_col2\" class=\"data row0 col2\" >0.317073</td>\n",
       "            </tr>\n",
       "            <tr>\n",
       "                        <th id=\"T_d4b2b83e_66e3_11ea_802f_b519486460bclevel0_row1\" class=\"row_heading level0 row1\" >blood</th>\n",
       "                        <td id=\"T_d4b2b83e_66e3_11ea_802f_b519486460bcrow1_col0\" class=\"data row1 col0\" >0.500000</td>\n",
       "                        <td id=\"T_d4b2b83e_66e3_11ea_802f_b519486460bcrow1_col1\" class=\"data row1 col1\" >0.333333</td>\n",
       "                        <td id=\"T_d4b2b83e_66e3_11ea_802f_b519486460bcrow1_col2\" class=\"data row1 col2\" >0.166667</td>\n",
       "            </tr>\n",
       "            <tr>\n",
       "                        <th id=\"T_d4b2b83e_66e3_11ea_802f_b519486460bclevel0_row2\" class=\"row_heading level0 row2\" >blue</th>\n",
       "                        <td id=\"T_d4b2b83e_66e3_11ea_802f_b519486460bcrow2_col0\" class=\"data row2 col0\" >0.315789</td>\n",
       "                        <td id=\"T_d4b2b83e_66e3_11ea_802f_b519486460bcrow2_col1\" class=\"data row2 col1\" >0.315789</td>\n",
       "                        <td id=\"T_d4b2b83e_66e3_11ea_802f_b519486460bcrow2_col2\" class=\"data row2 col2\" >0.368421</td>\n",
       "            </tr>\n",
       "            <tr>\n",
       "                        <th id=\"T_d4b2b83e_66e3_11ea_802f_b519486460bclevel0_row3\" class=\"row_heading level0 row3\" >clear</th>\n",
       "                        <td id=\"T_d4b2b83e_66e3_11ea_802f_b519486460bcrow3_col0\" class=\"data row3 col0\" >0.266667</td>\n",
       "                        <td id=\"T_d4b2b83e_66e3_11ea_802f_b519486460bcrow3_col1\" class=\"data row3 col1\" >0.350000</td>\n",
       "                        <td id=\"T_d4b2b83e_66e3_11ea_802f_b519486460bcrow3_col2\" class=\"data row3 col2\" >0.383333</td>\n",
       "            </tr>\n",
       "            <tr>\n",
       "                        <th id=\"T_d4b2b83e_66e3_11ea_802f_b519486460bclevel0_row4\" class=\"row_heading level0 row4\" >green</th>\n",
       "                        <td id=\"T_d4b2b83e_66e3_11ea_802f_b519486460bcrow4_col0\" class=\"data row4 col0\" >0.357143</td>\n",
       "                        <td id=\"T_d4b2b83e_66e3_11ea_802f_b519486460bcrow4_col1\" class=\"data row4 col1\" >0.309524</td>\n",
       "                        <td id=\"T_d4b2b83e_66e3_11ea_802f_b519486460bcrow4_col2\" class=\"data row4 col2\" >0.333333</td>\n",
       "            </tr>\n",
       "            <tr>\n",
       "                        <th id=\"T_d4b2b83e_66e3_11ea_802f_b519486460bclevel0_row5\" class=\"row_heading level0 row5\" >white</th>\n",
       "                        <td id=\"T_d4b2b83e_66e3_11ea_802f_b519486460bcrow5_col0\" class=\"data row5 col0\" >0.321168</td>\n",
       "                        <td id=\"T_d4b2b83e_66e3_11ea_802f_b519486460bcrow5_col1\" class=\"data row5 col1\" >0.364964</td>\n",
       "                        <td id=\"T_d4b2b83e_66e3_11ea_802f_b519486460bcrow5_col2\" class=\"data row5 col2\" >0.313869</td>\n",
       "            </tr>\n",
       "    </tbody></table>"
      ],
      "text/plain": [
       "<pandas.io.formats.style.Styler at 0x7f11c872e910>"
      ]
     },
     "execution_count": 292,
     "metadata": {},
     "output_type": "execute_result"
    }
   ],
   "source": [
    "train.groupby([\n",
    "    'color',\n",
    "    'type',\n",
    "]).id.nunique().unstack().apply(lambda x : x/x.sum(), axis=1).style.background_gradient(axis=0)"
   ]
  },
  {
   "cell_type": "code",
   "execution_count": 293,
   "metadata": {
    "hidden": true
   },
   "outputs": [
    {
     "data": {
      "image/png": "[encoded data removed]",
      "text/plain": [
       "<Figure size 1152x576 with 1 Axes>"
      ]
     },
     "metadata": {
      "needs_background": "light"
     },
     "output_type": "display_data"
    }
   ],
   "source": [
    "fig, ax = plt.subplots(figsize=(16,8))\n",
    "\n",
    "sns.scatterplot(\n",
    "    x=X_tsne[:, 0],\n",
    "    y=X_tsne[:, 1],\n",
    "    hue=y\n",
    ");"
   ]
  },
  {
   "cell_type": "markdown",
   "metadata": {
    "heading_collapsed": true,
    "hidden": true
   },
   "source": [
    "## Pipe"
   ]
  },
  {
   "cell_type": "markdown",
   "metadata": {
    "heading_collapsed": true,
    "hidden": true
   },
   "source": [
    "### Cleaner"
   ]
  },
  {
   "cell_type": "code",
   "execution_count": 273,
   "metadata": {
    "hidden": true
   },
   "outputs": [],
   "source": [
    "class ScalerSwap(BaseEstimator):\n",
    "    \n",
    "    def __init__(self, scaler = StandardScaler()):\n",
    "        \"\"\"\n",
    "        A Custom BaseEstimator that can switch between scalers.\n",
    "        :param estimator: sklearn object - The scaler\n",
    "        \"\"\" \n",
    "        \n",
    "        self.scaler = scaler\n",
    "\n",
    "    def fit(self, X, y=None, **kwargs):\n",
    "        self.scaler.fit(X, y)\n",
    "        return self\n",
    "\n",
    "    def transform(self, X, **kwargs):\n",
    "        self.scaler.transform(X)\n",
    "        return self"
   ]
  },
  {
   "cell_type": "code",
   "execution_count": 274,
   "metadata": {
    "hidden": true
   },
   "outputs": [],
   "source": [
    "pipe_cleaner = Pipeline([\n",
    "    ('poly', PolynomialFeatures()),\n",
    "#     ('scaler', ScalerSwap()),\n",
    "    ('scaler', StandardScaler()),\n",
    "    ('vt', VarianceThreshold()),\n",
    "])\n",
    "\n",
    "cleaner_params = {\n",
    "    'cleaner__poly__degree' : stats.distributions.randint(2, 4+1),\n",
    "    'cleaner__poly__include_bias' : [True, False],\n",
    "    'cleaner__poly__interaction_only' : [True, False],\n",
    "    'cleaner__vt__threshold' : stats.distributions.uniform(0.0, 2e-2),\n",
    "}\n",
    "\n",
    "scaler_params = [\n",
    "    {\n",
    "#         'cleaner__scaler__scaler' : [StandardScaler()],\n",
    "#         'cleaner__scaler__scaler__with_mean' : [True, False],\n",
    "#         'cleaner__scaler__scaler__with_std' : [True, False],\n",
    "        'cleaner__scaler__with_mean' : [True, False],\n",
    "        'cleaner__scaler__with_std' : [True, False],\n",
    "    },\n",
    "#     {\n",
    "#         'cleaner__scaler__scaler' : [MinMaxScaler()],\n",
    "#         'cleaner__scaler__scaler__feature_range' : [(0,1), (-1,1), (-0.5, 0.5)],\n",
    "#     },\n",
    "#     {\n",
    "#         'cleaner__scaler__scaler' : [RobustScaler()],\n",
    "#         'cleaner__scaler__scaler__with_centering' : [True, False],\n",
    "#         'cleaner__scaler__scaler__with_scaling' : [True, False],\n",
    "#     }\n",
    "]\n",
    "\n",
    "cleaner_params = {**cleaner_params, **np.random.choice(scaler_params)}"
   ]
  },
  {
   "cell_type": "markdown",
   "metadata": {
    "heading_collapsed": true,
    "hidden": true
   },
   "source": [
    "### Decomposition"
   ]
  },
  {
   "cell_type": "code",
   "execution_count": 275,
   "metadata": {
    "hidden": true
   },
   "outputs": [],
   "source": [
    "pipe_decomp = Pipeline([\n",
    "    ('union', FeatureUnion([\n",
    "        ('pca', PCA(random_state=0)),\n",
    "        ('svd', TruncatedSVD(random_state=0))\n",
    "    ], n_jobs=-1))\n",
    "])\n",
    "\n",
    "decomp_params = {\n",
    "    'decomp__union__pca__n_components' : stats.distributions.uniform(0.5, 0.5),\n",
    "    'decomp__union__pca__whiten' : [True, False],\n",
    "#     'decomp__union__pca__svd_solver' : ['auto', 'full', 'arpack', 'randomized'],\n",
    "    'decomp__union__pca__tol' : stats.distributions.uniform(0.0, 0.5),\n",
    "    'decomp__union__svd__n_components' : stats.distributions.randint(2, 50),\n",
    "    'decomp__union__svd__algorithm' : ['randomized', 'arpack'],\n",
    "    'decomp__union__svd__n_iter' : stats.distributions.randint(5, 15),\n",
    "    'decomp__union__svd__tol' : stats.distributions.uniform(0.0, 0.5),\n",
    "}"
   ]
  },
  {
   "cell_type": "markdown",
   "metadata": {
    "heading_collapsed": true,
    "hidden": true
   },
   "source": [
    "### Unsupervised Clustering"
   ]
  },
  {
   "cell_type": "code",
   "execution_count": 276,
   "metadata": {
    "hidden": true
   },
   "outputs": [],
   "source": [
    "class ModelTransformer(TransformerMixin, BaseEstimator):\n",
    "    \n",
    "    def __init__(self, model):\n",
    "        self.model = model\n",
    "    \n",
    "    def fit(self, *args, **kwargs):\n",
    "        self.model.fit(*args, **kwargs)\n",
    "        return self\n",
    "    \n",
    "    def transform(self, X, **transform_params):\n",
    "        return pd.DataFrame(self.model.fit_predict(X))\n",
    "\n",
    "pipe_cluster = Pipeline([\n",
    "    ('union', FeatureUnion([\n",
    "        ('optics', ModelTransformer(OPTICS(n_jobs=-1))),\n",
    "        ('dbscan', ModelTransformer(DBSCAN(n_jobs=-1))),\n",
    "        ('kmeans', ModelTransformer(KMeans(random_state=0, n_jobs=-1))),\n",
    "        ('meanshift', ModelTransformer(MeanShift(n_jobs=-1))),\n",
    "        ('agglom', ModelTransformer(AgglomerativeClustering())),\n",
    "        ('affinity', ModelTransformer(AffinityPropagation()))\n",
    "    ], n_jobs=-1)),\n",
    "    ('ohe', OneHotEncoder(handle_unknown='ignore'))\n",
    "])\n",
    "\n",
    "cluster_params = {\n",
    "    'cluster__union__optics__model__min_samples' : stats.distributions.randint(2, 11),\n",
    "    'cluster__union__optics__model__max_eps' : stats.distributions.uniform(1e-3, 3),\n",
    "    'cluster__union__optics__model__p' : stats.distributions.randint(1,3),\n",
    "    'cluster__union__optics__model__cluster_method' : ['xi', 'dbscan'],\n",
    "    'cluster__union__optics__model__eps' : stats.distributions.uniform(1e-3, 3),\n",
    "    'cluster__union__optics__model__xi' : stats.distributions.uniform(0, 1),\n",
    "    'cluster__union__optics__model__predecessor_correction' : [True, False],\n",
    "    'cluster__union__optics__model__min_cluster_size' : [None] + list(range(2, 11)),\n",
    "    'cluster__union__optics__model__algorithm' : ['auto', 'ball_tree', 'kd_tree', 'brute'],\n",
    "    'cluster__union__optics__model__leaf_size' : stats.distributions.randint(20, 41),\n",
    "    'cluster__union__dbscan__model__eps' : stats.distributions.uniform(1e-3, 3),\n",
    "    'cluster__union__dbscan__model__min_samples' : stats.distributions.randint(2, 11),\n",
    "    'cluster__union__dbscan__model__algorithm' : ['auto', 'ball_tree', 'kd_tree', 'brute'],\n",
    "    'cluster__union__dbscan__model__leaf_size' : stats.distributions.randint(20, 41),\n",
    "    'cluster__union__dbscan__model__p' : [None] + list(np.random.uniform(1e-3, 5, size=20)),\n",
    "    'cluster__union__kmeans__model__n_clusters' : stats.distributions.randint(2, 12),\n",
    "    'cluster__union__kmeans__model__n_init' : stats.distributions.randint(10, 101),\n",
    "    'cluster__union__kmeans__model__max_iter' : stats.distributions.randint(300, 501),\n",
    "    'cluster__union__kmeans__model__tol' : stats.distributions.uniform(1e-6, 1e-1),\n",
    "    'cluster__union__kmeans__model__algorithm' : ['auto', 'full', 'elkan'],\n",
    "    'cluster__union__meanshift__model__bandwidth' : [None] + list(np.random.uniform(1e-3, 5, size=20)),\n",
    "    'cluster__union__meanshift__model__cluster_all' : [True, False],\n",
    "    'cluster__union__meanshift__model__max_iter' : stats.distributions.randint(300, 501),\n",
    "    'cluster__union__agglom__model__affinity' : ['euclidean', 'l1', 'l2', 'manhattan', 'cosine'],\n",
    "    'cluster__union__agglom__model__compute_full_tree' : ['auto', True, False],\n",
    "    'cluster__union__agglom__model__linkage' : ['ward', 'complete', 'average', 'single'],\n",
    "    'cluster__union__affinity__model__damping' : stats.distributions.uniform(0.5, 0.5),\n",
    "    'cluster__union__affinity__model__max_iter' : stats.distributions.randint(200, 401),\n",
    "    'cluster__union__affinity__model__convergence_iter' : stats.distributions.randint(10, 31),\n",
    "    'cluster__ohe__sparse' : [False],\n",
    "}"
   ]
  },
  {
   "cell_type": "markdown",
   "metadata": {
    "heading_collapsed": true,
    "hidden": true
   },
   "source": [
    "### Classifier Swapping"
   ]
  },
  {
   "cell_type": "code",
   "execution_count": 277,
   "metadata": {
    "hidden": true
   },
   "outputs": [],
   "source": [
    "class ClfSwap(BaseEstimator):\n",
    "    \n",
    "    def __init__(self, estimator = SGDClassifier()):\n",
    "        \"\"\"\n",
    "        A Custom BaseEstimator that can switch between classifiers.\n",
    "        :param estimator: sklearn object - The classifier\n",
    "        \"\"\" \n",
    "        \n",
    "        self.estimator = estimator\n",
    "\n",
    "    def fit(self, X, y=None, **kwargs):\n",
    "        self.estimator.fit(X, y)\n",
    "        return self\n",
    "\n",
    "\n",
    "    def predict(self, X, y=None):\n",
    "        return self.estimator.predict(X)\n",
    "\n",
    "\n",
    "    def predict_proba(self, X):\n",
    "        return self.estimator.predict_proba(X)\n",
    "\n",
    "\n",
    "    def score(self, X, y):\n",
    "        return self.estimator.score(X, y)"
   ]
  },
  {
   "cell_type": "code",
   "execution_count": 278,
   "metadata": {
    "hidden": true
   },
   "outputs": [],
   "source": [
    "pre_params = {**cleaner_params, **decomp_params, **cluster_params}\n",
    "\n",
    "pipe_clf = Pipeline([\n",
    "    ('cleaner', pipe_cleaner),\n",
    "    ('decomp', pipe_decomp),\n",
    "    ('cluster', pipe_cluster),\n",
    "    ('clf', OneVsRestClassifier(ClfSwap(), n_jobs=-1)),\n",
    "])\n",
    "\n",
    "clf_params = [\n",
    "    {\n",
    "        'clf__estimator__estimator' : [AdaBoostClassifier(random_state=0)],\n",
    "        **pre_params,\n",
    "        'clf__estimator__estimator__n_estimators' : stats.distributions.randint(50, 200),\n",
    "        'clf__estimator__estimator__learning_rate' : stats.distributions.uniform(0.5, 1),\n",
    "        'clf__estimator__estimator__algorithm' : ['SAMME', 'SAMME.R'],\n",
    "    },\n",
    "    {\n",
    "        'clf__estimator__estimator' : [GradientBoostingClassifier(random_state=0)],\n",
    "        **pre_params,\n",
    "        'clf__estimator__estimator__loss' : ['deviance', 'exponential'],\n",
    "        'clf__estimator__estimator__learning_rate' : stats.distributions.uniform(0.5, 1),\n",
    "        'clf__estimator__estimator__n_estimators' : stats.distributions.randint(100, 400),\n",
    "        'clf__estimator__estimator__criterion' : ['friedman_mse', 'mse', 'mae'],\n",
    "        'clf__estimator__estimator__max_features' : ['sqrt', 'log2', None]\n",
    "    },\n",
    "    {\n",
    "        'clf__estimator__estimator' : [ExtraTreesClassifier(random_state=0, n_jobs=-1)],\n",
    "        **pre_params,\n",
    "        'clf__estimator__estimator__n_estimators' : stats.distributions.randint(100, 400),\n",
    "        'clf__estimator__estimator__criterion' : ['gini', 'entropy'],\n",
    "        'clf__estimator__estimator__max_features' : ['sqrt', 'log2', None],\n",
    "    },\n",
    "    {\n",
    "        'clf__estimator__estimator' : [RandomForestClassifier(random_state=0, n_jobs=-1)],\n",
    "        **pre_params,\n",
    "        'clf__estimator__estimator__n_estimators' : stats.distributions.randint(100, 400),\n",
    "        'clf__estimator__estimator__criterion' : ['gini', 'entropy'],\n",
    "        'clf__estimator__estimator__max_features' : ['sqrt', 'log2', None]\n",
    "    },\n",
    "    {\n",
    "        'clf__estimator__estimator' : [LogisticRegression(penalty='elasticnet', solver='saga', random_state=0, n_jobs=-1)],\n",
    "        **pre_params,\n",
    "        'clf__estimator__estimator__tol' : stats.distributions.uniform(1e-6, 1e-1),\n",
    "        'clf__estimator__estimator__C' : stats.distributions.uniform(0.5, 1),\n",
    "        'clf__estimator__estimator__fit_intercept' : [True, False],\n",
    "        'clf__estimator__estimator__max_iter' : stats.distributions.randint(100, 400),\n",
    "        'clf__estimator__estimator__l1_ratio' : stats.distributions.uniform(0, 1),\n",
    "    },\n",
    "    {\n",
    "        'clf__estimator__estimator' : [LogisticRegression(penalty='l2', random_state=0, n_jobs=-1)],\n",
    "        **pre_params,\n",
    "        'clf__estimator__estimator__tol' : stats.distributions.uniform(1e-6, 1e-1),\n",
    "        'clf__estimator__estimator__C' : stats.distributions.uniform(0.5, 1),\n",
    "        'clf__estimator__estimator__fit_intercept' : [True, False],\n",
    "        'clf__estimator__estimator__solver' : ['newton-cg', 'lbfgs', 'sag', 'saga', 'liblinear'],\n",
    "        'clf__estimator__estimator__max_iter' : stats.distributions.randint(100, 400),\n",
    "        'clf__estimator__estimator__l1_ratio' : stats.distributions.uniform(0, 1),\n",
    "    },\n",
    "    {\n",
    "        'clf__estimator__estimator' : [LogisticRegression(penalty='l1', random_state=0, n_jobs=-1)],\n",
    "        **pre_params,\n",
    "        'clf__estimator__estimator__tol' : stats.distributions.uniform(1e-6, 1e-1),\n",
    "        'clf__estimator__estimator__C' : stats.distributions.uniform(0.5, 1),\n",
    "        'clf__estimator__estimator__fit_intercept' : [True, False],\n",
    "        'clf__estimator__estimator__solver' : ['saga', 'liblinear'],\n",
    "        'clf__estimator__estimator__max_iter' : stats.distributions.randint(100, 400),\n",
    "        'clf__estimator__estimator__l1_ratio' : stats.distributions.uniform(0, 1),\n",
    "    },\n",
    "    {\n",
    "        'clf__estimator__estimator' : [LogisticRegression(penalty='none', random_state=0, n_jobs=-1)],\n",
    "        **pre_params,\n",
    "        'clf__estimator__estimator__tol' : stats.distributions.uniform(1e-6, 1e-1),\n",
    "        'clf__estimator__estimator__C' : stats.distributions.uniform(0.5, 1),\n",
    "        'clf__estimator__estimator__fit_intercept' : [True, False],\n",
    "        'clf__estimator__estimator__solver' : ['newton-cg', 'lbfgs', 'sag', 'saga'],\n",
    "        'clf__estimator__estimator__max_iter' : stats.distributions.randint(100, 400),\n",
    "        'clf__estimator__estimator__l1_ratio' : stats.distributions.uniform(0, 1),\n",
    "    },\n",
    "    {\n",
    "        'clf__estimator__estimator' : [MultinomialNB()],\n",
    "        **pre_params,\n",
    "        'clf__estimator__estimator__alpha' : stats.distributions.uniform(1e-7, 3),\n",
    "        'clf__estimator__estimator__fit_prior' : [True, False],\n",
    "    },\n",
    "    {\n",
    "        'clf__estimator__estimator' : [GaussianProcessClassifier(random_state=0)],\n",
    "        **pre_params\n",
    "    },\n",
    "    {\n",
    "        'clf__estimator__estimator' : [KNeighborsClassifier()],\n",
    "        **pre_params\n",
    "    },\n",
    "    {\n",
    "        'clf__estimator__estimator' : [MLPClassifier(random_state=0)],\n",
    "        **pre_params\n",
    "    },\n",
    "    {\n",
    "        'clf__estimator__estimator' : [LinearSVC(random_state=0)],\n",
    "        **pre_params\n",
    "    },\n",
    "    {\n",
    "        'clf__estimator__estimator' : [SVC(random_state=0)],\n",
    "        **pre_params\n",
    "    },\n",
    "    {\n",
    "        'clf__estimator__estimator' : [SGDClassifier(random_state=0)],\n",
    "        **pre_params\n",
    "    },\n",
    "]"
   ]
  },
  {
   "cell_type": "markdown",
   "metadata": {
    "heading_collapsed": true,
    "hidden": true
   },
   "source": [
    "### RandomSearchCV"
   ]
  },
  {
   "cell_type": "code",
   "execution_count": 279,
   "metadata": {
    "hidden": true
   },
   "outputs": [],
   "source": [
    "rcv = RandomizedSearchCV(\n",
    "    estimator=pipe_clf,\n",
    "    param_distributions=clf_params,\n",
    "    n_iter=10,\n",
    "    n_jobs=-1,\n",
    "    cv=10,\n",
    "    random_state=0,\n",
    "    verbose=5,\n",
    ")"
   ]
  },
  {
   "cell_type": "code",
   "execution_count": 280,
   "metadata": {
    "hidden": true,
    "scrolled": true
   },
   "outputs": [
    {
     "name": "stdout",
     "output_type": "stream",
     "text": [
      "Fitting 10 folds for each of 10 candidates, totalling 100 fits\n"
     ]
    },
    {
     "name": "stderr",
     "output_type": "stream",
     "text": [
      "[Parallel(n_jobs=-1)]: Using backend LokyBackend with 4 concurrent workers.\n",
      "[Parallel(n_jobs=-1)]: Done  10 tasks      | elapsed:    7.4s\n",
      "[Parallel(n_jobs=-1)]: Done  64 tasks      | elapsed:  1.6min\n",
      "[Parallel(n_jobs=-1)]: Done 100 out of 100 | elapsed:  2.3min finished\n"
     ]
    },
    {
     "data": {
      "text/plain": [
       "RandomizedSearchCV(cv=10, error_score=nan,\n",
       "                   estimator=Pipeline(memory=None,\n",
       "                                      steps=[('cleaner',\n",
       "                                              Pipeline(memory=None,\n",
       "                                                       steps=[('poly',\n",
       "                                                               PolynomialFeatures(degree=2,\n",
       "                                                                                  include_bias=True,\n",
       "                                                                                  interaction_only=False,\n",
       "                                                                                  order='C')),\n",
       "                                                              ('scaler',\n",
       "                                                               StandardScaler(copy=True,\n",
       "                                                                              with_mean=True,\n",
       "                                                                              with_std=True)),\n",
       "                                                              ('vt',\n",
       "                                                               VarianceThreshold(threshold=0.0))],\n",
       "                                                       verbose=False)),\n",
       "                                             ('decomp',\n",
       "                                              Pipeline(m...\n",
       "                                         'cluster__union__optics__model__algorithm': ['auto',\n",
       "                                                                                      'ball_tree',\n",
       "                                                                                      'kd_tree',\n",
       "                                                                                      'brute'],\n",
       "                                         'cluster__union__optics__model__cluster_method': ['xi',\n",
       "                                                                                           'dbscan'],\n",
       "                                         'cluster__union__optics__model__eps': <scipy.stats._distn_infrastructure.rv_frozen object at 0x7f11d0dec650>, ...}],\n",
       "                   pre_dispatch='2*n_jobs', random_state=0, refit=True,\n",
       "                   return_train_score=False, scoring=None, verbose=5)"
      ]
     },
     "execution_count": 280,
     "metadata": {},
     "output_type": "execute_result"
    }
   ],
   "source": [
    "rcv.fit(X_train, y_train)"
   ]
  },
  {
   "cell_type": "code",
   "execution_count": 281,
   "metadata": {
    "hidden": true
   },
   "outputs": [
    {
     "data": {
      "text/plain": [
       "0.4092307692307693"
      ]
     },
     "execution_count": 281,
     "metadata": {},
     "output_type": "execute_result"
    }
   ],
   "source": [
    "rcv.best_score_"
   ]
  },
  {
   "cell_type": "code",
   "execution_count": null,
   "metadata": {
    "hidden": true,
    "scrolled": true
   },
   "outputs": [],
   "source": [
    "# pipe = Pipeline([\n",
    "#     ('cleaner', pipe_cleaner),\n",
    "#     ('decomp', pipe_decomp),\n",
    "#     ('cluster', pipe_cluster),\n",
    "#     ('clf', pipe_clf),\n",
    "# ], verbose=True)"
   ]
  },
  {
   "cell_type": "code",
   "execution_count": null,
   "metadata": {
    "hidden": true
   },
   "outputs": [],
   "source": [
    "# pipe.set_params(**params)\n",
    "\n",
    "# _ = pipe.fit_transform(X)"
   ]
  },
  {
   "cell_type": "code",
   "execution_count": null,
   "metadata": {
    "hidden": true
   },
   "outputs": [],
   "source": [
    "# fig, ax = plt.subplots(figsize=(16,8))\n",
    "\n",
    "# sns.scatterplot(\n",
    "#     data=pd.DataFrame(_).join(train.type),\n",
    "#     x=0,\n",
    "#     y=1,\n",
    "#     hue='type',\n",
    "#     ax=ax,\n",
    "#     s=100\n",
    "# );"
   ]
  },
  {
   "cell_type": "code",
   "execution_count": null,
   "metadata": {
    "hidden": true
   },
   "outputs": [],
   "source": [
    "fig, ax = plt.subplots(figsize=(16,8))\n",
    "\n",
    "sns.scatterplot(\n",
    "    data=pd.DataFrame(_).join(train.type),\n",
    "    x=0,\n",
    "    y=1,\n",
    "    hue='type',\n",
    "    ax=ax,\n",
    "    s=100\n",
    ");"
   ]
  },
  {
   "cell_type": "markdown",
   "metadata": {
    "heading_collapsed": true,
    "hidden": true
   },
   "source": [
    "## `bone_length`"
   ]
  },
  {
   "cell_type": "code",
   "execution_count": null,
   "metadata": {
    "hidden": true
   },
   "outputs": [],
   "source": [
    "fig, ax = plt.subplots(figsize=(16,8))\n",
    "\n",
    "sns.boxenplot(\n",
    "    data=train,\n",
    "    x='type',\n",
    "    y='bone_length',\n",
    "    saturation=0.2\n",
    ")\n",
    "\n",
    "sns.swarmplot(\n",
    "    data=train,\n",
    "    x='type',\n",
    "    y='bone_length',\n",
    ");"
   ]
  },
  {
   "cell_type": "code",
   "execution_count": null,
   "metadata": {
    "hidden": true
   },
   "outputs": [],
   "source": [
    "fig, ax = plt.subplots(figsize=(16,8))\n",
    "\n",
    "for ggg in train.type.unique():\n",
    "\n",
    "    sns.kdeplot(\n",
    "        data=train.loc[train.type == ggg, 'bone_length'],\n",
    "        cumulative=True,\n",
    "        cut=0,\n",
    "        label=ggg,\n",
    "        ax=ax,\n",
    "    )"
   ]
  },
  {
   "cell_type": "code",
   "execution_count": null,
   "metadata": {
    "hidden": true
   },
   "outputs": [],
   "source": [
    "lower_bone_length = train.groupby([\n",
    "    'type',\n",
    "]).bone_length.min().sort_values()\n",
    "\n",
    "lower_bone_length"
   ]
  },
  {
   "cell_type": "code",
   "execution_count": null,
   "metadata": {
    "hidden": true
   },
   "outputs": [],
   "source": [
    "train['bone_length_lower'] = train.bone_length < lower_bone_length.iloc[1]"
   ]
  },
  {
   "cell_type": "code",
   "execution_count": null,
   "metadata": {
    "hidden": true
   },
   "outputs": [],
   "source": [
    "upper_bone_length = train.groupby([\n",
    "    'type',\n",
    "]).bone_length.max().sort_values()\n",
    "\n",
    "upper_bone_length"
   ]
  },
  {
   "cell_type": "code",
   "execution_count": null,
   "metadata": {
    "hidden": true
   },
   "outputs": [],
   "source": [
    "train['bone_length_upper'] = train.bone_length > upper_bone_length.iloc[1]"
   ]
  },
  {
   "cell_type": "markdown",
   "metadata": {
    "heading_collapsed": true,
    "hidden": true
   },
   "source": [
    "## `rotting_flesh`"
   ]
  },
  {
   "cell_type": "code",
   "execution_count": null,
   "metadata": {
    "hidden": true
   },
   "outputs": [],
   "source": [
    "fig, ax = plt.subplots(figsize=(16,8))\n",
    "\n",
    "sns.boxenplot(\n",
    "    data=train,\n",
    "    x='type',\n",
    "    y='rotting_flesh',\n",
    "    saturation=0.2\n",
    ")\n",
    "\n",
    "sns.swarmplot(\n",
    "    data=train,\n",
    "    x='type',\n",
    "    y='rotting_flesh',\n",
    ");"
   ]
  },
  {
   "cell_type": "code",
   "execution_count": null,
   "metadata": {
    "hidden": true
   },
   "outputs": [],
   "source": [
    "fig, ax = plt.subplots(figsize=(16,8))\n",
    "\n",
    "for ggg in train.type.unique():\n",
    "\n",
    "    sns.kdeplot(\n",
    "        data=train.loc[train.type == ggg, 'rotting_flesh'],\n",
    "        cumulative=True,\n",
    "        cut=0,\n",
    "        label=ggg,\n",
    "        ax=ax,\n",
    "    )"
   ]
  },
  {
   "cell_type": "code",
   "execution_count": null,
   "metadata": {
    "hidden": true
   },
   "outputs": [],
   "source": [
    "lower_rotting_flesh = train.groupby([\n",
    "    'type',\n",
    "]).rotting_flesh.min().sort_values()\n",
    "\n",
    "lower_rotting_flesh"
   ]
  },
  {
   "cell_type": "code",
   "execution_count": null,
   "metadata": {
    "hidden": true
   },
   "outputs": [],
   "source": [
    "train['rotting_flesh_lower'] = train.rotting_flesh < lower_rotting_flesh.iloc[1]"
   ]
  },
  {
   "cell_type": "code",
   "execution_count": null,
   "metadata": {
    "hidden": true
   },
   "outputs": [],
   "source": [
    "upper_rotting_flesh = train.groupby([\n",
    "    'type',\n",
    "]).rotting_flesh.max().sort_values()\n",
    "\n",
    "upper_rotting_flesh"
   ]
  },
  {
   "cell_type": "code",
   "execution_count": null,
   "metadata": {
    "hidden": true
   },
   "outputs": [],
   "source": [
    "train['rotting_flesh_upper'] = train.rotting_flesh > upper_rotting_flesh.iloc[1]"
   ]
  },
  {
   "cell_type": "markdown",
   "metadata": {
    "heading_collapsed": true,
    "hidden": true
   },
   "source": [
    "## `hair_length`"
   ]
  },
  {
   "cell_type": "code",
   "execution_count": null,
   "metadata": {
    "hidden": true
   },
   "outputs": [],
   "source": [
    "fig, ax = plt.subplots(figsize=(16,8))\n",
    "\n",
    "sns.boxenplot(\n",
    "    data=train,\n",
    "    x='type',\n",
    "    y='hair_length',\n",
    "    saturation=0.2\n",
    ")\n",
    "\n",
    "sns.swarmplot(\n",
    "    data=train,\n",
    "    x='type',\n",
    "    y='hair_length',\n",
    ");"
   ]
  },
  {
   "cell_type": "code",
   "execution_count": null,
   "metadata": {
    "hidden": true
   },
   "outputs": [],
   "source": [
    "fig, ax = plt.subplots(figsize=(16,8))\n",
    "\n",
    "for ggg in train.type.unique():\n",
    "\n",
    "    sns.kdeplot(\n",
    "        data=train.loc[train.type == ggg, 'hair_length'],\n",
    "        cumulative=True,\n",
    "        cut=0,\n",
    "        label=ggg,\n",
    "        ax=ax,\n",
    "    )"
   ]
  },
  {
   "cell_type": "code",
   "execution_count": null,
   "metadata": {
    "hidden": true
   },
   "outputs": [],
   "source": [
    "lower_hair_length = train.groupby([\n",
    "    'type',\n",
    "]).hair_length.min().sort_values()\n",
    "\n",
    "lower_hair_length"
   ]
  },
  {
   "cell_type": "code",
   "execution_count": null,
   "metadata": {
    "hidden": true
   },
   "outputs": [],
   "source": [
    "train['hair_length_lower'] = train.hair_length < lower_hair_length.iloc[1]"
   ]
  },
  {
   "cell_type": "code",
   "execution_count": null,
   "metadata": {
    "hidden": true
   },
   "outputs": [],
   "source": [
    "upper_hair_length = train.groupby([\n",
    "    'type',\n",
    "]).hair_length.max().sort_values()\n",
    "\n",
    "upper_hair_length"
   ]
  },
  {
   "cell_type": "code",
   "execution_count": null,
   "metadata": {
    "hidden": true
   },
   "outputs": [],
   "source": [
    "train['hair_length_upper'] = train.hair_length > upper_hair_length.iloc[1]"
   ]
  },
  {
   "cell_type": "markdown",
   "metadata": {
    "heading_collapsed": true,
    "hidden": true
   },
   "source": [
    "## `has_soul`"
   ]
  },
  {
   "cell_type": "code",
   "execution_count": null,
   "metadata": {
    "hidden": true
   },
   "outputs": [],
   "source": [
    "fig, ax = plt.subplots(figsize=(16,8))\n",
    "\n",
    "sns.boxenplot(\n",
    "    data=train,\n",
    "    x='type',\n",
    "    y='has_soul',\n",
    "    saturation=0.2\n",
    ")\n",
    "\n",
    "sns.swarmplot(\n",
    "    data=train,\n",
    "    x='type',\n",
    "    y='has_soul',\n",
    ");"
   ]
  },
  {
   "cell_type": "code",
   "execution_count": null,
   "metadata": {
    "hidden": true
   },
   "outputs": [],
   "source": [
    "fig, ax = plt.subplots(figsize=(16,8))\n",
    "\n",
    "for ggg in train.type.unique():\n",
    "\n",
    "    sns.kdeplot(\n",
    "        data=train.loc[train.type == ggg, 'has_soul'],\n",
    "        cumulative=True,\n",
    "        cut=0,\n",
    "        label=ggg,\n",
    "        ax=ax,\n",
    "    )"
   ]
  },
  {
   "cell_type": "code",
   "execution_count": null,
   "metadata": {
    "hidden": true
   },
   "outputs": [],
   "source": [
    "lower_has_soul = train.groupby([\n",
    "    'type',\n",
    "]).has_soul.min().sort_values()\n",
    "\n",
    "lower_has_soul"
   ]
  },
  {
   "cell_type": "code",
   "execution_count": null,
   "metadata": {
    "hidden": true
   },
   "outputs": [],
   "source": [
    "train['has_soul_lower'] = train.has_soul < lower_has_soul.iloc[1]"
   ]
  },
  {
   "cell_type": "code",
   "execution_count": null,
   "metadata": {
    "hidden": true
   },
   "outputs": [],
   "source": [
    "upper_has_soul = train.groupby([\n",
    "    'type',\n",
    "]).has_soul.max().sort_values()\n",
    "\n",
    "upper_has_soul"
   ]
  },
  {
   "cell_type": "code",
   "execution_count": null,
   "metadata": {
    "hidden": true
   },
   "outputs": [],
   "source": [
    "train['has_soul_upper'] = train.has_soul > upper_has_soul.iloc[1]"
   ]
  },
  {
   "cell_type": "markdown",
   "metadata": {
    "heading_collapsed": true,
    "hidden": true
   },
   "source": [
    "## Color Counts"
   ]
  },
  {
   "cell_type": "code",
   "execution_count": null,
   "metadata": {
    "hidden": true
   },
   "outputs": [],
   "source": [
    "fig, ax = plt.subplots(figsize=(16,8))\n",
    "\n",
    "sns.heatmap(\n",
    "    data=train.groupby([\n",
    "        'type',\n",
    "        'color',\n",
    "    ]).id.nunique().unstack().apply(lambda x : x / x.sum(), axis=1).round(4)*100,\n",
    "    ax=ax,\n",
    "    annot=True,\n",
    "    annot_kws={\n",
    "        'fontsize' : 12,\n",
    "    },\n",
    "    cmap='Reds',\n",
    "    fmt='g',\n",
    ");"
   ]
  },
  {
   "cell_type": "markdown",
   "metadata": {
    "heading_collapsed": true,
    "hidden": true
   },
   "source": [
    "### `bone_length`"
   ]
  },
  {
   "cell_type": "code",
   "execution_count": null,
   "metadata": {
    "hidden": true
   },
   "outputs": [],
   "source": [
    "fig, ax = plt.subplots(figsize=(16,8))\n",
    "\n",
    "sns.boxenplot(\n",
    "    data=train,\n",
    "    x='color',\n",
    "    y='bone_length',\n",
    "    hue='type',\n",
    "    ax=ax,\n",
    "    saturation=0.2,\n",
    ")\n",
    "\n",
    "sns.swarmplot(\n",
    "    data=train,\n",
    "    x='color',\n",
    "    y='bone_length',\n",
    "    hue='type',\n",
    "    ax=ax,\n",
    "    dodge=True,\n",
    ");"
   ]
  },
  {
   "cell_type": "code",
   "execution_count": null,
   "metadata": {
    "hidden": true
   },
   "outputs": [],
   "source": [
    "lower_color_bone_length = train.groupby([\n",
    "    'color',\n",
    "    'type',\n",
    "]).bone_length.min()\n",
    "\n",
    "lower_color_bone_length"
   ]
  },
  {
   "cell_type": "code",
   "execution_count": null,
   "metadata": {
    "hidden": true
   },
   "outputs": [],
   "source": [
    "for color in lower_color_bone_length.index.levels[0]:\n",
    "    lcbl = lower_color_bone_length.loc[color].sort_values().iloc[1]\n",
    "    train[f'{color}_bone_length_lower'] = (train.color == color) & (train.bone_length < lcbl)"
   ]
  },
  {
   "cell_type": "code",
   "execution_count": null,
   "metadata": {
    "hidden": true
   },
   "outputs": [],
   "source": [
    "upper_color_bone_length = train.groupby([\n",
    "    'color',\n",
    "    'type',\n",
    "]).bone_length.max()\n",
    "\n",
    "upper_color_bone_length"
   ]
  },
  {
   "cell_type": "code",
   "execution_count": null,
   "metadata": {
    "hidden": true
   },
   "outputs": [],
   "source": [
    "for color in upper_color_bone_length.index.levels[0]:\n",
    "    ucbl = upper_color_bone_length.loc[color].sort_values().iloc[1]\n",
    "    train[f'{color}_bone_length_upper'] = (train.color == color) & (train.bone_length > ucbl)"
   ]
  },
  {
   "cell_type": "markdown",
   "metadata": {
    "heading_collapsed": true,
    "hidden": true
   },
   "source": [
    "### `rotting_flesh`"
   ]
  },
  {
   "cell_type": "code",
   "execution_count": null,
   "metadata": {
    "hidden": true
   },
   "outputs": [],
   "source": [
    "fig, ax = plt.subplots(figsize=(16,8))\n",
    "\n",
    "sns.boxenplot(\n",
    "    data=train,\n",
    "    x='color',\n",
    "    y='rotting_flesh',\n",
    "    hue='type',\n",
    "    ax=ax,\n",
    "    saturation=0.2,\n",
    ")\n",
    "\n",
    "sns.swarmplot(\n",
    "    data=train,\n",
    "    x='color',\n",
    "    y='rotting_flesh',\n",
    "    hue='type',\n",
    "    ax=ax,\n",
    "    dodge=True,\n",
    ");"
   ]
  },
  {
   "cell_type": "code",
   "execution_count": null,
   "metadata": {
    "hidden": true
   },
   "outputs": [],
   "source": [
    "lower_color_rotting_flesh = train.groupby([\n",
    "    'color',\n",
    "    'type',\n",
    "]).rotting_flesh.min()\n",
    "\n",
    "lower_color_rotting_flesh"
   ]
  },
  {
   "cell_type": "code",
   "execution_count": null,
   "metadata": {
    "hidden": true
   },
   "outputs": [],
   "source": [
    "for color in lower_color_rotting_flesh.index.levels[0]:\n",
    "    lcbl = lower_color_rotting_flesh.loc[color].sort_values().iloc[1]\n",
    "    train[f'{color}_rotting_flesh_lower'] = (train.color == color) & (train.rotting_flesh < lcbl)"
   ]
  },
  {
   "cell_type": "code",
   "execution_count": null,
   "metadata": {
    "hidden": true
   },
   "outputs": [],
   "source": [
    "upper_color_rotting_flesh = train.groupby([\n",
    "    'color',\n",
    "    'type',\n",
    "]).rotting_flesh.max()\n",
    "\n",
    "upper_color_rotting_flesh"
   ]
  },
  {
   "cell_type": "code",
   "execution_count": null,
   "metadata": {
    "hidden": true
   },
   "outputs": [],
   "source": [
    "for color in upper_color_rotting_flesh.index.levels[0]:\n",
    "    ucbl = upper_color_rotting_flesh.loc[color].sort_values().iloc[1]\n",
    "    train[f'{color}_rotting_flesh_upper'] = (train.color == color) & (train.rotting_flesh > ucbl)"
   ]
  },
  {
   "cell_type": "markdown",
   "metadata": {
    "heading_collapsed": true,
    "hidden": true
   },
   "source": [
    "### `hair_length`"
   ]
  },
  {
   "cell_type": "code",
   "execution_count": null,
   "metadata": {
    "hidden": true
   },
   "outputs": [],
   "source": [
    "fig, ax = plt.subplots(figsize=(16,8))\n",
    "\n",
    "sns.boxenplot(\n",
    "    data=train,\n",
    "    x='color',\n",
    "    y='hair_length',\n",
    "    hue='type',\n",
    "    ax=ax,\n",
    "    saturation=0.2,\n",
    ")\n",
    "\n",
    "sns.swarmplot(\n",
    "    data=train,\n",
    "    x='color',\n",
    "    y='hair_length',\n",
    "    hue='type',\n",
    "    ax=ax,\n",
    "    dodge=True,\n",
    ");"
   ]
  },
  {
   "cell_type": "code",
   "execution_count": null,
   "metadata": {
    "hidden": true
   },
   "outputs": [],
   "source": [
    "lower_color_hair_length = train.groupby([\n",
    "    'color',\n",
    "    'type',\n",
    "]).hair_length.min()\n",
    "\n",
    "lower_color_hair_length"
   ]
  },
  {
   "cell_type": "code",
   "execution_count": null,
   "metadata": {
    "hidden": true
   },
   "outputs": [],
   "source": [
    "for color in lower_color_hair_length.index.levels[0]:\n",
    "    lcbl = lower_color_hair_length.loc[color].sort_values().iloc[1]\n",
    "    train[f'{color}_hair_length_lower'] = (train.color == color) & (train.hair_length < lcbl)"
   ]
  },
  {
   "cell_type": "code",
   "execution_count": null,
   "metadata": {
    "hidden": true
   },
   "outputs": [],
   "source": [
    "upper_color_hair_length = train.groupby([\n",
    "    'color',\n",
    "    'type',\n",
    "]).hair_length.max()\n",
    "\n",
    "upper_color_hair_length"
   ]
  },
  {
   "cell_type": "code",
   "execution_count": null,
   "metadata": {
    "hidden": true
   },
   "outputs": [],
   "source": [
    "for color in upper_color_hair_length.index.levels[0]:\n",
    "    ucbl = upper_color_hair_length.loc[color].sort_values().iloc[1]\n",
    "    train[f'{color}_hair_length_upper'] = (train.color == color) & (train.hair_length > ucbl)"
   ]
  },
  {
   "cell_type": "markdown",
   "metadata": {
    "heading_collapsed": true,
    "hidden": true
   },
   "source": [
    "### `has_soul`"
   ]
  },
  {
   "cell_type": "code",
   "execution_count": null,
   "metadata": {
    "hidden": true
   },
   "outputs": [],
   "source": [
    "fig, ax = plt.subplots(figsize=(16,8))\n",
    "\n",
    "sns.boxenplot(\n",
    "    data=train,\n",
    "    x='color',\n",
    "    y='has_soul',\n",
    "    hue='type',\n",
    "    ax=ax,\n",
    "    saturation=0.2,\n",
    ")\n",
    "\n",
    "sns.swarmplot(\n",
    "    data=train,\n",
    "    x='color',\n",
    "    y='has_soul',\n",
    "    hue='type',\n",
    "    ax=ax,\n",
    "    dodge=True,\n",
    ");"
   ]
  },
  {
   "cell_type": "code",
   "execution_count": null,
   "metadata": {
    "hidden": true
   },
   "outputs": [],
   "source": [
    "lower_color_has_soul = train.groupby([\n",
    "    'color',\n",
    "    'type',\n",
    "]).has_soul.min()\n",
    "\n",
    "lower_color_has_soul"
   ]
  },
  {
   "cell_type": "code",
   "execution_count": null,
   "metadata": {
    "hidden": true
   },
   "outputs": [],
   "source": [
    "for color in lower_color_has_soul.index.levels[0]:\n",
    "    lcbl = lower_color_has_soul.loc[color].sort_values().iloc[1]\n",
    "    train[f'{color}_has_soul_lower'] = (train.color == color) & (train.has_soul < lcbl)"
   ]
  },
  {
   "cell_type": "code",
   "execution_count": null,
   "metadata": {
    "hidden": true
   },
   "outputs": [],
   "source": [
    "upper_color_has_soul = train.groupby([\n",
    "    'color',\n",
    "    'type',\n",
    "]).has_soul.max()\n",
    "\n",
    "upper_color_has_soul"
   ]
  },
  {
   "cell_type": "code",
   "execution_count": null,
   "metadata": {
    "hidden": true
   },
   "outputs": [],
   "source": [
    "for color in upper_color_has_soul.index.levels[0]:\n",
    "    ucbl = upper_color_has_soul.loc[color].sort_values().iloc[1]\n",
    "    train[f'{color}_has_soul_upper'] = (train.color == color) & (train.has_soul > ucbl)"
   ]
  },
  {
   "cell_type": "markdown",
   "metadata": {
    "heading_collapsed": true,
    "hidden": true
   },
   "source": [
    "## Continuous Interactions"
   ]
  },
  {
   "cell_type": "markdown",
   "metadata": {
    "heading_collapsed": true,
    "hidden": true
   },
   "source": [
    "### 2-way"
   ]
  },
  {
   "cell_type": "code",
   "execution_count": null,
   "metadata": {
    "hidden": true
   },
   "outputs": [],
   "source": [
    "train['bone_length_rotting_flesh'] = train.bone_length * train.rotting_flesh\n",
    "\n",
    "train['bone_length_hair_length'] = train.bone_length * train.hair_length\n",
    "\n",
    "train['bone_length_has_soul'] = train.bone_length * train.has_soul\n",
    "\n",
    "train['rotting_flesh_hair_length'] = train.rotting_flesh * train.hair_length\n",
    "\n",
    "train['rotting_flesh_has_soul'] = train.rotting_flesh * train.has_soul\n",
    "\n",
    "train['hair_length_has_soul'] = train.hair_length * train.has_soul"
   ]
  },
  {
   "cell_type": "markdown",
   "metadata": {
    "heading_collapsed": true,
    "hidden": true
   },
   "source": [
    "#### `bone_length_rotting_flesh`"
   ]
  },
  {
   "cell_type": "code",
   "execution_count": null,
   "metadata": {
    "hidden": true
   },
   "outputs": [],
   "source": [
    "fig, ax = plt.subplots(figsize=(16,8))\n",
    "\n",
    "sns.boxenplot(\n",
    "    data=train,\n",
    "    x='type',\n",
    "    y='bone_length_rotting_flesh',\n",
    "    saturation=0.2\n",
    ")\n",
    "\n",
    "sns.swarmplot(\n",
    "    data=train,\n",
    "    x='type',\n",
    "    y='bone_length_rotting_flesh',\n",
    ");"
   ]
  },
  {
   "cell_type": "code",
   "execution_count": null,
   "metadata": {
    "hidden": true
   },
   "outputs": [],
   "source": [
    "fig, ax = plt.subplots(figsize=(16,8))\n",
    "\n",
    "for ggg in train.type.unique():\n",
    "\n",
    "    sns.kdeplot(\n",
    "        data=train.loc[train.type == ggg, 'bone_length_rotting_flesh'],\n",
    "        cumulative=True,\n",
    "        cut=0,\n",
    "        label=ggg,\n",
    "        ax=ax,\n",
    "    )"
   ]
  },
  {
   "cell_type": "code",
   "execution_count": null,
   "metadata": {
    "hidden": true
   },
   "outputs": [],
   "source": [
    "lower_bone_length_rotting_flesh = train.groupby([\n",
    "    'type',\n",
    "]).bone_length_rotting_flesh.min().sort_values()\n",
    "\n",
    "lower_bone_length_rotting_flesh"
   ]
  },
  {
   "cell_type": "code",
   "execution_count": null,
   "metadata": {
    "hidden": true
   },
   "outputs": [],
   "source": [
    "train['bone_length_rotting_flesh_lower'] = train.bone_length_rotting_flesh < lower_bone_length_rotting_flesh.iloc[1]"
   ]
  },
  {
   "cell_type": "code",
   "execution_count": null,
   "metadata": {
    "hidden": true
   },
   "outputs": [],
   "source": [
    "upper_bone_length_rotting_flesh = train.groupby([\n",
    "    'type',\n",
    "]).bone_length_rotting_flesh.max().sort_values()\n",
    "\n",
    "upper_bone_length_rotting_flesh"
   ]
  },
  {
   "cell_type": "code",
   "execution_count": null,
   "metadata": {
    "hidden": true
   },
   "outputs": [],
   "source": [
    "train['bone_length_rotting_flesh_upper'] = train.bone_length_rotting_flesh > upper_bone_length_rotting_flesh.iloc[1]"
   ]
  },
  {
   "cell_type": "markdown",
   "metadata": {
    "heading_collapsed": true,
    "hidden": true
   },
   "source": [
    "#### `bone_length_hair_length`"
   ]
  },
  {
   "cell_type": "code",
   "execution_count": null,
   "metadata": {
    "hidden": true
   },
   "outputs": [],
   "source": [
    "fig, ax = plt.subplots(figsize=(16,8))\n",
    "\n",
    "sns.boxenplot(\n",
    "    data=train,\n",
    "    x='type',\n",
    "    y='bone_length_hair_length',\n",
    "    saturation=0.2\n",
    ")\n",
    "\n",
    "sns.swarmplot(\n",
    "    data=train,\n",
    "    x='type',\n",
    "    y='bone_length_hair_length',\n",
    ");"
   ]
  },
  {
   "cell_type": "code",
   "execution_count": null,
   "metadata": {
    "hidden": true
   },
   "outputs": [],
   "source": [
    "fig, ax = plt.subplots(figsize=(16,8))\n",
    "\n",
    "for ggg in train.type.unique():\n",
    "\n",
    "    sns.kdeplot(\n",
    "        data=train.loc[train.type == ggg, 'bone_length_hair_length'],\n",
    "        cumulative=True,\n",
    "        cut=0,\n",
    "        label=ggg,\n",
    "        ax=ax,\n",
    "    )"
   ]
  },
  {
   "cell_type": "code",
   "execution_count": null,
   "metadata": {
    "hidden": true
   },
   "outputs": [],
   "source": [
    "lower_bone_length_hair_length = train.groupby([\n",
    "    'type',\n",
    "]).bone_length_hair_length.min().sort_values()\n",
    "\n",
    "lower_bone_length_hair_length"
   ]
  },
  {
   "cell_type": "code",
   "execution_count": null,
   "metadata": {
    "hidden": true
   },
   "outputs": [],
   "source": [
    "train['bone_length_hair_length_lower'] = train.bone_length_hair_length < lower_bone_length_hair_length.iloc[1]"
   ]
  },
  {
   "cell_type": "code",
   "execution_count": null,
   "metadata": {
    "hidden": true
   },
   "outputs": [],
   "source": [
    "upper_bone_length_hair_length = train.groupby([\n",
    "    'type',\n",
    "]).bone_length_hair_length.max().sort_values()\n",
    "\n",
    "upper_bone_length_hair_length"
   ]
  },
  {
   "cell_type": "code",
   "execution_count": null,
   "metadata": {
    "hidden": true
   },
   "outputs": [],
   "source": [
    "train['bone_length_hair_length_upper'] = train.bone_length_hair_length > upper_bone_length_hair_length.iloc[1]"
   ]
  },
  {
   "cell_type": "markdown",
   "metadata": {
    "heading_collapsed": true,
    "hidden": true
   },
   "source": [
    "#### `bone_length_has_soul`"
   ]
  },
  {
   "cell_type": "code",
   "execution_count": null,
   "metadata": {
    "hidden": true
   },
   "outputs": [],
   "source": [
    "fig, ax = plt.subplots(figsize=(16,8))\n",
    "\n",
    "sns.boxenplot(\n",
    "    data=train,\n",
    "    x='type',\n",
    "    y='bone_length_has_soul',\n",
    "    saturation=0.2\n",
    ")\n",
    "\n",
    "sns.swarmplot(\n",
    "    data=train,\n",
    "    x='type',\n",
    "    y='bone_length_has_soul',\n",
    ");"
   ]
  },
  {
   "cell_type": "code",
   "execution_count": null,
   "metadata": {
    "hidden": true
   },
   "outputs": [],
   "source": [
    "fig, ax = plt.subplots(figsize=(16,8))\n",
    "\n",
    "for ggg in train.type.unique():\n",
    "\n",
    "    sns.kdeplot(\n",
    "        data=train.loc[train.type == ggg, 'bone_length_has_soul'],\n",
    "        cumulative=True,\n",
    "        cut=0,\n",
    "        label=ggg,\n",
    "        ax=ax,\n",
    "    )"
   ]
  },
  {
   "cell_type": "code",
   "execution_count": null,
   "metadata": {
    "hidden": true
   },
   "outputs": [],
   "source": [
    "lower_bone_length_has_soul = train.groupby([\n",
    "    'type',\n",
    "]).bone_length_has_soul.min().sort_values()\n",
    "\n",
    "lower_bone_length_has_soul"
   ]
  },
  {
   "cell_type": "code",
   "execution_count": null,
   "metadata": {
    "hidden": true
   },
   "outputs": [],
   "source": [
    "train['bone_length_has_soul_lower'] = train.bone_length_has_soul < lower_bone_length_has_soul.iloc[1]"
   ]
  },
  {
   "cell_type": "code",
   "execution_count": null,
   "metadata": {
    "hidden": true
   },
   "outputs": [],
   "source": [
    "upper_bone_length_has_soul = train.groupby([\n",
    "    'type',\n",
    "]).bone_length_has_soul.max().sort_values()\n",
    "\n",
    "upper_bone_length_has_soul"
   ]
  },
  {
   "cell_type": "code",
   "execution_count": null,
   "metadata": {
    "hidden": true
   },
   "outputs": [],
   "source": [
    "train['bone_length_has_soul_upper'] = train.bone_length_has_soul > upper_bone_length_has_soul.iloc[1]"
   ]
  },
  {
   "cell_type": "markdown",
   "metadata": {
    "heading_collapsed": true,
    "hidden": true
   },
   "source": [
    "#### `rotting_flesh_hair_length`"
   ]
  },
  {
   "cell_type": "code",
   "execution_count": null,
   "metadata": {
    "hidden": true
   },
   "outputs": [],
   "source": [
    "fig, ax = plt.subplots(figsize=(16,8))\n",
    "\n",
    "sns.boxenplot(\n",
    "    data=train,\n",
    "    x='type',\n",
    "    y='rotting_flesh_hair_length',\n",
    "    saturation=0.2\n",
    ")\n",
    "\n",
    "sns.swarmplot(\n",
    "    data=train,\n",
    "    x='type',\n",
    "    y='rotting_flesh_hair_length',\n",
    ");"
   ]
  },
  {
   "cell_type": "code",
   "execution_count": null,
   "metadata": {
    "hidden": true
   },
   "outputs": [],
   "source": [
    "fig, ax = plt.subplots(figsize=(16,8))\n",
    "\n",
    "for ggg in train.type.unique():\n",
    "\n",
    "    sns.kdeplot(\n",
    "        data=train.loc[train.type == ggg, 'rotting_flesh_hair_length'],\n",
    "        cumulative=True,\n",
    "        cut=0,\n",
    "        label=ggg,\n",
    "        ax=ax,\n",
    "    )"
   ]
  },
  {
   "cell_type": "code",
   "execution_count": null,
   "metadata": {
    "hidden": true
   },
   "outputs": [],
   "source": [
    "lower_rotting_flesh_hair_length = train.groupby([\n",
    "    'type',\n",
    "]).rotting_flesh_hair_length.min().sort_values()\n",
    "\n",
    "lower_rotting_flesh_hair_length"
   ]
  },
  {
   "cell_type": "code",
   "execution_count": null,
   "metadata": {
    "hidden": true
   },
   "outputs": [],
   "source": [
    "train['rotting_flesh_hair_length_lower'] = train.rotting_flesh_hair_length < lower_rotting_flesh_hair_length.iloc[1]"
   ]
  },
  {
   "cell_type": "code",
   "execution_count": null,
   "metadata": {
    "hidden": true
   },
   "outputs": [],
   "source": [
    "upper_rotting_flesh_hair_length = train.groupby([\n",
    "    'type',\n",
    "]).rotting_flesh_hair_length.max().sort_values()\n",
    "\n",
    "upper_rotting_flesh_hair_length"
   ]
  },
  {
   "cell_type": "code",
   "execution_count": null,
   "metadata": {
    "hidden": true
   },
   "outputs": [],
   "source": [
    "train['rotting_flesh_hair_length_upper'] = train.rotting_flesh_hair_length > upper_rotting_flesh_hair_length.iloc[1]"
   ]
  },
  {
   "cell_type": "markdown",
   "metadata": {
    "heading_collapsed": true,
    "hidden": true
   },
   "source": [
    "#### `rotting_flesh_has_soul`"
   ]
  },
  {
   "cell_type": "code",
   "execution_count": null,
   "metadata": {
    "hidden": true
   },
   "outputs": [],
   "source": [
    "fig, ax = plt.subplots(figsize=(16,8))\n",
    "\n",
    "sns.boxenplot(\n",
    "    data=train,\n",
    "    x='type',\n",
    "    y='rotting_flesh_has_soul',\n",
    "    saturation=0.2\n",
    ")\n",
    "\n",
    "sns.swarmplot(\n",
    "    data=train,\n",
    "    x='type',\n",
    "    y='rotting_flesh_has_soul',\n",
    ");"
   ]
  },
  {
   "cell_type": "code",
   "execution_count": null,
   "metadata": {
    "hidden": true
   },
   "outputs": [],
   "source": [
    "fig, ax = plt.subplots(figsize=(16,8))\n",
    "\n",
    "for ggg in train.type.unique():\n",
    "\n",
    "    sns.kdeplot(\n",
    "        data=train.loc[train.type == ggg, 'rotting_flesh_has_soul'],\n",
    "        cumulative=True,\n",
    "        cut=0,\n",
    "        label=ggg,\n",
    "        ax=ax,\n",
    "    )"
   ]
  },
  {
   "cell_type": "code",
   "execution_count": null,
   "metadata": {
    "hidden": true
   },
   "outputs": [],
   "source": [
    "lower_rotting_flesh_has_soul = train.groupby([\n",
    "    'type',\n",
    "]).rotting_flesh_has_soul.min().sort_values()\n",
    "\n",
    "lower_rotting_flesh_has_soul"
   ]
  },
  {
   "cell_type": "code",
   "execution_count": null,
   "metadata": {
    "hidden": true
   },
   "outputs": [],
   "source": [
    "train['rotting_flesh_has_soul_lower'] = train.rotting_flesh_has_soul < lower_rotting_flesh_has_soul.iloc[1]"
   ]
  },
  {
   "cell_type": "code",
   "execution_count": null,
   "metadata": {
    "hidden": true
   },
   "outputs": [],
   "source": [
    "upper_rotting_flesh_has_soul = train.groupby([\n",
    "    'type',\n",
    "]).rotting_flesh_has_soul.max().sort_values()\n",
    "\n",
    "upper_rotting_flesh_has_soul"
   ]
  },
  {
   "cell_type": "code",
   "execution_count": null,
   "metadata": {
    "hidden": true
   },
   "outputs": [],
   "source": [
    "train['rotting_flesh_has_soul_upper'] = train.rotting_flesh_has_soul > upper_rotting_flesh_has_soul.iloc[1]"
   ]
  },
  {
   "cell_type": "markdown",
   "metadata": {
    "heading_collapsed": true,
    "hidden": true
   },
   "source": [
    "#### `hair_length_has_soul`"
   ]
  },
  {
   "cell_type": "code",
   "execution_count": null,
   "metadata": {
    "hidden": true
   },
   "outputs": [],
   "source": [
    "fig, ax = plt.subplots(figsize=(16,8))\n",
    "\n",
    "sns.boxenplot(\n",
    "    data=train,\n",
    "    x='type',\n",
    "    y='hair_length_has_soul',\n",
    "    saturation=0.2\n",
    ")\n",
    "\n",
    "sns.swarmplot(\n",
    "    data=train,\n",
    "    x='type',\n",
    "    y='hair_length_has_soul',\n",
    ");"
   ]
  },
  {
   "cell_type": "code",
   "execution_count": null,
   "metadata": {
    "hidden": true
   },
   "outputs": [],
   "source": [
    "fig, ax = plt.subplots(figsize=(16,8))\n",
    "\n",
    "for ggg in train.type.unique():\n",
    "\n",
    "    sns.kdeplot(\n",
    "        data=train.loc[train.type == ggg, 'hair_length_has_soul'],\n",
    "        cumulative=True,\n",
    "        cut=0,\n",
    "        label=ggg,\n",
    "        ax=ax,\n",
    "    )"
   ]
  },
  {
   "cell_type": "code",
   "execution_count": null,
   "metadata": {
    "hidden": true
   },
   "outputs": [],
   "source": [
    "lower_hair_length_has_soul = train.groupby([\n",
    "    'type',\n",
    "]).hair_length_has_soul.min().sort_values()\n",
    "\n",
    "lower_hair_length_has_soul"
   ]
  },
  {
   "cell_type": "code",
   "execution_count": null,
   "metadata": {
    "hidden": true
   },
   "outputs": [],
   "source": [
    "train['hair_length_has_soul_lower'] = train.hair_length_has_soul < lower_hair_length_has_soul.iloc[1]"
   ]
  },
  {
   "cell_type": "code",
   "execution_count": null,
   "metadata": {
    "hidden": true
   },
   "outputs": [],
   "source": [
    "upper_hair_length_has_soul = train.groupby([\n",
    "    'type',\n",
    "]).hair_length_has_soul.max().sort_values()\n",
    "\n",
    "upper_hair_length_has_soul"
   ]
  },
  {
   "cell_type": "code",
   "execution_count": null,
   "metadata": {
    "hidden": true
   },
   "outputs": [],
   "source": [
    "train['hair_length_has_soul_upper'] = train.hair_length_has_soul > upper_hair_length_has_soul.iloc[1]"
   ]
  },
  {
   "cell_type": "markdown",
   "metadata": {
    "heading_collapsed": true,
    "hidden": true
   },
   "source": [
    "### 3-way"
   ]
  },
  {
   "cell_type": "code",
   "execution_count": null,
   "metadata": {
    "hidden": true
   },
   "outputs": [],
   "source": [
    "train['bone_length_rotting_flesh_hair_length'] = train.bone_length_rotting_flesh * train.hair_length\n",
    "\n",
    "train['bone_length_rotting_flesh_has_soul'] = train.bone_length_rotting_flesh * train.has_soul\n",
    "\n",
    "train['bone_length_hair_length_has_soul'] = train.bone_length_hair_length * train.has_soul\n",
    "\n",
    "train['rotting_flesh_hair_length_has_soul'] = train.rotting_flesh_hair_length * train.has_soul"
   ]
  },
  {
   "cell_type": "markdown",
   "metadata": {
    "heading_collapsed": true,
    "hidden": true
   },
   "source": [
    "#### `bone_length_rotting_flesh_hair_length`"
   ]
  },
  {
   "cell_type": "code",
   "execution_count": null,
   "metadata": {
    "hidden": true
   },
   "outputs": [],
   "source": [
    "fig, ax = plt.subplots(figsize=(16,8))\n",
    "\n",
    "sns.boxenplot(\n",
    "    data=train,\n",
    "    x='type',\n",
    "    y='bone_length_rotting_flesh_hair_length',\n",
    "    saturation=0.2\n",
    ")\n",
    "\n",
    "sns.swarmplot(\n",
    "    data=train,\n",
    "    x='type',\n",
    "    y='bone_length_rotting_flesh_hair_length',\n",
    ");"
   ]
  },
  {
   "cell_type": "code",
   "execution_count": null,
   "metadata": {
    "hidden": true
   },
   "outputs": [],
   "source": [
    "fig, ax = plt.subplots(figsize=(16,8))\n",
    "\n",
    "for ggg in train.type.unique():\n",
    "\n",
    "    sns.kdeplot(\n",
    "        data=train.loc[train.type == ggg, 'bone_length_rotting_flesh_hair_length'],\n",
    "        cumulative=True,\n",
    "        cut=0,\n",
    "        label=ggg,\n",
    "        ax=ax,\n",
    "    )"
   ]
  },
  {
   "cell_type": "code",
   "execution_count": null,
   "metadata": {
    "hidden": true
   },
   "outputs": [],
   "source": [
    "lower_bone_length_rotting_flesh_hair_length = train.groupby([\n",
    "    'type',\n",
    "]).bone_length_rotting_flesh_hair_length.min().sort_values()\n",
    "\n",
    "lower_bone_length_rotting_flesh_hair_length"
   ]
  },
  {
   "cell_type": "code",
   "execution_count": null,
   "metadata": {
    "hidden": true
   },
   "outputs": [],
   "source": [
    "train['bone_length_rotting_flesh_hair_length_lower'] = train.bone_length_rotting_flesh_hair_length < lower_bone_length_rotting_flesh_hair_length.iloc[1]"
   ]
  },
  {
   "cell_type": "code",
   "execution_count": null,
   "metadata": {
    "hidden": true
   },
   "outputs": [],
   "source": [
    "upper_bone_length_rotting_flesh_hair_length = train.groupby([\n",
    "    'type',\n",
    "]).bone_length_rotting_flesh_hair_length.max().sort_values()\n",
    "\n",
    "upper_bone_length_rotting_flesh_hair_length"
   ]
  },
  {
   "cell_type": "code",
   "execution_count": null,
   "metadata": {
    "hidden": true
   },
   "outputs": [],
   "source": [
    "train['bone_length_rotting_flesh_hair_length_upper'] = train.bone_length_rotting_flesh_hair_length > upper_bone_length_rotting_flesh_hair_length.iloc[1]"
   ]
  },
  {
   "cell_type": "markdown",
   "metadata": {
    "heading_collapsed": true,
    "hidden": true
   },
   "source": [
    "#### `bone_length_rotting_flesh_has_soul`"
   ]
  },
  {
   "cell_type": "code",
   "execution_count": null,
   "metadata": {
    "hidden": true
   },
   "outputs": [],
   "source": [
    "fig, ax = plt.subplots(figsize=(16,8))\n",
    "\n",
    "sns.boxenplot(\n",
    "    data=train,\n",
    "    x='type',\n",
    "    y='bone_length_rotting_flesh_has_soul',\n",
    "    saturation=0.2\n",
    ")\n",
    "\n",
    "sns.swarmplot(\n",
    "    data=train,\n",
    "    x='type',\n",
    "    y='bone_length_rotting_flesh_has_soul',\n",
    ");"
   ]
  },
  {
   "cell_type": "code",
   "execution_count": null,
   "metadata": {
    "hidden": true
   },
   "outputs": [],
   "source": [
    "fig, ax = plt.subplots(figsize=(16,8))\n",
    "\n",
    "for ggg in train.type.unique():\n",
    "\n",
    "    sns.kdeplot(\n",
    "        data=train.loc[train.type == ggg, 'bone_length_rotting_flesh_has_soul'],\n",
    "        cumulative=True,\n",
    "        cut=0,\n",
    "        label=ggg,\n",
    "        ax=ax,\n",
    "    )"
   ]
  },
  {
   "cell_type": "code",
   "execution_count": null,
   "metadata": {
    "hidden": true
   },
   "outputs": [],
   "source": [
    "lower_bone_length_rotting_flesh_has_soul = train.groupby([\n",
    "    'type',\n",
    "]).bone_length_rotting_flesh_has_soul.min().sort_values()\n",
    "\n",
    "lower_bone_length_rotting_flesh_has_soul"
   ]
  },
  {
   "cell_type": "code",
   "execution_count": null,
   "metadata": {
    "hidden": true
   },
   "outputs": [],
   "source": [
    "train['bone_length_rotting_flesh_has_soul_lower'] = train.bone_length_rotting_flesh_has_soul < lower_bone_length_rotting_flesh_has_soul.iloc[1]"
   ]
  },
  {
   "cell_type": "code",
   "execution_count": null,
   "metadata": {
    "hidden": true
   },
   "outputs": [],
   "source": [
    "upper_bone_length_rotting_flesh_has_soul = train.groupby([\n",
    "    'type',\n",
    "]).bone_length_rotting_flesh_has_soul.max().sort_values()\n",
    "\n",
    "upper_bone_length_rotting_flesh_has_soul"
   ]
  },
  {
   "cell_type": "code",
   "execution_count": null,
   "metadata": {
    "hidden": true
   },
   "outputs": [],
   "source": [
    "train['bone_length_rotting_flesh_has_soul_upper'] = train.bone_length_rotting_flesh_has_soul > upper_bone_length_rotting_flesh_has_soul.iloc[1]"
   ]
  },
  {
   "cell_type": "markdown",
   "metadata": {
    "heading_collapsed": true,
    "hidden": true
   },
   "source": [
    "#### `bone_length_hair_length_has_soul`"
   ]
  },
  {
   "cell_type": "code",
   "execution_count": null,
   "metadata": {
    "hidden": true,
    "scrolled": false
   },
   "outputs": [],
   "source": [
    "fig, ax = plt.subplots(figsize=(16,8))\n",
    "\n",
    "sns.boxenplot(\n",
    "    data=train,\n",
    "    x='type',\n",
    "    y='bone_length_hair_length_has_soul',\n",
    "    saturation=0.2\n",
    ")\n",
    "\n",
    "sns.swarmplot(\n",
    "    data=train,\n",
    "    x='type',\n",
    "    y='bone_length_hair_length_has_soul',\n",
    ");"
   ]
  },
  {
   "cell_type": "code",
   "execution_count": null,
   "metadata": {
    "hidden": true
   },
   "outputs": [],
   "source": [
    "fig, ax = plt.subplots(figsize=(16,8))\n",
    "\n",
    "for ggg in train.type.unique():\n",
    "\n",
    "    sns.kdeplot(\n",
    "        data=train.loc[train.type == ggg, 'bone_length_hair_length_has_soul'],\n",
    "        cumulative=True,\n",
    "        cut=0,\n",
    "        label=ggg,\n",
    "        ax=ax,\n",
    "    )"
   ]
  },
  {
   "cell_type": "code",
   "execution_count": null,
   "metadata": {
    "hidden": true
   },
   "outputs": [],
   "source": [
    "lower_bone_length_hair_length_has_soul = train.groupby([\n",
    "    'type',\n",
    "]).bone_length_hair_length_has_soul.min().sort_values()\n",
    "\n",
    "lower_bone_length_hair_length_has_soul"
   ]
  },
  {
   "cell_type": "code",
   "execution_count": null,
   "metadata": {
    "hidden": true
   },
   "outputs": [],
   "source": [
    "train['bone_length_hair_length_has_soul_lower'] = train.bone_length_hair_length_has_soul < lower_bone_length_hair_length_has_soul.iloc[1]"
   ]
  },
  {
   "cell_type": "code",
   "execution_count": null,
   "metadata": {
    "hidden": true
   },
   "outputs": [],
   "source": [
    "upper_bone_length_hair_length_has_soul = train.groupby([\n",
    "    'type',\n",
    "]).bone_length_hair_length_has_soul.max().sort_values()\n",
    "\n",
    "upper_bone_length_hair_length_has_soul"
   ]
  },
  {
   "cell_type": "code",
   "execution_count": null,
   "metadata": {
    "hidden": true
   },
   "outputs": [],
   "source": [
    "train['bone_length_hair_length_has_soul_upper'] = train.bone_length_hair_length_has_soul > upper_bone_length_hair_length_has_soul.iloc[1]"
   ]
  },
  {
   "cell_type": "markdown",
   "metadata": {
    "heading_collapsed": true,
    "hidden": true
   },
   "source": [
    "#### `rotting_flesh_hair_length_has_soul`"
   ]
  },
  {
   "cell_type": "code",
   "execution_count": null,
   "metadata": {
    "hidden": true,
    "scrolled": false
   },
   "outputs": [],
   "source": [
    "fig, ax = plt.subplots(figsize=(16,8))\n",
    "\n",
    "sns.boxenplot(\n",
    "    data=train,\n",
    "    x='type',\n",
    "    y='rotting_flesh_hair_length_has_soul',\n",
    "    saturation=0.2\n",
    ")\n",
    "\n",
    "sns.swarmplot(\n",
    "    data=train,\n",
    "    x='type',\n",
    "    y='rotting_flesh_hair_length_has_soul',\n",
    ");"
   ]
  },
  {
   "cell_type": "code",
   "execution_count": null,
   "metadata": {
    "hidden": true
   },
   "outputs": [],
   "source": [
    "fig, ax = plt.subplots(figsize=(16,8))\n",
    "\n",
    "for ggg in train.type.unique():\n",
    "\n",
    "    sns.kdeplot(\n",
    "        data=train.loc[train.type == ggg, 'rotting_flesh_hair_length_has_soul'],\n",
    "        cumulative=True,\n",
    "        cut=0,\n",
    "        label=ggg,\n",
    "        ax=ax,\n",
    "    )"
   ]
  },
  {
   "cell_type": "code",
   "execution_count": null,
   "metadata": {
    "hidden": true
   },
   "outputs": [],
   "source": [
    "lower_rotting_flesh_hair_length_has_soul = train.groupby([\n",
    "    'type',\n",
    "]).rotting_flesh_hair_length_has_soul.min().sort_values()\n",
    "\n",
    "lower_rotting_flesh_hair_length_has_soul"
   ]
  },
  {
   "cell_type": "code",
   "execution_count": null,
   "metadata": {
    "hidden": true
   },
   "outputs": [],
   "source": [
    "train['rotting_flesh_hair_length_has_soul_lower'] = train.rotting_flesh_hair_length_has_soul < lower_rotting_flesh_hair_length_has_soul.iloc[1]"
   ]
  },
  {
   "cell_type": "code",
   "execution_count": null,
   "metadata": {
    "hidden": true
   },
   "outputs": [],
   "source": [
    "upper_rotting_flesh_hair_length_has_soul = train.groupby([\n",
    "    'type',\n",
    "]).rotting_flesh_hair_length_has_soul.max().sort_values()\n",
    "\n",
    "upper_rotting_flesh_hair_length_has_soul"
   ]
  },
  {
   "cell_type": "code",
   "execution_count": null,
   "metadata": {
    "hidden": true
   },
   "outputs": [],
   "source": [
    "train['rotting_flesh_hair_length_has_soul_upper'] = train.rotting_flesh_hair_length_has_soul > upper_rotting_flesh_hair_length_has_soul.iloc[1]"
   ]
  },
  {
   "cell_type": "markdown",
   "metadata": {
    "heading_collapsed": true,
    "hidden": true
   },
   "source": [
    "### 4-way"
   ]
  },
  {
   "cell_type": "code",
   "execution_count": null,
   "metadata": {
    "hidden": true
   },
   "outputs": [],
   "source": [
    "train['bone_length_rotting_flesh_hair_length_has_soul'] = train.bone_length_rotting_flesh_hair_length * train.has_soul"
   ]
  },
  {
   "cell_type": "markdown",
   "metadata": {
    "heading_collapsed": true,
    "hidden": true
   },
   "source": [
    "#### `bone_length_rotting_flesh_hair_length_has_soul`"
   ]
  },
  {
   "cell_type": "code",
   "execution_count": null,
   "metadata": {
    "hidden": true,
    "scrolled": false
   },
   "outputs": [],
   "source": [
    "fig, ax = plt.subplots(figsize=(16,8))\n",
    "\n",
    "sns.boxenplot(\n",
    "    data=train,\n",
    "    x='type',\n",
    "    y='bone_length_rotting_flesh_hair_length_has_soul',\n",
    "    saturation=0.2\n",
    ")\n",
    "\n",
    "sns.swarmplot(\n",
    "    data=train,\n",
    "    x='type',\n",
    "    y='bone_length_rotting_flesh_hair_length_has_soul',\n",
    ");"
   ]
  },
  {
   "cell_type": "code",
   "execution_count": null,
   "metadata": {
    "hidden": true
   },
   "outputs": [],
   "source": [
    "fig, ax = plt.subplots(figsize=(16,8))\n",
    "\n",
    "for ggg in train.type.unique():\n",
    "\n",
    "    sns.kdeplot(\n",
    "        data=train.loc[train.type == ggg, 'bone_length_rotting_flesh_hair_length_has_soul'],\n",
    "        cumulative=True,\n",
    "        cut=0,\n",
    "        label=ggg,\n",
    "        ax=ax,\n",
    "    )"
   ]
  },
  {
   "cell_type": "code",
   "execution_count": null,
   "metadata": {
    "hidden": true
   },
   "outputs": [],
   "source": [
    "lower_bone_length_rotting_flesh_hair_length_has_soul = train.groupby([\n",
    "    'type',\n",
    "]).bone_length_rotting_flesh_hair_length_has_soul.min().sort_values()\n",
    "\n",
    "lower_bone_length_rotting_flesh_hair_length_has_soul"
   ]
  },
  {
   "cell_type": "code",
   "execution_count": null,
   "metadata": {
    "hidden": true
   },
   "outputs": [],
   "source": [
    "train['bone_length_rotting_flesh_hair_length_has_soul_lower'] = train.bone_length_rotting_flesh_hair_length_has_soul < lower_bone_length_rotting_flesh_hair_length_has_soul.iloc[1]"
   ]
  },
  {
   "cell_type": "code",
   "execution_count": null,
   "metadata": {
    "hidden": true
   },
   "outputs": [],
   "source": [
    "upper_bone_length_rotting_flesh_hair_length_has_soul = train.groupby([\n",
    "    'type',\n",
    "]).bone_length_rotting_flesh_hair_length_has_soul.max().sort_values()\n",
    "\n",
    "upper_bone_length_rotting_flesh_hair_length_has_soul"
   ]
  },
  {
   "cell_type": "code",
   "execution_count": null,
   "metadata": {
    "hidden": true
   },
   "outputs": [],
   "source": [
    "train['bone_length_rotting_flesh_hair_length_has_soul_upper'] = train.bone_length_rotting_flesh_hair_length_has_soul > upper_bone_length_rotting_flesh_hair_length_has_soul.iloc[1]"
   ]
  },
  {
   "cell_type": "code",
   "execution_count": null,
   "metadata": {
    "hidden": true
   },
   "outputs": [],
   "source": [
    "train.head()"
   ]
  },
  {
   "cell_type": "markdown",
   "metadata": {
    "heading_collapsed": true,
    "hidden": true
   },
   "source": [
    "## Continuous Interactions + Color"
   ]
  },
  {
   "cell_type": "markdown",
   "metadata": {
    "heading_collapsed": true,
    "hidden": true
   },
   "source": [
    "### 2-way"
   ]
  },
  {
   "cell_type": "markdown",
   "metadata": {
    "heading_collapsed": true,
    "hidden": true
   },
   "source": [
    "#### `bone_length_rotting_flesh`"
   ]
  },
  {
   "cell_type": "code",
   "execution_count": null,
   "metadata": {
    "hidden": true
   },
   "outputs": [],
   "source": [
    "fig, ax = plt.subplots(figsize=(16,8))\n",
    "\n",
    "sns.boxenplot(\n",
    "    data=train,\n",
    "    x='color',\n",
    "    y='bone_length_rotting_flesh',\n",
    "    hue='type',\n",
    "    ax=ax,\n",
    "    saturation=0.2,\n",
    ")\n",
    "\n",
    "sns.swarmplot(\n",
    "    data=train,\n",
    "    x='color',\n",
    "    y='bone_length_rotting_flesh',\n",
    "    hue='type',\n",
    "    ax=ax,\n",
    "    dodge=True,\n",
    ");"
   ]
  },
  {
   "cell_type": "code",
   "execution_count": null,
   "metadata": {
    "hidden": true
   },
   "outputs": [],
   "source": [
    "lower_color_bone_length_rotting_flesh = train.groupby([\n",
    "    'color',\n",
    "    'type',\n",
    "]).bone_length_rotting_flesh.min()\n",
    "\n",
    "lower_color_bone_length_rotting_flesh"
   ]
  },
  {
   "cell_type": "code",
   "execution_count": null,
   "metadata": {
    "hidden": true
   },
   "outputs": [],
   "source": [
    "for color in lower_color_bone_length_rotting_flesh.index.levels[0]:\n",
    "    lcbl = lower_color_bone_length_rotting_flesh.loc[color].sort_values().iloc[1]\n",
    "    train[f'{color}_bone_length_rotting_flesh_lower'] = (train.color == color) & (train.bone_length_rotting_flesh < lcbl)"
   ]
  },
  {
   "cell_type": "code",
   "execution_count": null,
   "metadata": {
    "hidden": true
   },
   "outputs": [],
   "source": [
    "upper_color_bone_length_rotting_flesh = train.groupby([\n",
    "    'color',\n",
    "    'type',\n",
    "]).bone_length_rotting_flesh.max()\n",
    "\n",
    "upper_color_bone_length_rotting_flesh"
   ]
  },
  {
   "cell_type": "code",
   "execution_count": null,
   "metadata": {
    "hidden": true
   },
   "outputs": [],
   "source": [
    "for color in upper_color_bone_length_rotting_flesh.index.levels[0]:\n",
    "    ucbl = upper_color_bone_length_rotting_flesh.loc[color].sort_values().iloc[1]\n",
    "    train[f'{color}_bone_length_rotting_flesh_upper'] = (train.color == color) & (train.bone_length_rotting_flesh > ucbl)"
   ]
  },
  {
   "cell_type": "markdown",
   "metadata": {
    "heading_collapsed": true,
    "hidden": true
   },
   "source": [
    "#### `bone_length_hair_length`"
   ]
  },
  {
   "cell_type": "code",
   "execution_count": null,
   "metadata": {
    "hidden": true
   },
   "outputs": [],
   "source": [
    "fig, ax = plt.subplots(figsize=(16,8))\n",
    "\n",
    "sns.boxenplot(\n",
    "    data=train,\n",
    "    x='color',\n",
    "    y='bone_length_hair_length',\n",
    "    hue='type',\n",
    "    ax=ax,\n",
    "    saturation=0.2,\n",
    ")\n",
    "\n",
    "sns.swarmplot(\n",
    "    data=train,\n",
    "    x='color',\n",
    "    y='bone_length_hair_length',\n",
    "    hue='type',\n",
    "    ax=ax,\n",
    "    dodge=True,\n",
    ");"
   ]
  },
  {
   "cell_type": "code",
   "execution_count": null,
   "metadata": {
    "hidden": true
   },
   "outputs": [],
   "source": [
    "lower_color_bone_length_hair_length = train.groupby([\n",
    "    'color',\n",
    "    'type',\n",
    "]).bone_length_hair_length.min()\n",
    "\n",
    "lower_color_bone_length_hair_length"
   ]
  },
  {
   "cell_type": "code",
   "execution_count": null,
   "metadata": {
    "hidden": true
   },
   "outputs": [],
   "source": [
    "for color in lower_color_bone_length_hair_length.index.levels[0]:\n",
    "    lcbl = lower_color_bone_length_hair_length.loc[color].sort_values().iloc[1]\n",
    "    train[f'{color}_bone_length_hair_length_lower'] = (train.color == color) & (train.bone_length_hair_length < lcbl)"
   ]
  },
  {
   "cell_type": "code",
   "execution_count": null,
   "metadata": {
    "hidden": true
   },
   "outputs": [],
   "source": [
    "upper_color_bone_length_hair_length = train.groupby([\n",
    "    'color',\n",
    "    'type',\n",
    "]).bone_length_hair_length.max()\n",
    "\n",
    "upper_color_bone_length_hair_length"
   ]
  },
  {
   "cell_type": "code",
   "execution_count": null,
   "metadata": {
    "hidden": true
   },
   "outputs": [],
   "source": [
    "for color in upper_color_bone_length_hair_length.index.levels[0]:\n",
    "    ucbl = upper_color_bone_length_hair_length.loc[color].sort_values().iloc[1]\n",
    "    train[f'{color}_bone_length_hair_length_upper'] = (train.color == color) & (train.bone_length_hair_length > ucbl)"
   ]
  },
  {
   "cell_type": "markdown",
   "metadata": {
    "heading_collapsed": true,
    "hidden": true
   },
   "source": [
    "#### `bone_length_has_soul`"
   ]
  },
  {
   "cell_type": "code",
   "execution_count": null,
   "metadata": {
    "hidden": true
   },
   "outputs": [],
   "source": [
    "fig, ax = plt.subplots(figsize=(16,8))\n",
    "\n",
    "sns.boxenplot(\n",
    "    data=train,\n",
    "    x='color',\n",
    "    y='bone_length_has_soul',\n",
    "    hue='type',\n",
    "    ax=ax,\n",
    "    saturation=0.2,\n",
    ")\n",
    "\n",
    "sns.swarmplot(\n",
    "    data=train,\n",
    "    x='color',\n",
    "    y='bone_length_has_soul',\n",
    "    hue='type',\n",
    "    ax=ax,\n",
    "    dodge=True,\n",
    ");"
   ]
  },
  {
   "cell_type": "code",
   "execution_count": null,
   "metadata": {
    "hidden": true
   },
   "outputs": [],
   "source": [
    "lower_color_bone_length_has_soul = train.groupby([\n",
    "    'color',\n",
    "    'type',\n",
    "]).bone_length_has_soul.min()\n",
    "\n",
    "lower_color_bone_length_has_soul"
   ]
  },
  {
   "cell_type": "code",
   "execution_count": null,
   "metadata": {
    "hidden": true
   },
   "outputs": [],
   "source": [
    "for color in lower_color_bone_length_has_soul.index.levels[0]:\n",
    "    lcbl = lower_color_bone_length_has_soul.loc[color].sort_values().iloc[1]\n",
    "    train[f'{color}_bone_length_has_soul_lower'] = (train.color == color) & (train.bone_length_has_soul < lcbl)"
   ]
  },
  {
   "cell_type": "code",
   "execution_count": null,
   "metadata": {
    "hidden": true
   },
   "outputs": [],
   "source": [
    "upper_color_bone_length_has_soul = train.groupby([\n",
    "    'color',\n",
    "    'type',\n",
    "]).bone_length_has_soul.max()\n",
    "\n",
    "upper_color_bone_length_has_soul"
   ]
  },
  {
   "cell_type": "code",
   "execution_count": null,
   "metadata": {
    "hidden": true
   },
   "outputs": [],
   "source": [
    "for color in upper_color_bone_length_has_soul.index.levels[0]:\n",
    "    ucbl = upper_color_bone_length_has_soul.loc[color].sort_values().iloc[1]\n",
    "    train[f'{color}_bone_length_has_soul_upper'] = (train.color == color) & (train.bone_length_has_soul > ucbl)"
   ]
  },
  {
   "cell_type": "markdown",
   "metadata": {
    "heading_collapsed": true,
    "hidden": true
   },
   "source": [
    "#### `rotting_flesh_hair_length`"
   ]
  },
  {
   "cell_type": "code",
   "execution_count": null,
   "metadata": {
    "hidden": true
   },
   "outputs": [],
   "source": [
    "fig, ax = plt.subplots(figsize=(16,8))\n",
    "\n",
    "sns.boxenplot(\n",
    "    data=train,\n",
    "    x='color',\n",
    "    y='rotting_flesh_hair_length',\n",
    "    hue='type',\n",
    "    ax=ax,\n",
    "    saturation=0.2,\n",
    ")\n",
    "\n",
    "sns.swarmplot(\n",
    "    data=train,\n",
    "    x='color',\n",
    "    y='rotting_flesh_hair_length',\n",
    "    hue='type',\n",
    "    ax=ax,\n",
    "    dodge=True,\n",
    ");"
   ]
  },
  {
   "cell_type": "code",
   "execution_count": null,
   "metadata": {
    "hidden": true
   },
   "outputs": [],
   "source": [
    "lower_color_rotting_flesh_hair_length = train.groupby([\n",
    "    'color',\n",
    "    'type',\n",
    "]).rotting_flesh_hair_length.min()\n",
    "\n",
    "lower_color_rotting_flesh_hair_length"
   ]
  },
  {
   "cell_type": "code",
   "execution_count": null,
   "metadata": {
    "hidden": true
   },
   "outputs": [],
   "source": [
    "for color in lower_color_rotting_flesh_hair_length.index.levels[0]:\n",
    "    lcbl = lower_color_rotting_flesh_hair_length.loc[color].sort_values().iloc[1]\n",
    "    train[f'{color}_rotting_flesh_hair_length_lower'] = (train.color == color) & (train.rotting_flesh_hair_length < lcbl)"
   ]
  },
  {
   "cell_type": "code",
   "execution_count": null,
   "metadata": {
    "hidden": true
   },
   "outputs": [],
   "source": [
    "upper_color_rotting_flesh_hair_length = train.groupby([\n",
    "    'color',\n",
    "    'type',\n",
    "]).rotting_flesh_hair_length.max()\n",
    "\n",
    "upper_color_rotting_flesh_hair_length"
   ]
  },
  {
   "cell_type": "code",
   "execution_count": null,
   "metadata": {
    "hidden": true
   },
   "outputs": [],
   "source": [
    "for color in upper_color_rotting_flesh_hair_length.index.levels[0]:\n",
    "    ucbl = upper_color_rotting_flesh_hair_length.loc[color].sort_values().iloc[1]\n",
    "    train[f'{color}_rotting_flesh_hair_length_upper'] = (train.color == color) & (train.rotting_flesh_hair_length > ucbl)"
   ]
  },
  {
   "cell_type": "markdown",
   "metadata": {
    "heading_collapsed": true,
    "hidden": true
   },
   "source": [
    "#### `rotting_flesh_has_soul`"
   ]
  },
  {
   "cell_type": "code",
   "execution_count": null,
   "metadata": {
    "hidden": true
   },
   "outputs": [],
   "source": [
    "fig, ax = plt.subplots(figsize=(16,8))\n",
    "\n",
    "sns.boxenplot(\n",
    "    data=train,\n",
    "    x='color',\n",
    "    y='rotting_flesh_has_soul',\n",
    "    hue='type',\n",
    "    ax=ax,\n",
    "    saturation=0.2,\n",
    ")\n",
    "\n",
    "sns.swarmplot(\n",
    "    data=train,\n",
    "    x='color',\n",
    "    y='rotting_flesh_has_soul',\n",
    "    hue='type',\n",
    "    ax=ax,\n",
    "    dodge=True,\n",
    ");"
   ]
  },
  {
   "cell_type": "code",
   "execution_count": null,
   "metadata": {
    "hidden": true
   },
   "outputs": [],
   "source": [
    "lower_color_rotting_flesh_has_soul = train.groupby([\n",
    "    'color',\n",
    "    'type',\n",
    "]).rotting_flesh_has_soul.min()\n",
    "\n",
    "lower_color_rotting_flesh_has_soul"
   ]
  },
  {
   "cell_type": "code",
   "execution_count": null,
   "metadata": {
    "hidden": true
   },
   "outputs": [],
   "source": [
    "for color in lower_color_rotting_flesh_has_soul.index.levels[0]:\n",
    "    lcbl = lower_color_rotting_flesh_has_soul.loc[color].sort_values().iloc[1]\n",
    "    train[f'{color}_rotting_flesh_has_soul_lower'] = (train.color == color) & (train.rotting_flesh_has_soul < lcbl)"
   ]
  },
  {
   "cell_type": "code",
   "execution_count": null,
   "metadata": {
    "hidden": true
   },
   "outputs": [],
   "source": [
    "upper_color_rotting_flesh_has_soul = train.groupby([\n",
    "    'color',\n",
    "    'type',\n",
    "]).rotting_flesh_has_soul.max()\n",
    "\n",
    "upper_color_rotting_flesh_has_soul"
   ]
  },
  {
   "cell_type": "code",
   "execution_count": null,
   "metadata": {
    "hidden": true
   },
   "outputs": [],
   "source": [
    "for color in upper_color_rotting_flesh_has_soul.index.levels[0]:\n",
    "    ucbl = upper_color_rotting_flesh_has_soul.loc[color].sort_values().iloc[1]\n",
    "    train[f'{color}_rotting_flesh_has_soul_upper'] = (train.color == color) & (train.rotting_flesh_has_soul > ucbl)"
   ]
  },
  {
   "cell_type": "markdown",
   "metadata": {
    "heading_collapsed": true,
    "hidden": true
   },
   "source": [
    "#### `hair_length_has_soul`"
   ]
  },
  {
   "cell_type": "code",
   "execution_count": null,
   "metadata": {
    "hidden": true
   },
   "outputs": [],
   "source": [
    "fig, ax = plt.subplots(figsize=(16,8))\n",
    "\n",
    "sns.boxenplot(\n",
    "    data=train,\n",
    "    x='color',\n",
    "    y='hair_length_has_soul',\n",
    "    hue='type',\n",
    "    ax=ax,\n",
    "    saturation=0.2,\n",
    ")\n",
    "\n",
    "sns.swarmplot(\n",
    "    data=train,\n",
    "    x='color',\n",
    "    y='hair_length_has_soul',\n",
    "    hue='type',\n",
    "    ax=ax,\n",
    "    dodge=True,\n",
    ");"
   ]
  },
  {
   "cell_type": "code",
   "execution_count": null,
   "metadata": {
    "hidden": true
   },
   "outputs": [],
   "source": [
    "lower_color_hair_length_has_soul = train.groupby([\n",
    "    'color',\n",
    "    'type',\n",
    "]).hair_length_has_soul.min()\n",
    "\n",
    "lower_color_hair_length_has_soul"
   ]
  },
  {
   "cell_type": "code",
   "execution_count": null,
   "metadata": {
    "hidden": true
   },
   "outputs": [],
   "source": [
    "for color in lower_color_hair_length_has_soul.index.levels[0]:\n",
    "    lcbl = lower_color_hair_length_has_soul.loc[color].sort_values().iloc[1]\n",
    "    train[f'{color}_hair_length_has_soul_lower'] = (train.color == color) & (train.hair_length_has_soul < lcbl)"
   ]
  },
  {
   "cell_type": "code",
   "execution_count": null,
   "metadata": {
    "hidden": true
   },
   "outputs": [],
   "source": [
    "upper_color_hair_length_has_soul = train.groupby([\n",
    "    'color',\n",
    "    'type',\n",
    "]).hair_length_has_soul.max()\n",
    "\n",
    "upper_color_hair_length_has_soul"
   ]
  },
  {
   "cell_type": "code",
   "execution_count": null,
   "metadata": {
    "hidden": true
   },
   "outputs": [],
   "source": [
    "for color in upper_color_hair_length_has_soul.index.levels[0]:\n",
    "    ucbl = upper_color_hair_length_has_soul.loc[color].sort_values().iloc[1]\n",
    "    train[f'{color}_hair_length_has_soul_upper'] = (train.color == color) & (train.hair_length_has_soul > ucbl)"
   ]
  },
  {
   "cell_type": "markdown",
   "metadata": {
    "heading_collapsed": true,
    "hidden": true
   },
   "source": [
    "### 3-way"
   ]
  },
  {
   "cell_type": "markdown",
   "metadata": {
    "heading_collapsed": true,
    "hidden": true
   },
   "source": [
    "#### `bone_length_rotting_flesh_hair_length`"
   ]
  },
  {
   "cell_type": "code",
   "execution_count": null,
   "metadata": {
    "hidden": true
   },
   "outputs": [],
   "source": [
    "fig, ax = plt.subplots(figsize=(16,8))\n",
    "\n",
    "sns.boxenplot(\n",
    "    data=train,\n",
    "    x='color',\n",
    "    y='bone_length_rotting_flesh_hair_length',\n",
    "    hue='type',\n",
    "    ax=ax,\n",
    "    saturation=0.2,\n",
    ")\n",
    "\n",
    "sns.swarmplot(\n",
    "    data=train,\n",
    "    x='color',\n",
    "    y='bone_length_rotting_flesh_hair_length',\n",
    "    hue='type',\n",
    "    ax=ax,\n",
    "    dodge=True,\n",
    ");"
   ]
  },
  {
   "cell_type": "code",
   "execution_count": null,
   "metadata": {
    "hidden": true
   },
   "outputs": [],
   "source": [
    "lower_color_bone_length_rotting_flesh_hair_length = train.groupby([\n",
    "    'color',\n",
    "    'type',\n",
    "]).bone_length_rotting_flesh_hair_length.min()\n",
    "\n",
    "lower_color_bone_length_rotting_flesh_hair_length"
   ]
  },
  {
   "cell_type": "code",
   "execution_count": null,
   "metadata": {
    "hidden": true
   },
   "outputs": [],
   "source": [
    "for color in lower_color_bone_length_rotting_flesh_hair_length.index.levels[0]:\n",
    "    lcbl = lower_color_bone_length_rotting_flesh_hair_length.loc[color].sort_values().iloc[1]\n",
    "    train[f'{color}_bone_length_rotting_flesh_hair_length_lower'] = (train.color == color) & (train.bone_length_rotting_flesh_hair_length < lcbl)"
   ]
  },
  {
   "cell_type": "code",
   "execution_count": null,
   "metadata": {
    "hidden": true
   },
   "outputs": [],
   "source": [
    "upper_color_bone_length_rotting_flesh_hair_length = train.groupby([\n",
    "    'color',\n",
    "    'type',\n",
    "]).bone_length_rotting_flesh_hair_length.max()\n",
    "\n",
    "upper_color_bone_length_rotting_flesh_hair_length"
   ]
  },
  {
   "cell_type": "code",
   "execution_count": null,
   "metadata": {
    "hidden": true
   },
   "outputs": [],
   "source": [
    "for color in upper_color_bone_length_rotting_flesh_hair_length.index.levels[0]:\n",
    "    ucbl = upper_color_bone_length_rotting_flesh_hair_length.loc[color].sort_values().iloc[1]\n",
    "    train[f'{color}_bone_length_rotting_flesh_hair_length_upper'] = (train.color == color) & (train.bone_length_rotting_flesh_hair_length > ucbl)"
   ]
  },
  {
   "cell_type": "markdown",
   "metadata": {
    "heading_collapsed": true,
    "hidden": true
   },
   "source": [
    "#### `bone_length_rotting_flesh_has_soul`"
   ]
  },
  {
   "cell_type": "code",
   "execution_count": null,
   "metadata": {
    "hidden": true
   },
   "outputs": [],
   "source": [
    "fig, ax = plt.subplots(figsize=(16,8))\n",
    "\n",
    "sns.boxenplot(\n",
    "    data=train,\n",
    "    x='color',\n",
    "    y='bone_length_rotting_flesh_has_soul',\n",
    "    hue='type',\n",
    "    ax=ax,\n",
    "    saturation=0.2,\n",
    ")\n",
    "\n",
    "sns.swarmplot(\n",
    "    data=train,\n",
    "    x='color',\n",
    "    y='bone_length_rotting_flesh_has_soul',\n",
    "    hue='type',\n",
    "    ax=ax,\n",
    "    dodge=True,\n",
    ");"
   ]
  },
  {
   "cell_type": "code",
   "execution_count": null,
   "metadata": {
    "hidden": true
   },
   "outputs": [],
   "source": [
    "lower_color_bone_length_rotting_flesh_has_soul = train.groupby([\n",
    "    'color',\n",
    "    'type',\n",
    "]).bone_length_rotting_flesh_has_soul.min()\n",
    "\n",
    "lower_color_bone_length_rotting_flesh_has_soul"
   ]
  },
  {
   "cell_type": "code",
   "execution_count": null,
   "metadata": {
    "hidden": true
   },
   "outputs": [],
   "source": [
    "for color in lower_color_bone_length_rotting_flesh_has_soul.index.levels[0]:\n",
    "    lcbl = lower_color_bone_length_rotting_flesh_has_soul.loc[color].sort_values().iloc[1]\n",
    "    train[f'{color}_bone_length_rotting_flesh_has_soul_lower'] = (train.color == color) & (train.bone_length_rotting_flesh_has_soul < lcbl)"
   ]
  },
  {
   "cell_type": "code",
   "execution_count": null,
   "metadata": {
    "hidden": true
   },
   "outputs": [],
   "source": [
    "upper_color_bone_length_rotting_flesh_has_soul = train.groupby([\n",
    "    'color',\n",
    "    'type',\n",
    "]).bone_length_rotting_flesh_has_soul.max()\n",
    "\n",
    "upper_color_bone_length_rotting_flesh_has_soul"
   ]
  },
  {
   "cell_type": "code",
   "execution_count": null,
   "metadata": {
    "hidden": true
   },
   "outputs": [],
   "source": [
    "for color in upper_color_bone_length_rotting_flesh_has_soul.index.levels[0]:\n",
    "    ucbl = upper_color_bone_length_rotting_flesh_has_soul.loc[color].sort_values().iloc[1]\n",
    "    train[f'{color}_bone_length_rotting_flesh_has_soul_upper'] = (train.color == color) & (train.bone_length_rotting_flesh_has_soul > ucbl)"
   ]
  },
  {
   "cell_type": "markdown",
   "metadata": {
    "heading_collapsed": true,
    "hidden": true
   },
   "source": [
    "#### `bone_length_hair_length_has_soul`"
   ]
  },
  {
   "cell_type": "code",
   "execution_count": null,
   "metadata": {
    "hidden": true
   },
   "outputs": [],
   "source": [
    "fig, ax = plt.subplots(figsize=(16,8))\n",
    "\n",
    "sns.boxenplot(\n",
    "    data=train,\n",
    "    x='color',\n",
    "    y='bone_length_hair_length_has_soul',\n",
    "    hue='type',\n",
    "    ax=ax,\n",
    "    saturation=0.2,\n",
    ")\n",
    "\n",
    "sns.swarmplot(\n",
    "    data=train,\n",
    "    x='color',\n",
    "    y='bone_length_hair_length_has_soul',\n",
    "    hue='type',\n",
    "    ax=ax,\n",
    "    dodge=True,\n",
    ");"
   ]
  },
  {
   "cell_type": "code",
   "execution_count": null,
   "metadata": {
    "hidden": true
   },
   "outputs": [],
   "source": [
    "lower_color_bone_length_hair_length_has_soul = train.groupby([\n",
    "    'color',\n",
    "    'type',\n",
    "]).bone_length_hair_length_has_soul.min()\n",
    "\n",
    "lower_color_bone_length_hair_length_has_soul"
   ]
  },
  {
   "cell_type": "code",
   "execution_count": null,
   "metadata": {
    "hidden": true
   },
   "outputs": [],
   "source": [
    "for color in lower_color_bone_length_hair_length_has_soul.index.levels[0]:\n",
    "    lcbl = lower_color_bone_length_hair_length_has_soul.loc[color].sort_values().iloc[1]\n",
    "    train[f'{color}_bone_length_hair_length_has_soul_lower'] = (train.color == color) & (train.bone_length_hair_length_has_soul < lcbl)"
   ]
  },
  {
   "cell_type": "code",
   "execution_count": null,
   "metadata": {
    "hidden": true
   },
   "outputs": [],
   "source": [
    "upper_color_bone_length_hair_length_has_soul = train.groupby([\n",
    "    'color',\n",
    "    'type',\n",
    "]).bone_length_hair_length_has_soul.max()\n",
    "\n",
    "upper_color_bone_length_hair_length_has_soul"
   ]
  },
  {
   "cell_type": "code",
   "execution_count": null,
   "metadata": {
    "hidden": true
   },
   "outputs": [],
   "source": [
    "for color in upper_color_bone_length_hair_length_has_soul.index.levels[0]:\n",
    "    ucbl = upper_color_bone_length_hair_length_has_soul.loc[color].sort_values().iloc[1]\n",
    "    train[f'{color}_bone_length_hair_length_has_soul_upper'] = (train.color == color) & (train.bone_length_hair_length_has_soul > ucbl)"
   ]
  },
  {
   "cell_type": "markdown",
   "metadata": {
    "heading_collapsed": true,
    "hidden": true
   },
   "source": [
    "#### `rotting_flesh_hair_length_has_soul`"
   ]
  },
  {
   "cell_type": "code",
   "execution_count": null,
   "metadata": {
    "hidden": true
   },
   "outputs": [],
   "source": [
    "fig, ax = plt.subplots(figsize=(16,8))\n",
    "\n",
    "sns.boxenplot(\n",
    "    data=train,\n",
    "    x='color',\n",
    "    y='rotting_flesh_hair_length_has_soul',\n",
    "    hue='type',\n",
    "    ax=ax,\n",
    "    saturation=0.2,\n",
    ")\n",
    "\n",
    "sns.swarmplot(\n",
    "    data=train,\n",
    "    x='color',\n",
    "    y='rotting_flesh_hair_length_has_soul',\n",
    "    hue='type',\n",
    "    ax=ax,\n",
    "    dodge=True,\n",
    ");"
   ]
  },
  {
   "cell_type": "code",
   "execution_count": null,
   "metadata": {
    "hidden": true
   },
   "outputs": [],
   "source": [
    "lower_color_rotting_flesh_hair_length_has_soul = train.groupby([\n",
    "    'color',\n",
    "    'type',\n",
    "]).rotting_flesh_hair_length_has_soul.min()\n",
    "\n",
    "lower_color_rotting_flesh_hair_length_has_soul"
   ]
  },
  {
   "cell_type": "code",
   "execution_count": null,
   "metadata": {
    "hidden": true
   },
   "outputs": [],
   "source": [
    "for color in lower_color_rotting_flesh_hair_length_has_soul.index.levels[0]:\n",
    "    lcbl = lower_color_rotting_flesh_hair_length_has_soul.loc[color].sort_values().iloc[1]\n",
    "    train[f'{color}_rotting_flesh_hair_length_has_soul_lower'] = (train.color == color) & (train.rotting_flesh_hair_length_has_soul < lcbl)"
   ]
  },
  {
   "cell_type": "code",
   "execution_count": null,
   "metadata": {
    "hidden": true
   },
   "outputs": [],
   "source": [
    "upper_color_rotting_flesh_hair_length_has_soul = train.groupby([\n",
    "    'color',\n",
    "    'type',\n",
    "]).rotting_flesh_hair_length_has_soul.max()\n",
    "\n",
    "upper_color_rotting_flesh_hair_length_has_soul"
   ]
  },
  {
   "cell_type": "code",
   "execution_count": null,
   "metadata": {
    "hidden": true
   },
   "outputs": [],
   "source": [
    "for color in upper_color_rotting_flesh_hair_length_has_soul.index.levels[0]:\n",
    "    ucbl = upper_color_rotting_flesh_hair_length_has_soul.loc[color].sort_values().iloc[1]\n",
    "    train[f'{color}_rotting_flesh_hair_length_has_soul_upper'] = (train.color == color) & (train.rotting_flesh_hair_length_has_soul > ucbl)"
   ]
  },
  {
   "cell_type": "markdown",
   "metadata": {
    "heading_collapsed": true,
    "hidden": true
   },
   "source": [
    "### 4-way"
   ]
  },
  {
   "cell_type": "markdown",
   "metadata": {
    "heading_collapsed": true,
    "hidden": true
   },
   "source": [
    "#### `bone_length_rotting_flesh_hair_length_has_soul`"
   ]
  },
  {
   "cell_type": "code",
   "execution_count": null,
   "metadata": {
    "hidden": true
   },
   "outputs": [],
   "source": [
    "fig, ax = plt.subplots(figsize=(16,8))\n",
    "\n",
    "sns.boxenplot(\n",
    "    data=train,\n",
    "    x='color',\n",
    "    y='bone_length_rotting_flesh_hair_length_has_soul',\n",
    "    hue='type',\n",
    "    ax=ax,\n",
    "    saturation=0.2,\n",
    ")\n",
    "\n",
    "sns.swarmplot(\n",
    "    data=train,\n",
    "    x='color',\n",
    "    y='bone_length_rotting_flesh_hair_length_has_soul',\n",
    "    hue='type',\n",
    "    ax=ax,\n",
    "    dodge=True,\n",
    ");"
   ]
  },
  {
   "cell_type": "code",
   "execution_count": null,
   "metadata": {
    "hidden": true
   },
   "outputs": [],
   "source": [
    "lower_color_bone_length_rotting_flesh_hair_length_has_soul = train.groupby([\n",
    "    'color',\n",
    "    'type',\n",
    "]).bone_length_rotting_flesh_hair_length_has_soul.min()\n",
    "\n",
    "lower_color_bone_length_rotting_flesh_hair_length_has_soul"
   ]
  },
  {
   "cell_type": "code",
   "execution_count": null,
   "metadata": {
    "hidden": true
   },
   "outputs": [],
   "source": [
    "for color in lower_color_bone_length_rotting_flesh_hair_length_has_soul.index.levels[0]:\n",
    "    lcbl = lower_color_bone_length_rotting_flesh_hair_length_has_soul.loc[color].sort_values().iloc[1]\n",
    "    train[f'{color}_bone_length_rotting_flesh_hair_length_has_soul_lower'] = (train.color == color) & (train.bone_length_rotting_flesh_hair_length_has_soul < lcbl)"
   ]
  },
  {
   "cell_type": "code",
   "execution_count": null,
   "metadata": {
    "hidden": true
   },
   "outputs": [],
   "source": [
    "upper_color_bone_length_rotting_flesh_hair_length_has_soul = train.groupby([\n",
    "    'color',\n",
    "    'type',\n",
    "]).bone_length_rotting_flesh_hair_length_has_soul.max()\n",
    "\n",
    "upper_color_bone_length_rotting_flesh_hair_length_has_soul"
   ]
  },
  {
   "cell_type": "code",
   "execution_count": null,
   "metadata": {
    "hidden": true
   },
   "outputs": [],
   "source": [
    "for color in upper_color_bone_length_rotting_flesh_hair_length_has_soul.index.levels[0]:\n",
    "    ucbl = upper_color_bone_length_rotting_flesh_hair_length_has_soul.loc[color].sort_values().iloc[1]\n",
    "    train[f'{color}_bone_length_rotting_flesh_hair_length_has_soul_upper'] = (train.color == color) & (train.bone_length_rotting_flesh_hair_length_has_soul > ucbl)"
   ]
  },
  {
   "cell_type": "markdown",
   "metadata": {
    "heading_collapsed": true,
    "hidden": true
   },
   "source": [
    "## Heatmaps for Booleans?"
   ]
  },
  {
   "cell_type": "code",
   "execution_count": null,
   "metadata": {
    "hidden": true
   },
   "outputs": [],
   "source": [
    "train.head()"
   ]
  },
  {
   "cell_type": "markdown",
   "metadata": {
    "heading_collapsed": true
   },
   "source": [
    "# Deviations From Normality"
   ]
  },
  {
   "cell_type": "code",
   "execution_count": null,
   "metadata": {
    "hidden": true
   },
   "outputs": [],
   "source": [
    "# flag bone_length within/outside +/-1 std of mean\n",
    "train['bone_length_std1'] = train.bone_length.apply(\n",
    "    lambda x : -1 if x < (train.bone_length.mean() - train.bone_length.std())\n",
    "    else 1 if x > (train.bone_length.mean() + train.bone_length.std())\n",
    "    else 0,\n",
    ")\n",
    "\n",
    "# flag rotting_flesh within/outside +/-1 std of mean\n",
    "train['rotting_flesh_std1'] = train.rotting_flesh.apply(\n",
    "    lambda x : -1 if x < (train.rotting_flesh.mean() - train.rotting_flesh.std())\n",
    "    else 1 if x > (train.rotting_flesh.mean() + train.rotting_flesh.std())\n",
    "    else 0,\n",
    ")\n",
    "\n",
    "# flag hair_length within/outside +/-1 std of mean\n",
    "train['hair_length_std1'] = train.hair_length.apply(\n",
    "    lambda x : -1 if x < (train.hair_length.mean() - train.hair_length.std())\n",
    "    else 1 if x > (train.hair_length.mean() + train.hair_length.std())\n",
    "    else 0,\n",
    ")\n",
    "\n",
    "# flag has_soul within/outside +/-1 std of mean\n",
    "train['has_soul_std1'] = train.has_soul.apply(\n",
    "    lambda x : -1 if x < (train.has_soul.mean() - train.has_soul.std())\n",
    "    else 1 if x > (train.has_soul.mean() + train.has_soul.std())\n",
    "    else 0,\n",
    ")"
   ]
  },
  {
   "cell_type": "markdown",
   "metadata": {
    "heading_collapsed": true
   },
   "source": [
    "# Polynomials"
   ]
  },
  {
   "cell_type": "code",
   "execution_count": null,
   "metadata": {
    "hidden": true
   },
   "outputs": [],
   "source": [
    "# define poly\n",
    "poly = PolynomialFeatures(degree=3, interaction_only=False, include_bias=False)\n",
    "\n",
    "# fit_transform train data\n",
    "poly_numeric = poly.fit_transform(train.drop(columns=[\n",
    "    'id',\n",
    "    'type',\n",
    "    'color',\n",
    "]))\n",
    "\n",
    "# redefine train with new poly features\n",
    "train = train.loc[:, [\n",
    "    'id',\n",
    "    'type',\n",
    "    'color',\n",
    "]].join(pd.DataFrame(\n",
    "    data=poly_numeric,\n",
    "    columns=poly.get_feature_names(train.drop(columns=[\n",
    "        'id',\n",
    "        'type',\n",
    "        'color',\n",
    "    ]).columns.tolist())\n",
    "))"
   ]
  },
  {
   "cell_type": "markdown",
   "metadata": {
    "heading_collapsed": true
   },
   "source": [
    "# Scaling"
   ]
  },
  {
   "cell_type": "code",
   "execution_count": null,
   "metadata": {
    "hidden": true
   },
   "outputs": [],
   "source": [
    "# select X features\n",
    "X = train.drop(columns=[\n",
    "    'id',\n",
    "    'color',\n",
    "    'type',\n",
    "])\n",
    "\n",
    "# select y for training\n",
    "y = train.type\n",
    "\n",
    "# define scaler\n",
    "scaler = MinMaxScaler()\n",
    "rscaler = RobustScaler()\n",
    "\n",
    "# scale X\n",
    "X_ = pd.DataFrame(\n",
    "    data=scaler.fit_transform(X),\n",
    "    index=X.index,\n",
    "    columns=X.columns\n",
    ")\n",
    "\n",
    "X_r = pd.DataFrame(\n",
    "    data=rscaler.fit_transform(X),\n",
    "    index=X.index,\n",
    "    columns=X.columns\n",
    ")"
   ]
  },
  {
   "cell_type": "markdown",
   "metadata": {
    "heading_collapsed": true
   },
   "source": [
    "# Variance Threshold"
   ]
  },
  {
   "cell_type": "code",
   "execution_count": null,
   "metadata": {
    "hidden": true
   },
   "outputs": [],
   "source": [
    "# redefine variance threshold (in case it wasn't previously)\n",
    "vt = VarianceThreshold(threshold=0.0)\n",
    "\n",
    "# redefine X_ based on vt\n",
    "X_ = pd.DataFrame(\n",
    "    data=vt.fit_transform(X_),\n",
    "    index=X_.index,\n",
    "    columns=X_.columns[vt.get_support()]\n",
    ")\n",
    "\n",
    "# redefine X_r based on vt\n",
    "X_r = pd.DataFrame(\n",
    "    data=vt.fit_transform(X_r),\n",
    "    index=X_r.index,\n",
    "    columns=X_r.columns[vt.get_support()]\n",
    ")"
   ]
  },
  {
   "cell_type": "markdown",
   "metadata": {
    "heading_collapsed": true
   },
   "source": [
    "# Percentile Selection\n",
    "##### Using [Mutual Information](https://scikit-learn.org/stable/modules/generated/sklearn.feature_selection.mutual_info_classif.html)"
   ]
  },
  {
   "cell_type": "code",
   "execution_count": null,
   "metadata": {
    "hidden": true
   },
   "outputs": [],
   "source": [
    "# define selector\n",
    "selector = SelectPercentile(\n",
    "    score_func=mutual_info_classif,\n",
    "    percentile=10\n",
    ")\n",
    "\n",
    "# keep top 10 percent of features\n",
    "X_ = pd.DataFrame(\n",
    "    data=selector.fit_transform(X_, y),\n",
    "    index=X_.index,\n",
    "    columns=X_.columns[selector.get_support()]\n",
    ")\n",
    "\n",
    "# keep top 10 percent of features\n",
    "X_r = pd.DataFrame(\n",
    "    data=selector.fit_transform(X_r, y),\n",
    "    index=X_r.index,\n",
    "    columns=X_r.columns[selector.get_support()]\n",
    ")"
   ]
  },
  {
   "cell_type": "markdown",
   "metadata": {
    "heading_collapsed": true
   },
   "source": [
    "# Feature Importance"
   ]
  },
  {
   "cell_type": "code",
   "execution_count": null,
   "metadata": {
    "hidden": true
   },
   "outputs": [],
   "source": [
    "fi = {}\n",
    "\n",
    "for k,v in ensembles.items():\n",
    "    fi[k] = v.fit(X_, y).feature_importances_\n",
    "\n",
    "fi = pd.DataFrame.from_dict(fi, orient='index', columns=X_.columns)\n",
    "\n",
    "fi.sort_values(fi.columns.tolist(), ascending=False, inplace=True)\n",
    "fi.sort_values(fi.index.tolist(), axis=1, ascending=False, inplace=True)\n",
    "\n",
    "fi.style.highlight_max(axis=1)"
   ]
  },
  {
   "cell_type": "code",
   "execution_count": null,
   "metadata": {
    "hidden": true
   },
   "outputs": [],
   "source": [
    "fi = {}\n",
    "\n",
    "for k,v in ensembles.items():\n",
    "    fi[k] = v.fit(X_r, y).feature_importances_\n",
    "\n",
    "fi = pd.DataFrame.from_dict(fi, orient='index', columns=X_r.columns)\n",
    "\n",
    "fi.sort_values(fi.columns.tolist(), ascending=False, inplace=True)\n",
    "fi.sort_values(fi.index.tolist(), axis=1, ascending=False, inplace=True)\n",
    "\n",
    "fi.style.highlight_max(axis=1)"
   ]
  },
  {
   "cell_type": "markdown",
   "metadata": {
    "heading_collapsed": true
   },
   "source": [
    "# Top n per FI"
   ]
  },
  {
   "cell_type": "code",
   "execution_count": null,
   "metadata": {
    "hidden": true
   },
   "outputs": [],
   "source": [
    "# top features per fi-algorithm\n",
    "n = 1\n",
    "\n",
    "sns.pairplot(\n",
    "    data=X.join(y),\n",
    "    hue='type',\n",
    "    vars=list(set(fi.iloc[0].sort_values(ascending=False).head(n).index.tolist() +\\\n",
    "                  fi.iloc[1].sort_values(ascending=False).head(n).index.tolist() +\\\n",
    "                  fi.iloc[2].sort_values(ascending=False).head(n).index.tolist() +\\\n",
    "                  fi.iloc[3].sort_values(ascending=False).head(n).index.tolist()))\n",
    ");"
   ]
  },
  {
   "cell_type": "markdown",
   "metadata": {
    "hidden": true
   },
   "source": [
    "The most important feature from all three ensemble algorithms is `hair_length`."
   ]
  },
  {
   "cell_type": "markdown",
   "metadata": {
    "heading_collapsed": true
   },
   "source": [
    "# Model"
   ]
  },
  {
   "cell_type": "code",
   "execution_count": null,
   "metadata": {
    "hidden": true
   },
   "outputs": [],
   "source": [
    "train_x, test_x, train_y, test_y = train_test_split(X_r, y, test_size=0.1, random_state=0)"
   ]
  },
  {
   "cell_type": "code",
   "execution_count": null,
   "metadata": {
    "hidden": true,
    "scrolled": false
   },
   "outputs": [],
   "source": [
    "results = {}\n",
    "\n",
    "for k,v in classifiers.items():\n",
    "    \n",
    "    print(k)\n",
    "    \n",
    "    cv = cross_validate(\n",
    "        estimator=v,\n",
    "        X=train_x,\n",
    "        y=train_y,\n",
    "        cv=10\n",
    "    )\n",
    "    \n",
    "    cv = cv['test_score']\n",
    "    \n",
    "    results[k] = cv"
   ]
  },
  {
   "cell_type": "code",
   "execution_count": null,
   "metadata": {
    "hidden": true
   },
   "outputs": [],
   "source": [
    "# selector 10\n",
    "pd.DataFrame.from_dict(results, orient='columns').describe()"
   ]
  },
  {
   "cell_type": "markdown",
   "metadata": {
    "heading_collapsed": true
   },
   "source": [
    "# GridSearchCV"
   ]
  },
  {
   "cell_type": "markdown",
   "metadata": {
    "heading_collapsed": true,
    "hidden": true
   },
   "source": [
    "## AdaBoostClassifier"
   ]
  },
  {
   "cell_type": "code",
   "execution_count": null,
   "metadata": {
    "hidden": true
   },
   "outputs": [],
   "source": [
    "AdaBoostClassifier_g = GridSearchCV(\n",
    "    estimator=AdaBoostClassifier(),\n",
    "    param_grid={\n",
    "        'n_estimators' : np.arange(50, 250, 5),\n",
    "        'learning_rate' : np.arange(1e-2, 1e1, 1e-1),\n",
    "        'algorithm' : ['SAMME', 'SAMME.R'],\n",
    "        'random_state' : [0]\n",
    "    },\n",
    "    cv=10\n",
    ")\n",
    "\n",
    "AdaBoostClassifier_g.fit(train_x, train_y)\n",
    "\n",
    "print(f\"AdaBoostClassifier_g.best_score_: {AdaBoostClassifier_g.best_score_}\")"
   ]
  },
  {
   "cell_type": "code",
   "execution_count": null,
   "metadata": {
    "hidden": true
   },
   "outputs": [],
   "source": [
    "scores = cross_val_score(\n",
    "    estimator=AdaBoostClassifier_g.best_estimator_,\n",
    "    X=train_x,\n",
    "    y=train_y,\n",
    "    cv=10\n",
    ")\n",
    "\n",
    "print(pd.Series(scores).describe())\n",
    "\n",
    "pd.Series(scores).plot.kde();"
   ]
  },
  {
   "cell_type": "markdown",
   "metadata": {
    "heading_collapsed": true,
    "hidden": true
   },
   "source": [
    "## ExtraTreesClassifier"
   ]
  },
  {
   "cell_type": "code",
   "execution_count": null,
   "metadata": {
    "hidden": true
   },
   "outputs": [],
   "source": [
    "ExtraTreesClassifier_g = GridSearchCV(\n",
    "    estimator=ExtraTreesClassifier(),\n",
    "    param_grid={\n",
    "        'n_estimators' : np.arange(50, 250, 5),\n",
    "        'learning_rate' : np.arange(1e-2, 1e1, 1e-1),\n",
    "        'algorithm' : ['SAMME', 'SAMME.R'],\n",
    "        'random_state' : [0]\n",
    "    },\n",
    "    cv=10\n",
    ")\n",
    "\n",
    "AdaBoostClassifier_g.fit(train_x, train_y)\n",
    "\n",
    "print(f\"AdaBoostClassifier_g.best_score_: {AdaBoostClassifier_g.best_score_}\")"
   ]
  },
  {
   "cell_type": "markdown",
   "metadata": {
    "heading_collapsed": true,
    "hidden": true
   },
   "source": [
    "## LogisticRegression"
   ]
  },
  {
   "cell_type": "code",
   "execution_count": null,
   "metadata": {
    "hidden": true
   },
   "outputs": [],
   "source": [
    "LogisticRegression_g = GridSearchCV(\n",
    "    estimator=LogisticRegression(),\n",
    "    param_grid={\n",
    "        'random_state' : [0],\n",
    "        'penalty' : ['l1', 'l2'],\n",
    "        'C' : np.arange(1e-2, 1e1, 1e-1),\n",
    "        'fit_intercept' : [True],\n",
    "        'max_iter' : [200],\n",
    "        'solver' : ['liblinear'],\n",
    "        'multi_class' : ['auto'],\n",
    "    },\n",
    "    cv=10,\n",
    ")\n",
    "\n",
    "LogisticRegression_g.fit(train_x, train_y)\n",
    "\n",
    "print(f\"LogisticRegression_g.best_score_: {LogisticRegression_g.best_score_}\")"
   ]
  },
  {
   "cell_type": "code",
   "execution_count": null,
   "metadata": {
    "hidden": true
   },
   "outputs": [],
   "source": [
    "scores = cross_val_score(\n",
    "    estimator=LogisticRegression_g.best_estimator_,\n",
    "    X=train_x,\n",
    "    y=train_y,\n",
    "    cv=10\n",
    ")\n",
    "\n",
    "print(pd.Series(scores).describe())\n",
    "\n",
    "pd.Series(scores).plot.kde();"
   ]
  },
  {
   "cell_type": "code",
   "execution_count": null,
   "metadata": {
    "hidden": true
   },
   "outputs": [],
   "source": [
    "pd.DataFrame(classification_report(\n",
    "    y_true=test_y,\n",
    "    y_pred=LogisticRegression_g.best_estimator_.predict(test_x),\n",
    "    output_dict=True\n",
    "))"
   ]
  }
 ],
 "metadata": {
  "kernelspec": {
   "display_name": "Python 3",
   "language": "python",
   "name": "python3"
  },
  "language_info": {
   "codemirror_mode": {
    "name": "ipython",
    "version": 3
   },
   "file_extension": ".py",
   "mimetype": "text/x-python",
   "name": "python",
   "nbconvert_exporter": "python",
   "pygments_lexer": "ipython3",
   "version": "3.7.6"
  }
 },
 "nbformat": 4,
 "nbformat_minor": 2
}
