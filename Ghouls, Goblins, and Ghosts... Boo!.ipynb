{
 "cells": [
  {
   "cell_type": "markdown",
   "metadata": {
    "heading_collapsed": true
   },
   "source": [
    "# Imports"
   ]
  },
  {
   "cell_type": "code",
   "execution_count": 22,
   "metadata": {
    "hidden": true
   },
   "outputs": [],
   "source": [
    "# analysis\n",
    "import pandas as pd\n",
    "import numpy as np\n",
    "from scipy import stats\n",
    "\n",
    "# visuals\n",
    "import matplotlib.pyplot as plt\n",
    "import seaborn as sns; sns.set()\n",
    "\n",
    "from pprint import pprint\n",
    "\n",
    "import joblib\n",
    "\n",
    "from sklearn.preprocessing import OneHotEncoder\n",
    "\n",
    "from sklearn.preprocessing import MinMaxScaler\n",
    "from sklearn.feature_selection import VarianceThreshold, SelectKBest, chi2, f_classif\n",
    "from sklearn.linear_model import LogisticRegression\n",
    "from sklearn.pipeline import Pipeline\n",
    "from sklearn.model_selection import RandomizedSearchCV, train_test_split\n",
    "\n",
    "from sklearn.metrics import classification_report\n",
    "\n",
    "from sklearn.svm import SVC\n",
    "\n",
    "from sklearn.neural_network import MLPClassifier\n",
    "\n",
    "from sklearn.naive_bayes import MultinomialNB\n",
    "\n",
    "from sklearn.naive_bayes import GaussianNB\n",
    "\n",
    "from sklearn.metrics import confusion_matrix\n",
    "\n",
    "%matplotlib inline"
   ]
  },
  {
   "cell_type": "markdown",
   "metadata": {
    "heading_collapsed": true
   },
   "source": [
    "# Data"
   ]
  },
  {
   "cell_type": "code",
   "execution_count": 2,
   "metadata": {
    "hidden": true
   },
   "outputs": [],
   "source": [
    "# read training data\n",
    "train = pd.read_csv(\"train.csv\")"
   ]
  },
  {
   "cell_type": "markdown",
   "metadata": {
    "heading_collapsed": true
   },
   "source": [
    "# Clean"
   ]
  },
  {
   "cell_type": "code",
   "execution_count": 3,
   "metadata": {
    "hidden": true
   },
   "outputs": [
    {
     "data": {
      "text/plain": [
       "Ghoul     129\n",
       "Goblin    125\n",
       "Ghost     117\n",
       "Name: type, dtype: int64"
      ]
     },
     "execution_count": 3,
     "metadata": {},
     "output_type": "execute_result"
    }
   ],
   "source": [
    "train.type.value_counts()"
   ]
  },
  {
   "cell_type": "code",
   "execution_count": 4,
   "metadata": {
    "hidden": true
   },
   "outputs": [],
   "source": [
    "train.set_index('id', inplace=True)"
   ]
  },
  {
   "cell_type": "code",
   "execution_count": 5,
   "metadata": {
    "hidden": true
   },
   "outputs": [],
   "source": [
    "X = train.drop(columns='type')\n",
    "y = train.type\n",
    "\n",
    "X_obj = X.select_dtypes(include=['O'])\n",
    "\n",
    "X_num = X.select_dtypes(exclude=['O'])"
   ]
  },
  {
   "cell_type": "code",
   "execution_count": 6,
   "metadata": {
    "hidden": true
   },
   "outputs": [],
   "source": [
    "ohe = OneHotEncoder(sparse=False)\n",
    "\n",
    "ohe_obj = ohe.fit_transform(X_obj)\n",
    "\n",
    "X_obj = pd.DataFrame(\n",
    "    data=ohe_obj,\n",
    "    index=X_obj.index,\n",
    "    columns=ohe.get_feature_names(X_obj.columns)\n",
    ")\n",
    "\n",
    "X = X_num.join(X_obj)"
   ]
  },
  {
   "cell_type": "markdown",
   "metadata": {
    "heading_collapsed": true
   },
   "source": [
    "# Logistic Regression"
   ]
  },
  {
   "cell_type": "code",
   "execution_count": 141,
   "metadata": {
    "hidden": true
   },
   "outputs": [
    {
     "name": "stdout",
     "output_type": "stream",
     "text": [
      "Fitting 10 folds for each of 1000 candidates, totalling 10000 fits\n"
     ]
    },
    {
     "name": "stderr",
     "output_type": "stream",
     "text": [
      "[Parallel(n_jobs=-1)]: Using backend LokyBackend with 4 concurrent workers.\n",
      "[Parallel(n_jobs=-1)]: Done 200 tasks      | elapsed:    1.6s\n",
      "[Parallel(n_jobs=-1)]: Done 1400 tasks      | elapsed:    9.4s\n",
      "[Parallel(n_jobs=-1)]: Done 3400 tasks      | elapsed:   21.9s\n",
      "[Parallel(n_jobs=-1)]: Done 6200 tasks      | elapsed:   39.0s\n",
      "[Parallel(n_jobs=-1)]: Done 9800 tasks      | elapsed:  1.0min\n"
     ]
    },
    {
     "name": "stdout",
     "output_type": "stream",
     "text": [
      "Best RSCV Score: 0.7406432748538012\n"
     ]
    },
    {
     "name": "stderr",
     "output_type": "stream",
     "text": [
      "[Parallel(n_jobs=-1)]: Done 10000 out of 10000 | elapsed:  1.0min finished\n",
      "/home/ian/anaconda3/lib/python3.7/site-packages/sklearn/linear_model/_logistic.py:1355: UserWarning: 'n_jobs' > 1 does not have any effect when 'solver' is set to 'liblinear'. Got 'n_jobs' = 4.\n",
      "  \" = {}.\".format(effective_n_jobs(self.n_jobs)))\n"
     ]
    }
   ],
   "source": [
    "pipe = Pipeline(steps=[\n",
    "    (\"scale\", MinMaxScaler()),\n",
    "    (\"var\", VarianceThreshold()),\n",
    "    (\"select\", SelectKBest(k=\"all\")),\n",
    "    (\"clf\", LogisticRegression(\n",
    "        dual=False,\n",
    "        class_weight=\"balanced\",\n",
    "        random_state=0,\n",
    "        solver=\"liblinear\",\n",
    "        multi_class=\"ovr\",\n",
    "        n_jobs=-1,\n",
    "    )),\n",
    "])\n",
    "\n",
    "param_distributions = {\n",
    "    \"var__threshold\" : stats.uniform(0, 0.1),\n",
    "    \"select__score_func\" : [chi2, f_classif],\n",
    "    \"clf__penalty\" : [\"l1\", \"l2\"],\n",
    "    \"clf__tol\" : stats.uniform(0, 1e-2),\n",
    "    \"clf__C\" : stats.uniform(0, 5),\n",
    "    \"clf__fit_intercept\" : [True, False],\n",
    "    \"clf__max_iter\" : stats.randint(100, 1000),\n",
    "}\n",
    "\n",
    "rscv = RandomizedSearchCV(\n",
    "    estimator=pipe,\n",
    "    param_distributions=param_distributions,\n",
    "    n_iter=1000,\n",
    "    n_jobs=-1,\n",
    "    cv=10,\n",
    "    verbose=True,\n",
    "    random_state=0,\n",
    ")\n",
    "\n",
    "X_train, X_test, y_train, y_test = train_test_split(\n",
    "    X,\n",
    "    y,\n",
    "    test_size=0.3,\n",
    "    stratify=y,\n",
    "    random_state=0\n",
    ")\n",
    "\n",
    "X_train, X_validate, y_train, y_validate = train_test_split(\n",
    "    X_train,\n",
    "    y_train,\n",
    "    test_size=0.3,\n",
    "    stratify=y_train,\n",
    "    random_state=0\n",
    ")\n",
    "\n",
    "rscv.fit(X_train, y_train)\n",
    "\n",
    "print(f\"Best RSCV Score: {rscv.best_score_}\")"
   ]
  },
  {
   "cell_type": "code",
   "execution_count": 142,
   "metadata": {
    "hidden": true
   },
   "outputs": [
    {
     "name": "stdout",
     "output_type": "stream",
     "text": [
      "Training Report\n",
      "----------------------------------------------------------------------\n",
      "              precision    recall  f1-score   support\n",
      "\n",
      "       Ghost       0.84      0.95      0.89        57\n",
      "       Ghoul       0.70      0.86      0.77        63\n",
      "      Goblin       0.75      0.49      0.59        61\n",
      "\n",
      "    accuracy                           0.76       181\n",
      "   macro avg       0.77      0.77      0.75       181\n",
      "weighted avg       0.76      0.76      0.75       181\n",
      "\n",
      "\n",
      "\n",
      "Validation Report\n",
      "----------------------------------------------------------------------\n",
      "              precision    recall  f1-score   support\n",
      "\n",
      "       Ghost       0.75      0.96      0.84        25\n",
      "       Ghoul       0.75      0.89      0.81        27\n",
      "      Goblin       0.79      0.42      0.55        26\n",
      "\n",
      "    accuracy                           0.76        78\n",
      "   macro avg       0.76      0.76      0.74        78\n",
      "weighted avg       0.76      0.76      0.73        78\n",
      "\n",
      "\n",
      "\n",
      "Testing Report\n",
      "----------------------------------------------------------------------\n",
      "              precision    recall  f1-score   support\n",
      "\n",
      "       Ghost       0.71      0.86      0.78        35\n",
      "       Ghoul       0.72      0.74      0.73        39\n",
      "      Goblin       0.60      0.47      0.53        38\n",
      "\n",
      "    accuracy                           0.69       112\n",
      "   macro avg       0.68      0.69      0.68       112\n",
      "weighted avg       0.68      0.69      0.68       112\n",
      "\n"
     ]
    }
   ],
   "source": [
    "print(\"Training Report\")\n",
    "print(\"-\"*70)\n",
    "print(classification_report(y_train, rscv.predict(X_train)))\n",
    "print()\n",
    "print()\n",
    "print(\"Validation Report\")\n",
    "print(\"-\"*70)\n",
    "print(classification_report(y_validate, rscv.predict(X_validate)))\n",
    "print()\n",
    "print()\n",
    "print(\"Testing Report\")\n",
    "print(\"-\"*70)\n",
    "print(classification_report(y_test, rscv.predict(X_test)))"
   ]
  },
  {
   "cell_type": "markdown",
   "metadata": {
    "hidden": true
   },
   "source": [
    "Getting coefficients"
   ]
  },
  {
   "cell_type": "code",
   "execution_count": 143,
   "metadata": {
    "hidden": true
   },
   "outputs": [
    {
     "name": "stderr",
     "output_type": "stream",
     "text": [
      "/home/ian/anaconda3/lib/python3.7/site-packages/sklearn/linear_model/_logistic.py:1355: UserWarning: 'n_jobs' > 1 does not have any effect when 'solver' is set to 'liblinear'. Got 'n_jobs' = 4.\n",
      "  \" = {}.\".format(effective_n_jobs(self.n_jobs)))\n"
     ]
    },
    {
     "data": {
      "text/html": [
       "<div>\n",
       "<style scoped>\n",
       "    .dataframe tbody tr th:only-of-type {\n",
       "        vertical-align: middle;\n",
       "    }\n",
       "\n",
       "    .dataframe tbody tr th {\n",
       "        vertical-align: top;\n",
       "    }\n",
       "\n",
       "    .dataframe thead th {\n",
       "        text-align: right;\n",
       "    }\n",
       "</style>\n",
       "<table border=\"1\" class=\"dataframe\">\n",
       "  <thead>\n",
       "    <tr style=\"text-align: right;\">\n",
       "      <th></th>\n",
       "      <th>bone_length</th>\n",
       "      <th>rotting_flesh</th>\n",
       "      <th>hair_length</th>\n",
       "      <th>has_soul</th>\n",
       "      <th>color_black</th>\n",
       "      <th>color_blood</th>\n",
       "      <th>color_blue</th>\n",
       "      <th>color_clear</th>\n",
       "      <th>color_white</th>\n",
       "    </tr>\n",
       "  </thead>\n",
       "  <tbody>\n",
       "    <tr>\n",
       "      <th>Ghost</th>\n",
       "      <td>-5.157298</td>\n",
       "      <td>6.581265</td>\n",
       "      <td>-8.627802</td>\n",
       "      <td>-7.390625</td>\n",
       "      <td>0.000000</td>\n",
       "      <td>0.874761</td>\n",
       "      <td>0.000000</td>\n",
       "      <td>0.464180</td>\n",
       "      <td>-0.004779</td>\n",
       "    </tr>\n",
       "    <tr>\n",
       "      <th>Ghoul</th>\n",
       "      <td>3.743242</td>\n",
       "      <td>0.000000</td>\n",
       "      <td>5.513239</td>\n",
       "      <td>5.355890</td>\n",
       "      <td>0.090002</td>\n",
       "      <td>0.000000</td>\n",
       "      <td>-0.237984</td>\n",
       "      <td>-0.215552</td>\n",
       "      <td>0.177092</td>\n",
       "    </tr>\n",
       "    <tr>\n",
       "      <th>Goblin</th>\n",
       "      <td>-0.011230</td>\n",
       "      <td>-3.432222</td>\n",
       "      <td>0.000000</td>\n",
       "      <td>0.000000</td>\n",
       "      <td>0.000000</td>\n",
       "      <td>-0.463539</td>\n",
       "      <td>0.172978</td>\n",
       "      <td>0.084588</td>\n",
       "      <td>-0.048672</td>\n",
       "    </tr>\n",
       "  </tbody>\n",
       "</table>\n",
       "</div>"
      ],
      "text/plain": [
       "        bone_length  rotting_flesh  hair_length  has_soul  color_black  \\\n",
       "Ghost     -5.157298       6.581265    -8.627802 -7.390625     0.000000   \n",
       "Ghoul      3.743242       0.000000     5.513239  5.355890     0.090002   \n",
       "Goblin    -0.011230      -3.432222     0.000000  0.000000     0.000000   \n",
       "\n",
       "        color_blood  color_blue  color_clear  color_white  \n",
       "Ghost      0.874761    0.000000     0.464180    -0.004779  \n",
       "Ghoul      0.000000   -0.237984    -0.215552     0.177092  \n",
       "Goblin    -0.463539    0.172978     0.084588    -0.048672  "
      ]
     },
     "execution_count": 143,
     "metadata": {},
     "output_type": "execute_result"
    }
   ],
   "source": [
    "scale = rscv.best_estimator_.named_steps.scale\n",
    "\n",
    "var = rscv.best_estimator_.named_steps.var\n",
    "\n",
    "select = rscv.best_estimator_.named_steps.select\n",
    "\n",
    "clf = rscv.best_estimator_.named_steps.clf\n",
    "\n",
    "X_ = pd.DataFrame(\n",
    "    scale.transform(X),\n",
    "    index=X.index,\n",
    "    columns=X.columns,\n",
    ")\n",
    "\n",
    "X_ = pd.DataFrame(\n",
    "    var.transform(X_),\n",
    "    index=X_.index,\n",
    "    columns=X_.columns[var.get_support()]\n",
    ")\n",
    "\n",
    "X_ = pd.DataFrame(\n",
    "    select.transform(X_),\n",
    "    index=X_.index,\n",
    "    columns=X_.columns[select.get_support()]\n",
    ")\n",
    "\n",
    "clf.fit(X_, y)\n",
    "\n",
    "coefficients = pd.DataFrame(\n",
    "    clf.coef_,\n",
    "    index=clf.classes_,\n",
    "    columns=X_.columns\n",
    ")\n",
    "\n",
    "coef_mask = coefficients.sum().mask(lambda x: x == 0)\n",
    "\n",
    "coef_mask.dropna(inplace=True)\n",
    "\n",
    "coefficients = coefficients.reindex(columns=coef_mask.index)\n",
    "\n",
    "coefficients"
   ]
  },
  {
   "cell_type": "code",
   "execution_count": 144,
   "metadata": {
    "hidden": true
   },
   "outputs": [
    {
     "data": {
      "text/plain": [
       "['logreg.joblib']"
      ]
     },
     "execution_count": 144,
     "metadata": {},
     "output_type": "execute_result"
    }
   ],
   "source": [
    "joblib.dump(rscv.best_estimator_, \"logreg.joblib\", compress=True)"
   ]
  },
  {
   "cell_type": "markdown",
   "metadata": {
    "heading_collapsed": true
   },
   "source": [
    "# SVM"
   ]
  },
  {
   "cell_type": "code",
   "execution_count": 145,
   "metadata": {
    "hidden": true
   },
   "outputs": [
    {
     "name": "stdout",
     "output_type": "stream",
     "text": [
      "Fitting 10 folds for each of 1000 candidates, totalling 10000 fits\n"
     ]
    },
    {
     "name": "stderr",
     "output_type": "stream",
     "text": [
      "[Parallel(n_jobs=-1)]: Using backend LokyBackend with 4 concurrent workers.\n",
      "[Parallel(n_jobs=-1)]: Done 200 tasks      | elapsed:    1.8s\n",
      "[Parallel(n_jobs=-1)]: Done 1400 tasks      | elapsed:   11.5s\n",
      "[Parallel(n_jobs=-1)]: Done 3400 tasks      | elapsed:   27.9s\n",
      "[Parallel(n_jobs=-1)]: Done 6200 tasks      | elapsed:   50.3s\n",
      "[Parallel(n_jobs=-1)]: Done 9800 tasks      | elapsed:  1.3min\n"
     ]
    },
    {
     "name": "stdout",
     "output_type": "stream",
     "text": [
      "Best RSCV Score: 0.7350877192982456\n"
     ]
    },
    {
     "name": "stderr",
     "output_type": "stream",
     "text": [
      "[Parallel(n_jobs=-1)]: Done 10000 out of 10000 | elapsed:  1.3min finished\n"
     ]
    }
   ],
   "source": [
    "pipe = Pipeline(steps=[\n",
    "    (\"scale\", MinMaxScaler()),\n",
    "    (\"var\", VarianceThreshold()),\n",
    "    (\"select\", SelectKBest(k=\"all\")),\n",
    "    (\"clf\", SVC(\n",
    "        probability=True,\n",
    "        cache_size=200,\n",
    "        class_weight=\"balanced\",\n",
    "        max_iter=-1,\n",
    "        decision_function_shape=\"ovr\",\n",
    "        random_state=0,\n",
    "    )),\n",
    "])\n",
    "\n",
    "param_distributions = {\n",
    "    \"var__threshold\" : stats.uniform(0, 0.1),\n",
    "    \"select__score_func\" : [chi2, f_classif],\n",
    "    \"clf__C\" : stats.uniform(0, 5),\n",
    "    \"clf__kernel\" : [\"linear\", \"poly\", \"rbf\"],\n",
    "    \"clf__degree\" : stats.randint(3, 10),\n",
    "    \"clf__gamma\" : [\"auto\", \"scale\"],\n",
    "    \"clf__coef0\" : stats.uniform(-1, 2),\n",
    "    \"clf__shrinking\" : [True, False],\n",
    "    \"clf__tol\" : stats.uniform(0, 1e-1),\n",
    "    \"clf__break_ties\" : [True, False],\n",
    "}\n",
    "\n",
    "rscv = RandomizedSearchCV(\n",
    "    estimator=pipe,\n",
    "    param_distributions=param_distributions,\n",
    "    n_iter=1000,\n",
    "    n_jobs=-1,\n",
    "    cv=10,\n",
    "    verbose=True,\n",
    "    random_state=0,\n",
    ")\n",
    "\n",
    "X_train, X_test, y_train, y_test = train_test_split(\n",
    "    X,\n",
    "    y,\n",
    "    test_size=0.3,\n",
    "    stratify=y,\n",
    "    random_state=0\n",
    ")\n",
    "\n",
    "X_train, X_validate, y_train, y_validate = train_test_split(\n",
    "    X_train,\n",
    "    y_train,\n",
    "    test_size=0.3,\n",
    "    stratify=y_train,\n",
    "    random_state=0\n",
    ")\n",
    "\n",
    "rscv.fit(X_train, y_train)\n",
    "\n",
    "print(f\"Best RSCV Score: {rscv.best_score_}\")"
   ]
  },
  {
   "cell_type": "code",
   "execution_count": 146,
   "metadata": {
    "hidden": true
   },
   "outputs": [
    {
     "name": "stdout",
     "output_type": "stream",
     "text": [
      "Training Report\n",
      "----------------------------------------------------------------------\n",
      "              precision    recall  f1-score   support\n",
      "\n",
      "       Ghost       0.86      0.95      0.90        57\n",
      "       Ghoul       0.77      0.76      0.77        63\n",
      "      Goblin       0.70      0.64      0.67        61\n",
      "\n",
      "    accuracy                           0.78       181\n",
      "   macro avg       0.78      0.78      0.78       181\n",
      "weighted avg       0.77      0.78      0.78       181\n",
      "\n",
      "\n",
      "\n",
      "Validation Report\n",
      "----------------------------------------------------------------------\n",
      "              precision    recall  f1-score   support\n",
      "\n",
      "       Ghost       0.73      0.96      0.83        25\n",
      "       Ghoul       0.85      0.81      0.83        27\n",
      "      Goblin       0.74      0.54      0.62        26\n",
      "\n",
      "    accuracy                           0.77        78\n",
      "   macro avg       0.77      0.77      0.76        78\n",
      "weighted avg       0.77      0.77      0.76        78\n",
      "\n",
      "\n",
      "\n",
      "Testing Report\n",
      "----------------------------------------------------------------------\n",
      "              precision    recall  f1-score   support\n",
      "\n",
      "       Ghost       0.78      0.80      0.79        35\n",
      "       Ghoul       0.82      0.72      0.77        39\n",
      "      Goblin       0.60      0.66      0.62        38\n",
      "\n",
      "    accuracy                           0.72       112\n",
      "   macro avg       0.73      0.73      0.73       112\n",
      "weighted avg       0.73      0.72      0.73       112\n",
      "\n"
     ]
    }
   ],
   "source": [
    "from sklearn.metrics import classification_report\n",
    "\n",
    "print(\"Training Report\")\n",
    "print(\"-\"*70)\n",
    "print(classification_report(y_train, rscv.predict(X_train)))\n",
    "print()\n",
    "print()\n",
    "print(\"Validation Report\")\n",
    "print(\"-\"*70)\n",
    "print(classification_report(y_validate, rscv.predict(X_validate)))\n",
    "print()\n",
    "print()\n",
    "print(\"Testing Report\")\n",
    "print(\"-\"*70)\n",
    "print(classification_report(y_test, rscv.predict(X_test)))"
   ]
  },
  {
   "cell_type": "markdown",
   "metadata": {
    "hidden": true
   },
   "source": [
    "Getting coefficients"
   ]
  },
  {
   "cell_type": "code",
   "execution_count": 147,
   "metadata": {
    "hidden": true
   },
   "outputs": [
    {
     "data": {
      "text/html": [
       "<div>\n",
       "<style scoped>\n",
       "    .dataframe tbody tr th:only-of-type {\n",
       "        vertical-align: middle;\n",
       "    }\n",
       "\n",
       "    .dataframe tbody tr th {\n",
       "        vertical-align: top;\n",
       "    }\n",
       "\n",
       "    .dataframe thead th {\n",
       "        text-align: right;\n",
       "    }\n",
       "</style>\n",
       "<table border=\"1\" class=\"dataframe\">\n",
       "  <thead>\n",
       "    <tr style=\"text-align: right;\">\n",
       "      <th></th>\n",
       "      <th>bone_length</th>\n",
       "      <th>rotting_flesh</th>\n",
       "      <th>hair_length</th>\n",
       "      <th>has_soul</th>\n",
       "      <th>color_black</th>\n",
       "      <th>color_blood</th>\n",
       "      <th>color_blue</th>\n",
       "      <th>color_clear</th>\n",
       "      <th>color_green</th>\n",
       "      <th>color_white</th>\n",
       "    </tr>\n",
       "  </thead>\n",
       "  <tbody>\n",
       "    <tr>\n",
       "      <th>Ghost</th>\n",
       "      <td>-3.281277</td>\n",
       "      <td>2.825302</td>\n",
       "      <td>-6.043970</td>\n",
       "      <td>-5.586651</td>\n",
       "      <td>0.114463</td>\n",
       "      <td>0.644548</td>\n",
       "      <td>-0.868851</td>\n",
       "      <td>0.071139</td>\n",
       "      <td>0.449101</td>\n",
       "      <td>-0.410400</td>\n",
       "    </tr>\n",
       "    <tr>\n",
       "      <th>Ghoul</th>\n",
       "      <td>-3.961083</td>\n",
       "      <td>4.802137</td>\n",
       "      <td>-6.436560</td>\n",
       "      <td>-4.313558</td>\n",
       "      <td>-0.521987</td>\n",
       "      <td>1.387312</td>\n",
       "      <td>-0.596093</td>\n",
       "      <td>0.268998</td>\n",
       "      <td>-0.124179</td>\n",
       "      <td>-0.414051</td>\n",
       "    </tr>\n",
       "    <tr>\n",
       "      <th>Goblin</th>\n",
       "      <td>3.265254</td>\n",
       "      <td>0.815707</td>\n",
       "      <td>4.341685</td>\n",
       "      <td>4.354775</td>\n",
       "      <td>0.615091</td>\n",
       "      <td>-0.293558</td>\n",
       "      <td>-0.772413</td>\n",
       "      <td>-0.026535</td>\n",
       "      <td>0.141711</td>\n",
       "      <td>0.335705</td>\n",
       "    </tr>\n",
       "  </tbody>\n",
       "</table>\n",
       "</div>"
      ],
      "text/plain": [
       "        bone_length  rotting_flesh  hair_length  has_soul  color_black  \\\n",
       "Ghost     -3.281277       2.825302    -6.043970 -5.586651     0.114463   \n",
       "Ghoul     -3.961083       4.802137    -6.436560 -4.313558    -0.521987   \n",
       "Goblin     3.265254       0.815707     4.341685  4.354775     0.615091   \n",
       "\n",
       "        color_blood  color_blue  color_clear  color_green  color_white  \n",
       "Ghost      0.644548   -0.868851     0.071139     0.449101    -0.410400  \n",
       "Ghoul      1.387312   -0.596093     0.268998    -0.124179    -0.414051  \n",
       "Goblin    -0.293558   -0.772413    -0.026535     0.141711     0.335705  "
      ]
     },
     "execution_count": 147,
     "metadata": {},
     "output_type": "execute_result"
    }
   ],
   "source": [
    "scale = rscv.best_estimator_.named_steps.scale\n",
    "\n",
    "var = rscv.best_estimator_.named_steps.var\n",
    "\n",
    "select = rscv.best_estimator_.named_steps.select\n",
    "\n",
    "clf = rscv.best_estimator_.named_steps.clf\n",
    "\n",
    "X_ = pd.DataFrame(   \n",
    "    scale.transform(X),\n",
    "    index=X.index,\n",
    "    columns=X.columns,\n",
    ")\n",
    "\n",
    "X_ = pd.DataFrame(\n",
    "    var.transform(X_),\n",
    "    index=X_.index,\n",
    "    columns=X_.columns[var.get_support()]\n",
    ")\n",
    "\n",
    "X_ = pd.DataFrame(\n",
    "    select.transform(X_),\n",
    "    index=X_.index,\n",
    "    columns=X_.columns[select.get_support()]\n",
    ")\n",
    "\n",
    "clf.fit(X_, y)\n",
    "\n",
    "coefficients = pd.DataFrame(\n",
    "    clf.coef_,\n",
    "    index=clf.classes_,\n",
    "    columns=X_.columns\n",
    ")\n",
    "\n",
    "coef_mask = coefficients.sum().mask(lambda x: x == 0)\n",
    "\n",
    "coef_mask.dropna(inplace=True)\n",
    "\n",
    "coefficients = coefficients.reindex(columns=coef_mask.index)\n",
    "\n",
    "coefficients"
   ]
  },
  {
   "cell_type": "code",
   "execution_count": 148,
   "metadata": {
    "hidden": true
   },
   "outputs": [
    {
     "data": {
      "text/plain": [
       "['svm.joblib']"
      ]
     },
     "execution_count": 148,
     "metadata": {},
     "output_type": "execute_result"
    }
   ],
   "source": [
    "joblib.dump(rscv.best_estimator_, \"svm.joblib\", compress=True)"
   ]
  },
  {
   "cell_type": "markdown",
   "metadata": {
    "heading_collapsed": true
   },
   "source": [
    "# Neural Network"
   ]
  },
  {
   "cell_type": "code",
   "execution_count": 38,
   "metadata": {
    "hidden": true
   },
   "outputs": [
    {
     "name": "stdout",
     "output_type": "stream",
     "text": [
      "Fitting 10 folds for each of 1000 candidates, totalling 10000 fits\n"
     ]
    },
    {
     "name": "stderr",
     "output_type": "stream",
     "text": [
      "[Parallel(n_jobs=-1)]: Using backend LokyBackend with 4 concurrent workers.\n",
      "[Parallel(n_jobs=-1)]: Done  65 tasks      | elapsed:    6.1s\n",
      "[Parallel(n_jobs=-1)]: Done 289 tasks      | elapsed:   34.3s\n",
      "[Parallel(n_jobs=-1)]: Done 562 tasks      | elapsed:  1.1min\n",
      "[Parallel(n_jobs=-1)]: Done 928 tasks      | elapsed:  1.8min\n",
      "[Parallel(n_jobs=-1)]: Done 1458 tasks      | elapsed:  3.0min\n",
      "[Parallel(n_jobs=-1)]: Done 2159 tasks      | elapsed:  4.4min\n",
      "[Parallel(n_jobs=-1)]: Done 3006 tasks      | elapsed:  6.0min\n",
      "[Parallel(n_jobs=-1)]: Done 3924 tasks      | elapsed:  7.3min\n",
      "[Parallel(n_jobs=-1)]: Done 4868 tasks      | elapsed:  9.0min\n",
      "[Parallel(n_jobs=-1)]: Done 6180 tasks      | elapsed: 11.2min\n",
      "[Parallel(n_jobs=-1)]: Done 7582 tasks      | elapsed: 14.1min\n",
      "[Parallel(n_jobs=-1)]: Done 9260 tasks      | elapsed: 16.7min\n",
      "[Parallel(n_jobs=-1)]: Done 10000 out of 10000 | elapsed: 18.0min finished\n"
     ]
    },
    {
     "name": "stdout",
     "output_type": "stream",
     "text": [
      "Best RSCV Score: 0.7178362573099415\n"
     ]
    }
   ],
   "source": [
    "pipe = Pipeline(steps=[\n",
    "    (\"scale\", MinMaxScaler()),\n",
    "    (\"var\", VarianceThreshold()),\n",
    "    (\"select\", SelectKBest(k=\"all\")),\n",
    "    (\"clf\", MLPClassifier(\n",
    "        hidden_layer_sizes=(100,),\n",
    "        batch_size=\"auto\",\n",
    "        shuffle=True,\n",
    "        random_state=0,\n",
    "    )),\n",
    "])\n",
    "\n",
    "param_distributions = {\n",
    "    \"var__threshold\" : stats.uniform(0, 0.1),\n",
    "    \"select__score_func\" : [chi2, f_classif],\n",
    "    \"clf__activation\" : [\"identity\", \"logistic\", \"tanh\", \"relu\"],\n",
    "    \"clf__solver\" : [\"lbfgs\", \"sgd\", \"adam\"],\n",
    "    \"clf__alpha\" : stats.uniform(1e-8, 1e-1),\n",
    "    \"clf__learning_rate\" : [\"constant\", \"invscaling\", \"adaptive\"],\n",
    "    \"clf__learning_rate_init\" : stats.uniform(1e-3, 1e0),\n",
    "    \"clf__power_t\" : stats.uniform(0.1, 0.9),\n",
    "    \"clf__max_iter\" : stats.randint(200, 1000),\n",
    "    \"clf__tol\" : stats.uniform(1e-6, 1e-4),\n",
    "    \"clf__warm_start\" : [True, False],\n",
    "    \"clf__momentum\" : stats.uniform(0, 1),\n",
    "    \"clf__nesterovs_momentum\" : [True, False],\n",
    "    \"clf__validation_fraction\" : stats.uniform(0, 0.3),\n",
    "    \"clf__beta_1\" : stats.uniform(0, 1),\n",
    "    \"clf__beta_2\" : stats.uniform(0, 1),\n",
    "    \"clf__epsilon\" : stats.uniform(1e-10, 1e-6),\n",
    "    \"clf__n_iter_no_change\" : stats.randint(5, 20),\n",
    "    \"clf__max_fun\" : stats.randint(10000, 20000),\n",
    "}\n",
    "\n",
    "rscv = RandomizedSearchCV(\n",
    "    estimator=pipe,\n",
    "    param_distributions=param_distributions,\n",
    "    n_iter=1000,\n",
    "    n_jobs=-1,\n",
    "    cv=10,\n",
    "    verbose=True,\n",
    "    random_state=0,\n",
    ")\n",
    "\n",
    "X_train, X_test, y_train, y_test = train_test_split(\n",
    "    X,\n",
    "    y,\n",
    "    test_size=0.3,\n",
    "    stratify=y,\n",
    "    random_state=0\n",
    ")\n",
    "\n",
    "X_train, X_validate, y_train, y_validate = train_test_split(\n",
    "    X_train,\n",
    "    y_train,\n",
    "    test_size=0.3,\n",
    "    stratify=y_train,\n",
    "    random_state=0\n",
    ")\n",
    "\n",
    "rscv.fit(X_train, y_train)\n",
    "\n",
    "print(f\"Best RSCV Score: {rscv.best_score_}\")"
   ]
  },
  {
   "cell_type": "code",
   "execution_count": 39,
   "metadata": {
    "hidden": true
   },
   "outputs": [
    {
     "name": "stdout",
     "output_type": "stream",
     "text": [
      "Training Report\n",
      "----------------------------------------------------------------------\n",
      "              precision    recall  f1-score   support\n",
      "\n",
      "       Ghost       0.87      0.91      0.89        57\n",
      "       Ghoul       0.76      0.79      0.78        63\n",
      "      Goblin       0.69      0.62      0.66        61\n",
      "\n",
      "    accuracy                           0.77       181\n",
      "   macro avg       0.77      0.78      0.77       181\n",
      "weighted avg       0.77      0.77      0.77       181\n",
      "\n",
      "\n",
      "\n",
      "Validation Report\n",
      "----------------------------------------------------------------------\n",
      "              precision    recall  f1-score   support\n",
      "\n",
      "       Ghost       0.74      0.92      0.82        25\n",
      "       Ghoul       0.85      0.81      0.83        27\n",
      "      Goblin       0.71      0.58      0.64        26\n",
      "\n",
      "    accuracy                           0.77        78\n",
      "   macro avg       0.77      0.77      0.76        78\n",
      "weighted avg       0.77      0.77      0.76        78\n",
      "\n",
      "\n",
      "\n",
      "Testing Report\n",
      "----------------------------------------------------------------------\n",
      "              precision    recall  f1-score   support\n",
      "\n",
      "       Ghost       0.77      0.86      0.81        35\n",
      "       Ghoul       0.82      0.72      0.77        39\n",
      "      Goblin       0.59      0.61      0.60        38\n",
      "\n",
      "    accuracy                           0.72       112\n",
      "   macro avg       0.73      0.73      0.73       112\n",
      "weighted avg       0.73      0.72      0.72       112\n",
      "\n"
     ]
    }
   ],
   "source": [
    "print(\"Training Report\")\n",
    "print(\"-\"*70)\n",
    "print(classification_report(y_train, rscv.predict(X_train)))\n",
    "print()\n",
    "print()\n",
    "print(\"Validation Report\")\n",
    "print(\"-\"*70)\n",
    "print(classification_report(y_validate, rscv.predict(X_validate)))\n",
    "print()\n",
    "print()\n",
    "print(\"Testing Report\")\n",
    "print(\"-\"*70)\n",
    "print(classification_report(y_test, rscv.predict(X_test)))"
   ]
  },
  {
   "cell_type": "code",
   "execution_count": 40,
   "metadata": {
    "hidden": true
   },
   "outputs": [
    {
     "data": {
      "text/plain": [
       "['neuralnet.joblib']"
      ]
     },
     "execution_count": 40,
     "metadata": {},
     "output_type": "execute_result"
    }
   ],
   "source": [
    "joblib.dump(rscv.best_estimator_, \"neuralnet.joblib\", compress=True)"
   ]
  },
  {
   "cell_type": "markdown",
   "metadata": {
    "heading_collapsed": true
   },
   "source": [
    "# Multinomial Naive Bayes"
   ]
  },
  {
   "cell_type": "code",
   "execution_count": 15,
   "metadata": {
    "hidden": true
   },
   "outputs": [
    {
     "name": "stdout",
     "output_type": "stream",
     "text": [
      "Fitting 10 folds for each of 1000 candidates, totalling 10000 fits\n"
     ]
    },
    {
     "name": "stderr",
     "output_type": "stream",
     "text": [
      "[Parallel(n_jobs=-1)]: Using backend LokyBackend with 4 concurrent workers.\n",
      "[Parallel(n_jobs=-1)]: Done 200 tasks      | elapsed:    1.5s\n",
      "[Parallel(n_jobs=-1)]: Done 1400 tasks      | elapsed:    9.6s\n",
      "[Parallel(n_jobs=-1)]: Done 3400 tasks      | elapsed:   23.7s\n",
      "[Parallel(n_jobs=-1)]: Done 6200 tasks      | elapsed:   42.6s\n",
      "[Parallel(n_jobs=-1)]: Done 9800 tasks      | elapsed:  1.1min\n"
     ]
    },
    {
     "name": "stdout",
     "output_type": "stream",
     "text": [
      "Best RSCV Score: 0.4257309941520468\n"
     ]
    },
    {
     "name": "stderr",
     "output_type": "stream",
     "text": [
      "[Parallel(n_jobs=-1)]: Done 10000 out of 10000 | elapsed:  1.1min finished\n"
     ]
    }
   ],
   "source": [
    "pipe = Pipeline(steps=[\n",
    "    (\"scale\", MinMaxScaler()),\n",
    "    (\"var\", VarianceThreshold()),\n",
    "    (\"select\", SelectKBest(k=\"all\")),\n",
    "    (\"clf\", MultinomialNB()),\n",
    "])\n",
    "\n",
    "param_distributions = {\n",
    "    \"var__threshold\" : stats.uniform(0, 0.1),\n",
    "    \"select__score_func\" : [chi2, f_classif],\n",
    "    \"clf__alpha\" : stats.uniform(0, 2),\n",
    "    \"clf__fit_prior\" : [True, False],\n",
    "}\n",
    "\n",
    "rscv = RandomizedSearchCV(\n",
    "    estimator=pipe,\n",
    "    param_distributions=param_distributions,\n",
    "    n_iter=1000,\n",
    "    n_jobs=-1,\n",
    "    cv=10,\n",
    "    verbose=True,\n",
    "    random_state=0,\n",
    ")\n",
    "\n",
    "X_train, X_test, y_train, y_test = train_test_split(\n",
    "    X,\n",
    "    y,\n",
    "    test_size=0.3,\n",
    "    stratify=y,\n",
    "    random_state=0\n",
    ")\n",
    "\n",
    "X_train, X_validate, y_train, y_validate = train_test_split(\n",
    "    X_train,\n",
    "    y_train,\n",
    "    test_size=0.3,\n",
    "    stratify=y_train,\n",
    "    random_state=0\n",
    ")\n",
    "\n",
    "rscv.fit(X_train, y_train)\n",
    "\n",
    "print(f\"Best RSCV Score: {rscv.best_score_}\")"
   ]
  },
  {
   "cell_type": "code",
   "execution_count": 16,
   "metadata": {
    "hidden": true
   },
   "outputs": [
    {
     "name": "stdout",
     "output_type": "stream",
     "text": [
      "Training Report\n",
      "----------------------------------------------------------------------\n",
      "              precision    recall  f1-score   support\n",
      "\n",
      "       Ghost       0.74      0.61      0.67        57\n",
      "       Ghoul       0.68      0.27      0.39        63\n",
      "      Goblin       0.41      0.74      0.53        61\n",
      "\n",
      "    accuracy                           0.54       181\n",
      "   macro avg       0.61      0.54      0.53       181\n",
      "weighted avg       0.61      0.54      0.52       181\n",
      "\n",
      "\n",
      "\n",
      "Validation Report\n",
      "----------------------------------------------------------------------\n",
      "              precision    recall  f1-score   support\n",
      "\n",
      "       Ghost       0.62      0.52      0.57        25\n",
      "       Ghoul       0.50      0.15      0.23        27\n",
      "      Goblin       0.35      0.65      0.45        26\n",
      "\n",
      "    accuracy                           0.44        78\n",
      "   macro avg       0.49      0.44      0.42        78\n",
      "weighted avg       0.49      0.44      0.41        78\n",
      "\n",
      "\n",
      "\n",
      "Testing Report\n",
      "----------------------------------------------------------------------\n",
      "              precision    recall  f1-score   support\n",
      "\n",
      "       Ghost       0.69      0.63      0.66        35\n",
      "       Ghoul       0.43      0.23      0.30        39\n",
      "      Goblin       0.39      0.61      0.47        38\n",
      "\n",
      "    accuracy                           0.48       112\n",
      "   macro avg       0.50      0.49      0.48       112\n",
      "weighted avg       0.50      0.48      0.47       112\n",
      "\n"
     ]
    }
   ],
   "source": [
    "print(\"Training Report\")\n",
    "print(\"-\"*70)\n",
    "print(classification_report(y_train, rscv.predict(X_train)))\n",
    "print()\n",
    "print()\n",
    "print(\"Validation Report\")\n",
    "print(\"-\"*70)\n",
    "print(classification_report(y_validate, rscv.predict(X_validate)))\n",
    "print()\n",
    "print()\n",
    "print(\"Testing Report\")\n",
    "print(\"-\"*70)\n",
    "print(classification_report(y_test, rscv.predict(X_test)))"
   ]
  },
  {
   "cell_type": "code",
   "execution_count": 18,
   "metadata": {
    "hidden": true
   },
   "outputs": [
    {
     "data": {
      "text/plain": [
       "['multinomialnb.joblib']"
      ]
     },
     "execution_count": 18,
     "metadata": {},
     "output_type": "execute_result"
    }
   ],
   "source": [
    "joblib.dump(rscv.best_estimator_, \"multinomialnb.joblib\", compress=True)"
   ]
  },
  {
   "cell_type": "markdown",
   "metadata": {
    "heading_collapsed": true
   },
   "source": [
    "# GaussianNB"
   ]
  },
  {
   "cell_type": "code",
   "execution_count": 19,
   "metadata": {
    "hidden": true
   },
   "outputs": [
    {
     "name": "stdout",
     "output_type": "stream",
     "text": [
      "Fitting 10 folds for each of 1000 candidates, totalling 10000 fits\n"
     ]
    },
    {
     "name": "stderr",
     "output_type": "stream",
     "text": [
      "[Parallel(n_jobs=-1)]: Using backend LokyBackend with 4 concurrent workers.\n",
      "[Parallel(n_jobs=-1)]: Done 200 tasks      | elapsed:    1.6s\n",
      "[Parallel(n_jobs=-1)]: Done 1400 tasks      | elapsed:    9.3s\n",
      "[Parallel(n_jobs=-1)]: Done 3400 tasks      | elapsed:   22.0s\n",
      "[Parallel(n_jobs=-1)]: Done 6200 tasks      | elapsed:   41.6s\n",
      "[Parallel(n_jobs=-1)]: Done 9800 tasks      | elapsed:  1.1min\n"
     ]
    },
    {
     "name": "stdout",
     "output_type": "stream",
     "text": [
      "Best RSCV Score: 0.6739766081871346\n"
     ]
    },
    {
     "name": "stderr",
     "output_type": "stream",
     "text": [
      "[Parallel(n_jobs=-1)]: Done 10000 out of 10000 | elapsed:  1.1min finished\n"
     ]
    }
   ],
   "source": [
    "pipe = Pipeline(steps=[\n",
    "    (\"scale\", MinMaxScaler()),\n",
    "    (\"var\", VarianceThreshold()),\n",
    "    (\"select\", SelectKBest(k=\"all\")),\n",
    "    (\"clf\", GaussianNB()),\n",
    "])\n",
    "\n",
    "param_distributions = {\n",
    "    \"var__threshold\" : stats.uniform(0, 0.1),\n",
    "    \"select__score_func\" : [chi2, f_classif],\n",
    "    \"clf__var_smoothing\" : stats.uniform(1e-11, 1e-6),\n",
    "}\n",
    "\n",
    "rscv = RandomizedSearchCV(\n",
    "    estimator=pipe,\n",
    "    param_distributions=param_distributions,\n",
    "    n_iter=1000,\n",
    "    n_jobs=-1,\n",
    "    cv=10,\n",
    "    verbose=True,\n",
    "    random_state=0,\n",
    ")\n",
    "\n",
    "X_train, X_test, y_train, y_test = train_test_split(\n",
    "    X,\n",
    "    y,\n",
    "    test_size=0.3,\n",
    "    stratify=y,\n",
    "    random_state=0\n",
    ")\n",
    "\n",
    "X_train, X_validate, y_train, y_validate = train_test_split(\n",
    "    X_train,\n",
    "    y_train,\n",
    "    test_size=0.3,\n",
    "    stratify=y_train,\n",
    "    random_state=0\n",
    ")\n",
    "\n",
    "rscv.fit(X_train, y_train)\n",
    "\n",
    "print(f\"Best RSCV Score: {rscv.best_score_}\")"
   ]
  },
  {
   "cell_type": "code",
   "execution_count": 20,
   "metadata": {
    "hidden": true
   },
   "outputs": [
    {
     "name": "stdout",
     "output_type": "stream",
     "text": [
      "Training Report\n",
      "----------------------------------------------------------------------\n",
      "              precision    recall  f1-score   support\n",
      "\n",
      "       Ghost       0.82      0.79      0.80        57\n",
      "       Ghoul       0.78      0.71      0.74        63\n",
      "      Goblin       0.59      0.66      0.62        61\n",
      "\n",
      "    accuracy                           0.72       181\n",
      "   macro avg       0.73      0.72      0.72       181\n",
      "weighted avg       0.73      0.72      0.72       181\n",
      "\n",
      "\n",
      "\n",
      "Validation Report\n",
      "----------------------------------------------------------------------\n",
      "              precision    recall  f1-score   support\n",
      "\n",
      "       Ghost       0.71      0.88      0.79        25\n",
      "       Ghoul       0.69      0.74      0.71        27\n",
      "      Goblin       0.67      0.46      0.55        26\n",
      "\n",
      "    accuracy                           0.69        78\n",
      "   macro avg       0.69      0.69      0.68        78\n",
      "weighted avg       0.69      0.69      0.68        78\n",
      "\n",
      "\n",
      "\n",
      "Testing Report\n",
      "----------------------------------------------------------------------\n",
      "              precision    recall  f1-score   support\n",
      "\n",
      "       Ghost       0.68      0.80      0.74        35\n",
      "       Ghoul       0.71      0.62      0.66        39\n",
      "      Goblin       0.49      0.47      0.48        38\n",
      "\n",
      "    accuracy                           0.62       112\n",
      "   macro avg       0.63      0.63      0.62       112\n",
      "weighted avg       0.62      0.62      0.62       112\n",
      "\n"
     ]
    }
   ],
   "source": [
    "print(\"Training Report\")\n",
    "print(\"-\"*70)\n",
    "print(classification_report(y_train, rscv.predict(X_train)))\n",
    "print()\n",
    "print()\n",
    "print(\"Validation Report\")\n",
    "print(\"-\"*70)\n",
    "print(classification_report(y_validate, rscv.predict(X_validate)))\n",
    "print()\n",
    "print()\n",
    "print(\"Testing Report\")\n",
    "print(\"-\"*70)\n",
    "print(classification_report(y_test, rscv.predict(X_test)))"
   ]
  },
  {
   "cell_type": "code",
   "execution_count": 21,
   "metadata": {
    "hidden": true
   },
   "outputs": [
    {
     "data": {
      "text/plain": [
       "['gaussiannb.joblib']"
      ]
     },
     "execution_count": 21,
     "metadata": {},
     "output_type": "execute_result"
    }
   ],
   "source": [
    "joblib.dump(rscv.best_estimator_, \"gaussiannb.joblib\", compress=True)"
   ]
  },
  {
   "cell_type": "markdown",
   "metadata": {},
   "source": [
    "# Confusion Matrix"
   ]
  },
  {
   "cell_type": "markdown",
   "metadata": {},
   "source": [
    "## Logistict Regression"
   ]
  },
  {
   "cell_type": "code",
   "execution_count": 64,
   "metadata": {},
   "outputs": [
    {
     "data": {
      "text/html": [
       "<div>\n",
       "<style scoped>\n",
       "    .dataframe tbody tr th:only-of-type {\n",
       "        vertical-align: middle;\n",
       "    }\n",
       "\n",
       "    .dataframe tbody tr th {\n",
       "        vertical-align: top;\n",
       "    }\n",
       "\n",
       "    .dataframe thead tr th {\n",
       "        text-align: left;\n",
       "    }\n",
       "</style>\n",
       "<table border=\"1\" class=\"dataframe\">\n",
       "  <thead>\n",
       "    <tr>\n",
       "      <th></th>\n",
       "      <th></th>\n",
       "      <th colspan=\"3\" halign=\"left\">Predicted</th>\n",
       "    </tr>\n",
       "    <tr>\n",
       "      <th></th>\n",
       "      <th></th>\n",
       "      <th>Ghost</th>\n",
       "      <th>Ghoul</th>\n",
       "      <th>Goblin</th>\n",
       "    </tr>\n",
       "  </thead>\n",
       "  <tbody>\n",
       "    <tr>\n",
       "      <th rowspan=\"3\" valign=\"top\">Actual</th>\n",
       "      <th>Ghost</th>\n",
       "      <td>109</td>\n",
       "      <td>0</td>\n",
       "      <td>8</td>\n",
       "    </tr>\n",
       "    <tr>\n",
       "      <th>Ghoul</th>\n",
       "      <td>3</td>\n",
       "      <td>109</td>\n",
       "      <td>17</td>\n",
       "    </tr>\n",
       "    <tr>\n",
       "      <th>Goblin</th>\n",
       "      <td>21</td>\n",
       "      <td>39</td>\n",
       "      <td>65</td>\n",
       "    </tr>\n",
       "  </tbody>\n",
       "</table>\n",
       "</div>"
      ],
      "text/plain": [
       "              Predicted             \n",
       "                  Ghost Ghoul Goblin\n",
       "Actual Ghost        109     0      8\n",
       "       Ghoul          3   109     17\n",
       "       Goblin        21    39     65"
      ]
     },
     "execution_count": 64,
     "metadata": {},
     "output_type": "execute_result"
    }
   ],
   "source": [
    "logreg = joblib.load(\"logreg.joblib\")\n",
    "\n",
    "logreg_predict = logreg.predict(X)\n",
    "\n",
    "logreg_predict = pd.Series(logreg_predict, index=X.index)\n",
    "\n",
    "logreg_confusion_matrix = pd.DataFrame(\n",
    "    confusion_matrix(y_true=y, y_pred=logreg_predict),\n",
    "    index=pd.MultiIndex.from_product([[\"Actual\"], y.sort_values().unique()]),\n",
    "    columns=pd.MultiIndex.from_product([[\"Predicted\"], y.sort_values().unique()]),\n",
    ")\n",
    "\n",
    "logreg_confusion_matrix"
   ]
  },
  {
   "cell_type": "code",
   "execution_count": 66,
   "metadata": {},
   "outputs": [],
   "source": [
    "logreg_XyP = pd.concat([X, y, logreg_predict], axis=1)\n",
    "\n",
    "logreg_XyP.rename(columns={\n",
    "    0 : \"predicted\"\n",
    "}, inplace=True)\n",
    "\n",
    "goblins = logreg_XyP.type == \"Goblin\"\n",
    "\n",
    "logreg_XyP_goblins = logreg_XyP.loc[goblins].copy()"
   ]
  },
  {
   "cell_type": "code",
   "execution_count": 87,
   "metadata": {},
   "outputs": [
    {
     "data": {
      "text/plain": [
       "<AxesSubplot:xlabel='type', ylabel='bone_length'>"
      ]
     },
     "execution_count": 87,
     "metadata": {},
     "output_type": "execute_result"
    },
    {
     "data": {
      "image/png": "[encoded data removed]",
      "text/plain": [
       "<Figure size 1152x576 with 1 Axes>"
      ]
     },
     "metadata": {
      "needs_background": "light"
     },
     "output_type": "display_data"
    }
   ],
   "source": [
    "fig = plt.figure(figsize=(16,8))\n",
    "\n",
    "ax = fig.add_subplot(111)\n",
    "\n",
    "sns.boxplot(\n",
    "    data=logreg_XyP,\n",
    "    x=\"type\",\n",
    "    y=\"bone_length\",\n",
    "    hue=\"predicted\",\n",
    "    ax=ax\n",
    ")"
   ]
  },
  {
   "cell_type": "code",
   "execution_count": 89,
   "metadata": {},
   "outputs": [
    {
     "data": {
      "text/plain": [
       "<AxesSubplot:xlabel='type', ylabel='bone_length'>"
      ]
     },
     "execution_count": 89,
     "metadata": {},
     "output_type": "execute_result"
    },
    {
     "data": {
      "image/png": "[encoded data removed]",
      "text/plain": [
       "<Figure size 1152x576 with 1 Axes>"
      ]
     },
     "metadata": {
      "needs_background": "light"
     },
     "output_type": "display_data"
    }
   ],
   "source": [
    "fig = plt.figure(figsize=(16,8))\n",
    "\n",
    "ax = fig.add_subplot(111)\n",
    "\n",
    "sns.boxplot(\n",
    "    data=logreg_XyP,\n",
    "    x=\"type\",\n",
    "    y=\"bone_length\",\n",
    "    hue=\"predicted\",\n",
    "    ax=ax\n",
    ")"
   ]
  },
  {
   "cell_type": "code",
   "execution_count": 90,
   "metadata": {},
   "outputs": [],
   "source": [
    "logreg_XyP['averages'] = np.mean([\n",
    "    logreg_XyP.bone_length,\n",
    "    logreg_XyP.rotting_flesh,\n",
    "    logreg_XyP.hair_length,\n",
    "    logreg_XyP.has_soul,\n",
    "], axis=0)\n",
    "\n",
    "logreg_XyP['medians'] = np.median([\n",
    "    logreg_XyP.bone_length,\n",
    "    logreg_XyP.rotting_flesh,\n",
    "    logreg_XyP.hair_length,\n",
    "    logreg_XyP.has_soul,\n",
    "], axis=0)"
   ]
  },
  {
   "cell_type": "code",
   "execution_count": 94,
   "metadata": {},
   "outputs": [
    {
     "data": {
      "text/plain": [
       "<AxesSubplot:xlabel='type', ylabel='medians'>"
      ]
     },
     "execution_count": 94,
     "metadata": {},
     "output_type": "execute_result"
    },
    {
     "data": {
      "image/png": "[encoded data removed]",
      "text/plain": [
       "<Figure size 1152x576 with 1 Axes>"
      ]
     },
     "metadata": {
      "needs_background": "light"
     },
     "output_type": "display_data"
    }
   ],
   "source": [
    "fig = plt.figure(figsize=(16,8))\n",
    "\n",
    "ax = fig.add_subplot(111)\n",
    "\n",
    "sns.boxplot(\n",
    "    data=logreg_XyP,\n",
    "    x=\"type\",\n",
    "    y=\"medians\",\n",
    "    hue=\"predicted\",\n",
    "    ax=ax\n",
    ")"
   ]
  }
 ],
 "metadata": {
  "kernelspec": {
   "display_name": "Python 3",
   "language": "python",
   "name": "python3"
  },
  "language_info": {
   "codemirror_mode": {
    "name": "ipython",
    "version": 3
   },
   "file_extension": ".py",
   "mimetype": "text/x-python",
   "name": "python",
   "nbconvert_exporter": "python",
   "pygments_lexer": "ipython3",
   "version": "3.7.6"
  }
 },
 "nbformat": 4,
 "nbformat_minor": 2
}
